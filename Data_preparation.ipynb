{
 "cells": [
  {
   "cell_type": "code",
   "execution_count": 2,
   "metadata": {},
   "outputs": [],
   "source": [
    "import numpy as np\n",
    "import pandas as pd\n",
    "import matplotlib.pyplot as plt"
   ]
  },
  {
   "cell_type": "code",
   "execution_count": 40,
   "metadata": {},
   "outputs": [],
   "source": [
    "neet_rate_altogether = pd.read_csv('./data/NEET_men_women_altogether.csv')\n",
    "neet_rate_separate = pd.read_csv('./data/NEET_men_women_separately.csv')\n",
    "years_schooling = pd.read_csv('./data/mean-years-of-schooling-world.csv')\n",
    "gdp_per_person = pd.read_csv('./data/GDP_per_capita.csv', sep=';')\n",
    "employement_rate = pd.read_csv('./data/EMP_RATE_by_birth_place_and_EDUC.csv')\n",
    "avg_class_size = pd.read_csv('./data/Avg_class_size_primary_education.csv')"
   ]
  },
  {
   "cell_type": "code",
   "execution_count": 36,
   "metadata": {},
   "outputs": [],
   "source": [
    "oecd_countries = {'AUS': 'Australia', 'AUT': 'Austria', 'BEL': 'Belgium', 'CAN': 'Canada', 'CHL': 'Chile', 'COL': 'Colombia', 'CZE': 'Czech Republic', 'DNK': 'Denmark', 'EST': 'Estonia', 'FIN': 'Finland', 'FRA': 'France', 'DEU': 'Germany', 'GRC': 'Greece', 'HUN': 'Hungary', 'ISL': 'Iceland', 'IRL': 'Ireland', 'ISR': 'Israel', 'ITA': 'Italy', 'JPN': 'Japan', 'KOR': 'Korea', 'LVA': 'Latvia', 'LTU': 'Lithuania', 'LUX': 'Luxembourg', 'MEX': 'Mexico', 'NLD': 'Netherlands', 'NZL': 'New Zealand', 'NOR': 'Norway', 'POL': 'Poland', 'PRT': 'Portugal', 'SVK': 'Slovakia', 'SVN': 'Slovenia', 'ESP': 'Spain', 'SWE': 'Sweden', 'CHE': 'Switzerland', 'TUR': 'Turkey', 'GBR': 'United Kingdom', 'USA': 'United States'}"
   ]
  },
  {
   "cell_type": "code",
   "execution_count": 51,
   "metadata": {
    "scrolled": false
   },
   "outputs": [],
   "source": [
    "neet_rate_altogether_croped = neet_rate_altogether.drop(['INDICATOR', 'MEASURE', 'FREQUENCY', 'Flag Codes'], axis=1)"
   ]
  },
  {
   "cell_type": "code",
   "execution_count": 50,
   "metadata": {},
   "outputs": [],
   "source": [
    "neet_rate_separate_croped = neet_rate_separate.drop(['INDICATOR', 'MEASURE', 'FREQUENCY', 'Flag Codes'], axis=1)"
   ]
  },
  {
   "cell_type": "code",
   "execution_count": 49,
   "metadata": {},
   "outputs": [],
   "source": [
    "years_schooling_croped = years_schooling.drop('Entity', axis=1)\n",
    "years_schooling_croped = years_schooling_croped.rename(columns={'Average Total Years of Schooling for Adult Population (Lee-Lee (2016), Barro-Lee (2018) and UNDP (2018))':'Average Total Years of Schooling for Adult Population'})\n",
    "years_schooling_oecd = pd.DataFrame(columns=years_schooling_croped.columns)\n",
    "for code in oecd_countries.keys():\n",
    "    years_schooling_oecd = years_schooling_oecd.append(years_schooling_croped[years_schooling_croped['Code'] == code], ignore_index=True)"
   ]
  },
  {
   "cell_type": "code",
   "execution_count": 48,
   "metadata": {
    "scrolled": false
   },
   "outputs": [],
   "source": [
    "gdp_per_person_croped = gdp_per_person.drop(['Indicator Code', 'Country Name'], axis=1)\n",
    "gdp_per_person_oecd = pd.DataFrame(columns=gdp_per_person_croped.columns)\n",
    "for code in oecd_countries.keys():\n",
    "    gdp_per_person_oecd = gdp_per_person_oecd.append(gdp_per_person_croped[gdp_per_person_croped['Country Code']==code])"
   ]
  },
  {
   "cell_type": "code",
   "execution_count": 55,
   "metadata": {},
   "outputs": [
    {
     "name": "stdout",
     "output_type": "stream",
     "text": [
      "    COUNTRY BIRTH Educational attainment  YEAR Unit Code        Unit  Value\n",
      "0       AUS    FB                  Total  2015        PC  Percentage   73.0\n",
      "1       AUT    FB                  Total  2015        PC  Percentage   67.4\n",
      "2       AUT    FB                    Low  2015        PC  Percentage   51.3\n",
      "3       AUT    FB                 Medium  2015        PC  Percentage   71.2\n",
      "4       AUT    FB                   High  2015        PC  Percentage   75.8\n",
      "..      ...   ...                    ...   ...       ...         ...    ...\n",
      "236     TUR    FB                   High  2015        PC  Percentage   60.6\n",
      "237     TUR    NB                  Total  2015        PC  Percentage   55.2\n",
      "238     TUR    NB                    Low  2015        PC  Percentage   47.9\n",
      "239     TUR    NB                 Medium  2015        PC  Percentage   62.5\n",
      "240     TUR    NB                   High  2015        PC  Percentage   76.7\n",
      "\n",
      "[241 rows x 7 columns]\n"
     ]
    }
   ],
   "source": [
    "employement_rate_croped = employement_rate.drop(['Country', 'Year', 'HATLEV1D', 'Place of birth', 'Reference Period Code', 'Reference Period', 'Flag Codes', 'Flags', 'PowerCode Code', 'PowerCode'], axis=1)\n",
    "print(employement_rate_croped)"
   ]
  },
  {
   "cell_type": "code",
   "execution_count": 64,
   "metadata": {
    "scrolled": false
   },
   "outputs": [],
   "source": [
    "avg_class_size_croped = avg_class_size.drop(['Country', 'ISC11_LEVEL_CAT', 'Year', 'Unit Code', 'PowerCode Code', 'PowerCode', 'Reference Period Code', 'Reference Period', 'Flag Codes', 'Flags'], axis=1)\n",
    "avg_class_size_croped.drop(avg_class_size_croped[avg_class_size_croped.INDICATOR == 'PERS_AVGCLASS_BASE_2005'].index, axis=0, inplace=True)"
   ]
  },
  {
   "cell_type": "code",
   "execution_count": null,
   "metadata": {},
   "outputs": [],
   "source": []
  }
 ],
 "metadata": {
  "kernelspec": {
   "display_name": "Python 3.7.6 64-bit ('base': conda)",
   "language": "python",
   "name": "python37664bitbasecondae5433ad43d13444bb011d4b7eb072777"
  },
  "language_info": {
   "codemirror_mode": {
    "name": "ipython",
    "version": 3
   },
   "file_extension": ".py",
   "mimetype": "text/x-python",
   "name": "python",
   "nbconvert_exporter": "python",
   "pygments_lexer": "ipython3",
   "version": "3.7.6"
  },
  "toc": {
   "base_numbering": 1,
   "nav_menu": {},
   "number_sections": true,
   "sideBar": true,
   "skip_h1_title": false,
   "title_cell": "Table of Contents",
   "title_sidebar": "Contents",
   "toc_cell": false,
   "toc_position": {},
   "toc_section_display": true,
   "toc_window_display": false
  },
  "varInspector": {
   "cols": {
    "lenName": 16,
    "lenType": 16,
    "lenVar": 40
   },
   "kernels_config": {
    "python": {
     "delete_cmd_postfix": "",
     "delete_cmd_prefix": "del ",
     "library": "var_list.py",
     "varRefreshCmd": "print(var_dic_list())"
    },
    "r": {
     "delete_cmd_postfix": ") ",
     "delete_cmd_prefix": "rm(",
     "library": "var_list.r",
     "varRefreshCmd": "cat(var_dic_list()) "
    }
   },
   "types_to_exclude": [
    "module",
    "function",
    "builtin_function_or_method",
    "instance",
    "_Feature"
   ],
   "window_display": false
  }
 },
 "nbformat": 4,
 "nbformat_minor": 4
}

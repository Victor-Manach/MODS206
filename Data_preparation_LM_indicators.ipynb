{
 "cells": [
  {
   "cell_type": "code",
   "execution_count": 1,
   "metadata": {},
   "outputs": [],
   "source": [
    "import os\n",
    "import numpy as np\n",
    "import pandas as pd\n",
    "import matplotlib.pyplot as plt\n",
    "import folium\n",
    "import seaborn as sns\n",
    "sns.set()"
   ]
  },
  {
   "cell_type": "markdown",
   "metadata": {},
   "source": [
    "# Import data and remove useless columns "
   ]
  },
  {
   "cell_type": "markdown",
   "metadata": {},
   "source": [
    "## Import data"
   ]
  },
  {
   "cell_type": "code",
   "execution_count": 2,
   "metadata": {},
   "outputs": [],
   "source": [
    "employement_rate = pd.read_csv('./data/labour_market/EMP_RATE_by_birth_place_and_EDUC.csv')\n",
    "min_wage = pd.read_csv('./data/labour_market/real minimum wage from 2001 to 2019.csv')\n",
    "avg_duration_unemployment = pd.read_csv('./data/labour_market/average duration of unemployment.csv')\n",
    "strictness_emply_protec = pd.read_csv('./data/labour_market/strictness of employment protection from 1998 to 2018.csv')\n",
    "short_time_workers = pd.read_csv('./data/labour_market/percentage of short time workers from 2000.csv')\n",
    "involuntary_pt_workers = pd.read_csv('./data/labour_market/percentage of involuntary part time workers from 2000.csv')\n",
    "well_matched_skills_jobs = pd.read_csv('./data/labour_market/percentage of well matched skills for jobs.csv', dtype='unicode')\n",
    "ft_and_pt_employ = pd.read_csv('./data/labour_market/percentage of full time part time employment.csv')\n",
    "marginally_attached_workers = pd.read_csv('./data/labour_market/percentage of marginally attached workers from 2000.csv')\n",
    "public_exp_LMP = pd.read_csv('./data/labour_market/public_exp_LMP.csv')\n",
    "employees_bargain = pd.read_csv('./data/labour_market/percentage of employees that can bargain from 1998.csv')"
   ]
  },
  {
   "cell_type": "markdown",
   "metadata": {},
   "source": [
    "## Dictionary with the country code of all OECD countries"
   ]
  },
  {
   "cell_type": "code",
   "execution_count": 3,
   "metadata": {},
   "outputs": [],
   "source": [
    "oecd_countries = {'AUS': 'Australia', 'AUT': 'Austria', 'BEL': 'Belgium', 'CAN': 'Canada', 'CHL': 'Chile', 'COL': 'Colombia', 'CZE': 'Czech Republic', 'DNK': 'Denmark', 'EST': 'Estonia', 'FIN': 'Finland', 'FRA': 'France', 'DEU': 'Germany', 'GRC': 'Greece', 'HUN': 'Hungary', 'ISL': 'Iceland', 'IRL': 'Ireland', 'ISR': 'Israel', 'ITA': 'Italy', 'JPN': 'Japan', 'KOR': 'Korea', 'LVA': 'Latvia', 'LTU': 'Lithuania', 'LUX': 'Luxembourg', 'MEX': 'Mexico', 'NLD': 'Netherlands', 'NZL': 'New Zealand', 'NOR': 'Norway', 'POL': 'Poland', 'PRT': 'Portugal', 'SVK': 'Slovakia', 'SVN': 'Slovenia', 'ESP': 'Spain', 'SWE': 'Sweden', 'CHE': 'Switzerland', 'TUR': 'Turkey', 'GBR': 'United Kingdom', 'USA': 'United States'}"
   ]
  },
  {
   "cell_type": "markdown",
   "metadata": {},
   "source": [
    "## Preparation of the data sets"
   ]
  },
  {
   "cell_type": "markdown",
   "metadata": {},
   "source": [
    "### Removal of unnecessary columns and countries"
   ]
  },
  {
   "cell_type": "code",
   "execution_count": 4,
   "metadata": {},
   "outputs": [
    {
     "name": "stdout",
     "output_type": "stream",
     "text": [
      "    COUNTRY BIRTH Educational attainment  YEAR Unit Code        Unit  Value\n",
      "0       AUS    FB                  Total  2015        PC  Percentage   73.0\n",
      "1       AUT    FB                  Total  2015        PC  Percentage   67.4\n",
      "2       AUT    FB                    Low  2015        PC  Percentage   51.3\n",
      "3       AUT    FB                 Medium  2015        PC  Percentage   71.2\n",
      "4       AUT    FB                   High  2015        PC  Percentage   75.8\n",
      "..      ...   ...                    ...   ...       ...         ...    ...\n",
      "236     TUR    FB                   High  2015        PC  Percentage   60.6\n",
      "237     TUR    NB                  Total  2015        PC  Percentage   55.2\n",
      "238     TUR    NB                    Low  2015        PC  Percentage   47.9\n",
      "239     TUR    NB                 Medium  2015        PC  Percentage   62.5\n",
      "240     TUR    NB                   High  2015        PC  Percentage   76.7\n",
      "\n",
      "[241 rows x 7 columns]\n"
     ]
    }
   ],
   "source": [
    "employement_rate_croped_2015 = employement_rate.drop(['Country', 'Year', 'HATLEV1D', 'Place of birth', 'Reference Period Code', 'Reference Period', 'Flag Codes', 'Flags', 'PowerCode Code', 'PowerCode'], axis=1)\n",
    "print(employement_rate_croped_2015)\n",
    "employement_rate_2015_total = employement_rate_croped_2015[employement_rate_croped_2015['Educational attainment']=='Total']\n",
    "employement_rate_2015_low = employement_rate_croped_2015[employement_rate_croped_2015['Educational attainment']=='Low']\n",
    "employement_rate_2015_medium = employement_rate_croped_2015[employement_rate_croped_2015['Educational attainment']=='Medium']\n",
    "employement_rate_2015_high = employement_rate_croped_2015[employement_rate_croped_2015['Educational attainment']=='High']"
   ]
  },
  {
   "cell_type": "markdown",
   "metadata": {},
   "source": [
    "### Sorting of data by date"
   ]
  },
  {
   "cell_type": "code",
   "execution_count": null,
   "metadata": {},
   "outputs": [],
   "source": []
  }
 ],
 "metadata": {
  "kernelspec": {
   "display_name": "Python 3.7.6 64-bit ('base': conda)",
   "language": "python",
   "name": "python37664bitbasecondae5433ad43d13444bb011d4b7eb072777"
  },
  "language_info": {
   "codemirror_mode": {
    "name": "ipython",
    "version": 3
   },
   "file_extension": ".py",
   "mimetype": "text/x-python",
   "name": "python",
   "nbconvert_exporter": "python",
   "pygments_lexer": "ipython3",
   "version": "3.7.6"
  },
  "toc": {
   "base_numbering": 1,
   "nav_menu": {},
   "number_sections": true,
   "sideBar": true,
   "skip_h1_title": false,
   "title_cell": "Table of Contents",
   "title_sidebar": "Contents",
   "toc_cell": false,
   "toc_position": {},
   "toc_section_display": true,
   "toc_window_display": false
  },
  "varInspector": {
   "cols": {
    "lenName": 16,
    "lenType": 16,
    "lenVar": 40
   },
   "kernels_config": {
    "python": {
     "delete_cmd_postfix": "",
     "delete_cmd_prefix": "del ",
     "library": "var_list.py",
     "varRefreshCmd": "print(var_dic_list())"
    },
    "r": {
     "delete_cmd_postfix": ") ",
     "delete_cmd_prefix": "rm(",
     "library": "var_list.r",
     "varRefreshCmd": "cat(var_dic_list()) "
    }
   },
   "types_to_exclude": [
    "module",
    "function",
    "builtin_function_or_method",
    "instance",
    "_Feature"
   ],
   "window_display": false
  }
 },
 "nbformat": 4,
 "nbformat_minor": 4
}

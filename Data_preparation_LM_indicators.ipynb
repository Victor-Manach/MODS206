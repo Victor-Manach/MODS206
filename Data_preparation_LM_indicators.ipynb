{
 "cells": [
  {
   "cell_type": "code",
   "execution_count": 1,
   "metadata": {},
   "outputs": [],
   "source": [
    "import os\n",
    "import numpy as np\n",
    "import pandas as pd\n",
    "import matplotlib.pyplot as plt\n",
    "import folium\n",
    "import seaborn as sns\n",
    "sns.set()"
   ]
  },
  {
   "cell_type": "markdown",
   "metadata": {},
   "source": [
    "# Import data and remove useless columns "
   ]
  },
  {
   "cell_type": "markdown",
   "metadata": {},
   "source": [
    "## Import data"
   ]
  },
  {
   "cell_type": "code",
   "execution_count": 2,
   "metadata": {},
   "outputs": [],
   "source": [
    "employement_rate = pd.read_csv('./data/labour_market/EMP_RATE_by_birth_place_and_EDUC.csv')\n",
    "min_wage = pd.read_csv('./data/labour_market/real minimum wage from 2001 to 2019.csv')\n",
    "avg_duration_unemployment = pd.read_csv('./data/labour_market/average duration of unemployment.csv')\n",
    "strictness_emply_protec = pd.read_csv('./data/labour_market/strictness of employment protection from 1998 to 2018.csv')\n",
    "short_time_workers = pd.read_csv('./data/labour_market/percentage of short time workers from 2000.csv')\n",
    "involuntary_pt_workers = pd.read_csv('./data/labour_market/percentage of involuntary part time workers from 2000.csv')\n",
    "well_matched_skills_jobs = pd.read_csv('./data/labour_market/percentage of well matched skills for jobs.csv', dtype='unicode')\n",
    "ft_and_pt_employ = pd.read_csv('./data/labour_market/percentage of full time part time employment.csv')\n",
    "marginally_attached_workers = pd.read_csv('./data/labour_market/percentage of marginally attached workers from 2000.csv')\n",
    "public_exp_LMP = pd.read_csv('./data/labour_market/public_exp_LMP.csv')\n",
    "employees_bargain = pd.read_csv('./data/labour_market/percentage of employees that can bargain from 1998.csv')"
   ]
  },
  {
   "cell_type": "markdown",
   "metadata": {},
   "source": [
    "## Dictionary with the country code of all OECD countries"
   ]
  },
  {
   "cell_type": "code",
   "execution_count": 3,
   "metadata": {},
   "outputs": [],
   "source": [
    "oecd_countries = {'AUS': 'Australia', 'AUT': 'Austria', 'BEL': 'Belgium', 'CAN': 'Canada', 'CHL': 'Chile', 'COL': 'Colombia', 'CZE': 'Czech Republic', 'DNK': 'Denmark', 'EST': 'Estonia', 'FIN': 'Finland', 'FRA': 'France', 'DEU': 'Germany', 'GRC': 'Greece', 'HUN': 'Hungary', 'ISL': 'Iceland', 'IRL': 'Ireland', 'ISR': 'Israel', 'ITA': 'Italy', 'JPN': 'Japan', 'KOR': 'Korea', 'LVA': 'Latvia', 'LTU': 'Lithuania', 'LUX': 'Luxembourg', 'MEX': 'Mexico', 'NLD': 'Netherlands', 'NZL': 'New Zealand', 'NOR': 'Norway', 'POL': 'Poland', 'PRT': 'Portugal', 'SVK': 'Slovakia', 'SVN': 'Slovenia', 'ESP': 'Spain', 'SWE': 'Sweden', 'CHE': 'Switzerland', 'TUR': 'Turkey', 'GBR': 'United Kingdom', 'USA': 'United States'}"
   ]
  },
  {
   "cell_type": "markdown",
   "metadata": {},
   "source": [
    "## Preparation of the data sets"
   ]
  },
  {
   "cell_type": "markdown",
   "metadata": {},
   "source": [
    "### Removal of unnecessary columns and countries"
   ]
  },
  {
   "cell_type": "code",
   "execution_count": 4,
   "metadata": {},
   "outputs": [
    {
     "name": "stdout",
     "output_type": "stream",
     "text": [
      "    COUNTRY BIRTH Educational attainment  YEAR Unit Code        Unit  Value\n",
      "0       AUS    FB                  Total  2015        PC  Percentage   73.0\n",
      "1       AUT    FB                  Total  2015        PC  Percentage   67.4\n",
      "2       AUT    FB                    Low  2015        PC  Percentage   51.3\n",
      "3       AUT    FB                 Medium  2015        PC  Percentage   71.2\n",
      "4       AUT    FB                   High  2015        PC  Percentage   75.8\n",
      "..      ...   ...                    ...   ...       ...         ...    ...\n",
      "236     TUR    FB                   High  2015        PC  Percentage   60.6\n",
      "237     TUR    NB                  Total  2015        PC  Percentage   55.2\n",
      "238     TUR    NB                    Low  2015        PC  Percentage   47.9\n",
      "239     TUR    NB                 Medium  2015        PC  Percentage   62.5\n",
      "240     TUR    NB                   High  2015        PC  Percentage   76.7\n",
      "\n",
      "[241 rows x 7 columns]\n"
     ]
    }
   ],
   "source": [
    "employement_rate_croped_2015 = employement_rate.drop(['Country', 'Year', 'HATLEV1D', 'Place of birth', 'Reference Period Code', 'Reference Period', 'Flag Codes', 'Flags', 'PowerCode Code', 'PowerCode'], axis=1)\n",
    "print(employement_rate_croped_2015)\n",
    "employement_rate_2015_total = employement_rate_croped_2015[employement_rate_croped_2015['Educational attainment']=='Total']\n",
    "employement_rate_2015_low = employement_rate_croped_2015[employement_rate_croped_2015['Educational attainment']=='Low']\n",
    "employement_rate_2015_medium = employement_rate_croped_2015[employement_rate_croped_2015['Educational attainment']=='Medium']\n",
    "employement_rate_2015_high = employement_rate_croped_2015[employement_rate_croped_2015['Educational attainment']=='High']"
   ]
  },
  {
   "cell_type": "code",
   "execution_count": null,
   "metadata": {},
   "outputs": [],
   "source": []
  },
  {
   "cell_type": "code",
   "execution_count": 5,
   "metadata": {},
   "outputs": [],
   "source": [
    "public_exp_LMP = public_exp_LMP[['LFS_COUNTRY', 'PROG', 'Time', 'Value']]"
   ]
  },
  {
   "cell_type": "code",
   "execution_count": 23,
   "metadata": {},
   "outputs": [],
   "source": [
    "public_exp_LMP_2017 = public_exp_LMP[(public_exp_LMP.Time==2017) & (public_exp_LMP['PROG']==100)].drop(['Time', 'PROG'], axis=1).reset_index(drop=True)"
   ]
  },
  {
   "cell_type": "code",
   "execution_count": 46,
   "metadata": {},
   "outputs": [
    {
     "data": {
      "text/plain": [
       "Text(0, 0.5, '')"
      ]
     },
     "execution_count": 46,
     "metadata": {},
     "output_type": "execute_result"
    },
    {
     "data": {
      "image/png": "[encoded data removed]",
      "text/plain": [
       "<Figure size 1440x720 with 1 Axes>"
      ]
     },
     "metadata": {
      "needs_background": "light"
     },
     "output_type": "display_data"
    }
   ],
   "source": [
    "plt.figure(figsize=(20,10))\n",
    "sns.barplot(x='LFS_COUNTRY',y='Value',data=public_exp_LMP_2017,order=public_exp_LMP_2017.sort_values('Value')[\"LFS_COUNTRY\"],color=\"C0\")\n",
    "plt.title(\"Public spending on LMP in OECD countries in 2017 (in % of GDP)\", size=18)\n",
    "plt.xlabel('Country code', size=15)\n",
    "plt.ylabel('')"
   ]
  },
  {
   "cell_type": "markdown",
   "metadata": {},
   "source": [
    "## Skills matched for jobs in percentage"
   ]
  },
  {
   "cell_type": "code",
   "execution_count": 8,
   "metadata": {},
   "outputs": [],
   "source": [
    "overqualified_workers = well_matched_skills_jobs[well_matched_skills_jobs.VAR=='OVERQUAL']\n",
    "underqualified_workers = well_matched_skills_jobs[well_matched_skills_jobs.VAR=='UNDERQUAL']\n",
    "well_matched_workers = well_matched_skills_jobs[well_matched_skills_jobs.VAR=='WELLM']\n",
    "low_qualif = well_matched_skills_jobs[well_matched_skills_jobs.VAR=='JOB_REQ_LS']\n",
    "med_qualif = well_matched_skills_jobs[well_matched_skills_jobs.VAR=='JOB_REQ_MS']\n",
    "high_qualif = well_matched_skills_jobs[well_matched_skills_jobs.VAR=='JOB_REQ_HS']"
   ]
  },
  {
   "cell_type": "code",
   "execution_count": 9,
   "metadata": {},
   "outputs": [],
   "source": [
    "overqualified_workers_oecd = pd.DataFrame(columns=overqualified_workers.columns)\n",
    "for code in oecd_countries.keys():\n",
    "    overqualified_workers_oecd = overqualified_workers_oecd.append(overqualified_workers[overqualified_workers['LOCATION']==code], ignore_index=True)\n",
    "overqualified_workers_oecd_croped = overqualified_workers_oecd[['LOCATION', 'SEX', 'TIME', 'Value']]\n",
    "overqualified_workers_oecd_2012 = overqualified_workers_oecd_croped[(overqualified_workers_oecd_croped['SEX']=='T') & (overqualified_workers_oecd_croped['TIME']=='2012')].drop(['SEX', 'TIME'], axis=1).reset_index(drop=True)"
   ]
  },
  {
   "cell_type": "code",
   "execution_count": 10,
   "metadata": {},
   "outputs": [],
   "source": [
    "underqualified_workers_oecd = pd.DataFrame(columns=underqualified_workers.columns)\n",
    "for code in oecd_countries.keys():\n",
    "    underqualified_workers_oecd = underqualified_workers_oecd.append(underqualified_workers[underqualified_workers['LOCATION']==code], ignore_index=True)\n",
    "underqualified_workers_oecd_croped = underqualified_workers_oecd[['LOCATION', 'SEX', 'TIME', 'Value']]\n",
    "underqualified_workers_oecd_2012 = underqualified_workers_oecd_croped[(underqualified_workers_oecd_croped['SEX']=='T') & (underqualified_workers_oecd_croped['TIME']=='2012')].drop(['SEX', 'TIME'], axis=1).reset_index(drop=True)"
   ]
  },
  {
   "cell_type": "code",
   "execution_count": 60,
   "metadata": {},
   "outputs": [],
   "source": [
    "well_matched_workers_oecd = pd.DataFrame(columns=well_matched_workers.columns)\n",
    "for code in oecd_countries.keys():\n",
    "    well_matched_workers_oecd = well_matched_workers_oecd.append(well_matched_workers[well_matched_workers['LOCATION']==code], ignore_index=True)\n",
    "well_matched_workers_oecd_croped = well_matched_workers_oecd[['LOCATION', 'SEX', 'TIME', 'Value']]\n",
    "well_matched_workers_oecd_2012 = well_matched_workers_oecd_croped[(well_matched_workers_oecd_croped['SEX']=='T') & (well_matched_workers_oecd_croped['TIME']=='2012')].drop(['SEX', 'TIME'], axis=1).reset_index(drop=True)\n",
    "\n",
    "#converting str to float\n",
    "well_matched_workers_oecd_2012.Value = well_matched_workers_oecd_2012.Value.astype(float)"
   ]
  },
  {
   "cell_type": "code",
   "execution_count": 12,
   "metadata": {},
   "outputs": [],
   "source": [
    "low_qualif_oecd = pd.DataFrame(columns=low_qualif.columns)\n",
    "for code in oecd_countries.keys():\n",
    "    low_qualif_oecd = low_qualif_oecd.append(low_qualif[low_qualif['LOCATION']==code], ignore_index=True)\n",
    "low_qualif_oecd_croped = low_qualif_oecd[['LOCATION', 'SEX', 'TIME', 'Value']]\n",
    "low_qualif_oecd_2012 = low_qualif_oecd_croped[(low_qualif_oecd_croped['SEX']=='T') & (low_qualif_oecd_croped['TIME']=='2012')].drop(['SEX', 'TIME'], axis=1).reset_index(drop=True)"
   ]
  },
  {
   "cell_type": "code",
   "execution_count": 13,
   "metadata": {},
   "outputs": [],
   "source": [
    "med_qualif_oecd = pd.DataFrame(columns=med_qualif.columns)\n",
    "for code in oecd_countries.keys():\n",
    "    med_qualif_oecd = med_qualif_oecd.append(med_qualif[med_qualif['LOCATION']==code], ignore_index=True)\n",
    "med_qualif_oecd_croped = med_qualif_oecd[['LOCATION', 'SEX', 'TIME', 'Value']]\n",
    "med_qualif_oecd_2012 = med_qualif_oecd_croped[(med_qualif_oecd_croped['SEX']=='T') & (med_qualif_oecd_croped['TIME']=='2012')].drop(['SEX', 'TIME'], axis=1).reset_index(drop=True)"
   ]
  },
  {
   "cell_type": "code",
   "execution_count": 14,
   "metadata": {},
   "outputs": [],
   "source": [
    "high_qualif_oecd = pd.DataFrame(columns=high_qualif.columns)\n",
    "for code in oecd_countries.keys():\n",
    "    high_qualif_oecd = high_qualif_oecd.append(high_qualif[high_qualif['LOCATION']==code], ignore_index=True)\n",
    "high_qualif_oecd_croped = high_qualif_oecd[['LOCATION', 'SEX', 'TIME', 'Value']]\n",
    "high_qualif_oecd_2012 = high_qualif_oecd_croped[(high_qualif_oecd_croped['SEX']=='T') & (high_qualif_oecd_croped['TIME']=='2012')].drop(['SEX', 'TIME'], axis=1).reset_index(drop=True)"
   ]
  },
  {
   "cell_type": "markdown",
   "metadata": {},
   "source": [
    "### Descriptive stats for well matched jobs"
   ]
  },
  {
   "cell_type": "code",
   "execution_count": 64,
   "metadata": {},
   "outputs": [
    {
     "data": {
      "text/plain": [
       "Text(0, 0.5, '')"
      ]
     },
     "execution_count": 64,
     "metadata": {},
     "output_type": "execute_result"
    },
    {
     "data": {
      "image/png": "[encoded data removed]",
      "text/plain": [
       "<Figure size 1440x720 with 1 Axes>"
      ]
     },
     "metadata": {
      "needs_background": "light"
     },
     "output_type": "display_data"
    }
   ],
   "source": [
    "plt.figure(figsize=(20,10))\n",
    "sns.barplot(x=\"LOCATION\",y='Value',data = well_matched_workers_oecd_2012,order = well_matched_workers_oecd_2012.sort_values('Value')['LOCATION'],color= \"C0\")\n",
    "plt.title(\"% of well matched skills jobs in OECD countries\", size=18)\n",
    "plt.xlabel('Country code', size=15)\n",
    "plt.ylabel('')"
   ]
  },
  {
   "cell_type": "markdown",
   "metadata": {},
   "source": [
    "## Minimum wage"
   ]
  },
  {
   "cell_type": "code",
   "execution_count": 111,
   "metadata": {},
   "outputs": [],
   "source": [
    "min_wage_croped = min_wage[['COUNTRY','SERIES','PERIOD','TIME','Value']]\n",
    "min_wage_oecd = pd.DataFrame(columns=min_wage_croped.columns)\n",
    "for code in oecd_countries.keys():\n",
    "    min_wage_oecd = min_wage_oecd.append(min_wage_croped[min_wage_croped.COUNTRY == code],ignore_index=True)\n",
    "    \n",
    "min_wage_oecd_PPP = min_wage_oecd[(min_wage_oecd.SERIES == 'PPP') & (min_wage_oecd.PERIOD == 'A')]\n"
   ]
  },
  {
   "cell_type": "code",
   "execution_count": 112,
   "metadata": {},
   "outputs": [],
   "source": [
    "min_wage_oecd_PPP_2017 = min_wage_oecd_PPP[min_wage_oecd_PPP['TIME']==2017].drop(['SERIES', 'PERIOD','TIME'], axis=1).reset_index(drop=True)"
   ]
  },
  {
   "cell_type": "code",
   "execution_count": 113,
   "metadata": {},
   "outputs": [
    {
     "data": {
      "text/plain": [
       "Text(0, 0.5, '')"
      ]
     },
     "execution_count": 113,
     "metadata": {},
     "output_type": "execute_result"
    },
    {
     "data": {
      "image/png": "[encoded data removed]",
      "text/plain": [
       "<Figure size 1440x720 with 1 Axes>"
      ]
     },
     "metadata": {
      "needs_background": "light"
     },
     "output_type": "display_data"
    }
   ],
   "source": [
    "plt.figure(figsize=(20,10))\n",
    "sns.barplot(x=\"COUNTRY\",y='Value',data = min_wage_oecd_PPP_2017, order = min_wage_oecd_PPP_2017.sort_values('Value')['COUNTRY'],color= \"C0\")\n",
    "plt.title(\"Annual minimum wage of OECD countries in USD PPP in 2017 \", size=18)\n",
    "plt.xlabel('Country code', size=15)\n",
    "plt.ylabel('')"
   ]
  },
  {
   "cell_type": "code",
   "execution_count": 103,
   "metadata": {},
   "outputs": [
    {
     "data": {
      "text/html": [
       "<div>\n",
       "<style scoped>\n",
       "    .dataframe tbody tr th:only-of-type {\n",
       "        vertical-align: middle;\n",
       "    }\n",
       "\n",
       "    .dataframe tbody tr th {\n",
       "        vertical-align: top;\n",
       "    }\n",
       "\n",
       "    .dataframe thead th {\n",
       "        text-align: right;\n",
       "    }\n",
       "</style>\n",
       "<table border=\"1\" class=\"dataframe\">\n",
       "  <thead>\n",
       "    <tr style=\"text-align: right;\">\n",
       "      <th></th>\n",
       "      <th>COUNTRY</th>\n",
       "      <th>SERIES</th>\n",
       "      <th>PERIOD</th>\n",
       "      <th>TIME</th>\n",
       "      <th>Value</th>\n",
       "    </tr>\n",
       "  </thead>\n",
       "  <tbody>\n",
       "    <tr>\n",
       "      <td>38</td>\n",
       "      <td>AUS</td>\n",
       "      <td>PPP</td>\n",
       "      <td>A</td>\n",
       "      <td>2001</td>\n",
       "      <td>21503.435892</td>\n",
       "    </tr>\n",
       "    <tr>\n",
       "      <td>39</td>\n",
       "      <td>AUS</td>\n",
       "      <td>PPP</td>\n",
       "      <td>A</td>\n",
       "      <td>2002</td>\n",
       "      <td>21715.267268</td>\n",
       "    </tr>\n",
       "    <tr>\n",
       "      <td>40</td>\n",
       "      <td>AUS</td>\n",
       "      <td>PPP</td>\n",
       "      <td>A</td>\n",
       "      <td>2003</td>\n",
       "      <td>21998.608473</td>\n",
       "    </tr>\n",
       "    <tr>\n",
       "      <td>41</td>\n",
       "      <td>AUS</td>\n",
       "      <td>PPP</td>\n",
       "      <td>A</td>\n",
       "      <td>2004</td>\n",
       "      <td>22384.714008</td>\n",
       "    </tr>\n",
       "    <tr>\n",
       "      <td>42</td>\n",
       "      <td>AUS</td>\n",
       "      <td>PPP</td>\n",
       "      <td>A</td>\n",
       "      <td>2005</td>\n",
       "      <td>22566.219653</td>\n",
       "    </tr>\n",
       "    <tr>\n",
       "      <td>...</td>\n",
       "      <td>...</td>\n",
       "      <td>...</td>\n",
       "      <td>...</td>\n",
       "      <td>...</td>\n",
       "      <td>...</td>\n",
       "    </tr>\n",
       "    <tr>\n",
       "      <td>2082</td>\n",
       "      <td>USA</td>\n",
       "      <td>PPP</td>\n",
       "      <td>A</td>\n",
       "      <td>2015</td>\n",
       "      <td>16265.980260</td>\n",
       "    </tr>\n",
       "    <tr>\n",
       "      <td>2083</td>\n",
       "      <td>USA</td>\n",
       "      <td>PPP</td>\n",
       "      <td>A</td>\n",
       "      <td>2016</td>\n",
       "      <td>16063.328012</td>\n",
       "    </tr>\n",
       "    <tr>\n",
       "      <td>2084</td>\n",
       "      <td>USA</td>\n",
       "      <td>PPP</td>\n",
       "      <td>A</td>\n",
       "      <td>2017</td>\n",
       "      <td>15728.297963</td>\n",
       "    </tr>\n",
       "    <tr>\n",
       "      <td>2085</td>\n",
       "      <td>USA</td>\n",
       "      <td>PPP</td>\n",
       "      <td>A</td>\n",
       "      <td>2018</td>\n",
       "      <td>15353.281279</td>\n",
       "    </tr>\n",
       "    <tr>\n",
       "      <td>2086</td>\n",
       "      <td>USA</td>\n",
       "      <td>PPP</td>\n",
       "      <td>A</td>\n",
       "      <td>2019</td>\n",
       "      <td>15080.000000</td>\n",
       "    </tr>\n",
       "  </tbody>\n",
       "</table>\n",
       "<p>536 rows × 5 columns</p>\n",
       "</div>"
      ],
      "text/plain": [
       "     COUNTRY SERIES PERIOD  TIME         Value\n",
       "38       AUS    PPP      A  2001  21503.435892\n",
       "39       AUS    PPP      A  2002  21715.267268\n",
       "40       AUS    PPP      A  2003  21998.608473\n",
       "41       AUS    PPP      A  2004  22384.714008\n",
       "42       AUS    PPP      A  2005  22566.219653\n",
       "...      ...    ...    ...   ...           ...\n",
       "2082     USA    PPP      A  2015  16265.980260\n",
       "2083     USA    PPP      A  2016  16063.328012\n",
       "2084     USA    PPP      A  2017  15728.297963\n",
       "2085     USA    PPP      A  2018  15353.281279\n",
       "2086     USA    PPP      A  2019  15080.000000\n",
       "\n",
       "[536 rows x 5 columns]"
      ]
     },
     "execution_count": 103,
     "metadata": {},
     "output_type": "execute_result"
    }
   ],
   "source": [
    "min_wage_oecd_PPP"
   ]
  },
  {
   "cell_type": "code",
   "execution_count": null,
   "metadata": {},
   "outputs": [],
   "source": []
  }
 ],
 "metadata": {
  "kernelspec": {
   "display_name": "Python 3",
   "language": "python",
   "name": "python3"
  },
  "language_info": {
   "codemirror_mode": {
    "name": "ipython",
    "version": 3
   },
   "file_extension": ".py",
   "mimetype": "text/x-python",
   "name": "python",
   "nbconvert_exporter": "python",
   "pygments_lexer": "ipython3",
   "version": "3.7.4"
  },
  "toc": {
   "base_numbering": 1,
   "nav_menu": {},
   "number_sections": true,
   "sideBar": true,
   "skip_h1_title": false,
   "title_cell": "Table of Contents",
   "title_sidebar": "Contents",
   "toc_cell": false,
   "toc_position": {},
   "toc_section_display": true,
   "toc_window_display": false
  },
  "varInspector": {
   "cols": {
    "lenName": 16,
    "lenType": 16,
    "lenVar": 40
   },
   "kernels_config": {
    "python": {
     "delete_cmd_postfix": "",
     "delete_cmd_prefix": "del ",
     "library": "var_list.py",
     "varRefreshCmd": "print(var_dic_list())"
    },
    "r": {
     "delete_cmd_postfix": ") ",
     "delete_cmd_prefix": "rm(",
     "library": "var_list.r",
     "varRefreshCmd": "cat(var_dic_list()) "
    }
   },
   "types_to_exclude": [
    "module",
    "function",
    "builtin_function_or_method",
    "instance",
    "_Feature"
   ],
   "window_display": false
  }
 },
 "nbformat": 4,
 "nbformat_minor": 4
}

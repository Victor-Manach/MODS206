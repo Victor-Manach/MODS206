{
 "cells": [
  {
   "cell_type": "code",
   "execution_count": 1,
   "metadata": {},
   "outputs": [],
   "source": [
    "import os\n",
    "import numpy as np\n",
    "import pandas as pd\n",
    "import matplotlib.pyplot as plt\n",
    "import folium\n",
    "import seaborn as sns\n",
    "sns.set()\n",
    "\n",
    "world_map = os.path.join('./data/', 'world_map.json')"
   ]
  },
  {
   "cell_type": "markdown",
   "metadata": {},
   "source": [
    "# Import data and remove useless columns "
   ]
  },
  {
   "cell_type": "markdown",
   "metadata": {},
   "source": [
    "## Import data"
   ]
  },
  {
   "cell_type": "code",
   "execution_count": 2,
   "metadata": {},
   "outputs": [],
   "source": [
    "gdp_per_person = pd.read_csv('./data/economic_features/GDP_per_capita.csv', sep=';')\n",
    "cpi_2015 = pd.read_csv('./data/economic_features/CPI_2015.csv')\n",
    "cpi_2017 = pd.read_csv('./data/economic_features/CPI_2017.csv')\n",
    "debt_2015 = pd.read_csv('./data/economic_features/DEBT_2015.csv')\n",
    "debt_2017 = pd.read_csv('./data/economic_features/DEBT_2017.csv')\n",
    "cpi_2000_2019 = pd.read_csv('./data/economic_features/CPI_2000_2019.csv')\n",
    "debt_2000_2019 = pd.read_csv('./data/economic_features/DEBT_2000_2019.csv')"
   ]
  },
  {
   "cell_type": "markdown",
   "metadata": {},
   "source": [
    "**GDP per capita**: data is available for oecd countries between 1960 and 2019 with some missing values\n",
    "\n",
    "**CPI rate**: data is available for oecd countries between 2000 and 2019\n",
    "\n",
    "**DEBT**: data is available for oecd countries between 2000 and 2019"
   ]
  },
  {
   "cell_type": "markdown",
   "metadata": {},
   "source": [
    "## Dictionary with the country code of all OECD countries"
   ]
  },
  {
   "cell_type": "code",
   "execution_count": 3,
   "metadata": {},
   "outputs": [],
   "source": [
    "oecd_countries = {'AUS': 'Australia', 'AUT': 'Austria', 'BEL': 'Belgium', 'CAN': 'Canada', 'CHL': 'Chile', 'COL': 'Colombia', 'CZE': 'Czech Republic', 'DNK': 'Denmark', 'EST': 'Estonia', 'FIN': 'Finland', 'FRA': 'France', 'DEU': 'Germany', 'GRC': 'Greece', 'HUN': 'Hungary', 'ISL': 'Iceland', 'IRL': 'Ireland', 'ISR': 'Israel', 'ITA': 'Italy', 'JPN': 'Japan', 'KOR': 'Korea', 'LVA': 'Latvia', 'LTU': 'Lithuania', 'LUX': 'Luxembourg', 'MEX': 'Mexico', 'NLD': 'Netherlands', 'NZL': 'New Zealand', 'NOR': 'Norway', 'POL': 'Poland', 'PRT': 'Portugal', 'SVK': 'Slovakia', 'SVN': 'Slovenia', 'ESP': 'Spain', 'SWE': 'Sweden', 'CHE': 'Switzerland', 'TUR': 'Turkey', 'GBR': 'United Kingdom', 'USA': 'United States'}"
   ]
  },
  {
   "cell_type": "markdown",
   "metadata": {},
   "source": [
    "## Preparation of the datasets"
   ]
  },
  {
   "cell_type": "markdown",
   "metadata": {},
   "source": [
    "### Removal of unnecessary columns and countries"
   ]
  },
  {
   "cell_type": "markdown",
   "metadata": {},
   "source": [
    "#### GDP per capita"
   ]
  },
  {
   "cell_type": "code",
   "execution_count": 13,
   "metadata": {},
   "outputs": [],
   "source": [
    "gdp_per_person_oecd = pd.DataFrame(columns=gdp_per_person.columns)\n",
    "for code in oecd_countries.keys():\n",
    "    gdp_per_person_oecd = gdp_per_person_oecd.append(gdp_per_person[gdp_per_person['Country Code']==code])\n",
    "gdp_2015_oecd = gdp_per_person_oecd[['Country Code', '2015']]\n",
    "gdp_2017_oecd = gdp_per_person_oecd[['Country Code', '2017']]\n",
    "gdp_1960_2019_oecd_full = gdp_per_person_oecd.drop(['Country Name', 'Indicator Name', 'Indicator Code'], axis=1).reset_index(drop=True)"
   ]
  },
  {
   "cell_type": "code",
   "execution_count": 38,
   "metadata": {},
   "outputs": [],
   "source": [
    "gdp_1960_2019_oecd = pd.DataFrame(columns=['Country', 'Time', 'GDP'])\n",
    "for i in range(len(gdp_1960_2019_oecd_full)):\n",
    "    country = gdp_1960_2019_oecd_full.iloc[i][0]\n",
    "    for j in range(1,len(gdp_1960_2019_oecd_full.columns)):\n",
    "        year = gdp_1960_2019_oecd_full.columns[j]\n",
    "        gdp = gdp_1960_2019_oecd_full.iloc[i][j]\n",
    "        gdp_1960_2019_oecd = gdp_1960_2019_oecd.append({'Country': country, 'Time': int(year), 'GDP': gdp}, ignore_index=True)\n",
    "    gdp_1960_2019_oecd = gdp_1960_2019_oecd.dropna()"
   ]
  },
  {
   "cell_type": "code",
   "execution_count": 41,
   "metadata": {},
   "outputs": [
    {
     "data": {
      "text/html": [
       "<div>\n",
       "<style scoped>\n",
       "    .dataframe tbody tr th:only-of-type {\n",
       "        vertical-align: middle;\n",
       "    }\n",
       "\n",
       "    .dataframe tbody tr th {\n",
       "        vertical-align: top;\n",
       "    }\n",
       "\n",
       "    .dataframe thead th {\n",
       "        text-align: right;\n",
       "    }\n",
       "</style>\n",
       "<table border=\"1\" class=\"dataframe\">\n",
       "  <thead>\n",
       "    <tr style=\"text-align: right;\">\n",
       "      <th></th>\n",
       "      <th>Country</th>\n",
       "      <th>Time</th>\n",
       "      <th>GDP</th>\n",
       "    </tr>\n",
       "  </thead>\n",
       "  <tbody>\n",
       "    <tr>\n",
       "      <th>0</th>\n",
       "      <td>AUS</td>\n",
       "      <td>1960</td>\n",
       "      <td>1807.785710</td>\n",
       "    </tr>\n",
       "    <tr>\n",
       "      <th>1</th>\n",
       "      <td>AUS</td>\n",
       "      <td>1961</td>\n",
       "      <td>1874.732106</td>\n",
       "    </tr>\n",
       "    <tr>\n",
       "      <th>2</th>\n",
       "      <td>AUS</td>\n",
       "      <td>1962</td>\n",
       "      <td>1851.841851</td>\n",
       "    </tr>\n",
       "    <tr>\n",
       "      <th>3</th>\n",
       "      <td>AUS</td>\n",
       "      <td>1963</td>\n",
       "      <td>1964.150470</td>\n",
       "    </tr>\n",
       "    <tr>\n",
       "      <th>4</th>\n",
       "      <td>AUS</td>\n",
       "      <td>1964</td>\n",
       "      <td>2128.068355</td>\n",
       "    </tr>\n",
       "    <tr>\n",
       "      <th>...</th>\n",
       "      <td>...</td>\n",
       "      <td>...</td>\n",
       "      <td>...</td>\n",
       "    </tr>\n",
       "    <tr>\n",
       "      <th>1945</th>\n",
       "      <td>USA</td>\n",
       "      <td>2015</td>\n",
       "      <td>56839.381774</td>\n",
       "    </tr>\n",
       "    <tr>\n",
       "      <th>1946</th>\n",
       "      <td>USA</td>\n",
       "      <td>2016</td>\n",
       "      <td>57951.584082</td>\n",
       "    </tr>\n",
       "    <tr>\n",
       "      <th>1947</th>\n",
       "      <td>USA</td>\n",
       "      <td>2017</td>\n",
       "      <td>60062.222313</td>\n",
       "    </tr>\n",
       "    <tr>\n",
       "      <th>1948</th>\n",
       "      <td>USA</td>\n",
       "      <td>2018</td>\n",
       "      <td>62996.471285</td>\n",
       "    </tr>\n",
       "    <tr>\n",
       "      <th>1949</th>\n",
       "      <td>USA</td>\n",
       "      <td>2019</td>\n",
       "      <td>65297.517508</td>\n",
       "    </tr>\n",
       "  </tbody>\n",
       "</table>\n",
       "<p>1950 rows × 3 columns</p>\n",
       "</div>"
      ],
      "text/plain": [
       "     Country  Time           GDP\n",
       "0        AUS  1960   1807.785710\n",
       "1        AUS  1961   1874.732106\n",
       "2        AUS  1962   1851.841851\n",
       "3        AUS  1963   1964.150470\n",
       "4        AUS  1964   2128.068355\n",
       "...      ...   ...           ...\n",
       "1945     USA  2015  56839.381774\n",
       "1946     USA  2016  57951.584082\n",
       "1947     USA  2017  60062.222313\n",
       "1948     USA  2018  62996.471285\n",
       "1949     USA  2019  65297.517508\n",
       "\n",
       "[1950 rows x 3 columns]"
      ]
     },
     "execution_count": 41,
     "metadata": {},
     "output_type": "execute_result"
    }
   ],
   "source": [
    "gdp_1960_2019_oecd"
   ]
  },
  {
   "cell_type": "markdown",
   "metadata": {},
   "source": [
    "#### Inflation rate "
   ]
  },
  {
   "cell_type": "code",
   "execution_count": 7,
   "metadata": {},
   "outputs": [],
   "source": [
    "cpi_2015_oecd = cpi_2015[['LOCATION', 'Value']]\n",
    "cpi_2017_oecd = cpi_2017[['LOCATION', 'Value']]\n",
    "cpi_2000_2019 = cpi_2000_2019[['LOCATION', 'TIME', 'Value']]\n",
    "cpi_2000_2019.columns = ['Country', 'Time', 'CPI']"
   ]
  },
  {
   "cell_type": "code",
   "execution_count": 8,
   "metadata": {},
   "outputs": [
    {
     "data": {
      "text/html": [
       "<div>\n",
       "<style scoped>\n",
       "    .dataframe tbody tr th:only-of-type {\n",
       "        vertical-align: middle;\n",
       "    }\n",
       "\n",
       "    .dataframe tbody tr th {\n",
       "        vertical-align: top;\n",
       "    }\n",
       "\n",
       "    .dataframe thead th {\n",
       "        text-align: right;\n",
       "    }\n",
       "</style>\n",
       "<table border=\"1\" class=\"dataframe\">\n",
       "  <thead>\n",
       "    <tr style=\"text-align: right;\">\n",
       "      <th></th>\n",
       "      <th>Country</th>\n",
       "      <th>Time</th>\n",
       "      <th>CPI</th>\n",
       "    </tr>\n",
       "  </thead>\n",
       "  <tbody>\n",
       "    <tr>\n",
       "      <th>0</th>\n",
       "      <td>AUS</td>\n",
       "      <td>2000</td>\n",
       "      <td>4.457435</td>\n",
       "    </tr>\n",
       "    <tr>\n",
       "      <th>1</th>\n",
       "      <td>AUS</td>\n",
       "      <td>2001</td>\n",
       "      <td>4.407135</td>\n",
       "    </tr>\n",
       "    <tr>\n",
       "      <th>2</th>\n",
       "      <td>AUS</td>\n",
       "      <td>2002</td>\n",
       "      <td>2.981575</td>\n",
       "    </tr>\n",
       "    <tr>\n",
       "      <th>3</th>\n",
       "      <td>AUS</td>\n",
       "      <td>2003</td>\n",
       "      <td>2.732596</td>\n",
       "    </tr>\n",
       "    <tr>\n",
       "      <th>4</th>\n",
       "      <td>AUS</td>\n",
       "      <td>2004</td>\n",
       "      <td>2.343255</td>\n",
       "    </tr>\n",
       "    <tr>\n",
       "      <th>...</th>\n",
       "      <td>...</td>\n",
       "      <td>...</td>\n",
       "      <td>...</td>\n",
       "    </tr>\n",
       "    <tr>\n",
       "      <th>755</th>\n",
       "      <td>LTU</td>\n",
       "      <td>2015</td>\n",
       "      <td>-0.884097</td>\n",
       "    </tr>\n",
       "    <tr>\n",
       "      <th>756</th>\n",
       "      <td>LTU</td>\n",
       "      <td>2016</td>\n",
       "      <td>0.905525</td>\n",
       "    </tr>\n",
       "    <tr>\n",
       "      <th>757</th>\n",
       "      <td>LTU</td>\n",
       "      <td>2017</td>\n",
       "      <td>3.722889</td>\n",
       "    </tr>\n",
       "    <tr>\n",
       "      <th>758</th>\n",
       "      <td>LTU</td>\n",
       "      <td>2018</td>\n",
       "      <td>2.697928</td>\n",
       "    </tr>\n",
       "    <tr>\n",
       "      <th>759</th>\n",
       "      <td>LTU</td>\n",
       "      <td>2019</td>\n",
       "      <td>2.334509</td>\n",
       "    </tr>\n",
       "  </tbody>\n",
       "</table>\n",
       "<p>760 rows × 3 columns</p>\n",
       "</div>"
      ],
      "text/plain": [
       "    Country  Time       CPI\n",
       "0       AUS  2000  4.457435\n",
       "1       AUS  2001  4.407135\n",
       "2       AUS  2002  2.981575\n",
       "3       AUS  2003  2.732596\n",
       "4       AUS  2004  2.343255\n",
       "..      ...   ...       ...\n",
       "755     LTU  2015 -0.884097\n",
       "756     LTU  2016  0.905525\n",
       "757     LTU  2017  3.722889\n",
       "758     LTU  2018  2.697928\n",
       "759     LTU  2019  2.334509\n",
       "\n",
       "[760 rows x 3 columns]"
      ]
     },
     "execution_count": 8,
     "metadata": {},
     "output_type": "execute_result"
    }
   ],
   "source": [
    "cpi_2000_2019"
   ]
  },
  {
   "cell_type": "markdown",
   "metadata": {},
   "source": [
    "#### Debt"
   ]
  },
  {
   "cell_type": "code",
   "execution_count": 9,
   "metadata": {},
   "outputs": [],
   "source": [
    "debt_2015_oecd = debt_2015[['LOCATION', 'Value']]\n",
    "debt_2017_oecd = debt_2017[['LOCATION', 'Value']]\n",
    "debt_2000_2019 = debt_2000_2019[['LOCATION', 'TIME', 'Value']]\n",
    "debt_2000_2019.columns = ['Country', 'Time', 'DEBT']"
   ]
  },
  {
   "cell_type": "code",
   "execution_count": 10,
   "metadata": {},
   "outputs": [
    {
     "data": {
      "text/html": [
       "<div>\n",
       "<style scoped>\n",
       "    .dataframe tbody tr th:only-of-type {\n",
       "        vertical-align: middle;\n",
       "    }\n",
       "\n",
       "    .dataframe tbody tr th {\n",
       "        vertical-align: top;\n",
       "    }\n",
       "\n",
       "    .dataframe thead th {\n",
       "        text-align: right;\n",
       "    }\n",
       "</style>\n",
       "<table border=\"1\" class=\"dataframe\">\n",
       "  <thead>\n",
       "    <tr style=\"text-align: right;\">\n",
       "      <th></th>\n",
       "      <th>Country</th>\n",
       "      <th>Time</th>\n",
       "      <th>DEBT</th>\n",
       "    </tr>\n",
       "  </thead>\n",
       "  <tbody>\n",
       "    <tr>\n",
       "      <th>0</th>\n",
       "      <td>AUS</td>\n",
       "      <td>2000</td>\n",
       "      <td>41.14750</td>\n",
       "    </tr>\n",
       "    <tr>\n",
       "      <th>1</th>\n",
       "      <td>AUS</td>\n",
       "      <td>2001</td>\n",
       "      <td>40.40488</td>\n",
       "    </tr>\n",
       "    <tr>\n",
       "      <th>2</th>\n",
       "      <td>AUS</td>\n",
       "      <td>2002</td>\n",
       "      <td>38.67284</td>\n",
       "    </tr>\n",
       "    <tr>\n",
       "      <th>3</th>\n",
       "      <td>AUS</td>\n",
       "      <td>2003</td>\n",
       "      <td>35.66726</td>\n",
       "    </tr>\n",
       "    <tr>\n",
       "      <th>4</th>\n",
       "      <td>AUS</td>\n",
       "      <td>2004</td>\n",
       "      <td>32.31054</td>\n",
       "    </tr>\n",
       "    <tr>\n",
       "      <th>...</th>\n",
       "      <td>...</td>\n",
       "      <td>...</td>\n",
       "      <td>...</td>\n",
       "    </tr>\n",
       "    <tr>\n",
       "      <th>652</th>\n",
       "      <td>LTU</td>\n",
       "      <td>2015</td>\n",
       "      <td>53.33852</td>\n",
       "    </tr>\n",
       "    <tr>\n",
       "      <th>653</th>\n",
       "      <td>LTU</td>\n",
       "      <td>2016</td>\n",
       "      <td>50.88945</td>\n",
       "    </tr>\n",
       "    <tr>\n",
       "      <th>654</th>\n",
       "      <td>LTU</td>\n",
       "      <td>2017</td>\n",
       "      <td>47.00182</td>\n",
       "    </tr>\n",
       "    <tr>\n",
       "      <th>655</th>\n",
       "      <td>LTU</td>\n",
       "      <td>2018</td>\n",
       "      <td>40.67271</td>\n",
       "    </tr>\n",
       "    <tr>\n",
       "      <th>656</th>\n",
       "      <td>LTU</td>\n",
       "      <td>2019</td>\n",
       "      <td>44.54689</td>\n",
       "    </tr>\n",
       "  </tbody>\n",
       "</table>\n",
       "<p>657 rows × 3 columns</p>\n",
       "</div>"
      ],
      "text/plain": [
       "    Country  Time      DEBT\n",
       "0       AUS  2000  41.14750\n",
       "1       AUS  2001  40.40488\n",
       "2       AUS  2002  38.67284\n",
       "3       AUS  2003  35.66726\n",
       "4       AUS  2004  32.31054\n",
       "..      ...   ...       ...\n",
       "652     LTU  2015  53.33852\n",
       "653     LTU  2016  50.88945\n",
       "654     LTU  2017  47.00182\n",
       "655     LTU  2018  40.67271\n",
       "656     LTU  2019  44.54689\n",
       "\n",
       "[657 rows x 3 columns]"
      ]
     },
     "execution_count": 10,
     "metadata": {},
     "output_type": "execute_result"
    }
   ],
   "source": [
    "debt_2000_2019"
   ]
  },
  {
   "cell_type": "markdown",
   "metadata": {},
   "source": [
    "### Panel data set"
   ]
  },
  {
   "cell_type": "code",
   "execution_count": 53,
   "metadata": {},
   "outputs": [],
   "source": [
    "df_economic = pd.DataFrame(columns=['Country', 'Time', 'GDP', 'CPI', 'DEBT'])\n",
    "years = [year for year in range(2000, 2020)]\n",
    "for country in oecd_countries.keys():\n",
    "    gdp_country = gdp_1960_2019_oecd[(gdp_1960_2019_oecd.Country==country)&(gdp_1960_2019_oecd.Time.isin(years))]\n",
    "    cpi_country = cpi_2000_2019[(cpi_2000_2019.Country==country)&(cpi_2000_2019.Time.isin(years))]\n",
    "    debt_country = debt_2000_2019[(debt_2000_2019.Country==country)&(debt_2000_2019.Time.isin(years))]\n",
    "    for year in years:\n",
    "        gdp_value = gdp_country[gdp_country.Time==year].GDP.values\n",
    "        cpi_value = cpi_country[cpi_country.Time==year].CPI.values\n",
    "        debt_value = debt_country[debt_country.Time==year].DEBT.values\n",
    "        if (gdp_value.size>0) and (cpi_value.size>0) and (debt_value.size>0):\n",
    "            if (gdp_value==gdp_value) and (cpi_value==cpi_value) and (debt_value==debt_value):\n",
    "                df_economic = df_economic.append({'Country': country, 'Time': year, 'GDP': gdp_value[0], 'CPI':cpi_value[0], 'DEBT': debt_value[0]}, ignore_index=True)\n",
    "df_economic = df_economic.set_index(['Country', 'Time'])"
   ]
  },
  {
   "cell_type": "code",
   "execution_count": 54,
   "metadata": {},
   "outputs": [
    {
     "data": {
      "text/html": [
       "<div>\n",
       "<style scoped>\n",
       "    .dataframe tbody tr th:only-of-type {\n",
       "        vertical-align: middle;\n",
       "    }\n",
       "\n",
       "    .dataframe tbody tr th {\n",
       "        vertical-align: top;\n",
       "    }\n",
       "\n",
       "    .dataframe thead th {\n",
       "        text-align: right;\n",
       "    }\n",
       "</style>\n",
       "<table border=\"1\" class=\"dataframe\">\n",
       "  <thead>\n",
       "    <tr style=\"text-align: right;\">\n",
       "      <th></th>\n",
       "      <th></th>\n",
       "      <th>GDP</th>\n",
       "      <th>CPI</th>\n",
       "      <th>DEBT</th>\n",
       "    </tr>\n",
       "    <tr>\n",
       "      <th>Country</th>\n",
       "      <th>Time</th>\n",
       "      <th></th>\n",
       "      <th></th>\n",
       "      <th></th>\n",
       "    </tr>\n",
       "  </thead>\n",
       "  <tbody>\n",
       "    <tr>\n",
       "      <th rowspan=\"5\" valign=\"top\">AUS</th>\n",
       "      <th>2000</th>\n",
       "      <td>21679.247842</td>\n",
       "      <td>4.457435</td>\n",
       "      <td>41.14750</td>\n",
       "    </tr>\n",
       "    <tr>\n",
       "      <th>2001</th>\n",
       "      <td>19490.861110</td>\n",
       "      <td>4.407135</td>\n",
       "      <td>40.40488</td>\n",
       "    </tr>\n",
       "    <tr>\n",
       "      <th>2002</th>\n",
       "      <td>20082.483267</td>\n",
       "      <td>2.981575</td>\n",
       "      <td>38.67284</td>\n",
       "    </tr>\n",
       "    <tr>\n",
       "      <th>2003</th>\n",
       "      <td>23447.031001</td>\n",
       "      <td>2.732596</td>\n",
       "      <td>35.66726</td>\n",
       "    </tr>\n",
       "    <tr>\n",
       "      <th>2004</th>\n",
       "      <td>30430.676437</td>\n",
       "      <td>2.343255</td>\n",
       "      <td>32.31054</td>\n",
       "    </tr>\n",
       "    <tr>\n",
       "      <th>...</th>\n",
       "      <th>...</th>\n",
       "      <td>...</td>\n",
       "      <td>...</td>\n",
       "      <td>...</td>\n",
       "    </tr>\n",
       "    <tr>\n",
       "      <th rowspan=\"5\" valign=\"top\">USA</th>\n",
       "      <th>2015</th>\n",
       "      <td>56839.381774</td>\n",
       "      <td>0.118627</td>\n",
       "      <td>136.43000</td>\n",
       "    </tr>\n",
       "    <tr>\n",
       "      <th>2016</th>\n",
       "      <td>57951.584082</td>\n",
       "      <td>1.261583</td>\n",
       "      <td>138.11100</td>\n",
       "    </tr>\n",
       "    <tr>\n",
       "      <th>2017</th>\n",
       "      <td>60062.222313</td>\n",
       "      <td>2.130110</td>\n",
       "      <td>134.67420</td>\n",
       "    </tr>\n",
       "    <tr>\n",
       "      <th>2018</th>\n",
       "      <td>62996.471285</td>\n",
       "      <td>2.442583</td>\n",
       "      <td>136.17960</td>\n",
       "    </tr>\n",
       "    <tr>\n",
       "      <th>2019</th>\n",
       "      <td>65297.517508</td>\n",
       "      <td>1.812210</td>\n",
       "      <td>134.59570</td>\n",
       "    </tr>\n",
       "  </tbody>\n",
       "</table>\n",
       "<p>657 rows × 3 columns</p>\n",
       "</div>"
      ],
      "text/plain": [
       "                       GDP       CPI       DEBT\n",
       "Country Time                                   \n",
       "AUS     2000  21679.247842  4.457435   41.14750\n",
       "        2001  19490.861110  4.407135   40.40488\n",
       "        2002  20082.483267  2.981575   38.67284\n",
       "        2003  23447.031001  2.732596   35.66726\n",
       "        2004  30430.676437  2.343255   32.31054\n",
       "...                    ...       ...        ...\n",
       "USA     2015  56839.381774  0.118627  136.43000\n",
       "        2016  57951.584082  1.261583  138.11100\n",
       "        2017  60062.222313  2.130110  134.67420\n",
       "        2018  62996.471285  2.442583  136.17960\n",
       "        2019  65297.517508  1.812210  134.59570\n",
       "\n",
       "[657 rows x 3 columns]"
      ]
     },
     "execution_count": 54,
     "metadata": {},
     "output_type": "execute_result"
    }
   ],
   "source": [
    "df_economic"
   ]
  },
  {
   "cell_type": "code",
   "execution_count": 56,
   "metadata": {},
   "outputs": [],
   "source": [
    "df_economic.to_csv('./economic_features.csv')"
   ]
  },
  {
   "cell_type": "markdown",
   "metadata": {},
   "source": [
    "# Overall descriptive statistics"
   ]
  },
  {
   "cell_type": "markdown",
   "metadata": {},
   "source": [
    "## GDP per capita"
   ]
  },
  {
   "cell_type": "code",
   "execution_count": null,
   "metadata": {},
   "outputs": [],
   "source": [
    "print('Descriptive statistics for GDP per capita in 2015\\n{}'.format(gdp_2015_oecd['2015'].describe()))\n",
    "print('\\n')\n",
    "print('Descriptive statistics for GDP per capita in 2017\\n{}'.format(gdp_2017_oecd['2017'].describe()))"
   ]
  },
  {
   "cell_type": "code",
   "execution_count": null,
   "metadata": {},
   "outputs": [],
   "source": [
    "plt.figure(figsize=(20,10))\n",
    "sns.barplot(x='Country Code',y='2015',data=gdp_2015_oecd,order=gdp_2015_oecd.sort_values('2015')['Country Code'],color=\"C0\")\n",
    "plt.xlabel('Country Code', size=15)\n",
    "plt.ylabel('GDP per capita', size=15)\n",
    "plt.title('GDP per capita in OECD countries in 2015', size=20)"
   ]
  },
  {
   "cell_type": "code",
   "execution_count": null,
   "metadata": {},
   "outputs": [],
   "source": [
    "plt.figure(figsize=(20,10))\n",
    "sns.barplot(x='Country Code',y='2017',data=gdp_2017_oecd,order=gdp_2017_oecd.sort_values('2017')['Country Code'],color=\"C0\")\n",
    "plt.xlabel('Country Code', size=15)\n",
    "plt.ylabel('GDP per capita', size=15)\n",
    "plt.title('GDP per capita in OECD countries in 2017', size=20)"
   ]
  },
  {
   "cell_type": "markdown",
   "metadata": {},
   "source": [
    "## Inflation rate measured by the CPI"
   ]
  },
  {
   "cell_type": "code",
   "execution_count": null,
   "metadata": {},
   "outputs": [],
   "source": [
    "print('Descriptive statistics for inflation rate in 2015\\n{}'.format(cpi_2015_oecd.Value.describe()))\n",
    "print('\\n')\n",
    "print('Descriptive statistics for inflation rate in 2017\\n{}'.format(cpi_2017_oecd.Value.describe()))"
   ]
  },
  {
   "cell_type": "code",
   "execution_count": null,
   "metadata": {},
   "outputs": [],
   "source": [
    "plt.figure(figsize=(20,10))\n",
    "sns.barplot(x='LOCATION',y='Value',data=cpi_2015_oecd,order=cpi_2015_oecd.sort_values('Value')['LOCATION'],color=\"C0\")\n",
    "plt.xlabel('Country Code', size=15)\n",
    "plt.ylabel('CPI', size=15)\n",
    "plt.title('Inflation rate in OECD countries in 2015', size=20)"
   ]
  },
  {
   "cell_type": "code",
   "execution_count": null,
   "metadata": {},
   "outputs": [],
   "source": [
    "plt.figure(figsize=(20,10))\n",
    "sns.barplot(x='LOCATION',y='Value',data=cpi_2017_oecd,order=cpi_2017_oecd.sort_values('Value')['LOCATION'],color=\"C0\")\n",
    "plt.xlabel('Country Code', size=15)\n",
    "plt.ylabel('CPI', size=15)\n",
    "plt.title('Inflation rate in OECD countries in 2017', size=20)"
   ]
  },
  {
   "cell_type": "markdown",
   "metadata": {},
   "source": [
    "## Debt in % of GDP"
   ]
  },
  {
   "cell_type": "code",
   "execution_count": null,
   "metadata": {},
   "outputs": [],
   "source": [
    "print('Descriptive statistics for debt in 2015\\n{}'.format(debt_2015_oecd.Value.describe()))\n",
    "print('\\n')\n",
    "print('Descriptive statistics for debt in 2017\\n{}'.format(debt_2017_oecd.Value.describe()))"
   ]
  },
  {
   "cell_type": "code",
   "execution_count": null,
   "metadata": {},
   "outputs": [],
   "source": [
    "plt.figure(figsize=(20,10))\n",
    "sns.barplot(x='LOCATION',y='Value',data=debt_2015_oecd,order=debt_2015_oecd.sort_values('Value')['LOCATION'],color=\"C0\")\n",
    "plt.xlabel('Country Code', size=15)\n",
    "plt.ylabel('Debt', size=15)\n",
    "plt.title('Debt in % of GDP in OECD countries in 2015', size=20)"
   ]
  },
  {
   "cell_type": "code",
   "execution_count": null,
   "metadata": {},
   "outputs": [],
   "source": [
    "plt.figure(figsize=(20,10))\n",
    "sns.barplot(x='LOCATION',y='Value',data=debt_2017_oecd,order=debt_2017_oecd.sort_values('Value')['LOCATION'],color=\"C0\")\n",
    "plt.xlabel('Country Code', size=15)\n",
    "plt.ylabel('Debt', size=15)\n",
    "plt.title('Debt in % of GDP in OECD countries in 2017', size=20)"
   ]
  },
  {
   "cell_type": "markdown",
   "metadata": {},
   "source": [
    "# World maps"
   ]
  },
  {
   "cell_type": "markdown",
   "metadata": {},
   "source": [
    "## GDP per capita in 2015"
   ]
  },
  {
   "cell_type": "code",
   "execution_count": null,
   "metadata": {},
   "outputs": [],
   "source": [
    "gdp_map_2015 = folium.Map(min_zoom=1, max_zoom=3)\n",
    "folium.Choropleth(\n",
    " geo_data=world_map,\n",
    " name='choropleth',\n",
    " data=gdp_2015_oecd,\n",
    " columns=['Country Code', '2015'],\n",
    " key_on='feature.properties.adm0_a3',\n",
    " line_opacity=0.4,\n",
    " nan_fill_color=\"black\",\n",
    " nan_fill_opacity=0.2,\n",
    " bins = np.linspace(np.min(gdp_2015_oecd['2015']), np.max(gdp_2015_oecd['2015']), 6),\n",
    " highlight=True,\n",
    " legend_name='GDP per person for OECD countries in 2015 (in current US$)',\n",
    ").add_to(gdp_map_2015)"
   ]
  },
  {
   "cell_type": "markdown",
   "metadata": {},
   "source": [
    "## GDP per capita in 2017"
   ]
  },
  {
   "cell_type": "code",
   "execution_count": null,
   "metadata": {},
   "outputs": [],
   "source": [
    "gdp_map_2017 = folium.Map(min_zoom=1, max_zoom=3)\n",
    "folium.Choropleth(\n",
    " geo_data=world_map,\n",
    " name='choropleth',\n",
    " data=gdp_2017_oecd,\n",
    " columns=['Country Code', '2017'],\n",
    " key_on='feature.properties.adm0_a3',\n",
    " line_opacity=0.4,\n",
    " nan_fill_color=\"black\",\n",
    " nan_fill_opacity=0.2,\n",
    " bins = np.linspace(np.min(gdp_2017_oecd['2017']), np.max(gdp_2017_oecd['2017']), 6),\n",
    " highlight=True,\n",
    " legend_name='GDP per person for OECD countries in 2017 (in current US$)',\n",
    ").add_to(gdp_map_2017)"
   ]
  },
  {
   "cell_type": "markdown",
   "metadata": {},
   "source": [
    "## Inflation rate in 2015"
   ]
  },
  {
   "cell_type": "code",
   "execution_count": null,
   "metadata": {},
   "outputs": [],
   "source": [
    "cpi_map_2015 = folium.Map(min_zoom=1, max_zoom=3)\n",
    "folium.Choropleth(\n",
    " geo_data=world_map,\n",
    " name='choropleth',\n",
    " data=cpi_2015_oecd,\n",
    " columns=['LOCATION', 'Value'],\n",
    " key_on='feature.properties.adm0_a3',\n",
    " line_opacity=0.4,\n",
    " nan_fill_color=\"black\",\n",
    " nan_fill_opacity=0.2,\n",
    " bins = np.linspace(np.min(cpi_2015_oecd['Value']), np.max(cpi_2015_oecd['Value']), 6),\n",
    " highlight=True,\n",
    " legend_name='Inflation rate for OECD countries in 2015 (in current US$)',\n",
    ").add_to(cpi_map_2015)"
   ]
  },
  {
   "cell_type": "markdown",
   "metadata": {},
   "source": [
    "## Inflation rate in 2017"
   ]
  },
  {
   "cell_type": "code",
   "execution_count": null,
   "metadata": {},
   "outputs": [],
   "source": [
    "cpi_map_2017 = folium.Map(min_zoom=1, max_zoom=3)\n",
    "folium.Choropleth(\n",
    " geo_data=world_map,\n",
    " name='choropleth',\n",
    " data=cpi_2017_oecd,\n",
    " columns=['LOCATION', 'Value'],\n",
    " key_on='feature.properties.adm0_a3',\n",
    " line_opacity=0.4,\n",
    " nan_fill_color=\"black\",\n",
    " nan_fill_opacity=0.2,\n",
    " bins = np.linspace(np.min(cpi_2017_oecd['Value']), np.max(cpi_2017_oecd['Value']), 6),\n",
    " highlight=True,\n",
    " legend_name='GDP per person for OECD countries in 2017 (in current US$)',\n",
    ").add_to(cpi_map_2017)"
   ]
  },
  {
   "cell_type": "markdown",
   "metadata": {},
   "source": [
    "## Debt in 2015"
   ]
  },
  {
   "cell_type": "code",
   "execution_count": null,
   "metadata": {},
   "outputs": [],
   "source": [
    "debt_map_2015 = folium.Map(min_zoom=1, max_zoom=3)\n",
    "folium.Choropleth(\n",
    " geo_data=world_map,\n",
    " name='choropleth',\n",
    " data=debt_2015_oecd,\n",
    " columns=['LOCATION', 'Value'],\n",
    " key_on='feature.properties.adm0_a3',\n",
    " line_opacity=0.4,\n",
    " nan_fill_color=\"black\",\n",
    " nan_fill_opacity=0.2,\n",
    " bins = np.linspace(np.min(debt_2015_oecd['Value']), np.max(debt_2015_oecd['Value']), 6),\n",
    " highlight=True,\n",
    " legend_name='GDP per person for OECD countries in 2017 (in current US$)',\n",
    ").add_to(debt_map_2015)"
   ]
  },
  {
   "cell_type": "markdown",
   "metadata": {},
   "source": [
    "## Debt in 2017"
   ]
  },
  {
   "cell_type": "code",
   "execution_count": null,
   "metadata": {},
   "outputs": [],
   "source": [
    "debt_map_2017 = folium.Map(min_zoom=1, max_zoom=3)\n",
    "folium.Choropleth(\n",
    " geo_data=world_map,\n",
    " name='choropleth',\n",
    " data=debt_2017_oecd,\n",
    " columns=['LOCATION', 'Value'],\n",
    " key_on='feature.properties.adm0_a3',\n",
    " line_opacity=0.4,\n",
    " nan_fill_color=\"black\",\n",
    " nan_fill_opacity=0.2,\n",
    " bins = np.linspace(np.min(debt_2017_oecd['Value']), np.max(debt_2017_oecd['Value']), 6),\n",
    " highlight=True,\n",
    " legend_name='GDP per person for OECD countries in 2017 (in current US$)',\n",
    ").add_to(debt_map_2017)"
   ]
  }
 ],
 "metadata": {
  "kernelspec": {
   "display_name": "Python 3",
   "language": "python",
   "name": "python3"
  },
  "language_info": {
   "codemirror_mode": {
    "name": "ipython",
    "version": 3
   },
   "file_extension": ".py",
   "mimetype": "text/x-python",
   "name": "python",
   "nbconvert_exporter": "python",
   "pygments_lexer": "ipython3",
   "version": "3.7.6"
  },
  "toc": {
   "base_numbering": 1,
   "nav_menu": {},
   "number_sections": true,
   "sideBar": true,
   "skip_h1_title": false,
   "title_cell": "Table of Contents",
   "title_sidebar": "Contents",
   "toc_cell": false,
   "toc_position": {},
   "toc_section_display": true,
   "toc_window_display": false
  },
  "varInspector": {
   "cols": {
    "lenName": 16,
    "lenType": 16,
    "lenVar": 40
   },
   "kernels_config": {
    "python": {
     "delete_cmd_postfix": "",
     "delete_cmd_prefix": "del ",
     "library": "var_list.py",
     "varRefreshCmd": "print(var_dic_list())"
    },
    "r": {
     "delete_cmd_postfix": ") ",
     "delete_cmd_prefix": "rm(",
     "library": "var_list.r",
     "varRefreshCmd": "cat(var_dic_list()) "
    }
   },
   "position": {
    "height": "144px",
    "left": "792px",
    "right": "20px",
    "top": "120px",
    "width": "350px"
   },
   "types_to_exclude": [
    "module",
    "function",
    "builtin_function_or_method",
    "instance",
    "_Feature"
   ],
   "window_display": false
  }
 },
 "nbformat": 4,
 "nbformat_minor": 4
}

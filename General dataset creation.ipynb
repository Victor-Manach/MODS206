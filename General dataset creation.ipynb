{
 "cells": [
  {
   "cell_type": "markdown",
   "metadata": {},
   "source": [
    "# Library importation"
   ]
  },
  {
   "cell_type": "code",
   "execution_count": 1,
   "metadata": {},
   "outputs": [],
   "source": [
    "import numpy as np\n",
    "import pandas as pd"
   ]
  },
  {
   "cell_type": "markdown",
   "metadata": {},
   "source": [
    "# Code for countries of OECD"
   ]
  },
  {
   "cell_type": "code",
   "execution_count": 48,
   "metadata": {},
   "outputs": [],
   "source": [
    "oecd_countries = {'AUS': 'Australia', 'AUT': 'Austria', 'BEL': 'Belgium', 'CAN': 'Canada', 'CHL': 'Chile', 'COL': 'Colombia', 'CZE': 'Czech Republic', 'DNK': 'Denmark', 'EST': 'Estonia', 'FIN': 'Finland', 'FRA': 'France', 'DEU': 'Germany', 'GRC': 'Greece', 'HUN': 'Hungary', 'ISL': 'Iceland', 'IRL': 'Ireland', 'ISR': 'Israel', 'ITA': 'Italy', 'JPN': 'Japan', 'KOR': 'Korea', 'LVA': 'Latvia', 'LTU': 'Lithuania', 'LUX': 'Luxembourg', 'MEX': 'Mexico', 'NLD': 'Netherlands', 'NZL': 'New Zealand', 'NOR': 'Norway', 'POL': 'Poland', 'PRT': 'Portugal', 'SVK': 'Slovakia', 'SVN': 'Slovenia', 'ESP': 'Spain', 'SWE': 'Sweden', 'CHE': 'Switzerland', 'TUR': 'Turkey', 'GBR': 'United Kingdom', 'USA': 'United States'}"
   ]
  },
  {
   "cell_type": "markdown",
   "metadata": {},
   "source": [
    "# Data importation"
   ]
  },
  {
   "cell_type": "markdown",
   "metadata": {},
   "source": [
    "## Starting with the NEET"
   ]
  },
  {
   "cell_type": "markdown",
   "metadata": {},
   "source": [
    "We select the neet corresponding from 15 to 29 yo and from OECD countries only and selecting all the years"
   ]
  },
  {
   "cell_type": "code",
   "execution_count": 57,
   "metadata": {},
   "outputs": [],
   "source": [
    "df = pd.read_csv('./data/education_system/NEET_men_women_altogether.csv')\n",
    "df = df[(df.SUBJECT=='15_29')].drop(['INDICATOR','SUBJECT','MEASURE','FREQUENCY','Flag Codes'],axis=1)\n",
    "df = df[(df.LOCATION).isin(oecd_countries.keys())]\n",
    "df = df.reset_index(drop=True)"
   ]
  },
  {
   "cell_type": "code",
   "execution_count": 58,
   "metadata": {},
   "outputs": [],
   "source": [
    "df.columns = ['Country','Time','NEET']"
   ]
  },
  {
   "cell_type": "markdown",
   "metadata": {},
   "source": [
    "## Looking at Expenditure on LMP"
   ]
  },
  {
   "cell_type": "markdown",
   "metadata": {},
   "source": [
    "### Preparing the dataframe"
   ]
  },
  {
   "cell_type": "code",
   "execution_count": 68,
   "metadata": {},
   "outputs": [],
   "source": [
    "exp_lmp = pd.read_csv('./data/labour_market/public_exp_LMP.csv')\n",
    "exp_lmp = exp_lmp[['LFS_COUNTRY','PROG','Time','Value']]\n",
    "exp_lmp = exp_lmp[exp_lmp.PROG == 100].drop('PROG',axis=1).reset_index(drop=True)"
   ]
  },
  {
   "cell_type": "code",
   "execution_count": 69,
   "metadata": {},
   "outputs": [],
   "source": [
    "exp_lmp.columns=['Country', 'Time', 'Exp_LMP']"
   ]
  },
  {
   "cell_type": "code",
   "execution_count": 75,
   "metadata": {},
   "outputs": [
    {
     "data": {
      "text/plain": [
       "numpy.int64"
      ]
     },
     "execution_count": 75,
     "metadata": {},
     "output_type": "execute_result"
    }
   ],
   "source": [
    "type(exp_lmp['Time'])"
   ]
  },
  {
   "cell_type": "markdown",
   "metadata": {},
   "source": [
    "### Adding the values to the DF"
   ]
  },
  {
   "cell_type": "code",
   "execution_count": 88,
   "metadata": {},
   "outputs": [],
   "source": [
    "list_value=[]\n",
    "for el in df.itertuples():\n",
    "    country,time = el[1],el[2]\n",
    "    tmp = exp_lmp[(exp_lmp.Country==country)&(exp_lmp.Time==time)]\n",
    "    if len(tmp.index)==0:\n",
    "        list_value.append(None)\n",
    "    else:\n",
    "        list_value.append(tmp.Exp_LMP.values[0])\n",
    "df['Exp_LMP']= list_value\n",
    "df['Exp_LMP_2']=df['Exp_LMP']**2"
   ]
  },
  {
   "cell_type": "code",
   "execution_count": 89,
   "metadata": {},
   "outputs": [
    {
     "data": {
      "text/html": [
       "<div>\n",
       "<style scoped>\n",
       "    .dataframe tbody tr th:only-of-type {\n",
       "        vertical-align: middle;\n",
       "    }\n",
       "\n",
       "    .dataframe tbody tr th {\n",
       "        vertical-align: top;\n",
       "    }\n",
       "\n",
       "    .dataframe thead th {\n",
       "        text-align: right;\n",
       "    }\n",
       "</style>\n",
       "<table border=\"1\" class=\"dataframe\">\n",
       "  <thead>\n",
       "    <tr style=\"text-align: right;\">\n",
       "      <th></th>\n",
       "      <th>Country</th>\n",
       "      <th>Time</th>\n",
       "      <th>NEET</th>\n",
       "      <th>Exp_LMP</th>\n",
       "      <th>Exp_LMP_2</th>\n",
       "    </tr>\n",
       "  </thead>\n",
       "  <tbody>\n",
       "    <tr>\n",
       "      <td>0</td>\n",
       "      <td>AUS</td>\n",
       "      <td>1997</td>\n",
       "      <td>16.034595</td>\n",
       "      <td>NaN</td>\n",
       "      <td>NaN</td>\n",
       "    </tr>\n",
       "    <tr>\n",
       "      <td>1</td>\n",
       "      <td>AUS</td>\n",
       "      <td>1998</td>\n",
       "      <td>14.880802</td>\n",
       "      <td>NaN</td>\n",
       "      <td>NaN</td>\n",
       "    </tr>\n",
       "    <tr>\n",
       "      <td>2</td>\n",
       "      <td>AUS</td>\n",
       "      <td>1999</td>\n",
       "      <td>13.637552</td>\n",
       "      <td>NaN</td>\n",
       "      <td>NaN</td>\n",
       "    </tr>\n",
       "    <tr>\n",
       "      <td>3</td>\n",
       "      <td>AUS</td>\n",
       "      <td>2000</td>\n",
       "      <td>13.192960</td>\n",
       "      <td>NaN</td>\n",
       "      <td>NaN</td>\n",
       "    </tr>\n",
       "    <tr>\n",
       "      <td>4</td>\n",
       "      <td>AUS</td>\n",
       "      <td>2001</td>\n",
       "      <td>12.979000</td>\n",
       "      <td>NaN</td>\n",
       "      <td>NaN</td>\n",
       "    </tr>\n",
       "    <tr>\n",
       "      <td>...</td>\n",
       "      <td>...</td>\n",
       "      <td>...</td>\n",
       "      <td>...</td>\n",
       "      <td>...</td>\n",
       "      <td>...</td>\n",
       "    </tr>\n",
       "    <tr>\n",
       "      <td>691</td>\n",
       "      <td>LTU</td>\n",
       "      <td>2015</td>\n",
       "      <td>13.743647</td>\n",
       "      <td>0.53</td>\n",
       "      <td>0.2809</td>\n",
       "    </tr>\n",
       "    <tr>\n",
       "      <td>692</td>\n",
       "      <td>LTU</td>\n",
       "      <td>2016</td>\n",
       "      <td>11.403278</td>\n",
       "      <td>0.51</td>\n",
       "      <td>0.2601</td>\n",
       "    </tr>\n",
       "    <tr>\n",
       "      <td>693</td>\n",
       "      <td>LTU</td>\n",
       "      <td>2017</td>\n",
       "      <td>11.220660</td>\n",
       "      <td>0.54</td>\n",
       "      <td>0.2916</td>\n",
       "    </tr>\n",
       "    <tr>\n",
       "      <td>694</td>\n",
       "      <td>LTU</td>\n",
       "      <td>2018</td>\n",
       "      <td>10.495108</td>\n",
       "      <td>0.66</td>\n",
       "      <td>0.4356</td>\n",
       "    </tr>\n",
       "    <tr>\n",
       "      <td>695</td>\n",
       "      <td>LTU</td>\n",
       "      <td>2019</td>\n",
       "      <td>11.309205</td>\n",
       "      <td>NaN</td>\n",
       "      <td>NaN</td>\n",
       "    </tr>\n",
       "  </tbody>\n",
       "</table>\n",
       "<p>696 rows × 5 columns</p>\n",
       "</div>"
      ],
      "text/plain": [
       "    Country  Time       NEET  Exp_LMP  Exp_LMP_2\n",
       "0       AUS  1997  16.034595      NaN        NaN\n",
       "1       AUS  1998  14.880802      NaN        NaN\n",
       "2       AUS  1999  13.637552      NaN        NaN\n",
       "3       AUS  2000  13.192960      NaN        NaN\n",
       "4       AUS  2001  12.979000      NaN        NaN\n",
       "..      ...   ...        ...      ...        ...\n",
       "691     LTU  2015  13.743647     0.53     0.2809\n",
       "692     LTU  2016  11.403278     0.51     0.2601\n",
       "693     LTU  2017  11.220660     0.54     0.2916\n",
       "694     LTU  2018  10.495108     0.66     0.4356\n",
       "695     LTU  2019  11.309205      NaN        NaN\n",
       "\n",
       "[696 rows x 5 columns]"
      ]
     },
     "execution_count": 89,
     "metadata": {},
     "output_type": "execute_result"
    }
   ],
   "source": [
    "df"
   ]
  },
  {
   "cell_type": "markdown",
   "metadata": {},
   "source": [
    "## Looking at STR"
   ]
  },
  {
   "cell_type": "markdown",
   "metadata": {},
   "source": [
    "### Preparing the dataset"
   ]
  },
  {
   "cell_type": "code",
   "execution_count": 92,
   "metadata": {},
   "outputs": [],
   "source": [
    "STR = pd.read_csv('./data/education_system/student_teacher_ratio.csv')\n",
    "STR = STR[['COUNTRY','ISC11_LEVEL_CAT','Year','Value']]\n",
    "STR_L1 = STR[STR.ISC11_LEVEL_CAT == 'L1'].drop('ISC11_LEVEL_CAT',axis=1).reset_index(drop=True)"
   ]
  },
  {
   "cell_type": "code",
   "execution_count": 94,
   "metadata": {},
   "outputs": [],
   "source": [
    "STR_L1.columns = ['Country', 'Time', 'STR']"
   ]
  },
  {
   "cell_type": "code",
   "execution_count": 95,
   "metadata": {},
   "outputs": [
    {
     "data": {
      "text/html": [
       "<div>\n",
       "<style scoped>\n",
       "    .dataframe tbody tr th:only-of-type {\n",
       "        vertical-align: middle;\n",
       "    }\n",
       "\n",
       "    .dataframe tbody tr th {\n",
       "        vertical-align: top;\n",
       "    }\n",
       "\n",
       "    .dataframe thead th {\n",
       "        text-align: right;\n",
       "    }\n",
       "</style>\n",
       "<table border=\"1\" class=\"dataframe\">\n",
       "  <thead>\n",
       "    <tr style=\"text-align: right;\">\n",
       "      <th></th>\n",
       "      <th>Country</th>\n",
       "      <th>Time</th>\n",
       "      <th>STR</th>\n",
       "    </tr>\n",
       "  </thead>\n",
       "  <tbody>\n",
       "    <tr>\n",
       "      <td>0</td>\n",
       "      <td>AUS</td>\n",
       "      <td>2013</td>\n",
       "      <td>15.615</td>\n",
       "    </tr>\n",
       "    <tr>\n",
       "      <td>1</td>\n",
       "      <td>AUS</td>\n",
       "      <td>2014</td>\n",
       "      <td>15.612</td>\n",
       "    </tr>\n",
       "    <tr>\n",
       "      <td>2</td>\n",
       "      <td>AUS</td>\n",
       "      <td>2015</td>\n",
       "      <td>15.433</td>\n",
       "    </tr>\n",
       "    <tr>\n",
       "      <td>3</td>\n",
       "      <td>AUS</td>\n",
       "      <td>2016</td>\n",
       "      <td>15.168</td>\n",
       "    </tr>\n",
       "    <tr>\n",
       "      <td>4</td>\n",
       "      <td>AUS</td>\n",
       "      <td>2017</td>\n",
       "      <td>15.124</td>\n",
       "    </tr>\n",
       "    <tr>\n",
       "      <td>...</td>\n",
       "      <td>...</td>\n",
       "      <td>...</td>\n",
       "      <td>...</td>\n",
       "    </tr>\n",
       "    <tr>\n",
       "      <td>228</td>\n",
       "      <td>SVN</td>\n",
       "      <td>2014</td>\n",
       "      <td>15.862</td>\n",
       "    </tr>\n",
       "    <tr>\n",
       "      <td>229</td>\n",
       "      <td>SVN</td>\n",
       "      <td>2015</td>\n",
       "      <td>15.888</td>\n",
       "    </tr>\n",
       "    <tr>\n",
       "      <td>230</td>\n",
       "      <td>SVN</td>\n",
       "      <td>2016</td>\n",
       "      <td>14.282</td>\n",
       "    </tr>\n",
       "    <tr>\n",
       "      <td>231</td>\n",
       "      <td>SVN</td>\n",
       "      <td>2017</td>\n",
       "      <td>14.450</td>\n",
       "    </tr>\n",
       "    <tr>\n",
       "      <td>232</td>\n",
       "      <td>SVN</td>\n",
       "      <td>2018</td>\n",
       "      <td>10.341</td>\n",
       "    </tr>\n",
       "  </tbody>\n",
       "</table>\n",
       "<p>233 rows × 3 columns</p>\n",
       "</div>"
      ],
      "text/plain": [
       "    Country  Time     STR\n",
       "0       AUS  2013  15.615\n",
       "1       AUS  2014  15.612\n",
       "2       AUS  2015  15.433\n",
       "3       AUS  2016  15.168\n",
       "4       AUS  2017  15.124\n",
       "..      ...   ...     ...\n",
       "228     SVN  2014  15.862\n",
       "229     SVN  2015  15.888\n",
       "230     SVN  2016  14.282\n",
       "231     SVN  2017  14.450\n",
       "232     SVN  2018  10.341\n",
       "\n",
       "[233 rows x 3 columns]"
      ]
     },
     "execution_count": 95,
     "metadata": {},
     "output_type": "execute_result"
    }
   ],
   "source": [
    "STR_L1"
   ]
  },
  {
   "cell_type": "markdown",
   "metadata": {},
   "source": [
    "### Adding the values to the DF"
   ]
  },
  {
   "cell_type": "code",
   "execution_count": 96,
   "metadata": {},
   "outputs": [],
   "source": [
    "list_value=[]\n",
    "for el in df.itertuples():\n",
    "    country,time = el[1],el[2]\n",
    "    tmp = STR_L1[(STR_L1.Country==country)&(STR_L1.Time==time)]\n",
    "    if len(tmp.index)==0:\n",
    "        list_value.append(None)\n",
    "    else:\n",
    "        list_value.append(tmp.STR.values[0])\n",
    "df['STR']= list_value\n",
    "df['STR_2']=df['STR']**2\n",
    "df['STR_3']=df['STR']**3"
   ]
  },
  {
   "cell_type": "markdown",
   "metadata": {},
   "source": [
    "## Looking at economic features"
   ]
  },
  {
   "cell_type": "markdown",
   "metadata": {},
   "source": [
    "### GDP and LogGDP"
   ]
  },
  {
   "cell_type": "code",
   "execution_count": 101,
   "metadata": {},
   "outputs": [],
   "source": [
    "gdp_per_person = pd.read_csv('./data/economic_features/GDP_per_capita.csv', sep=';')\n",
    "gdp_per_person_oecd = pd.DataFrame(columns=gdp_per_person.columns)\n",
    "for code in oecd_countries.keys():\n",
    "    gdp_per_person_oecd = gdp_per_person_oecd.append(gdp_per_person[gdp_per_person['Country Code']==code])\n",
    "gdp_2015_oecd = gdp_per_person_oecd[['Country Code', '2015']]\n",
    "gdp_2017_oecd = gdp_per_person_oecd[['Country Code', '2017']]\n",
    "gdp_1960_2019_oecd_full = gdp_per_person_oecd.drop(['Country Name', 'Indicator Name', 'Indicator Code'], axis=1).reset_index(drop=True)\n",
    "\n",
    "gdp_1960_2019_oecd = pd.DataFrame(columns=['Country', 'Time', 'GDP'])\n",
    "for i in range(len(gdp_1960_2019_oecd_full)):\n",
    "    country = gdp_1960_2019_oecd_full.iloc[i][0]\n",
    "    for j in range(1,len(gdp_1960_2019_oecd_full.columns)):\n",
    "        year = gdp_1960_2019_oecd_full.columns[j]\n",
    "        gdp = gdp_1960_2019_oecd_full.iloc[i][j]\n",
    "        gdp_1960_2019_oecd = gdp_1960_2019_oecd.append({'Country': country, 'Time': int(year), 'GDP': gdp}, ignore_index=True)\n",
    "    gdp_1960_2019_oecd = gdp_1960_2019_oecd.dropna()"
   ]
  },
  {
   "cell_type": "code",
   "execution_count": 105,
   "metadata": {},
   "outputs": [],
   "source": [
    "list_value=[]\n",
    "for el in df.itertuples():\n",
    "    country,time = el[1],el[2]\n",
    "    tmp = gdp_1960_2019_oecd[(gdp_1960_2019_oecd.Country==country)&(gdp_1960_2019_oecd.Time==time)]\n",
    "    if len(tmp.index)==0:\n",
    "        list_value.append(None)\n",
    "    else:\n",
    "        list_value.append(tmp.GDP.values[0])\n",
    "df['GDP']= list_value\n",
    "df['LogGDP']=np.log(df['GDP'])"
   ]
  },
  {
   "cell_type": "markdown",
   "metadata": {},
   "source": [
    "### CPI"
   ]
  },
  {
   "cell_type": "code",
   "execution_count": 107,
   "metadata": {},
   "outputs": [],
   "source": [
    "cpi_2000_2019 = pd.read_csv('./data/economic_features/CPI_2000_2019.csv')\n",
    "cpi_2000_2019 = cpi_2000_2019[['LOCATION', 'TIME', 'Value']]\n",
    "cpi_2000_2019.columns = ['Country', 'Time', 'CPI']"
   ]
  },
  {
   "cell_type": "code",
   "execution_count": 111,
   "metadata": {},
   "outputs": [],
   "source": [
    "list_value=[]\n",
    "for el in df.itertuples():\n",
    "    country,time = el[1],el[2]\n",
    "    tmp = cpi_2000_2019[(cpi_2000_2019.Country==country)&(cpi_2000_2019.Time==time)]\n",
    "    if len(tmp.index)==0:\n",
    "        list_value.append(None)\n",
    "    else:\n",
    "        list_value.append(tmp.CPI.values[0])\n",
    "df['CPI']= list_value"
   ]
  },
  {
   "cell_type": "markdown",
   "metadata": {},
   "source": [
    "### DEBT"
   ]
  },
  {
   "cell_type": "code",
   "execution_count": 109,
   "metadata": {},
   "outputs": [],
   "source": [
    "debt_2000_2019 = pd.read_csv('./data/economic_features/DEBT_2000_2019.csv')\n",
    "debt_2000_2019 = debt_2000_2019[['LOCATION', 'TIME', 'Value']]\n",
    "debt_2000_2019.columns = ['Country', 'Time', 'DEBT']"
   ]
  },
  {
   "cell_type": "code",
   "execution_count": 112,
   "metadata": {},
   "outputs": [],
   "source": [
    "list_value=[]\n",
    "for el in df.itertuples():\n",
    "    country,time = el[1],el[2]\n",
    "    tmp = debt_2000_2019[(debt_2000_2019.Country==country)&(debt_2000_2019.Time==time)]\n",
    "    if len(tmp.index)==0:\n",
    "        list_value.append(None)\n",
    "    else:\n",
    "        list_value.append(tmp.DEBT.values[0])\n",
    "df['DEBT']= list_value"
   ]
  },
  {
   "cell_type": "markdown",
   "metadata": {},
   "source": [
    "## Looking at education features"
   ]
  },
  {
   "cell_type": "markdown",
   "metadata": {},
   "source": [
    "### Years of schooling"
   ]
  },
  {
   "cell_type": "code",
   "execution_count": 119,
   "metadata": {},
   "outputs": [],
   "source": [
    "years_schooling = pd.read_csv('./data/education_system/mean-years-of-schooling-world.csv')\n",
    "years_schooling=years_schooling.drop('Entity',axis=1)\n",
    "years_schooling.columns=['Country', 'Time', 'Years_schooling']"
   ]
  },
  {
   "cell_type": "code",
   "execution_count": 121,
   "metadata": {},
   "outputs": [],
   "source": [
    "list_value=[]\n",
    "for el in df.itertuples():\n",
    "    country,time = el[1],el[2]\n",
    "    tmp = years_schooling[(years_schooling.Country==country)&(years_schooling.Time==time)]\n",
    "    if len(tmp.index)==0:\n",
    "        list_value.append(None)\n",
    "    else:\n",
    "        list_value.append(tmp.Years_schooling.values[0])\n",
    "df['Years_schooling']= list_value"
   ]
  },
  {
   "cell_type": "markdown",
   "metadata": {},
   "source": [
    "### Average class size"
   ]
  },
  {
   "cell_type": "code",
   "execution_count": 131,
   "metadata": {},
   "outputs": [],
   "source": [
    "avg_class_size = pd.read_csv('./data/education_system/Avg_class_size_primary_education.csv')\n",
    "avg_class_size = avg_class_size[(avg_class_size.ISC11_LEVEL_CAT=='L1')&(avg_class_size.REF_SECTOR=='INST_T')&(avg_class_size.INDICATOR=='PERS_AVG_CLASS')]\n",
    "avg_class_size = avg_class_size[['COUNTRY','Year','Value']]\n",
    "avg_class_size.columns = ['Country', 'Time', 'Avg_class_size']"
   ]
  },
  {
   "cell_type": "code",
   "execution_count": 133,
   "metadata": {},
   "outputs": [],
   "source": [
    "list_value=[]\n",
    "for el in df.itertuples():\n",
    "    country,time = el[1],el[2]\n",
    "    tmp = avg_class_size[(avg_class_size.Country==country)&(avg_class_size.Time==time)]\n",
    "    if len(tmp.index)==0:\n",
    "        list_value.append(None)\n",
    "    else:\n",
    "        list_value.append(tmp.Avg_class_size.values[0])\n",
    "df['Avg_class_size']= list_value"
   ]
  },
  {
   "cell_type": "markdown",
   "metadata": {},
   "source": [
    "### Expenditure on education"
   ]
  },
  {
   "cell_type": "code",
   "execution_count": 157,
   "metadata": {},
   "outputs": [],
   "source": [
    "spendings_educ = pd.read_csv('./data/education_system/spendings_in_education.csv')\n",
    "spendings_educ = spendings_educ[(spendings_educ.ISC11=='L1')& (spendings_educ.EXPENDITURE_TYPE=='T')]\n",
    "spendings_educ = spendings_educ[['COUNTRY', 'YEAR','Value']]\n",
    "spendings_educ.columns = ['Country', 'Time', 'Exp_educ']"
   ]
  },
  {
   "cell_type": "code",
   "execution_count": 158,
   "metadata": {},
   "outputs": [
    {
     "data": {
      "text/html": [
       "<div>\n",
       "<style scoped>\n",
       "    .dataframe tbody tr th:only-of-type {\n",
       "        vertical-align: middle;\n",
       "    }\n",
       "\n",
       "    .dataframe tbody tr th {\n",
       "        vertical-align: top;\n",
       "    }\n",
       "\n",
       "    .dataframe thead th {\n",
       "        text-align: right;\n",
       "    }\n",
       "</style>\n",
       "<table border=\"1\" class=\"dataframe\">\n",
       "  <thead>\n",
       "    <tr style=\"text-align: right;\">\n",
       "      <th></th>\n",
       "      <th>Country</th>\n",
       "      <th>Time</th>\n",
       "      <th>Exp_educ</th>\n",
       "    </tr>\n",
       "  </thead>\n",
       "  <tbody>\n",
       "    <tr>\n",
       "      <td>98</td>\n",
       "      <td>AUS</td>\n",
       "      <td>1995</td>\n",
       "      <td>NaN</td>\n",
       "    </tr>\n",
       "    <tr>\n",
       "      <td>99</td>\n",
       "      <td>AUS</td>\n",
       "      <td>2000</td>\n",
       "      <td>4549.9614</td>\n",
       "    </tr>\n",
       "    <tr>\n",
       "      <td>100</td>\n",
       "      <td>AUS</td>\n",
       "      <td>2005</td>\n",
       "      <td>6003.6421</td>\n",
       "    </tr>\n",
       "    <tr>\n",
       "      <td>101</td>\n",
       "      <td>AUS</td>\n",
       "      <td>2008</td>\n",
       "      <td>7103.9819</td>\n",
       "    </tr>\n",
       "    <tr>\n",
       "      <td>102</td>\n",
       "      <td>AUS</td>\n",
       "      <td>2009</td>\n",
       "      <td>8588.7402</td>\n",
       "    </tr>\n",
       "    <tr>\n",
       "      <td>...</td>\n",
       "      <td>...</td>\n",
       "      <td>...</td>\n",
       "      <td>...</td>\n",
       "    </tr>\n",
       "    <tr>\n",
       "      <td>14885</td>\n",
       "      <td>KOR</td>\n",
       "      <td>2014</td>\n",
       "      <td>NaN</td>\n",
       "    </tr>\n",
       "    <tr>\n",
       "      <td>14886</td>\n",
       "      <td>KOR</td>\n",
       "      <td>2015</td>\n",
       "      <td>NaN</td>\n",
       "    </tr>\n",
       "    <tr>\n",
       "      <td>14887</td>\n",
       "      <td>KOR</td>\n",
       "      <td>2016</td>\n",
       "      <td>11074.5190</td>\n",
       "    </tr>\n",
       "    <tr>\n",
       "      <td>14888</td>\n",
       "      <td>KOR</td>\n",
       "      <td>2017</td>\n",
       "      <td>11701.7900</td>\n",
       "    </tr>\n",
       "    <tr>\n",
       "      <td>14889</td>\n",
       "      <td>KOR</td>\n",
       "      <td>9999</td>\n",
       "      <td>11701.7900</td>\n",
       "    </tr>\n",
       "  </tbody>\n",
       "</table>\n",
       "<p>686 rows × 3 columns</p>\n",
       "</div>"
      ],
      "text/plain": [
       "      Country  Time    Exp_educ\n",
       "98        AUS  1995         NaN\n",
       "99        AUS  2000   4549.9614\n",
       "100       AUS  2005   6003.6421\n",
       "101       AUS  2008   7103.9819\n",
       "102       AUS  2009   8588.7402\n",
       "...       ...   ...         ...\n",
       "14885     KOR  2014         NaN\n",
       "14886     KOR  2015         NaN\n",
       "14887     KOR  2016  11074.5190\n",
       "14888     KOR  2017  11701.7900\n",
       "14889     KOR  9999  11701.7900\n",
       "\n",
       "[686 rows x 3 columns]"
      ]
     },
     "execution_count": 158,
     "metadata": {},
     "output_type": "execute_result"
    }
   ],
   "source": [
    "spendings_educ"
   ]
  },
  {
   "cell_type": "code",
   "execution_count": 162,
   "metadata": {},
   "outputs": [],
   "source": [
    "list_value=[]\n",
    "for el in df.itertuples():\n",
    "    country,time = el[1],el[2]\n",
    "    tmp = spendings_educ[(spendings_educ.Country==country)&(spendings_educ.Time==time)]\n",
    "    if len(tmp.index)==0:\n",
    "        list_value.append(None)\n",
    "    else:\n",
    "        list_value.append(tmp.Exp_educ.values[0])\n",
    "df['Exp_educ']= list_value\n",
    "\n",
    "df['LogExp_educ']= np.log(df['Exp_educ'],where=~np.isnan(np.array(df['Exp_educ'])))"
   ]
  },
  {
   "cell_type": "code",
   "execution_count": 164,
   "metadata": {},
   "outputs": [
    {
     "data": {
      "text/html": [
       "<div>\n",
       "<style scoped>\n",
       "    .dataframe tbody tr th:only-of-type {\n",
       "        vertical-align: middle;\n",
       "    }\n",
       "\n",
       "    .dataframe tbody tr th {\n",
       "        vertical-align: top;\n",
       "    }\n",
       "\n",
       "    .dataframe thead th {\n",
       "        text-align: right;\n",
       "    }\n",
       "</style>\n",
       "<table border=\"1\" class=\"dataframe\">\n",
       "  <thead>\n",
       "    <tr style=\"text-align: right;\">\n",
       "      <th></th>\n",
       "      <th>Country</th>\n",
       "      <th>Time</th>\n",
       "      <th>NEET</th>\n",
       "      <th>Exp_LMP</th>\n",
       "      <th>Exp_LMP_2</th>\n",
       "      <th>STR</th>\n",
       "      <th>STR_2</th>\n",
       "      <th>STR_3</th>\n",
       "      <th>GDP</th>\n",
       "      <th>LogGDP</th>\n",
       "      <th>CPI</th>\n",
       "      <th>DEBT</th>\n",
       "      <th>Years_schooling</th>\n",
       "      <th>Avg_class_size</th>\n",
       "      <th>Exp_educ</th>\n",
       "      <th>LogExp_educ</th>\n",
       "    </tr>\n",
       "  </thead>\n",
       "  <tbody>\n",
       "    <tr>\n",
       "      <td>16</td>\n",
       "      <td>AUS</td>\n",
       "      <td>2013</td>\n",
       "      <td>13.015899</td>\n",
       "      <td>0.87</td>\n",
       "      <td>0.7569</td>\n",
       "      <td>15.615</td>\n",
       "      <td>243.828225</td>\n",
       "      <td>3807.377733</td>\n",
       "      <td>68150.107041</td>\n",
       "      <td>11.129468</td>\n",
       "      <td>2.449889</td>\n",
       "      <td>55.70968</td>\n",
       "      <td>12.6</td>\n",
       "      <td>23.725</td>\n",
       "      <td>9241.9922</td>\n",
       "      <td>9.131513</td>\n",
       "    </tr>\n",
       "    <tr>\n",
       "      <td>17</td>\n",
       "      <td>AUS</td>\n",
       "      <td>2014</td>\n",
       "      <td>12.647472</td>\n",
       "      <td>0.93</td>\n",
       "      <td>0.8649</td>\n",
       "      <td>15.612</td>\n",
       "      <td>243.734544</td>\n",
       "      <td>3805.183701</td>\n",
       "      <td>62510.791171</td>\n",
       "      <td>11.043094</td>\n",
       "      <td>2.487923</td>\n",
       "      <td>61.36842</td>\n",
       "      <td>12.7</td>\n",
       "      <td>23.859</td>\n",
       "      <td>9257.9980</td>\n",
       "      <td>9.133243</td>\n",
       "    </tr>\n",
       "    <tr>\n",
       "      <td>18</td>\n",
       "      <td>AUS</td>\n",
       "      <td>2015</td>\n",
       "      <td>11.831610</td>\n",
       "      <td>0.91</td>\n",
       "      <td>0.8281</td>\n",
       "      <td>15.433</td>\n",
       "      <td>238.177489</td>\n",
       "      <td>3675.793188</td>\n",
       "      <td>56755.721712</td>\n",
       "      <td>10.946512</td>\n",
       "      <td>1.508367</td>\n",
       "      <td>64.18005</td>\n",
       "      <td>12.8</td>\n",
       "      <td>23.821</td>\n",
       "      <td>9524.7178</td>\n",
       "      <td>9.161646</td>\n",
       "    </tr>\n",
       "    <tr>\n",
       "      <td>19</td>\n",
       "      <td>AUS</td>\n",
       "      <td>2016</td>\n",
       "      <td>11.352150</td>\n",
       "      <td>0.86</td>\n",
       "      <td>0.7396</td>\n",
       "      <td>15.168</td>\n",
       "      <td>230.068224</td>\n",
       "      <td>3489.674822</td>\n",
       "      <td>49971.131456</td>\n",
       "      <td>10.819201</td>\n",
       "      <td>1.276991</td>\n",
       "      <td>68.39156</td>\n",
       "      <td>12.9</td>\n",
       "      <td>23.669</td>\n",
       "      <td>10022.5670</td>\n",
       "      <td>9.212595</td>\n",
       "    </tr>\n",
       "    <tr>\n",
       "      <td>20</td>\n",
       "      <td>AUS</td>\n",
       "      <td>2017</td>\n",
       "      <td>10.946128</td>\n",
       "      <td>0.85</td>\n",
       "      <td>0.7225</td>\n",
       "      <td>15.124</td>\n",
       "      <td>228.735376</td>\n",
       "      <td>3459.393827</td>\n",
       "      <td>54027.966818</td>\n",
       "      <td>10.897257</td>\n",
       "      <td>1.948647</td>\n",
       "      <td>65.60463</td>\n",
       "      <td>12.9</td>\n",
       "      <td>23.613</td>\n",
       "      <td>10238.4130</td>\n",
       "      <td>9.233902</td>\n",
       "    </tr>\n",
       "    <tr>\n",
       "      <td>...</td>\n",
       "      <td>...</td>\n",
       "      <td>...</td>\n",
       "      <td>...</td>\n",
       "      <td>...</td>\n",
       "      <td>...</td>\n",
       "      <td>...</td>\n",
       "      <td>...</td>\n",
       "      <td>...</td>\n",
       "      <td>...</td>\n",
       "      <td>...</td>\n",
       "      <td>...</td>\n",
       "      <td>...</td>\n",
       "      <td>...</td>\n",
       "      <td>...</td>\n",
       "      <td>...</td>\n",
       "      <td>...</td>\n",
       "    </tr>\n",
       "    <tr>\n",
       "      <td>675</td>\n",
       "      <td>SVN</td>\n",
       "      <td>2017</td>\n",
       "      <td>10.914832</td>\n",
       "      <td>0.68</td>\n",
       "      <td>0.4624</td>\n",
       "      <td>14.450</td>\n",
       "      <td>208.802500</td>\n",
       "      <td>3017.196125</td>\n",
       "      <td>23512.817267</td>\n",
       "      <td>10.065301</td>\n",
       "      <td>1.429107</td>\n",
       "      <td>88.92531</td>\n",
       "      <td>12.2</td>\n",
       "      <td>18.352</td>\n",
       "      <td>9061.8760</td>\n",
       "      <td>9.111831</td>\n",
       "    </tr>\n",
       "    <tr>\n",
       "      <td>690</td>\n",
       "      <td>LTU</td>\n",
       "      <td>2014</td>\n",
       "      <td>14.185811</td>\n",
       "      <td>0.43</td>\n",
       "      <td>0.1849</td>\n",
       "      <td>10.233</td>\n",
       "      <td>104.714289</td>\n",
       "      <td>1071.541319</td>\n",
       "      <td>16564.956549</td>\n",
       "      <td>9.715045</td>\n",
       "      <td>0.103758</td>\n",
       "      <td>52.58745</td>\n",
       "      <td>13.0</td>\n",
       "      <td>15.742</td>\n",
       "      <td>5288.8008</td>\n",
       "      <td>8.573347</td>\n",
       "    </tr>\n",
       "    <tr>\n",
       "      <td>691</td>\n",
       "      <td>LTU</td>\n",
       "      <td>2015</td>\n",
       "      <td>13.743647</td>\n",
       "      <td>0.53</td>\n",
       "      <td>0.2809</td>\n",
       "      <td>10.256</td>\n",
       "      <td>105.185536</td>\n",
       "      <td>1078.782857</td>\n",
       "      <td>14258.229335</td>\n",
       "      <td>9.565090</td>\n",
       "      <td>-0.884097</td>\n",
       "      <td>53.33852</td>\n",
       "      <td>13.0</td>\n",
       "      <td>15.976</td>\n",
       "      <td>5523.3896</td>\n",
       "      <td>8.616747</td>\n",
       "    </tr>\n",
       "    <tr>\n",
       "      <td>692</td>\n",
       "      <td>LTU</td>\n",
       "      <td>2016</td>\n",
       "      <td>11.403278</td>\n",
       "      <td>0.51</td>\n",
       "      <td>0.2601</td>\n",
       "      <td>10.470</td>\n",
       "      <td>109.620900</td>\n",
       "      <td>1147.730823</td>\n",
       "      <td>14998.125060</td>\n",
       "      <td>9.615680</td>\n",
       "      <td>0.905525</td>\n",
       "      <td>50.88945</td>\n",
       "      <td>13.0</td>\n",
       "      <td>16.247</td>\n",
       "      <td>6170.3911</td>\n",
       "      <td>8.727518</td>\n",
       "    </tr>\n",
       "    <tr>\n",
       "      <td>693</td>\n",
       "      <td>LTU</td>\n",
       "      <td>2017</td>\n",
       "      <td>11.220660</td>\n",
       "      <td>0.54</td>\n",
       "      <td>0.2916</td>\n",
       "      <td>10.619</td>\n",
       "      <td>112.763161</td>\n",
       "      <td>1197.432007</td>\n",
       "      <td>16885.407395</td>\n",
       "      <td>9.734205</td>\n",
       "      <td>3.722889</td>\n",
       "      <td>47.00182</td>\n",
       "      <td>13.0</td>\n",
       "      <td>16.945</td>\n",
       "      <td>6339.7036</td>\n",
       "      <td>8.754587</td>\n",
       "    </tr>\n",
       "  </tbody>\n",
       "</table>\n",
       "<p>98 rows × 16 columns</p>\n",
       "</div>"
      ],
      "text/plain": [
       "    Country  Time       NEET  Exp_LMP  Exp_LMP_2     STR       STR_2  \\\n",
       "16      AUS  2013  13.015899     0.87     0.7569  15.615  243.828225   \n",
       "17      AUS  2014  12.647472     0.93     0.8649  15.612  243.734544   \n",
       "18      AUS  2015  11.831610     0.91     0.8281  15.433  238.177489   \n",
       "19      AUS  2016  11.352150     0.86     0.7396  15.168  230.068224   \n",
       "20      AUS  2017  10.946128     0.85     0.7225  15.124  228.735376   \n",
       "..      ...   ...        ...      ...        ...     ...         ...   \n",
       "675     SVN  2017  10.914832     0.68     0.4624  14.450  208.802500   \n",
       "690     LTU  2014  14.185811     0.43     0.1849  10.233  104.714289   \n",
       "691     LTU  2015  13.743647     0.53     0.2809  10.256  105.185536   \n",
       "692     LTU  2016  11.403278     0.51     0.2601  10.470  109.620900   \n",
       "693     LTU  2017  11.220660     0.54     0.2916  10.619  112.763161   \n",
       "\n",
       "           STR_3           GDP     LogGDP       CPI      DEBT  \\\n",
       "16   3807.377733  68150.107041  11.129468  2.449889  55.70968   \n",
       "17   3805.183701  62510.791171  11.043094  2.487923  61.36842   \n",
       "18   3675.793188  56755.721712  10.946512  1.508367  64.18005   \n",
       "19   3489.674822  49971.131456  10.819201  1.276991  68.39156   \n",
       "20   3459.393827  54027.966818  10.897257  1.948647  65.60463   \n",
       "..           ...           ...        ...       ...       ...   \n",
       "675  3017.196125  23512.817267  10.065301  1.429107  88.92531   \n",
       "690  1071.541319  16564.956549   9.715045  0.103758  52.58745   \n",
       "691  1078.782857  14258.229335   9.565090 -0.884097  53.33852   \n",
       "692  1147.730823  14998.125060   9.615680  0.905525  50.88945   \n",
       "693  1197.432007  16885.407395   9.734205  3.722889  47.00182   \n",
       "\n",
       "     Years_schooling  Avg_class_size    Exp_educ  LogExp_educ  \n",
       "16              12.6          23.725   9241.9922     9.131513  \n",
       "17              12.7          23.859   9257.9980     9.133243  \n",
       "18              12.8          23.821   9524.7178     9.161646  \n",
       "19              12.9          23.669  10022.5670     9.212595  \n",
       "20              12.9          23.613  10238.4130     9.233902  \n",
       "..               ...             ...         ...          ...  \n",
       "675             12.2          18.352   9061.8760     9.111831  \n",
       "690             13.0          15.742   5288.8008     8.573347  \n",
       "691             13.0          15.976   5523.3896     8.616747  \n",
       "692             13.0          16.247   6170.3911     8.727518  \n",
       "693             13.0          16.945   6339.7036     8.754587  \n",
       "\n",
       "[98 rows x 16 columns]"
      ]
     },
     "execution_count": 164,
     "metadata": {},
     "output_type": "execute_result"
    }
   ],
   "source": [
    "df.dropna()"
   ]
  },
  {
   "cell_type": "code",
   "execution_count": null,
   "metadata": {},
   "outputs": [],
   "source": []
  }
 ],
 "metadata": {
  "kernelspec": {
   "display_name": "Python 3",
   "language": "python",
   "name": "python3"
  },
  "language_info": {
   "codemirror_mode": {
    "name": "ipython",
    "version": 3
   },
   "file_extension": ".py",
   "mimetype": "text/x-python",
   "name": "python",
   "nbconvert_exporter": "python",
   "pygments_lexer": "ipython3",
   "version": "3.7.4"
  },
  "toc": {
   "base_numbering": 1,
   "nav_menu": {},
   "number_sections": true,
   "sideBar": true,
   "skip_h1_title": false,
   "title_cell": "Table of Contents",
   "title_sidebar": "Contents",
   "toc_cell": false,
   "toc_position": {},
   "toc_section_display": true,
   "toc_window_display": false
  },
  "varInspector": {
   "cols": {
    "lenName": 16,
    "lenType": 16,
    "lenVar": 40
   },
   "kernels_config": {
    "python": {
     "delete_cmd_postfix": "",
     "delete_cmd_prefix": "del ",
     "library": "var_list.py",
     "varRefreshCmd": "print(var_dic_list())"
    },
    "r": {
     "delete_cmd_postfix": ") ",
     "delete_cmd_prefix": "rm(",
     "library": "var_list.r",
     "varRefreshCmd": "cat(var_dic_list()) "
    }
   },
   "types_to_exclude": [
    "module",
    "function",
    "builtin_function_or_method",
    "instance",
    "_Feature"
   ],
   "window_display": false
  }
 },
 "nbformat": 4,
 "nbformat_minor": 2
}

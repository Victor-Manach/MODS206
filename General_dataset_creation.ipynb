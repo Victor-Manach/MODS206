{
 "cells": [
  {
   "cell_type": "markdown",
   "metadata": {},
   "source": [
    "# Library importation"
   ]
  },
  {
   "cell_type": "code",
   "execution_count": 1,
   "metadata": {},
   "outputs": [],
   "source": [
    "import numpy as np\n",
    "import pandas as pd"
   ]
  },
  {
   "cell_type": "markdown",
   "metadata": {},
   "source": [
    "# Code for countries of OECD"
   ]
  },
  {
   "cell_type": "code",
   "execution_count": 2,
   "metadata": {},
   "outputs": [],
   "source": [
    "oecd_countries = {'AUS': 'Australia', 'AUT': 'Austria', 'BEL': 'Belgium', 'CAN': 'Canada', 'CHL': 'Chile', 'COL': 'Colombia', 'CZE': 'Czech Republic', 'DNK': 'Denmark', 'EST': 'Estonia', 'FIN': 'Finland', 'FRA': 'France', 'DEU': 'Germany', 'GRC': 'Greece', 'HUN': 'Hungary', 'ISL': 'Iceland', 'IRL': 'Ireland', 'ISR': 'Israel', 'ITA': 'Italy', 'JPN': 'Japan', 'KOR': 'Korea', 'LVA': 'Latvia', 'LTU': 'Lithuania', 'LUX': 'Luxembourg', 'MEX': 'Mexico', 'NLD': 'Netherlands', 'NZL': 'New Zealand', 'NOR': 'Norway', 'POL': 'Poland', 'PRT': 'Portugal', 'SVK': 'Slovakia', 'SVN': 'Slovenia', 'ESP': 'Spain', 'SWE': 'Sweden', 'CHE': 'Switzerland', 'TUR': 'Turkey', 'GBR': 'United Kingdom', 'USA': 'United States'}"
   ]
  },
  {
   "cell_type": "markdown",
   "metadata": {},
   "source": [
    "# Data importation"
   ]
  },
  {
   "cell_type": "markdown",
   "metadata": {},
   "source": [
    "## Starting with the NEET"
   ]
  },
  {
   "cell_type": "markdown",
   "metadata": {},
   "source": [
    "We select the neet corresponding from 15 to 29 yo and from OECD countries only and selecting all the years"
   ]
  },
  {
   "cell_type": "code",
   "execution_count": 3,
   "metadata": {},
   "outputs": [],
   "source": [
    "df = pd.read_csv('./data/education_system/NEET_men_women_altogether.csv')\n",
    "df = df[(df.SUBJECT=='15_29')].drop(['INDICATOR','SUBJECT','MEASURE','FREQUENCY','Flag Codes'],axis=1)\n",
    "df = df[(df.LOCATION).isin(oecd_countries.keys())]\n",
    "df = df.reset_index(drop=True)"
   ]
  },
  {
   "cell_type": "code",
   "execution_count": 4,
   "metadata": {},
   "outputs": [],
   "source": [
    "df.columns = ['Country','Time','NEET']"
   ]
  },
  {
   "cell_type": "markdown",
   "metadata": {},
   "source": [
    "## Looking at Expenditure on LMP"
   ]
  },
  {
   "cell_type": "markdown",
   "metadata": {},
   "source": [
    "### Preparing the dataframe"
   ]
  },
  {
   "cell_type": "code",
   "execution_count": 5,
   "metadata": {},
   "outputs": [],
   "source": [
    "exp_lmp = pd.read_csv('./data/labour_market/public_exp_LMP.csv')\n",
    "exp_lmp = exp_lmp[['LFS_COUNTRY','PROG','Time','Value']]\n",
    "exp_lmp = exp_lmp[exp_lmp.PROG == 100].drop('PROG',axis=1).reset_index(drop=True)"
   ]
  },
  {
   "cell_type": "code",
   "execution_count": 6,
   "metadata": {},
   "outputs": [],
   "source": [
    "exp_lmp.columns=['Country', 'Time', 'Exp_LMP']"
   ]
  },
  {
   "cell_type": "code",
   "execution_count": 7,
   "metadata": {},
   "outputs": [
    {
     "data": {
      "text/plain": [
       "pandas.core.series.Series"
      ]
     },
     "execution_count": 7,
     "metadata": {},
     "output_type": "execute_result"
    }
   ],
   "source": [
    "type(exp_lmp['Time'])"
   ]
  },
  {
   "cell_type": "markdown",
   "metadata": {},
   "source": [
    "### Adding the values to the DF"
   ]
  },
  {
   "cell_type": "code",
   "execution_count": 8,
   "metadata": {},
   "outputs": [],
   "source": [
    "list_value=[]\n",
    "for el in df.itertuples():\n",
    "    country,time = el[1],el[2]\n",
    "    tmp = exp_lmp[(exp_lmp.Country==country)&(exp_lmp.Time==time)]\n",
    "    if len(tmp.index)==0:\n",
    "        list_value.append(None)\n",
    "    else:\n",
    "        list_value.append(tmp.Exp_LMP.values[0])\n",
    "df['Exp_LMP']= list_value\n",
    "df['Exp_LMP_2']=df['Exp_LMP']**2"
   ]
  },
  {
   "cell_type": "code",
   "execution_count": 9,
   "metadata": {},
   "outputs": [
    {
     "data": {
      "text/html": [
       "<div>\n",
       "<style scoped>\n",
       "    .dataframe tbody tr th:only-of-type {\n",
       "        vertical-align: middle;\n",
       "    }\n",
       "\n",
       "    .dataframe tbody tr th {\n",
       "        vertical-align: top;\n",
       "    }\n",
       "\n",
       "    .dataframe thead th {\n",
       "        text-align: right;\n",
       "    }\n",
       "</style>\n",
       "<table border=\"1\" class=\"dataframe\">\n",
       "  <thead>\n",
       "    <tr style=\"text-align: right;\">\n",
       "      <th></th>\n",
       "      <th>Country</th>\n",
       "      <th>Time</th>\n",
       "      <th>NEET</th>\n",
       "      <th>Exp_LMP</th>\n",
       "      <th>Exp_LMP_2</th>\n",
       "    </tr>\n",
       "  </thead>\n",
       "  <tbody>\n",
       "    <tr>\n",
       "      <td>0</td>\n",
       "      <td>AUS</td>\n",
       "      <td>1997</td>\n",
       "      <td>16.034595</td>\n",
       "      <td>NaN</td>\n",
       "      <td>NaN</td>\n",
       "    </tr>\n",
       "    <tr>\n",
       "      <td>1</td>\n",
       "      <td>AUS</td>\n",
       "      <td>1998</td>\n",
       "      <td>14.880802</td>\n",
       "      <td>NaN</td>\n",
       "      <td>NaN</td>\n",
       "    </tr>\n",
       "    <tr>\n",
       "      <td>2</td>\n",
       "      <td>AUS</td>\n",
       "      <td>1999</td>\n",
       "      <td>13.637552</td>\n",
       "      <td>NaN</td>\n",
       "      <td>NaN</td>\n",
       "    </tr>\n",
       "    <tr>\n",
       "      <td>3</td>\n",
       "      <td>AUS</td>\n",
       "      <td>2000</td>\n",
       "      <td>13.192960</td>\n",
       "      <td>NaN</td>\n",
       "      <td>NaN</td>\n",
       "    </tr>\n",
       "    <tr>\n",
       "      <td>4</td>\n",
       "      <td>AUS</td>\n",
       "      <td>2001</td>\n",
       "      <td>12.979000</td>\n",
       "      <td>NaN</td>\n",
       "      <td>NaN</td>\n",
       "    </tr>\n",
       "    <tr>\n",
       "      <td>...</td>\n",
       "      <td>...</td>\n",
       "      <td>...</td>\n",
       "      <td>...</td>\n",
       "      <td>...</td>\n",
       "      <td>...</td>\n",
       "    </tr>\n",
       "    <tr>\n",
       "      <td>691</td>\n",
       "      <td>LTU</td>\n",
       "      <td>2015</td>\n",
       "      <td>13.743647</td>\n",
       "      <td>0.53</td>\n",
       "      <td>0.2809</td>\n",
       "    </tr>\n",
       "    <tr>\n",
       "      <td>692</td>\n",
       "      <td>LTU</td>\n",
       "      <td>2016</td>\n",
       "      <td>11.403278</td>\n",
       "      <td>0.51</td>\n",
       "      <td>0.2601</td>\n",
       "    </tr>\n",
       "    <tr>\n",
       "      <td>693</td>\n",
       "      <td>LTU</td>\n",
       "      <td>2017</td>\n",
       "      <td>11.220660</td>\n",
       "      <td>0.54</td>\n",
       "      <td>0.2916</td>\n",
       "    </tr>\n",
       "    <tr>\n",
       "      <td>694</td>\n",
       "      <td>LTU</td>\n",
       "      <td>2018</td>\n",
       "      <td>10.495108</td>\n",
       "      <td>0.66</td>\n",
       "      <td>0.4356</td>\n",
       "    </tr>\n",
       "    <tr>\n",
       "      <td>695</td>\n",
       "      <td>LTU</td>\n",
       "      <td>2019</td>\n",
       "      <td>11.309205</td>\n",
       "      <td>NaN</td>\n",
       "      <td>NaN</td>\n",
       "    </tr>\n",
       "  </tbody>\n",
       "</table>\n",
       "<p>696 rows × 5 columns</p>\n",
       "</div>"
      ],
      "text/plain": [
       "    Country  Time       NEET  Exp_LMP  Exp_LMP_2\n",
       "0       AUS  1997  16.034595      NaN        NaN\n",
       "1       AUS  1998  14.880802      NaN        NaN\n",
       "2       AUS  1999  13.637552      NaN        NaN\n",
       "3       AUS  2000  13.192960      NaN        NaN\n",
       "4       AUS  2001  12.979000      NaN        NaN\n",
       "..      ...   ...        ...      ...        ...\n",
       "691     LTU  2015  13.743647     0.53     0.2809\n",
       "692     LTU  2016  11.403278     0.51     0.2601\n",
       "693     LTU  2017  11.220660     0.54     0.2916\n",
       "694     LTU  2018  10.495108     0.66     0.4356\n",
       "695     LTU  2019  11.309205      NaN        NaN\n",
       "\n",
       "[696 rows x 5 columns]"
      ]
     },
     "execution_count": 9,
     "metadata": {},
     "output_type": "execute_result"
    }
   ],
   "source": [
    "df"
   ]
  },
  {
   "cell_type": "markdown",
   "metadata": {},
   "source": [
    "## Looking at STR"
   ]
  },
  {
   "cell_type": "markdown",
   "metadata": {},
   "source": [
    "### Preparing the dataset"
   ]
  },
  {
   "cell_type": "code",
   "execution_count": 10,
   "metadata": {},
   "outputs": [],
   "source": [
    "STR = pd.read_csv('./data/education_system/student_teacher_ratio.csv')\n",
    "STR = STR[['COUNTRY','ISC11_LEVEL_CAT','Year','Value']]\n",
    "STR_L1 = STR[STR.ISC11_LEVEL_CAT == 'L1'].drop('ISC11_LEVEL_CAT',axis=1).reset_index(drop=True)"
   ]
  },
  {
   "cell_type": "code",
   "execution_count": 11,
   "metadata": {},
   "outputs": [],
   "source": [
    "STR_L1.columns = ['Country', 'Time', 'STR']"
   ]
  },
  {
   "cell_type": "code",
   "execution_count": 12,
   "metadata": {},
   "outputs": [
    {
     "data": {
      "text/html": [
       "<div>\n",
       "<style scoped>\n",
       "    .dataframe tbody tr th:only-of-type {\n",
       "        vertical-align: middle;\n",
       "    }\n",
       "\n",
       "    .dataframe tbody tr th {\n",
       "        vertical-align: top;\n",
       "    }\n",
       "\n",
       "    .dataframe thead th {\n",
       "        text-align: right;\n",
       "    }\n",
       "</style>\n",
       "<table border=\"1\" class=\"dataframe\">\n",
       "  <thead>\n",
       "    <tr style=\"text-align: right;\">\n",
       "      <th></th>\n",
       "      <th>Country</th>\n",
       "      <th>Time</th>\n",
       "      <th>STR</th>\n",
       "    </tr>\n",
       "  </thead>\n",
       "  <tbody>\n",
       "    <tr>\n",
       "      <td>0</td>\n",
       "      <td>AUS</td>\n",
       "      <td>2013</td>\n",
       "      <td>15.615</td>\n",
       "    </tr>\n",
       "    <tr>\n",
       "      <td>1</td>\n",
       "      <td>AUS</td>\n",
       "      <td>2014</td>\n",
       "      <td>15.612</td>\n",
       "    </tr>\n",
       "    <tr>\n",
       "      <td>2</td>\n",
       "      <td>AUS</td>\n",
       "      <td>2015</td>\n",
       "      <td>15.433</td>\n",
       "    </tr>\n",
       "    <tr>\n",
       "      <td>3</td>\n",
       "      <td>AUS</td>\n",
       "      <td>2016</td>\n",
       "      <td>15.168</td>\n",
       "    </tr>\n",
       "    <tr>\n",
       "      <td>4</td>\n",
       "      <td>AUS</td>\n",
       "      <td>2017</td>\n",
       "      <td>15.124</td>\n",
       "    </tr>\n",
       "    <tr>\n",
       "      <td>...</td>\n",
       "      <td>...</td>\n",
       "      <td>...</td>\n",
       "      <td>...</td>\n",
       "    </tr>\n",
       "    <tr>\n",
       "      <td>228</td>\n",
       "      <td>SVN</td>\n",
       "      <td>2014</td>\n",
       "      <td>15.862</td>\n",
       "    </tr>\n",
       "    <tr>\n",
       "      <td>229</td>\n",
       "      <td>SVN</td>\n",
       "      <td>2015</td>\n",
       "      <td>15.888</td>\n",
       "    </tr>\n",
       "    <tr>\n",
       "      <td>230</td>\n",
       "      <td>SVN</td>\n",
       "      <td>2016</td>\n",
       "      <td>14.282</td>\n",
       "    </tr>\n",
       "    <tr>\n",
       "      <td>231</td>\n",
       "      <td>SVN</td>\n",
       "      <td>2017</td>\n",
       "      <td>14.450</td>\n",
       "    </tr>\n",
       "    <tr>\n",
       "      <td>232</td>\n",
       "      <td>SVN</td>\n",
       "      <td>2018</td>\n",
       "      <td>10.341</td>\n",
       "    </tr>\n",
       "  </tbody>\n",
       "</table>\n",
       "<p>233 rows × 3 columns</p>\n",
       "</div>"
      ],
      "text/plain": [
       "    Country  Time     STR\n",
       "0       AUS  2013  15.615\n",
       "1       AUS  2014  15.612\n",
       "2       AUS  2015  15.433\n",
       "3       AUS  2016  15.168\n",
       "4       AUS  2017  15.124\n",
       "..      ...   ...     ...\n",
       "228     SVN  2014  15.862\n",
       "229     SVN  2015  15.888\n",
       "230     SVN  2016  14.282\n",
       "231     SVN  2017  14.450\n",
       "232     SVN  2018  10.341\n",
       "\n",
       "[233 rows x 3 columns]"
      ]
     },
     "execution_count": 12,
     "metadata": {},
     "output_type": "execute_result"
    }
   ],
   "source": [
    "STR_L1"
   ]
  },
  {
   "cell_type": "markdown",
   "metadata": {},
   "source": [
    "### Adding the values to the DF"
   ]
  },
  {
   "cell_type": "code",
   "execution_count": 13,
   "metadata": {},
   "outputs": [],
   "source": [
    "list_value=[]\n",
    "for el in df.itertuples():\n",
    "    country,time = el[1],el[2]\n",
    "    tmp = STR_L1[(STR_L1.Country==country)&(STR_L1.Time==time)]\n",
    "    if len(tmp.index)==0:\n",
    "        list_value.append(None)\n",
    "    else:\n",
    "        list_value.append(tmp.STR.values[0])\n",
    "df['STR']= list_value\n",
    "df['STR_2']=df['STR']**2\n",
    "df['STR_3']=df['STR']**3"
   ]
  },
  {
   "cell_type": "markdown",
   "metadata": {},
   "source": [
    "## Looking at economic features"
   ]
  },
  {
   "cell_type": "markdown",
   "metadata": {},
   "source": [
    "### GDP and LogGDP"
   ]
  },
  {
   "cell_type": "code",
   "execution_count": 14,
   "metadata": {},
   "outputs": [],
   "source": [
    "gdp_per_person = pd.read_csv('./data/economic_features/GDP_per_capita.csv', sep=';')\n",
    "gdp_per_person_oecd = pd.DataFrame(columns=gdp_per_person.columns)\n",
    "for code in oecd_countries.keys():\n",
    "    gdp_per_person_oecd = gdp_per_person_oecd.append(gdp_per_person[gdp_per_person['Country Code']==code])\n",
    "gdp_2015_oecd = gdp_per_person_oecd[['Country Code', '2015']]\n",
    "gdp_2017_oecd = gdp_per_person_oecd[['Country Code', '2017']]\n",
    "gdp_1960_2019_oecd_full = gdp_per_person_oecd.drop(['Country Name', 'Indicator Name', 'Indicator Code'], axis=1).reset_index(drop=True)\n",
    "\n",
    "gdp_1960_2019_oecd = pd.DataFrame(columns=['Country', 'Time', 'GDP'])\n",
    "for i in range(len(gdp_1960_2019_oecd_full)):\n",
    "    country = gdp_1960_2019_oecd_full.iloc[i][0]\n",
    "    for j in range(1,len(gdp_1960_2019_oecd_full.columns)):\n",
    "        year = gdp_1960_2019_oecd_full.columns[j]\n",
    "        gdp = gdp_1960_2019_oecd_full.iloc[i][j]\n",
    "        gdp_1960_2019_oecd = gdp_1960_2019_oecd.append({'Country': country, 'Time': int(year), 'GDP': gdp}, ignore_index=True)\n",
    "    gdp_1960_2019_oecd = gdp_1960_2019_oecd.dropna()"
   ]
  },
  {
   "cell_type": "code",
   "execution_count": 15,
   "metadata": {},
   "outputs": [],
   "source": [
    "list_value=[]\n",
    "for el in df.itertuples():\n",
    "    country,time = el[1],el[2]\n",
    "    tmp = gdp_1960_2019_oecd[(gdp_1960_2019_oecd.Country==country)&(gdp_1960_2019_oecd.Time==time)]\n",
    "    if len(tmp.index)==0:\n",
    "        list_value.append(None)\n",
    "    else:\n",
    "        list_value.append(tmp.GDP.values[0])\n",
    "df['GDP']= list_value\n",
    "df['LogGDP']=np.log(df['GDP'])"
   ]
  },
  {
   "cell_type": "markdown",
   "metadata": {},
   "source": [
    "### CPI"
   ]
  },
  {
   "cell_type": "code",
   "execution_count": 16,
   "metadata": {},
   "outputs": [],
   "source": [
    "cpi_2000_2019 = pd.read_csv('./data/economic_features/CPI_2000_2019.csv')\n",
    "cpi_2000_2019 = cpi_2000_2019[['LOCATION', 'TIME', 'Value']]\n",
    "cpi_2000_2019.columns = ['Country', 'Time', 'CPI']"
   ]
  },
  {
   "cell_type": "code",
   "execution_count": 17,
   "metadata": {},
   "outputs": [],
   "source": [
    "list_value=[]\n",
    "for el in df.itertuples():\n",
    "    country,time = el[1],el[2]\n",
    "    tmp = cpi_2000_2019[(cpi_2000_2019.Country==country)&(cpi_2000_2019.Time==time)]\n",
    "    if len(tmp.index)==0:\n",
    "        list_value.append(None)\n",
    "    else:\n",
    "        list_value.append(tmp.CPI.values[0])\n",
    "df['CPI']= list_value"
   ]
  },
  {
   "cell_type": "markdown",
   "metadata": {},
   "source": [
    "### DEBT"
   ]
  },
  {
   "cell_type": "code",
   "execution_count": 18,
   "metadata": {},
   "outputs": [],
   "source": [
    "debt_2000_2019 = pd.read_csv('./data/economic_features/DEBT_2000_2019.csv')\n",
    "debt_2000_2019 = debt_2000_2019[['LOCATION', 'TIME', 'Value']]\n",
    "debt_2000_2019.columns = ['Country', 'Time', 'DEBT']"
   ]
  },
  {
   "cell_type": "code",
   "execution_count": 19,
   "metadata": {},
   "outputs": [],
   "source": [
    "list_value=[]\n",
    "for el in df.itertuples():\n",
    "    country,time = el[1],el[2]\n",
    "    tmp = debt_2000_2019[(debt_2000_2019.Country==country)&(debt_2000_2019.Time==time)]\n",
    "    if len(tmp.index)==0:\n",
    "        list_value.append(None)\n",
    "    else:\n",
    "        list_value.append(tmp.DEBT.values[0])\n",
    "df['DEBT']= list_value"
   ]
  },
  {
   "cell_type": "markdown",
   "metadata": {},
   "source": [
    "## Looking at education features"
   ]
  },
  {
   "cell_type": "markdown",
   "metadata": {},
   "source": [
    "### Years of schooling"
   ]
  },
  {
   "cell_type": "code",
   "execution_count": 20,
   "metadata": {},
   "outputs": [],
   "source": [
    "years_schooling = pd.read_csv('./data/education_system/mean-years-of-schooling-world.csv')\n",
    "years_schooling=years_schooling.drop('Entity',axis=1)\n",
    "years_schooling.columns=['Country', 'Time', 'Years_schooling']"
   ]
  },
  {
   "cell_type": "code",
   "execution_count": 21,
   "metadata": {},
   "outputs": [],
   "source": [
    "list_value=[]\n",
    "for el in df.itertuples():\n",
    "    country,time = el[1],el[2]\n",
    "    tmp = years_schooling[(years_schooling.Country==country)&(years_schooling.Time==time)]\n",
    "    if len(tmp.index)==0:\n",
    "        list_value.append(None)\n",
    "    else:\n",
    "        list_value.append(tmp.Years_schooling.values[0])\n",
    "df['Years_schooling']= list_value"
   ]
  },
  {
   "cell_type": "markdown",
   "metadata": {},
   "source": [
    "### Average class size"
   ]
  },
  {
   "cell_type": "code",
   "execution_count": 22,
   "metadata": {},
   "outputs": [],
   "source": [
    "avg_class_size = pd.read_csv('./data/education_system/Avg_class_size_primary_education.csv')\n",
    "avg_class_size = avg_class_size[(avg_class_size.ISC11_LEVEL_CAT=='L1')&(avg_class_size.REF_SECTOR=='INST_T')&(avg_class_size.INDICATOR=='PERS_AVG_CLASS')]\n",
    "avg_class_size = avg_class_size[['COUNTRY','Year','Value']]\n",
    "avg_class_size.columns = ['Country', 'Time', 'Avg_class_size']"
   ]
  },
  {
   "cell_type": "code",
   "execution_count": 23,
   "metadata": {},
   "outputs": [],
   "source": [
    "list_value=[]\n",
    "for el in df.itertuples():\n",
    "    country,time = el[1],el[2]\n",
    "    tmp = avg_class_size[(avg_class_size.Country==country)&(avg_class_size.Time==time)]\n",
    "    if len(tmp.index)==0:\n",
    "        list_value.append(None)\n",
    "    else:\n",
    "        list_value.append(tmp.Avg_class_size.values[0])\n",
    "df['Avg_class_size']= list_value"
   ]
  },
  {
   "cell_type": "markdown",
   "metadata": {},
   "source": [
    "### Expenditure on education"
   ]
  },
  {
   "cell_type": "code",
   "execution_count": 24,
   "metadata": {},
   "outputs": [],
   "source": [
    "spendings_educ = pd.read_csv('./data/education_system/spendings_in_education.csv')\n",
    "spendings_educ = spendings_educ[(spendings_educ.ISC11=='L1')& (spendings_educ.EXPENDITURE_TYPE=='T')]\n",
    "spendings_educ = spendings_educ[['COUNTRY', 'YEAR','Value']]\n",
    "spendings_educ.columns = ['Country', 'Time', 'Exp_educ']"
   ]
  },
  {
   "cell_type": "code",
   "execution_count": 25,
   "metadata": {},
   "outputs": [
    {
     "data": {
      "text/html": [
       "<div>\n",
       "<style scoped>\n",
       "    .dataframe tbody tr th:only-of-type {\n",
       "        vertical-align: middle;\n",
       "    }\n",
       "\n",
       "    .dataframe tbody tr th {\n",
       "        vertical-align: top;\n",
       "    }\n",
       "\n",
       "    .dataframe thead th {\n",
       "        text-align: right;\n",
       "    }\n",
       "</style>\n",
       "<table border=\"1\" class=\"dataframe\">\n",
       "  <thead>\n",
       "    <tr style=\"text-align: right;\">\n",
       "      <th></th>\n",
       "      <th>Country</th>\n",
       "      <th>Time</th>\n",
       "      <th>Exp_educ</th>\n",
       "    </tr>\n",
       "  </thead>\n",
       "  <tbody>\n",
       "    <tr>\n",
       "      <td>98</td>\n",
       "      <td>AUS</td>\n",
       "      <td>1995</td>\n",
       "      <td>NaN</td>\n",
       "    </tr>\n",
       "    <tr>\n",
       "      <td>99</td>\n",
       "      <td>AUS</td>\n",
       "      <td>2000</td>\n",
       "      <td>4549.9614</td>\n",
       "    </tr>\n",
       "    <tr>\n",
       "      <td>100</td>\n",
       "      <td>AUS</td>\n",
       "      <td>2005</td>\n",
       "      <td>6003.6421</td>\n",
       "    </tr>\n",
       "    <tr>\n",
       "      <td>101</td>\n",
       "      <td>AUS</td>\n",
       "      <td>2008</td>\n",
       "      <td>7103.9819</td>\n",
       "    </tr>\n",
       "    <tr>\n",
       "      <td>102</td>\n",
       "      <td>AUS</td>\n",
       "      <td>2009</td>\n",
       "      <td>8588.7402</td>\n",
       "    </tr>\n",
       "    <tr>\n",
       "      <td>...</td>\n",
       "      <td>...</td>\n",
       "      <td>...</td>\n",
       "      <td>...</td>\n",
       "    </tr>\n",
       "    <tr>\n",
       "      <td>14885</td>\n",
       "      <td>KOR</td>\n",
       "      <td>2014</td>\n",
       "      <td>NaN</td>\n",
       "    </tr>\n",
       "    <tr>\n",
       "      <td>14886</td>\n",
       "      <td>KOR</td>\n",
       "      <td>2015</td>\n",
       "      <td>NaN</td>\n",
       "    </tr>\n",
       "    <tr>\n",
       "      <td>14887</td>\n",
       "      <td>KOR</td>\n",
       "      <td>2016</td>\n",
       "      <td>11074.5190</td>\n",
       "    </tr>\n",
       "    <tr>\n",
       "      <td>14888</td>\n",
       "      <td>KOR</td>\n",
       "      <td>2017</td>\n",
       "      <td>11701.7900</td>\n",
       "    </tr>\n",
       "    <tr>\n",
       "      <td>14889</td>\n",
       "      <td>KOR</td>\n",
       "      <td>9999</td>\n",
       "      <td>11701.7900</td>\n",
       "    </tr>\n",
       "  </tbody>\n",
       "</table>\n",
       "<p>686 rows × 3 columns</p>\n",
       "</div>"
      ],
      "text/plain": [
       "      Country  Time    Exp_educ\n",
       "98        AUS  1995         NaN\n",
       "99        AUS  2000   4549.9614\n",
       "100       AUS  2005   6003.6421\n",
       "101       AUS  2008   7103.9819\n",
       "102       AUS  2009   8588.7402\n",
       "...       ...   ...         ...\n",
       "14885     KOR  2014         NaN\n",
       "14886     KOR  2015         NaN\n",
       "14887     KOR  2016  11074.5190\n",
       "14888     KOR  2017  11701.7900\n",
       "14889     KOR  9999  11701.7900\n",
       "\n",
       "[686 rows x 3 columns]"
      ]
     },
     "execution_count": 25,
     "metadata": {},
     "output_type": "execute_result"
    }
   ],
   "source": [
    "spendings_educ"
   ]
  },
  {
   "cell_type": "code",
   "execution_count": 26,
   "metadata": {},
   "outputs": [],
   "source": [
    "list_value=[]\n",
    "for el in df.itertuples():\n",
    "    country,time = el[1],el[2]\n",
    "    tmp = spendings_educ[(spendings_educ.Country==country)&(spendings_educ.Time==time)]\n",
    "    if len(tmp.index)==0:\n",
    "        list_value.append(None)\n",
    "    else:\n",
    "        list_value.append(tmp.Exp_educ.values[0])\n",
    "df['Exp_educ']= list_value\n",
    "\n",
    "df['LogExp_educ']= np.log(df['Exp_educ'],where=~np.isnan(np.array(df['Exp_educ'])))"
   ]
  },
  {
   "cell_type": "markdown",
   "metadata": {},
   "source": [
    "## Labour indicators"
   ]
  },
  {
   "cell_type": "markdown",
   "metadata": {},
   "source": [
    "### Protection of workers"
   ]
  },
  {
   "cell_type": "code",
   "execution_count": 27,
   "metadata": {
    "scrolled": true
   },
   "outputs": [],
   "source": [
    "strictness = pd.read_csv('./data/labour_market/strictness of employment protection from 1998 to 2018.csv')\n",
    "strictness = strictness[(strictness.SERIES == 'EPRC_V2')]\n",
    "strictness = strictness[['COUNTRY','TIME','Value']]\n",
    "strictness.columns = ['Country', 'Time', 'Strictness_of_workers']"
   ]
  },
  {
   "cell_type": "code",
   "execution_count": 28,
   "metadata": {},
   "outputs": [],
   "source": [
    "list_value=[]\n",
    "for el in df.itertuples():\n",
    "    country,time = el[1],el[2]\n",
    "    tmp = strictness[(strictness.Country==country)&(strictness.Time==time)]\n",
    "    if len(tmp.index)==0:\n",
    "        list_value.append(None)\n",
    "    else:\n",
    "        list_value.append(tmp.Strictness_of_workers.values[0])\n",
    "df['Strictness_of_workers']= list_value"
   ]
  },
  {
   "cell_type": "markdown",
   "metadata": {},
   "source": [
    "### Percentage of Part time employement"
   ]
  },
  {
   "cell_type": "code",
   "execution_count": 29,
   "metadata": {},
   "outputs": [],
   "source": [
    "ft_pt_employ = pd.read_csv('./data/labour_market/percentage of full time part time employment.csv')\n",
    "ft_pt_employ = ft_pt_employ[(ft_pt_employ.AGE==1524)&(ft_pt_employ.EMPSTAT=='TE')&(ft_pt_employ.SEX=='MW')]\n",
    "ft_pt_employ = ft_pt_employ[['COUNTRY','SERIES','Time','Value']]\n",
    "ft_pt_employ.columns = ['Country','Series','Time','Value']\n",
    "\n",
    "pt_employ = ft_pt_employ[ft_pt_employ.Series=='PT'].drop('Series',axis=1)"
   ]
  },
  {
   "cell_type": "code",
   "execution_count": 30,
   "metadata": {},
   "outputs": [],
   "source": [
    "list_value = []\n",
    "for el in df.itertuples():\n",
    "    country, time = el[1], el[2]\n",
    "    tmp = pt_employ[(pt_employ.Country == country) & (pt_employ.Time == time)]\n",
    "    if len(tmp.index) == 0:\n",
    "        list_value.append(None)\n",
    "    else:\n",
    "        list_value.append(tmp.Value.values[0])\n",
    "df['PT_employ'] = list_value"
   ]
  },
  {
   "cell_type": "markdown",
   "metadata": {},
   "source": [
    "### Average duration of unemployement"
   ]
  },
  {
   "cell_type": "code",
   "execution_count": 31,
   "metadata": {},
   "outputs": [
    {
     "data": {
      "text/plain": [
       "184"
      ]
     },
     "execution_count": 31,
     "metadata": {},
     "output_type": "execute_result"
    }
   ],
   "source": [
    "avg_duration_unemployment = pd.read_csv('./data/labour_market/average duration of unemployment.csv')\n",
    "avg_duration_unemployment = avg_duration_unemployment[(avg_duration_unemployment.SEX=='MW')&(avg_duration_unemployment.AGE==1524)]\n",
    "avg_duration_unemployment = avg_duration_unemployment[['COUNTRY','TIME','Value']]\n",
    "avg_duration_unemployment.columns = ['Country', 'Time','Avg_dur_unemployment']\n",
    "len(avg_duration_unemployment)"
   ]
  },
  {
   "cell_type": "code",
   "execution_count": 32,
   "metadata": {},
   "outputs": [],
   "source": [
    "list_value = []\n",
    "for el in df.itertuples():\n",
    "    country, time = el[1], el[2]\n",
    "    tmp = avg_duration_unemployment[(avg_duration_unemployment.Country == country) & (avg_duration_unemployment.Time == time)]\n",
    "    if len(tmp.index) == 0:\n",
    "        list_value.append(None)\n",
    "    else:\n",
    "        list_value.append(tmp.Avg_dur_unemployment.values[0])\n",
    "df['Avg_dur_unemployment'] = list_value"
   ]
  },
  {
   "cell_type": "code",
   "execution_count": 38,
   "metadata": {},
   "outputs": [],
   "source": [
    "df.to_csv('./data/panel_data/Full_DB.csv',index=False)"
   ]
  },
  {
   "cell_type": "code",
   "execution_count": null,
   "metadata": {},
   "outputs": [],
   "source": []
  }
 ],
 "metadata": {
  "kernelspec": {
   "display_name": "Python 3",
   "language": "python",
   "name": "python3"
  },
  "language_info": {
   "codemirror_mode": {
    "name": "ipython",
    "version": 3
   },
   "file_extension": ".py",
   "mimetype": "text/x-python",
   "name": "python",
   "nbconvert_exporter": "python",
   "pygments_lexer": "ipython3",
   "version": "3.7.4"
  },
  "toc": {
   "base_numbering": 1,
   "nav_menu": {},
   "number_sections": true,
   "sideBar": true,
   "skip_h1_title": false,
   "title_cell": "Table of Contents",
   "title_sidebar": "Contents",
   "toc_cell": false,
   "toc_position": {},
   "toc_section_display": true,
   "toc_window_display": false
  },
  "varInspector": {
   "cols": {
    "lenName": 16,
    "lenType": 16,
    "lenVar": 40
   },
   "kernels_config": {
    "python": {
     "delete_cmd_postfix": "",
     "delete_cmd_prefix": "del ",
     "library": "var_list.py",
     "varRefreshCmd": "print(var_dic_list())"
    },
    "r": {
     "delete_cmd_postfix": ") ",
     "delete_cmd_prefix": "rm(",
     "library": "var_list.r",
     "varRefreshCmd": "cat(var_dic_list()) "
    }
   },
   "types_to_exclude": [
    "module",
    "function",
    "builtin_function_or_method",
    "instance",
    "_Feature"
   ],
   "window_display": false
  }
 },
 "nbformat": 4,
 "nbformat_minor": 2
}

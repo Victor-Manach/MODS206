{
 "cells": [
  {
   "cell_type": "markdown",
   "metadata": {},
   "source": [
    "# Library importation"
   ]
  },
  {
   "cell_type": "code",
   "execution_count": 1,
   "metadata": {},
   "outputs": [],
   "source": [
    "import numpy as np\n",
    "import pandas as pd\n",
    "import statsmodels.api as sm"
   ]
  },
  {
   "cell_type": "markdown",
   "metadata": {},
   "source": [
    "# Code for countries of OECD"
   ]
  },
  {
   "cell_type": "code",
   "execution_count": 2,
   "metadata": {},
   "outputs": [],
   "source": [
    "oecd_countries = {'AUS': 'Australia', 'AUT': 'Austria', 'BEL': 'Belgium', 'CAN': 'Canada', 'CHL': 'Chile', 'COL': 'Colombia', 'CZE': 'Czech Republic', 'DNK': 'Denmark', 'EST': 'Estonia', 'FIN': 'Finland', 'FRA': 'France', 'DEU': 'Germany', 'GRC': 'Greece', 'HUN': 'Hungary', 'ISL': 'Iceland', 'IRL': 'Ireland', 'ISR': 'Israel', 'ITA': 'Italy', 'JPN': 'Japan', 'KOR': 'Korea', 'LVA': 'Latvia', 'LTU': 'Lithuania', 'LUX': 'Luxembourg', 'MEX': 'Mexico', 'NLD': 'Netherlands', 'NZL': 'New Zealand', 'NOR': 'Norway', 'POL': 'Poland', 'PRT': 'Portugal', 'SVK': 'Slovakia', 'SVN': 'Slovenia', 'ESP': 'Spain', 'SWE': 'Sweden', 'CHE': 'Switzerland', 'TUR': 'Turkey', 'GBR': 'United Kingdom', 'USA': 'United States'}"
   ]
  },
  {
   "cell_type": "markdown",
   "metadata": {},
   "source": [
    "# Data importation"
   ]
  },
  {
   "cell_type": "markdown",
   "metadata": {},
   "source": [
    "## Starting with the NEET"
   ]
  },
  {
   "cell_type": "markdown",
   "metadata": {},
   "source": [
    "We select the neet corresponding from 15 to 29 yo and from OECD countries only and selecting all the years"
   ]
  },
  {
   "cell_type": "code",
   "execution_count": 3,
   "metadata": {},
   "outputs": [],
   "source": [
    "df = pd.read_csv('./data/education_system/NEET_men_women_altogether.csv')\n",
    "df = df[(df.SUBJECT=='15_29')].drop(['INDICATOR','SUBJECT','MEASURE','FREQUENCY','Flag Codes'],axis=1)\n",
    "df = df[(df.LOCATION).isin(oecd_countries.keys())]\n",
    "df = df.reset_index(drop=True)"
   ]
  },
  {
   "cell_type": "code",
   "execution_count": 4,
   "metadata": {},
   "outputs": [],
   "source": [
    "df.columns = ['Country','Time','NEET']"
   ]
  },
  {
   "cell_type": "markdown",
   "metadata": {},
   "source": [
    "## Looking at Expenditure on LMP"
   ]
  },
  {
   "cell_type": "markdown",
   "metadata": {},
   "source": [
    "### Preparing the dataframe"
   ]
  },
  {
   "cell_type": "code",
   "execution_count": 5,
   "metadata": {},
   "outputs": [],
   "source": [
    "exp_lmp = pd.read_csv('./data/labour_market/public_exp_LMP.csv')\n",
    "exp_lmp = exp_lmp[['LFS_COUNTRY','PROG','Time','Value']]\n",
    "exp_lmp = exp_lmp[exp_lmp.PROG == 100].drop('PROG',axis=1).reset_index(drop=True)"
   ]
  },
  {
   "cell_type": "code",
   "execution_count": 6,
   "metadata": {},
   "outputs": [],
   "source": [
    "exp_lmp.columns=['Country', 'Time', 'Exp_LMP']"
   ]
  },
  {
   "cell_type": "code",
   "execution_count": 7,
   "metadata": {},
   "outputs": [
    {
     "data": {
      "text/plain": [
       "pandas.core.series.Series"
      ]
     },
     "execution_count": 7,
     "metadata": {},
     "output_type": "execute_result"
    }
   ],
   "source": [
    "type(exp_lmp['Time'])"
   ]
  },
  {
   "cell_type": "markdown",
   "metadata": {},
   "source": [
    "### Adding the values to the DF"
   ]
  },
  {
   "cell_type": "code",
   "execution_count": 8,
   "metadata": {},
   "outputs": [],
   "source": [
    "list_value=[]\n",
    "for el in df.itertuples():\n",
    "    country,time = el[1],el[2]\n",
    "    tmp = exp_lmp[(exp_lmp.Country==country)&(exp_lmp.Time==time)]\n",
    "    if len(tmp.index)==0:\n",
    "        list_value.append(None)\n",
    "    else:\n",
    "        list_value.append(tmp.Exp_LMP.values[0])\n",
    "df['Exp_LMP']= list_value\n",
    "df['Exp_LMP_2']=df['Exp_LMP']**2\n",
    "df['Exp_LMP_3']=df['Exp_LMP']**3"
   ]
  },
  {
   "cell_type": "code",
   "execution_count": 9,
   "metadata": {},
   "outputs": [
    {
     "data": {
      "text/html": [
       "<div>\n",
       "<style scoped>\n",
       "    .dataframe tbody tr th:only-of-type {\n",
       "        vertical-align: middle;\n",
       "    }\n",
       "\n",
       "    .dataframe tbody tr th {\n",
       "        vertical-align: top;\n",
       "    }\n",
       "\n",
       "    .dataframe thead th {\n",
       "        text-align: right;\n",
       "    }\n",
       "</style>\n",
       "<table border=\"1\" class=\"dataframe\">\n",
       "  <thead>\n",
       "    <tr style=\"text-align: right;\">\n",
       "      <th></th>\n",
       "      <th>Country</th>\n",
       "      <th>Time</th>\n",
       "      <th>NEET</th>\n",
       "      <th>Exp_LMP</th>\n",
       "      <th>Exp_LMP_2</th>\n",
       "      <th>Exp_LMP_3</th>\n",
       "    </tr>\n",
       "  </thead>\n",
       "  <tbody>\n",
       "    <tr>\n",
       "      <td>0</td>\n",
       "      <td>AUS</td>\n",
       "      <td>1997</td>\n",
       "      <td>16.034595</td>\n",
       "      <td>NaN</td>\n",
       "      <td>NaN</td>\n",
       "      <td>NaN</td>\n",
       "    </tr>\n",
       "    <tr>\n",
       "      <td>1</td>\n",
       "      <td>AUS</td>\n",
       "      <td>1998</td>\n",
       "      <td>14.880802</td>\n",
       "      <td>NaN</td>\n",
       "      <td>NaN</td>\n",
       "      <td>NaN</td>\n",
       "    </tr>\n",
       "    <tr>\n",
       "      <td>2</td>\n",
       "      <td>AUS</td>\n",
       "      <td>1999</td>\n",
       "      <td>13.637552</td>\n",
       "      <td>NaN</td>\n",
       "      <td>NaN</td>\n",
       "      <td>NaN</td>\n",
       "    </tr>\n",
       "    <tr>\n",
       "      <td>3</td>\n",
       "      <td>AUS</td>\n",
       "      <td>2000</td>\n",
       "      <td>13.192960</td>\n",
       "      <td>NaN</td>\n",
       "      <td>NaN</td>\n",
       "      <td>NaN</td>\n",
       "    </tr>\n",
       "    <tr>\n",
       "      <td>4</td>\n",
       "      <td>AUS</td>\n",
       "      <td>2001</td>\n",
       "      <td>12.979000</td>\n",
       "      <td>NaN</td>\n",
       "      <td>NaN</td>\n",
       "      <td>NaN</td>\n",
       "    </tr>\n",
       "    <tr>\n",
       "      <td>...</td>\n",
       "      <td>...</td>\n",
       "      <td>...</td>\n",
       "      <td>...</td>\n",
       "      <td>...</td>\n",
       "      <td>...</td>\n",
       "      <td>...</td>\n",
       "    </tr>\n",
       "    <tr>\n",
       "      <td>691</td>\n",
       "      <td>LTU</td>\n",
       "      <td>2015</td>\n",
       "      <td>13.743647</td>\n",
       "      <td>0.53</td>\n",
       "      <td>0.2809</td>\n",
       "      <td>0.148877</td>\n",
       "    </tr>\n",
       "    <tr>\n",
       "      <td>692</td>\n",
       "      <td>LTU</td>\n",
       "      <td>2016</td>\n",
       "      <td>11.403278</td>\n",
       "      <td>0.51</td>\n",
       "      <td>0.2601</td>\n",
       "      <td>0.132651</td>\n",
       "    </tr>\n",
       "    <tr>\n",
       "      <td>693</td>\n",
       "      <td>LTU</td>\n",
       "      <td>2017</td>\n",
       "      <td>11.220660</td>\n",
       "      <td>0.54</td>\n",
       "      <td>0.2916</td>\n",
       "      <td>0.157464</td>\n",
       "    </tr>\n",
       "    <tr>\n",
       "      <td>694</td>\n",
       "      <td>LTU</td>\n",
       "      <td>2018</td>\n",
       "      <td>10.495108</td>\n",
       "      <td>0.66</td>\n",
       "      <td>0.4356</td>\n",
       "      <td>0.287496</td>\n",
       "    </tr>\n",
       "    <tr>\n",
       "      <td>695</td>\n",
       "      <td>LTU</td>\n",
       "      <td>2019</td>\n",
       "      <td>11.309205</td>\n",
       "      <td>NaN</td>\n",
       "      <td>NaN</td>\n",
       "      <td>NaN</td>\n",
       "    </tr>\n",
       "  </tbody>\n",
       "</table>\n",
       "<p>696 rows × 6 columns</p>\n",
       "</div>"
      ],
      "text/plain": [
       "    Country  Time       NEET  Exp_LMP  Exp_LMP_2  Exp_LMP_3\n",
       "0       AUS  1997  16.034595      NaN        NaN        NaN\n",
       "1       AUS  1998  14.880802      NaN        NaN        NaN\n",
       "2       AUS  1999  13.637552      NaN        NaN        NaN\n",
       "3       AUS  2000  13.192960      NaN        NaN        NaN\n",
       "4       AUS  2001  12.979000      NaN        NaN        NaN\n",
       "..      ...   ...        ...      ...        ...        ...\n",
       "691     LTU  2015  13.743647     0.53     0.2809   0.148877\n",
       "692     LTU  2016  11.403278     0.51     0.2601   0.132651\n",
       "693     LTU  2017  11.220660     0.54     0.2916   0.157464\n",
       "694     LTU  2018  10.495108     0.66     0.4356   0.287496\n",
       "695     LTU  2019  11.309205      NaN        NaN        NaN\n",
       "\n",
       "[696 rows x 6 columns]"
      ]
     },
     "execution_count": 9,
     "metadata": {},
     "output_type": "execute_result"
    }
   ],
   "source": [
    "df"
   ]
  },
  {
   "cell_type": "markdown",
   "metadata": {},
   "source": [
    "## Looking at STR"
   ]
  },
  {
   "cell_type": "markdown",
   "metadata": {},
   "source": [
    "### Preparing the dataset"
   ]
  },
  {
   "cell_type": "code",
   "execution_count": 10,
   "metadata": {},
   "outputs": [],
   "source": [
    "STR = pd.read_csv('./data/education_system/student_teacher_ratio.csv')\n",
    "STR = STR[['COUNTRY','ISC11_LEVEL_CAT','Year','Value']]\n",
    "STR_L1 = STR[STR.ISC11_LEVEL_CAT == 'L1'].drop('ISC11_LEVEL_CAT',axis=1).reset_index(drop=True)"
   ]
  },
  {
   "cell_type": "code",
   "execution_count": 11,
   "metadata": {},
   "outputs": [],
   "source": [
    "STR_L1.columns = ['Country', 'Time', 'STR']"
   ]
  },
  {
   "cell_type": "code",
   "execution_count": 12,
   "metadata": {},
   "outputs": [
    {
     "data": {
      "text/html": [
       "<div>\n",
       "<style scoped>\n",
       "    .dataframe tbody tr th:only-of-type {\n",
       "        vertical-align: middle;\n",
       "    }\n",
       "\n",
       "    .dataframe tbody tr th {\n",
       "        vertical-align: top;\n",
       "    }\n",
       "\n",
       "    .dataframe thead th {\n",
       "        text-align: right;\n",
       "    }\n",
       "</style>\n",
       "<table border=\"1\" class=\"dataframe\">\n",
       "  <thead>\n",
       "    <tr style=\"text-align: right;\">\n",
       "      <th></th>\n",
       "      <th>Country</th>\n",
       "      <th>Time</th>\n",
       "      <th>STR</th>\n",
       "    </tr>\n",
       "  </thead>\n",
       "  <tbody>\n",
       "    <tr>\n",
       "      <td>0</td>\n",
       "      <td>AUS</td>\n",
       "      <td>2013</td>\n",
       "      <td>15.615</td>\n",
       "    </tr>\n",
       "    <tr>\n",
       "      <td>1</td>\n",
       "      <td>AUS</td>\n",
       "      <td>2014</td>\n",
       "      <td>15.612</td>\n",
       "    </tr>\n",
       "    <tr>\n",
       "      <td>2</td>\n",
       "      <td>AUS</td>\n",
       "      <td>2015</td>\n",
       "      <td>15.433</td>\n",
       "    </tr>\n",
       "    <tr>\n",
       "      <td>3</td>\n",
       "      <td>AUS</td>\n",
       "      <td>2016</td>\n",
       "      <td>15.168</td>\n",
       "    </tr>\n",
       "    <tr>\n",
       "      <td>4</td>\n",
       "      <td>AUS</td>\n",
       "      <td>2017</td>\n",
       "      <td>15.124</td>\n",
       "    </tr>\n",
       "    <tr>\n",
       "      <td>...</td>\n",
       "      <td>...</td>\n",
       "      <td>...</td>\n",
       "      <td>...</td>\n",
       "    </tr>\n",
       "    <tr>\n",
       "      <td>228</td>\n",
       "      <td>SVN</td>\n",
       "      <td>2014</td>\n",
       "      <td>15.862</td>\n",
       "    </tr>\n",
       "    <tr>\n",
       "      <td>229</td>\n",
       "      <td>SVN</td>\n",
       "      <td>2015</td>\n",
       "      <td>15.888</td>\n",
       "    </tr>\n",
       "    <tr>\n",
       "      <td>230</td>\n",
       "      <td>SVN</td>\n",
       "      <td>2016</td>\n",
       "      <td>14.282</td>\n",
       "    </tr>\n",
       "    <tr>\n",
       "      <td>231</td>\n",
       "      <td>SVN</td>\n",
       "      <td>2017</td>\n",
       "      <td>14.450</td>\n",
       "    </tr>\n",
       "    <tr>\n",
       "      <td>232</td>\n",
       "      <td>SVN</td>\n",
       "      <td>2018</td>\n",
       "      <td>10.341</td>\n",
       "    </tr>\n",
       "  </tbody>\n",
       "</table>\n",
       "<p>233 rows × 3 columns</p>\n",
       "</div>"
      ],
      "text/plain": [
       "    Country  Time     STR\n",
       "0       AUS  2013  15.615\n",
       "1       AUS  2014  15.612\n",
       "2       AUS  2015  15.433\n",
       "3       AUS  2016  15.168\n",
       "4       AUS  2017  15.124\n",
       "..      ...   ...     ...\n",
       "228     SVN  2014  15.862\n",
       "229     SVN  2015  15.888\n",
       "230     SVN  2016  14.282\n",
       "231     SVN  2017  14.450\n",
       "232     SVN  2018  10.341\n",
       "\n",
       "[233 rows x 3 columns]"
      ]
     },
     "execution_count": 12,
     "metadata": {},
     "output_type": "execute_result"
    }
   ],
   "source": [
    "STR_L1"
   ]
  },
  {
   "cell_type": "markdown",
   "metadata": {},
   "source": [
    "### Adding the values to the DF"
   ]
  },
  {
   "cell_type": "code",
   "execution_count": 13,
   "metadata": {},
   "outputs": [],
   "source": [
    "list_value=[]\n",
    "for el in df.itertuples():\n",
    "    country,time = el[1],el[2]\n",
    "    tmp = STR_L1[(STR_L1.Country==country)&(STR_L1.Time==time)]\n",
    "    if len(tmp.index)==0:\n",
    "        list_value.append(None)\n",
    "    else:\n",
    "        list_value.append(tmp.STR.values[0])\n",
    "df['STR']= list_value\n",
    "df['STR_2']=df['STR']**2\n",
    "df['STR_3']=df['STR']**3"
   ]
  },
  {
   "cell_type": "code",
   "execution_count": 14,
   "metadata": {},
   "outputs": [],
   "source": [
    "df=df.dropna()"
   ]
  },
  {
   "cell_type": "code",
   "execution_count": 15,
   "metadata": {},
   "outputs": [
    {
     "data": {
      "text/html": [
       "<div>\n",
       "<style scoped>\n",
       "    .dataframe tbody tr th:only-of-type {\n",
       "        vertical-align: middle;\n",
       "    }\n",
       "\n",
       "    .dataframe tbody tr th {\n",
       "        vertical-align: top;\n",
       "    }\n",
       "\n",
       "    .dataframe thead th {\n",
       "        text-align: right;\n",
       "    }\n",
       "</style>\n",
       "<table border=\"1\" class=\"dataframe\">\n",
       "  <thead>\n",
       "    <tr style=\"text-align: right;\">\n",
       "      <th></th>\n",
       "      <th>Country</th>\n",
       "      <th>Time</th>\n",
       "      <th>NEET</th>\n",
       "      <th>Exp_LMP</th>\n",
       "      <th>Exp_LMP_2</th>\n",
       "      <th>Exp_LMP_3</th>\n",
       "      <th>STR</th>\n",
       "      <th>STR_2</th>\n",
       "      <th>STR_3</th>\n",
       "    </tr>\n",
       "  </thead>\n",
       "  <tbody>\n",
       "    <tr>\n",
       "      <td>16</td>\n",
       "      <td>AUS</td>\n",
       "      <td>2013</td>\n",
       "      <td>13.015899</td>\n",
       "      <td>0.87</td>\n",
       "      <td>0.7569</td>\n",
       "      <td>0.658503</td>\n",
       "      <td>15.615</td>\n",
       "      <td>243.828225</td>\n",
       "      <td>3807.377733</td>\n",
       "    </tr>\n",
       "    <tr>\n",
       "      <td>17</td>\n",
       "      <td>AUS</td>\n",
       "      <td>2014</td>\n",
       "      <td>12.647472</td>\n",
       "      <td>0.93</td>\n",
       "      <td>0.8649</td>\n",
       "      <td>0.804357</td>\n",
       "      <td>15.612</td>\n",
       "      <td>243.734544</td>\n",
       "      <td>3805.183701</td>\n",
       "    </tr>\n",
       "    <tr>\n",
       "      <td>18</td>\n",
       "      <td>AUS</td>\n",
       "      <td>2015</td>\n",
       "      <td>11.831610</td>\n",
       "      <td>0.91</td>\n",
       "      <td>0.8281</td>\n",
       "      <td>0.753571</td>\n",
       "      <td>15.433</td>\n",
       "      <td>238.177489</td>\n",
       "      <td>3675.793188</td>\n",
       "    </tr>\n",
       "    <tr>\n",
       "      <td>19</td>\n",
       "      <td>AUS</td>\n",
       "      <td>2016</td>\n",
       "      <td>11.352150</td>\n",
       "      <td>0.86</td>\n",
       "      <td>0.7396</td>\n",
       "      <td>0.636056</td>\n",
       "      <td>15.168</td>\n",
       "      <td>230.068224</td>\n",
       "      <td>3489.674822</td>\n",
       "    </tr>\n",
       "    <tr>\n",
       "      <td>20</td>\n",
       "      <td>AUS</td>\n",
       "      <td>2017</td>\n",
       "      <td>10.946128</td>\n",
       "      <td>0.85</td>\n",
       "      <td>0.7225</td>\n",
       "      <td>0.614125</td>\n",
       "      <td>15.124</td>\n",
       "      <td>228.735376</td>\n",
       "      <td>3459.393827</td>\n",
       "    </tr>\n",
       "    <tr>\n",
       "      <td>...</td>\n",
       "      <td>...</td>\n",
       "      <td>...</td>\n",
       "      <td>...</td>\n",
       "      <td>...</td>\n",
       "      <td>...</td>\n",
       "      <td>...</td>\n",
       "      <td>...</td>\n",
       "      <td>...</td>\n",
       "      <td>...</td>\n",
       "    </tr>\n",
       "    <tr>\n",
       "      <td>690</td>\n",
       "      <td>LTU</td>\n",
       "      <td>2014</td>\n",
       "      <td>14.185811</td>\n",
       "      <td>0.43</td>\n",
       "      <td>0.1849</td>\n",
       "      <td>0.079507</td>\n",
       "      <td>10.233</td>\n",
       "      <td>104.714289</td>\n",
       "      <td>1071.541319</td>\n",
       "    </tr>\n",
       "    <tr>\n",
       "      <td>691</td>\n",
       "      <td>LTU</td>\n",
       "      <td>2015</td>\n",
       "      <td>13.743647</td>\n",
       "      <td>0.53</td>\n",
       "      <td>0.2809</td>\n",
       "      <td>0.148877</td>\n",
       "      <td>10.256</td>\n",
       "      <td>105.185536</td>\n",
       "      <td>1078.782857</td>\n",
       "    </tr>\n",
       "    <tr>\n",
       "      <td>692</td>\n",
       "      <td>LTU</td>\n",
       "      <td>2016</td>\n",
       "      <td>11.403278</td>\n",
       "      <td>0.51</td>\n",
       "      <td>0.2601</td>\n",
       "      <td>0.132651</td>\n",
       "      <td>10.470</td>\n",
       "      <td>109.620900</td>\n",
       "      <td>1147.730823</td>\n",
       "    </tr>\n",
       "    <tr>\n",
       "      <td>693</td>\n",
       "      <td>LTU</td>\n",
       "      <td>2017</td>\n",
       "      <td>11.220660</td>\n",
       "      <td>0.54</td>\n",
       "      <td>0.2916</td>\n",
       "      <td>0.157464</td>\n",
       "      <td>10.619</td>\n",
       "      <td>112.763161</td>\n",
       "      <td>1197.432007</td>\n",
       "    </tr>\n",
       "    <tr>\n",
       "      <td>694</td>\n",
       "      <td>LTU</td>\n",
       "      <td>2018</td>\n",
       "      <td>10.495108</td>\n",
       "      <td>0.66</td>\n",
       "      <td>0.4356</td>\n",
       "      <td>0.287496</td>\n",
       "      <td>11.220</td>\n",
       "      <td>125.888400</td>\n",
       "      <td>1412.467848</td>\n",
       "    </tr>\n",
       "  </tbody>\n",
       "</table>\n",
       "<p>167 rows × 9 columns</p>\n",
       "</div>"
      ],
      "text/plain": [
       "    Country  Time       NEET  Exp_LMP  Exp_LMP_2  Exp_LMP_3     STR  \\\n",
       "16      AUS  2013  13.015899     0.87     0.7569   0.658503  15.615   \n",
       "17      AUS  2014  12.647472     0.93     0.8649   0.804357  15.612   \n",
       "18      AUS  2015  11.831610     0.91     0.8281   0.753571  15.433   \n",
       "19      AUS  2016  11.352150     0.86     0.7396   0.636056  15.168   \n",
       "20      AUS  2017  10.946128     0.85     0.7225   0.614125  15.124   \n",
       "..      ...   ...        ...      ...        ...        ...     ...   \n",
       "690     LTU  2014  14.185811     0.43     0.1849   0.079507  10.233   \n",
       "691     LTU  2015  13.743647     0.53     0.2809   0.148877  10.256   \n",
       "692     LTU  2016  11.403278     0.51     0.2601   0.132651  10.470   \n",
       "693     LTU  2017  11.220660     0.54     0.2916   0.157464  10.619   \n",
       "694     LTU  2018  10.495108     0.66     0.4356   0.287496  11.220   \n",
       "\n",
       "          STR_2        STR_3  \n",
       "16   243.828225  3807.377733  \n",
       "17   243.734544  3805.183701  \n",
       "18   238.177489  3675.793188  \n",
       "19   230.068224  3489.674822  \n",
       "20   228.735376  3459.393827  \n",
       "..          ...          ...  \n",
       "690  104.714289  1071.541319  \n",
       "691  105.185536  1078.782857  \n",
       "692  109.620900  1147.730823  \n",
       "693  112.763161  1197.432007  \n",
       "694  125.888400  1412.467848  \n",
       "\n",
       "[167 rows x 9 columns]"
      ]
     },
     "execution_count": 15,
     "metadata": {},
     "output_type": "execute_result"
    }
   ],
   "source": [
    "df"
   ]
  },
  {
   "cell_type": "markdown",
   "metadata": {},
   "source": [
    "## Looking at economic features"
   ]
  },
  {
   "cell_type": "markdown",
   "metadata": {},
   "source": [
    "### GDP and LogGDP"
   ]
  },
  {
   "cell_type": "code",
   "execution_count": 16,
   "metadata": {},
   "outputs": [],
   "source": [
    "gdp_per_person = pd.read_csv('./data/economic_features/GDP_per_capita.csv', sep=';')\n",
    "gdp_per_person_oecd = pd.DataFrame(columns=gdp_per_person.columns)\n",
    "for code in oecd_countries.keys():\n",
    "    gdp_per_person_oecd = gdp_per_person_oecd.append(gdp_per_person[gdp_per_person['Country Code']==code])\n",
    "gdp_2015_oecd = gdp_per_person_oecd[['Country Code', '2015']]\n",
    "gdp_2017_oecd = gdp_per_person_oecd[['Country Code', '2017']]\n",
    "gdp_1960_2019_oecd_full = gdp_per_person_oecd.drop(['Country Name', 'Indicator Name', 'Indicator Code'], axis=1).reset_index(drop=True)\n",
    "\n",
    "gdp_1960_2019_oecd = pd.DataFrame(columns=['Country', 'Time', 'GDP'])\n",
    "for i in range(len(gdp_1960_2019_oecd_full)):\n",
    "    country = gdp_1960_2019_oecd_full.iloc[i][0]\n",
    "    for j in range(1,len(gdp_1960_2019_oecd_full.columns)):\n",
    "        year = gdp_1960_2019_oecd_full.columns[j]\n",
    "        gdp = gdp_1960_2019_oecd_full.iloc[i][j]\n",
    "        gdp_1960_2019_oecd = gdp_1960_2019_oecd.append({'Country': country, 'Time': int(year), 'GDP': gdp}, ignore_index=True)\n",
    "    gdp_1960_2019_oecd = gdp_1960_2019_oecd.dropna()"
   ]
  },
  {
   "cell_type": "code",
   "execution_count": 17,
   "metadata": {},
   "outputs": [
    {
     "name": "stderr",
     "output_type": "stream",
     "text": [
      "/Users/gregoirebellan/opt/anaconda3/lib/python3.7/site-packages/ipykernel_launcher.py:9: SettingWithCopyWarning: \n",
      "A value is trying to be set on a copy of a slice from a DataFrame.\n",
      "Try using .loc[row_indexer,col_indexer] = value instead\n",
      "\n",
      "See the caveats in the documentation: http://pandas.pydata.org/pandas-docs/stable/user_guide/indexing.html#returning-a-view-versus-a-copy\n",
      "  if __name__ == '__main__':\n",
      "/Users/gregoirebellan/opt/anaconda3/lib/python3.7/site-packages/ipykernel_launcher.py:10: SettingWithCopyWarning: \n",
      "A value is trying to be set on a copy of a slice from a DataFrame.\n",
      "Try using .loc[row_indexer,col_indexer] = value instead\n",
      "\n",
      "See the caveats in the documentation: http://pandas.pydata.org/pandas-docs/stable/user_guide/indexing.html#returning-a-view-versus-a-copy\n",
      "  # Remove the CWD from sys.path while we load stuff.\n"
     ]
    }
   ],
   "source": [
    "list_value=[]\n",
    "for el in df.itertuples():\n",
    "    country,time = el[1],el[2]\n",
    "    tmp = gdp_1960_2019_oecd[(gdp_1960_2019_oecd.Country==country)&(gdp_1960_2019_oecd.Time==time)]\n",
    "    if len(tmp.index)==0:\n",
    "        list_value.append(None)\n",
    "    else:\n",
    "        list_value.append(tmp.GDP.values[0])\n",
    "df['GDP']= list_value\n",
    "df['LogGDP']=np.log(df['GDP'])"
   ]
  },
  {
   "cell_type": "markdown",
   "metadata": {},
   "source": [
    "### CPI"
   ]
  },
  {
   "cell_type": "code",
   "execution_count": 18,
   "metadata": {},
   "outputs": [],
   "source": [
    "cpi_2000_2019 = pd.read_csv('./data/economic_features/CPI_2000_2019.csv')\n",
    "cpi_2000_2019 = cpi_2000_2019[['LOCATION', 'TIME', 'Value']]\n",
    "cpi_2000_2019.columns = ['Country', 'Time', 'CPI']"
   ]
  },
  {
   "cell_type": "code",
   "execution_count": 19,
   "metadata": {},
   "outputs": [
    {
     "name": "stderr",
     "output_type": "stream",
     "text": [
      "/Users/gregoirebellan/opt/anaconda3/lib/python3.7/site-packages/ipykernel_launcher.py:9: SettingWithCopyWarning: \n",
      "A value is trying to be set on a copy of a slice from a DataFrame.\n",
      "Try using .loc[row_indexer,col_indexer] = value instead\n",
      "\n",
      "See the caveats in the documentation: http://pandas.pydata.org/pandas-docs/stable/user_guide/indexing.html#returning-a-view-versus-a-copy\n",
      "  if __name__ == '__main__':\n"
     ]
    }
   ],
   "source": [
    "list_value=[]\n",
    "for el in df.itertuples():\n",
    "    country,time = el[1],el[2]\n",
    "    tmp = cpi_2000_2019[(cpi_2000_2019.Country==country)&(cpi_2000_2019.Time==time)]\n",
    "    if len(tmp.index)==0:\n",
    "        list_value.append(None)\n",
    "    else:\n",
    "        list_value.append(tmp.CPI.values[0])\n",
    "df['CPI']= list_value"
   ]
  },
  {
   "cell_type": "markdown",
   "metadata": {},
   "source": [
    "### DEBT"
   ]
  },
  {
   "cell_type": "code",
   "execution_count": 20,
   "metadata": {},
   "outputs": [],
   "source": [
    "debt_2000_2019 = pd.read_csv('./data/economic_features/DEBT_2000_2019.csv')\n",
    "debt_2000_2019 = debt_2000_2019[['LOCATION', 'TIME', 'Value']]\n",
    "debt_2000_2019.columns = ['Country', 'Time', 'DEBT']"
   ]
  },
  {
   "cell_type": "code",
   "execution_count": 21,
   "metadata": {},
   "outputs": [
    {
     "name": "stderr",
     "output_type": "stream",
     "text": [
      "/Users/gregoirebellan/opt/anaconda3/lib/python3.7/site-packages/ipykernel_launcher.py:9: SettingWithCopyWarning: \n",
      "A value is trying to be set on a copy of a slice from a DataFrame.\n",
      "Try using .loc[row_indexer,col_indexer] = value instead\n",
      "\n",
      "See the caveats in the documentation: http://pandas.pydata.org/pandas-docs/stable/user_guide/indexing.html#returning-a-view-versus-a-copy\n",
      "  if __name__ == '__main__':\n"
     ]
    }
   ],
   "source": [
    "list_value=[]\n",
    "for el in df.itertuples():\n",
    "    country,time = el[1],el[2]\n",
    "    tmp = debt_2000_2019[(debt_2000_2019.Country==country)&(debt_2000_2019.Time==time)]\n",
    "    if len(tmp.index)==0:\n",
    "        list_value.append(None)\n",
    "    else:\n",
    "        list_value.append(tmp.DEBT.values[0])\n",
    "df['DEBT']= list_value"
   ]
  },
  {
   "cell_type": "markdown",
   "metadata": {},
   "source": [
    "## Looking at education features"
   ]
  },
  {
   "cell_type": "markdown",
   "metadata": {},
   "source": [
    "### Years of schooling"
   ]
  },
  {
   "cell_type": "code",
   "execution_count": 22,
   "metadata": {},
   "outputs": [],
   "source": [
    "years_schooling = pd.read_csv('./data/education_system/mean-years-of-schooling-world.csv')\n",
    "years_schooling=years_schooling.drop('Entity',axis=1)\n",
    "years_schooling.columns=['Country', 'Time', 'Years_schooling']"
   ]
  },
  {
   "cell_type": "code",
   "execution_count": 23,
   "metadata": {},
   "outputs": [
    {
     "name": "stderr",
     "output_type": "stream",
     "text": [
      "/Users/gregoirebellan/opt/anaconda3/lib/python3.7/site-packages/ipykernel_launcher.py:9: SettingWithCopyWarning: \n",
      "A value is trying to be set on a copy of a slice from a DataFrame.\n",
      "Try using .loc[row_indexer,col_indexer] = value instead\n",
      "\n",
      "See the caveats in the documentation: http://pandas.pydata.org/pandas-docs/stable/user_guide/indexing.html#returning-a-view-versus-a-copy\n",
      "  if __name__ == '__main__':\n"
     ]
    }
   ],
   "source": [
    "list_value=[]\n",
    "for el in df.itertuples():\n",
    "    country,time = el[1],el[2]\n",
    "    tmp = years_schooling[(years_schooling.Country==country)&(years_schooling.Time==time)]\n",
    "    if len(tmp.index)==0:\n",
    "        list_value.append(None)\n",
    "    else:\n",
    "        list_value.append(tmp.Years_schooling.values[0])\n",
    "df['Years_schooling']= list_value"
   ]
  },
  {
   "cell_type": "markdown",
   "metadata": {},
   "source": [
    "### Average class size"
   ]
  },
  {
   "cell_type": "code",
   "execution_count": 24,
   "metadata": {},
   "outputs": [],
   "source": [
    "avg_class_size = pd.read_csv('./data/education_system/Avg_class_size_primary_education.csv')\n",
    "avg_class_size = avg_class_size[(avg_class_size.ISC11_LEVEL_CAT=='L1')&(avg_class_size.REF_SECTOR=='INST_T')&(avg_class_size.INDICATOR=='PERS_AVG_CLASS')]\n",
    "avg_class_size = avg_class_size[['COUNTRY','YEAR','Value']]\n",
    "avg_class_size.columns = ['Country', 'Time', 'Avg_class_size']"
   ]
  },
  {
   "cell_type": "code",
   "execution_count": 25,
   "metadata": {},
   "outputs": [
    {
     "name": "stderr",
     "output_type": "stream",
     "text": [
      "/Users/gregoirebellan/opt/anaconda3/lib/python3.7/site-packages/ipykernel_launcher.py:9: SettingWithCopyWarning: \n",
      "A value is trying to be set on a copy of a slice from a DataFrame.\n",
      "Try using .loc[row_indexer,col_indexer] = value instead\n",
      "\n",
      "See the caveats in the documentation: http://pandas.pydata.org/pandas-docs/stable/user_guide/indexing.html#returning-a-view-versus-a-copy\n",
      "  if __name__ == '__main__':\n"
     ]
    }
   ],
   "source": [
    "list_value=[]\n",
    "for el in df.itertuples():\n",
    "    country,time = el[1],el[2]\n",
    "    tmp = avg_class_size[(avg_class_size.Country==country)&(avg_class_size.Time==time)]\n",
    "    if len(tmp.index)==0:\n",
    "        list_value.append(None)\n",
    "    else:\n",
    "        list_value.append(tmp.Avg_class_size.values[0])\n",
    "df['Avg_class_size']= list_value"
   ]
  },
  {
   "cell_type": "markdown",
   "metadata": {},
   "source": [
    "### Expenditure on education"
   ]
  },
  {
   "cell_type": "code",
   "execution_count": 26,
   "metadata": {},
   "outputs": [],
   "source": [
    "spendings_educ = pd.read_csv('./data/education_system/spendings_in_education.csv')\n",
    "spendings_educ = spendings_educ[(spendings_educ.ISC11=='L1')& (spendings_educ.EXPENDITURE_TYPE=='T')]\n",
    "spendings_educ = spendings_educ[['COUNTRY', 'YEAR','Value']]\n",
    "spendings_educ.columns = ['Country', 'Time', 'Exp_educ']"
   ]
  },
  {
   "cell_type": "code",
   "execution_count": 27,
   "metadata": {},
   "outputs": [
    {
     "data": {
      "text/html": [
       "<div>\n",
       "<style scoped>\n",
       "    .dataframe tbody tr th:only-of-type {\n",
       "        vertical-align: middle;\n",
       "    }\n",
       "\n",
       "    .dataframe tbody tr th {\n",
       "        vertical-align: top;\n",
       "    }\n",
       "\n",
       "    .dataframe thead th {\n",
       "        text-align: right;\n",
       "    }\n",
       "</style>\n",
       "<table border=\"1\" class=\"dataframe\">\n",
       "  <thead>\n",
       "    <tr style=\"text-align: right;\">\n",
       "      <th></th>\n",
       "      <th>Country</th>\n",
       "      <th>Time</th>\n",
       "      <th>Exp_educ</th>\n",
       "    </tr>\n",
       "  </thead>\n",
       "  <tbody>\n",
       "    <tr>\n",
       "      <td>98</td>\n",
       "      <td>AUS</td>\n",
       "      <td>1995</td>\n",
       "      <td>NaN</td>\n",
       "    </tr>\n",
       "    <tr>\n",
       "      <td>99</td>\n",
       "      <td>AUS</td>\n",
       "      <td>2000</td>\n",
       "      <td>4549.9614</td>\n",
       "    </tr>\n",
       "    <tr>\n",
       "      <td>100</td>\n",
       "      <td>AUS</td>\n",
       "      <td>2005</td>\n",
       "      <td>6003.6421</td>\n",
       "    </tr>\n",
       "    <tr>\n",
       "      <td>101</td>\n",
       "      <td>AUS</td>\n",
       "      <td>2008</td>\n",
       "      <td>7103.9819</td>\n",
       "    </tr>\n",
       "    <tr>\n",
       "      <td>102</td>\n",
       "      <td>AUS</td>\n",
       "      <td>2009</td>\n",
       "      <td>8588.7402</td>\n",
       "    </tr>\n",
       "    <tr>\n",
       "      <td>...</td>\n",
       "      <td>...</td>\n",
       "      <td>...</td>\n",
       "      <td>...</td>\n",
       "    </tr>\n",
       "    <tr>\n",
       "      <td>14885</td>\n",
       "      <td>KOR</td>\n",
       "      <td>2014</td>\n",
       "      <td>NaN</td>\n",
       "    </tr>\n",
       "    <tr>\n",
       "      <td>14886</td>\n",
       "      <td>KOR</td>\n",
       "      <td>2015</td>\n",
       "      <td>NaN</td>\n",
       "    </tr>\n",
       "    <tr>\n",
       "      <td>14887</td>\n",
       "      <td>KOR</td>\n",
       "      <td>2016</td>\n",
       "      <td>11074.5190</td>\n",
       "    </tr>\n",
       "    <tr>\n",
       "      <td>14888</td>\n",
       "      <td>KOR</td>\n",
       "      <td>2017</td>\n",
       "      <td>11701.7900</td>\n",
       "    </tr>\n",
       "    <tr>\n",
       "      <td>14889</td>\n",
       "      <td>KOR</td>\n",
       "      <td>9999</td>\n",
       "      <td>11701.7900</td>\n",
       "    </tr>\n",
       "  </tbody>\n",
       "</table>\n",
       "<p>686 rows × 3 columns</p>\n",
       "</div>"
      ],
      "text/plain": [
       "      Country  Time    Exp_educ\n",
       "98        AUS  1995         NaN\n",
       "99        AUS  2000   4549.9614\n",
       "100       AUS  2005   6003.6421\n",
       "101       AUS  2008   7103.9819\n",
       "102       AUS  2009   8588.7402\n",
       "...       ...   ...         ...\n",
       "14885     KOR  2014         NaN\n",
       "14886     KOR  2015         NaN\n",
       "14887     KOR  2016  11074.5190\n",
       "14888     KOR  2017  11701.7900\n",
       "14889     KOR  9999  11701.7900\n",
       "\n",
       "[686 rows x 3 columns]"
      ]
     },
     "execution_count": 27,
     "metadata": {},
     "output_type": "execute_result"
    }
   ],
   "source": [
    "spendings_educ"
   ]
  },
  {
   "cell_type": "code",
   "execution_count": 28,
   "metadata": {},
   "outputs": [
    {
     "name": "stderr",
     "output_type": "stream",
     "text": [
      "/Users/gregoirebellan/opt/anaconda3/lib/python3.7/site-packages/ipykernel_launcher.py:9: SettingWithCopyWarning: \n",
      "A value is trying to be set on a copy of a slice from a DataFrame.\n",
      "Try using .loc[row_indexer,col_indexer] = value instead\n",
      "\n",
      "See the caveats in the documentation: http://pandas.pydata.org/pandas-docs/stable/user_guide/indexing.html#returning-a-view-versus-a-copy\n",
      "  if __name__ == '__main__':\n",
      "/Users/gregoirebellan/opt/anaconda3/lib/python3.7/site-packages/ipykernel_launcher.py:11: SettingWithCopyWarning: \n",
      "A value is trying to be set on a copy of a slice from a DataFrame.\n",
      "Try using .loc[row_indexer,col_indexer] = value instead\n",
      "\n",
      "See the caveats in the documentation: http://pandas.pydata.org/pandas-docs/stable/user_guide/indexing.html#returning-a-view-versus-a-copy\n",
      "  # This is added back by InteractiveShellApp.init_path()\n"
     ]
    }
   ],
   "source": [
    "list_value=[]\n",
    "for el in df.itertuples():\n",
    "    country,time = el[1],el[2]\n",
    "    tmp = spendings_educ[(spendings_educ.Country==country)&(spendings_educ.Time==time)]\n",
    "    if len(tmp.index)==0:\n",
    "        list_value.append(None)\n",
    "    else:\n",
    "        list_value.append(tmp.Exp_educ.values[0])\n",
    "df['Exp_educ']= list_value\n",
    "\n",
    "df['LogExp_educ']= np.log(df['Exp_educ'],where=~np.isnan(np.array(df['Exp_educ'])))"
   ]
  },
  {
   "cell_type": "markdown",
   "metadata": {},
   "source": [
    "## Labour indicators"
   ]
  },
  {
   "cell_type": "markdown",
   "metadata": {},
   "source": [
    "### Protection of workers"
   ]
  },
  {
   "cell_type": "code",
   "execution_count": 29,
   "metadata": {
    "scrolled": true
   },
   "outputs": [],
   "source": [
    "strictness = pd.read_csv('./data/labour_market/strictness of employment protection from 1998 to 2018.csv')\n",
    "strictness = strictness[(strictness.SERIES == 'EPRC_V2')]\n",
    "strictness = strictness[['COUNTRY','TIME','Value']]\n",
    "strictness.columns = ['Country', 'Time', 'Strictness_of_workers']"
   ]
  },
  {
   "cell_type": "code",
   "execution_count": 30,
   "metadata": {},
   "outputs": [
    {
     "name": "stderr",
     "output_type": "stream",
     "text": [
      "/Users/gregoirebellan/opt/anaconda3/lib/python3.7/site-packages/ipykernel_launcher.py:9: SettingWithCopyWarning: \n",
      "A value is trying to be set on a copy of a slice from a DataFrame.\n",
      "Try using .loc[row_indexer,col_indexer] = value instead\n",
      "\n",
      "See the caveats in the documentation: http://pandas.pydata.org/pandas-docs/stable/user_guide/indexing.html#returning-a-view-versus-a-copy\n",
      "  if __name__ == '__main__':\n"
     ]
    }
   ],
   "source": [
    "list_value=[]\n",
    "for el in df.itertuples():\n",
    "    country,time = el[1],el[2]\n",
    "    tmp = strictness[(strictness.Country==country)&(strictness.Time==time)]\n",
    "    if len(tmp.index)==0:\n",
    "        list_value.append(None)\n",
    "    else:\n",
    "        list_value.append(tmp.Strictness_of_workers.values[0])\n",
    "df['Strictness_of_workers']= list_value"
   ]
  },
  {
   "cell_type": "markdown",
   "metadata": {},
   "source": [
    "### Percentage of Part time employement"
   ]
  },
  {
   "cell_type": "code",
   "execution_count": 31,
   "metadata": {},
   "outputs": [],
   "source": [
    "ft_pt_employ = pd.read_csv('./data/labour_market/percentage of full time part time employment.csv')\n",
    "ft_pt_employ = ft_pt_employ[(ft_pt_employ.AGE==1524)&(ft_pt_employ.EMPSTAT=='TE')&(ft_pt_employ.SEX=='MW')]\n",
    "ft_pt_employ = ft_pt_employ[['COUNTRY','SERIES','Time','Value']]\n",
    "ft_pt_employ.columns = ['Country','Series','Time','Value']\n",
    "\n",
    "pt_employ = ft_pt_employ[ft_pt_employ.Series=='PT'].drop('Series',axis=1)"
   ]
  },
  {
   "cell_type": "code",
   "execution_count": 32,
   "metadata": {},
   "outputs": [
    {
     "name": "stderr",
     "output_type": "stream",
     "text": [
      "/Users/gregoirebellan/opt/anaconda3/lib/python3.7/site-packages/ipykernel_launcher.py:9: SettingWithCopyWarning: \n",
      "A value is trying to be set on a copy of a slice from a DataFrame.\n",
      "Try using .loc[row_indexer,col_indexer] = value instead\n",
      "\n",
      "See the caveats in the documentation: http://pandas.pydata.org/pandas-docs/stable/user_guide/indexing.html#returning-a-view-versus-a-copy\n",
      "  if __name__ == '__main__':\n"
     ]
    }
   ],
   "source": [
    "list_value = []\n",
    "for el in df.itertuples():\n",
    "    country, time = el[1], el[2]\n",
    "    tmp = pt_employ[(pt_employ.Country == country) & (pt_employ.Time == time)]\n",
    "    if len(tmp.index) == 0:\n",
    "        list_value.append(None)\n",
    "    else:\n",
    "        list_value.append(tmp.Value.values[0])\n",
    "df['PT_employ'] = list_value"
   ]
  },
  {
   "cell_type": "markdown",
   "metadata": {},
   "source": [
    "### Average duration of unemployement"
   ]
  },
  {
   "cell_type": "code",
   "execution_count": 33,
   "metadata": {},
   "outputs": [
    {
     "data": {
      "text/plain": [
       "184"
      ]
     },
     "execution_count": 33,
     "metadata": {},
     "output_type": "execute_result"
    }
   ],
   "source": [
    "avg_duration_unemployment = pd.read_csv('./data/labour_market/average duration of unemployment.csv')\n",
    "avg_duration_unemployment = avg_duration_unemployment[(avg_duration_unemployment.SEX=='MW')&(avg_duration_unemployment.AGE==1524)]\n",
    "avg_duration_unemployment = avg_duration_unemployment[['COUNTRY','TIME','Value']]\n",
    "avg_duration_unemployment.columns = ['Country', 'Time','Avg_dur_unemployment']\n",
    "len(avg_duration_unemployment)"
   ]
  },
  {
   "cell_type": "code",
   "execution_count": 34,
   "metadata": {},
   "outputs": [
    {
     "name": "stderr",
     "output_type": "stream",
     "text": [
      "/Users/gregoirebellan/opt/anaconda3/lib/python3.7/site-packages/ipykernel_launcher.py:9: SettingWithCopyWarning: \n",
      "A value is trying to be set on a copy of a slice from a DataFrame.\n",
      "Try using .loc[row_indexer,col_indexer] = value instead\n",
      "\n",
      "See the caveats in the documentation: http://pandas.pydata.org/pandas-docs/stable/user_guide/indexing.html#returning-a-view-versus-a-copy\n",
      "  if __name__ == '__main__':\n"
     ]
    }
   ],
   "source": [
    "list_value = []\n",
    "for el in df.itertuples():\n",
    "    country, time = el[1], el[2]\n",
    "    tmp = avg_duration_unemployment[(avg_duration_unemployment.Country == country) & (avg_duration_unemployment.Time == time)]\n",
    "    if len(tmp.index) == 0:\n",
    "        list_value.append(None)\n",
    "    else:\n",
    "        list_value.append(tmp.Avg_dur_unemployment.values[0])\n",
    "df['Avg_dur_unemployment'] = list_value"
   ]
  },
  {
   "cell_type": "code",
   "execution_count": 35,
   "metadata": {},
   "outputs": [
    {
     "name": "stderr",
     "output_type": "stream",
     "text": [
      "/Users/gregoirebellan/opt/anaconda3/lib/python3.7/site-packages/numpy/core/fromnumeric.py:2495: FutureWarning: Method .ptp is deprecated and will be removed in a future version. Use numpy.ptp instead.\n",
      "  return ptp(axis=axis, out=out, **kwargs)\n"
     ]
    },
    {
     "data": {
      "text/html": [
       "<div>\n",
       "<style scoped>\n",
       "    .dataframe tbody tr th:only-of-type {\n",
       "        vertical-align: middle;\n",
       "    }\n",
       "\n",
       "    .dataframe tbody tr th {\n",
       "        vertical-align: top;\n",
       "    }\n",
       "\n",
       "    .dataframe thead th {\n",
       "        text-align: right;\n",
       "    }\n",
       "</style>\n",
       "<table border=\"1\" class=\"dataframe\">\n",
       "  <thead>\n",
       "    <tr style=\"text-align: right;\">\n",
       "      <th></th>\n",
       "      <th>const</th>\n",
       "      <th>Country</th>\n",
       "      <th>Time</th>\n",
       "      <th>NEET</th>\n",
       "      <th>Exp_LMP</th>\n",
       "      <th>Exp_LMP_2</th>\n",
       "      <th>Exp_LMP_3</th>\n",
       "      <th>STR</th>\n",
       "      <th>STR_2</th>\n",
       "      <th>STR_3</th>\n",
       "      <th>...</th>\n",
       "      <th>LogGDP</th>\n",
       "      <th>CPI</th>\n",
       "      <th>DEBT</th>\n",
       "      <th>Years_schooling</th>\n",
       "      <th>Avg_class_size</th>\n",
       "      <th>Exp_educ</th>\n",
       "      <th>LogExp_educ</th>\n",
       "      <th>Strictness_of_workers</th>\n",
       "      <th>PT_employ</th>\n",
       "      <th>Avg_dur_unemployment</th>\n",
       "    </tr>\n",
       "  </thead>\n",
       "  <tbody>\n",
       "    <tr>\n",
       "      <td>16</td>\n",
       "      <td>1.0</td>\n",
       "      <td>AUS</td>\n",
       "      <td>2013</td>\n",
       "      <td>13.015899</td>\n",
       "      <td>0.87</td>\n",
       "      <td>0.7569</td>\n",
       "      <td>0.658503</td>\n",
       "      <td>15.615</td>\n",
       "      <td>243.828225</td>\n",
       "      <td>3807.377733</td>\n",
       "      <td>...</td>\n",
       "      <td>11.129468</td>\n",
       "      <td>2.449889</td>\n",
       "      <td>55.70968</td>\n",
       "      <td>12.6</td>\n",
       "      <td>23.725</td>\n",
       "      <td>9241.9922</td>\n",
       "      <td>9.131513</td>\n",
       "      <td>2.011</td>\n",
       "      <td>46.205162</td>\n",
       "      <td>5.955686</td>\n",
       "    </tr>\n",
       "    <tr>\n",
       "      <td>17</td>\n",
       "      <td>1.0</td>\n",
       "      <td>AUS</td>\n",
       "      <td>2014</td>\n",
       "      <td>12.647472</td>\n",
       "      <td>0.93</td>\n",
       "      <td>0.8649</td>\n",
       "      <td>0.804357</td>\n",
       "      <td>15.612</td>\n",
       "      <td>243.734544</td>\n",
       "      <td>3805.183701</td>\n",
       "      <td>...</td>\n",
       "      <td>11.043094</td>\n",
       "      <td>2.487923</td>\n",
       "      <td>61.36842</td>\n",
       "      <td>12.7</td>\n",
       "      <td>23.859</td>\n",
       "      <td>9257.9980</td>\n",
       "      <td>9.133243</td>\n",
       "      <td>2.011</td>\n",
       "      <td>46.603383</td>\n",
       "      <td>6.953608</td>\n",
       "    </tr>\n",
       "    <tr>\n",
       "      <td>18</td>\n",
       "      <td>1.0</td>\n",
       "      <td>AUS</td>\n",
       "      <td>2015</td>\n",
       "      <td>11.831610</td>\n",
       "      <td>0.91</td>\n",
       "      <td>0.8281</td>\n",
       "      <td>0.753571</td>\n",
       "      <td>15.433</td>\n",
       "      <td>238.177489</td>\n",
       "      <td>3675.793188</td>\n",
       "      <td>...</td>\n",
       "      <td>10.946512</td>\n",
       "      <td>1.508367</td>\n",
       "      <td>64.18005</td>\n",
       "      <td>12.8</td>\n",
       "      <td>23.821</td>\n",
       "      <td>9524.7178</td>\n",
       "      <td>9.161646</td>\n",
       "      <td>2.011</td>\n",
       "      <td>47.087093</td>\n",
       "      <td>6.972733</td>\n",
       "    </tr>\n",
       "    <tr>\n",
       "      <td>19</td>\n",
       "      <td>1.0</td>\n",
       "      <td>AUS</td>\n",
       "      <td>2016</td>\n",
       "      <td>11.352150</td>\n",
       "      <td>0.86</td>\n",
       "      <td>0.7396</td>\n",
       "      <td>0.636056</td>\n",
       "      <td>15.168</td>\n",
       "      <td>230.068224</td>\n",
       "      <td>3489.674822</td>\n",
       "      <td>...</td>\n",
       "      <td>10.819201</td>\n",
       "      <td>1.276991</td>\n",
       "      <td>68.39156</td>\n",
       "      <td>12.9</td>\n",
       "      <td>23.669</td>\n",
       "      <td>10022.5670</td>\n",
       "      <td>9.212595</td>\n",
       "      <td>2.011</td>\n",
       "      <td>48.964695</td>\n",
       "      <td>7.214289</td>\n",
       "    </tr>\n",
       "    <tr>\n",
       "      <td>20</td>\n",
       "      <td>1.0</td>\n",
       "      <td>AUS</td>\n",
       "      <td>2017</td>\n",
       "      <td>10.946128</td>\n",
       "      <td>0.85</td>\n",
       "      <td>0.7225</td>\n",
       "      <td>0.614125</td>\n",
       "      <td>15.124</td>\n",
       "      <td>228.735376</td>\n",
       "      <td>3459.393827</td>\n",
       "      <td>...</td>\n",
       "      <td>10.897257</td>\n",
       "      <td>1.948647</td>\n",
       "      <td>65.60463</td>\n",
       "      <td>12.9</td>\n",
       "      <td>23.613</td>\n",
       "      <td>10238.4130</td>\n",
       "      <td>9.233902</td>\n",
       "      <td>2.011</td>\n",
       "      <td>49.731342</td>\n",
       "      <td>6.959253</td>\n",
       "    </tr>\n",
       "    <tr>\n",
       "      <td>...</td>\n",
       "      <td>...</td>\n",
       "      <td>...</td>\n",
       "      <td>...</td>\n",
       "      <td>...</td>\n",
       "      <td>...</td>\n",
       "      <td>...</td>\n",
       "      <td>...</td>\n",
       "      <td>...</td>\n",
       "      <td>...</td>\n",
       "      <td>...</td>\n",
       "      <td>...</td>\n",
       "      <td>...</td>\n",
       "      <td>...</td>\n",
       "      <td>...</td>\n",
       "      <td>...</td>\n",
       "      <td>...</td>\n",
       "      <td>...</td>\n",
       "      <td>...</td>\n",
       "      <td>...</td>\n",
       "      <td>...</td>\n",
       "      <td>...</td>\n",
       "    </tr>\n",
       "    <tr>\n",
       "      <td>690</td>\n",
       "      <td>1.0</td>\n",
       "      <td>LTU</td>\n",
       "      <td>2014</td>\n",
       "      <td>14.185811</td>\n",
       "      <td>0.43</td>\n",
       "      <td>0.1849</td>\n",
       "      <td>0.079507</td>\n",
       "      <td>10.233</td>\n",
       "      <td>104.714289</td>\n",
       "      <td>1071.541319</td>\n",
       "      <td>...</td>\n",
       "      <td>9.715045</td>\n",
       "      <td>0.103758</td>\n",
       "      <td>52.58745</td>\n",
       "      <td>13.0</td>\n",
       "      <td>15.742</td>\n",
       "      <td>5288.8008</td>\n",
       "      <td>8.573347</td>\n",
       "      <td>2.697</td>\n",
       "      <td>11.871613</td>\n",
       "      <td>NaN</td>\n",
       "    </tr>\n",
       "    <tr>\n",
       "      <td>691</td>\n",
       "      <td>1.0</td>\n",
       "      <td>LTU</td>\n",
       "      <td>2015</td>\n",
       "      <td>13.743647</td>\n",
       "      <td>0.53</td>\n",
       "      <td>0.2809</td>\n",
       "      <td>0.148877</td>\n",
       "      <td>10.256</td>\n",
       "      <td>105.185536</td>\n",
       "      <td>1078.782857</td>\n",
       "      <td>...</td>\n",
       "      <td>9.565090</td>\n",
       "      <td>-0.884097</td>\n",
       "      <td>53.33852</td>\n",
       "      <td>13.0</td>\n",
       "      <td>15.976</td>\n",
       "      <td>5523.3896</td>\n",
       "      <td>8.616747</td>\n",
       "      <td>2.697</td>\n",
       "      <td>8.560302</td>\n",
       "      <td>NaN</td>\n",
       "    </tr>\n",
       "    <tr>\n",
       "      <td>692</td>\n",
       "      <td>1.0</td>\n",
       "      <td>LTU</td>\n",
       "      <td>2016</td>\n",
       "      <td>11.403278</td>\n",
       "      <td>0.51</td>\n",
       "      <td>0.2601</td>\n",
       "      <td>0.132651</td>\n",
       "      <td>10.470</td>\n",
       "      <td>109.620900</td>\n",
       "      <td>1147.730823</td>\n",
       "      <td>...</td>\n",
       "      <td>9.615680</td>\n",
       "      <td>0.905525</td>\n",
       "      <td>50.88945</td>\n",
       "      <td>13.0</td>\n",
       "      <td>16.247</td>\n",
       "      <td>6170.3911</td>\n",
       "      <td>8.727518</td>\n",
       "      <td>2.697</td>\n",
       "      <td>11.594822</td>\n",
       "      <td>NaN</td>\n",
       "    </tr>\n",
       "    <tr>\n",
       "      <td>693</td>\n",
       "      <td>1.0</td>\n",
       "      <td>LTU</td>\n",
       "      <td>2017</td>\n",
       "      <td>11.220660</td>\n",
       "      <td>0.54</td>\n",
       "      <td>0.2916</td>\n",
       "      <td>0.157464</td>\n",
       "      <td>10.619</td>\n",
       "      <td>112.763161</td>\n",
       "      <td>1197.432007</td>\n",
       "      <td>...</td>\n",
       "      <td>9.734205</td>\n",
       "      <td>3.722889</td>\n",
       "      <td>47.00182</td>\n",
       "      <td>13.0</td>\n",
       "      <td>16.945</td>\n",
       "      <td>6339.7036</td>\n",
       "      <td>8.754587</td>\n",
       "      <td>2.697</td>\n",
       "      <td>12.785031</td>\n",
       "      <td>NaN</td>\n",
       "    </tr>\n",
       "    <tr>\n",
       "      <td>694</td>\n",
       "      <td>1.0</td>\n",
       "      <td>LTU</td>\n",
       "      <td>2018</td>\n",
       "      <td>10.495108</td>\n",
       "      <td>0.66</td>\n",
       "      <td>0.4356</td>\n",
       "      <td>0.287496</td>\n",
       "      <td>11.220</td>\n",
       "      <td>125.888400</td>\n",
       "      <td>1412.467848</td>\n",
       "      <td>...</td>\n",
       "      <td>9.861424</td>\n",
       "      <td>2.697928</td>\n",
       "      <td>40.67271</td>\n",
       "      <td>NaN</td>\n",
       "      <td>17.316</td>\n",
       "      <td>NaN</td>\n",
       "      <td>NaN</td>\n",
       "      <td>2.340</td>\n",
       "      <td>15.096315</td>\n",
       "      <td>NaN</td>\n",
       "    </tr>\n",
       "  </tbody>\n",
       "</table>\n",
       "<p>167 rows × 21 columns</p>\n",
       "</div>"
      ],
      "text/plain": [
       "     const Country  Time       NEET  Exp_LMP  Exp_LMP_2  Exp_LMP_3     STR  \\\n",
       "16     1.0     AUS  2013  13.015899     0.87     0.7569   0.658503  15.615   \n",
       "17     1.0     AUS  2014  12.647472     0.93     0.8649   0.804357  15.612   \n",
       "18     1.0     AUS  2015  11.831610     0.91     0.8281   0.753571  15.433   \n",
       "19     1.0     AUS  2016  11.352150     0.86     0.7396   0.636056  15.168   \n",
       "20     1.0     AUS  2017  10.946128     0.85     0.7225   0.614125  15.124   \n",
       "..     ...     ...   ...        ...      ...        ...        ...     ...   \n",
       "690    1.0     LTU  2014  14.185811     0.43     0.1849   0.079507  10.233   \n",
       "691    1.0     LTU  2015  13.743647     0.53     0.2809   0.148877  10.256   \n",
       "692    1.0     LTU  2016  11.403278     0.51     0.2601   0.132651  10.470   \n",
       "693    1.0     LTU  2017  11.220660     0.54     0.2916   0.157464  10.619   \n",
       "694    1.0     LTU  2018  10.495108     0.66     0.4356   0.287496  11.220   \n",
       "\n",
       "          STR_2        STR_3  ...     LogGDP       CPI      DEBT  \\\n",
       "16   243.828225  3807.377733  ...  11.129468  2.449889  55.70968   \n",
       "17   243.734544  3805.183701  ...  11.043094  2.487923  61.36842   \n",
       "18   238.177489  3675.793188  ...  10.946512  1.508367  64.18005   \n",
       "19   230.068224  3489.674822  ...  10.819201  1.276991  68.39156   \n",
       "20   228.735376  3459.393827  ...  10.897257  1.948647  65.60463   \n",
       "..          ...          ...  ...        ...       ...       ...   \n",
       "690  104.714289  1071.541319  ...   9.715045  0.103758  52.58745   \n",
       "691  105.185536  1078.782857  ...   9.565090 -0.884097  53.33852   \n",
       "692  109.620900  1147.730823  ...   9.615680  0.905525  50.88945   \n",
       "693  112.763161  1197.432007  ...   9.734205  3.722889  47.00182   \n",
       "694  125.888400  1412.467848  ...   9.861424  2.697928  40.67271   \n",
       "\n",
       "     Years_schooling  Avg_class_size    Exp_educ  LogExp_educ  \\\n",
       "16              12.6          23.725   9241.9922     9.131513   \n",
       "17              12.7          23.859   9257.9980     9.133243   \n",
       "18              12.8          23.821   9524.7178     9.161646   \n",
       "19              12.9          23.669  10022.5670     9.212595   \n",
       "20              12.9          23.613  10238.4130     9.233902   \n",
       "..               ...             ...         ...          ...   \n",
       "690             13.0          15.742   5288.8008     8.573347   \n",
       "691             13.0          15.976   5523.3896     8.616747   \n",
       "692             13.0          16.247   6170.3911     8.727518   \n",
       "693             13.0          16.945   6339.7036     8.754587   \n",
       "694              NaN          17.316         NaN          NaN   \n",
       "\n",
       "     Strictness_of_workers  PT_employ  Avg_dur_unemployment  \n",
       "16                   2.011  46.205162              5.955686  \n",
       "17                   2.011  46.603383              6.953608  \n",
       "18                   2.011  47.087093              6.972733  \n",
       "19                   2.011  48.964695              7.214289  \n",
       "20                   2.011  49.731342              6.959253  \n",
       "..                     ...        ...                   ...  \n",
       "690                  2.697  11.871613                   NaN  \n",
       "691                  2.697   8.560302                   NaN  \n",
       "692                  2.697  11.594822                   NaN  \n",
       "693                  2.697  12.785031                   NaN  \n",
       "694                  2.340  15.096315                   NaN  \n",
       "\n",
       "[167 rows x 21 columns]"
      ]
     },
     "execution_count": 35,
     "metadata": {},
     "output_type": "execute_result"
    }
   ],
   "source": [
    "df = sm.add_constant(df)\n",
    "df"
   ]
  },
  {
   "cell_type": "code",
   "execution_count": 36,
   "metadata": {},
   "outputs": [],
   "source": [
    "df.to_csv('./data/panel_data/Full_DB.csv',index=False)"
   ]
  },
  {
   "cell_type": "code",
   "execution_count": null,
   "metadata": {},
   "outputs": [],
   "source": []
  }
 ],
 "metadata": {
  "kernelspec": {
   "display_name": "Python 3",
   "language": "python",
   "name": "python3"
  },
  "language_info": {
   "codemirror_mode": {
    "name": "ipython",
    "version": 3
   },
   "file_extension": ".py",
   "mimetype": "text/x-python",
   "name": "python",
   "nbconvert_exporter": "python",
   "pygments_lexer": "ipython3",
   "version": "3.7.4"
  },
  "toc": {
   "base_numbering": 1,
   "nav_menu": {},
   "number_sections": true,
   "sideBar": true,
   "skip_h1_title": false,
   "title_cell": "Table of Contents",
   "title_sidebar": "Contents",
   "toc_cell": false,
   "toc_position": {},
   "toc_section_display": true,
   "toc_window_display": false
  },
  "varInspector": {
   "cols": {
    "lenName": 16,
    "lenType": 16,
    "lenVar": 40
   },
   "kernels_config": {
    "python": {
     "delete_cmd_postfix": "",
     "delete_cmd_prefix": "del ",
     "library": "var_list.py",
     "varRefreshCmd": "print(var_dic_list())"
    },
    "r": {
     "delete_cmd_postfix": ") ",
     "delete_cmd_prefix": "rm(",
     "library": "var_list.r",
     "varRefreshCmd": "cat(var_dic_list()) "
    }
   },
   "types_to_exclude": [
    "module",
    "function",
    "builtin_function_or_method",
    "instance",
    "_Feature"
   ],
   "window_display": false
  }
 },
 "nbformat": 4,
 "nbformat_minor": 2
}

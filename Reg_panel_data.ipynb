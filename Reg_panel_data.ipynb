{
 "cells": [
  {
   "cell_type": "code",
   "execution_count": 1,
   "metadata": {},
   "outputs": [],
   "source": [
    "import numpy as np\n",
    "import pandas as pd"
   ]
  },
  {
   "cell_type": "markdown",
   "metadata": {},
   "source": [
    "Les années communes à tous les datasets sont $2013-2018$."
   ]
  },
  {
   "cell_type": "markdown",
   "metadata": {},
   "source": [
    "Pour le neet rate, j'ai pris les $15-29$ ans. Pour le STR, j'ai pris le niveau $L1$."
   ]
  },
  {
   "cell_type": "code",
   "execution_count": 47,
   "metadata": {},
   "outputs": [],
   "source": [
    "neet_rate = pd.read_csv('./neet_rate_1997_2018.csv')\n",
    "exp_lmp = pd.read_csv('./exp_LMP_2004_2018.csv')\n",
    "student_teacher_ratio = pd.read_csv('./str_2013_2018.csv')\n",
    "min_wage = pd.read_csv('./min_wage_2001_2019.csv')"
   ]
  },
  {
   "cell_type": "code",
   "execution_count": 48,
   "metadata": {},
   "outputs": [],
   "source": [
    "neet_rate = neet_rate[neet_rate.Subject == '15_29'].drop(['Subject'], axis=1).reset_index(drop=True)\n",
    "student_teacher_ratio = student_teacher_ratio[student_teacher_ratio['ISC11_LEVEL_CAT']=='L1']"
   ]
  },
  {
   "cell_type": "code",
   "execution_count": 50,
   "metadata": {},
   "outputs": [],
   "source": [
    "oecd_countries = {'AUS': 'Australia', 'AUT': 'Austria', 'BEL': 'Belgium', 'CAN': 'Canada', 'CHL': 'Chile', 'COL': 'Colombia', 'CZE': 'Czech Republic', 'DNK': 'Denmark', 'EST': 'Estonia', 'FIN': 'Finland', 'FRA': 'France', 'DEU': 'Germany', 'GRC': 'Greece', 'HUN': 'Hungary', 'ISL': 'Iceland', 'IRL': 'Ireland', 'ISR': 'Israel', 'ITA': 'Italy', 'JPN': 'Japan', 'KOR': 'Korea', 'LVA': 'Latvia', 'LTU': 'Lithuania', 'LUX': 'Luxembourg', 'MEX': 'Mexico', 'NLD': 'Netherlands', 'NZL': 'New Zealand', 'NOR': 'Norway', 'POL': 'Poland', 'PRT': 'Portugal', 'SVK': 'Slovakia', 'SVN': 'Slovenia', 'ESP': 'Spain', 'SWE': 'Sweden', 'CHE': 'Switzerland', 'TUR': 'Turkey', 'GBR': 'United Kingdom', 'USA': 'United States'}"
   ]
  },
  {
   "cell_type": "code",
   "execution_count": 69,
   "metadata": {},
   "outputs": [],
   "source": [
    "full_df = pd.DataFrame(columns=['Country', 'Time', 'NEET', 'Exp_LMP', 'STR', 'Min_Wage'])\n",
    "years = [year for year in range(2013,2019,1)]\n",
    "for country in oecd_countries.keys():\n",
    "    neet_rate_country = neet_rate[(neet_rate.Country==country)&(neet_rate.Time.isin(years))]\n",
    "    exp_lmp_country = exp_lmp[(exp_lmp.Country==country)&(exp_lmp.Time.isin(years))]\n",
    "    student_teacher_ratio_country = student_teacher_ratio[(student_teacher_ratio.Country==country)&(student_teacher_ratio.Time.isin(years))]\n",
    "    min_wage_country = min_wage[(min_wage.Country==country)&(min_wage.Time.isin(years))]\n",
    "    for year in years:\n",
    "        neet = neet_rate_country[neet_rate_country.Time==year]['NEET'].values\n",
    "        exp_lmp_value = exp_lmp_country[exp_lmp_country.Time==year]['Exp_LMP'].values\n",
    "        str_value = student_teacher_ratio_country[student_teacher_ratio_country.Time==year]['STR'].values\n",
    "        min_wage_value = min_wage_country[min_wage_country.Time==year]['Min_Wage'].values\n",
    "        if (neet.size>0) and (exp_lmp_value.size>0) and (str_value.size>0) and (min_wage_value.size>0):\n",
    "            if (neet==neet) and (exp_lmp_value==exp_lmp_value) and (str_value==str_value) and (min_wage_value==min_wage_value):\n",
    "                full_df = full_df.append({'Country': country, 'Time': year, 'NEET': neet[0], 'Exp_LMP': exp_lmp_value[0], 'STR': str_value[0], 'Min_Wage': min_wage_value[0]}, ignore_index=True)"
   ]
  },
  {
   "cell_type": "code",
   "execution_count": 70,
   "metadata": {},
   "outputs": [
    {
     "data": {
      "text/html": [
       "<div>\n",
       "<style scoped>\n",
       "    .dataframe tbody tr th:only-of-type {\n",
       "        vertical-align: middle;\n",
       "    }\n",
       "\n",
       "    .dataframe tbody tr th {\n",
       "        vertical-align: top;\n",
       "    }\n",
       "\n",
       "    .dataframe thead th {\n",
       "        text-align: right;\n",
       "    }\n",
       "</style>\n",
       "<table border=\"1\" class=\"dataframe\">\n",
       "  <thead>\n",
       "    <tr style=\"text-align: right;\">\n",
       "      <th></th>\n",
       "      <th>Country</th>\n",
       "      <th>Time</th>\n",
       "      <th>NEET</th>\n",
       "      <th>Exp_LMP</th>\n",
       "      <th>STR</th>\n",
       "      <th>Min_Wage</th>\n",
       "    </tr>\n",
       "  </thead>\n",
       "  <tbody>\n",
       "    <tr>\n",
       "      <th>0</th>\n",
       "      <td>AUS</td>\n",
       "      <td>2013</td>\n",
       "      <td>13.015899</td>\n",
       "      <td>0.87</td>\n",
       "      <td>15.615</td>\n",
       "      <td>23283.766881</td>\n",
       "    </tr>\n",
       "    <tr>\n",
       "      <th>1</th>\n",
       "      <td>AUS</td>\n",
       "      <td>2014</td>\n",
       "      <td>12.647472</td>\n",
       "      <td>0.93</td>\n",
       "      <td>15.612</td>\n",
       "      <td>23356.492667</td>\n",
       "    </tr>\n",
       "    <tr>\n",
       "      <th>2</th>\n",
       "      <td>AUS</td>\n",
       "      <td>2015</td>\n",
       "      <td>11.831610</td>\n",
       "      <td>0.91</td>\n",
       "      <td>15.433</td>\n",
       "      <td>23641.395398</td>\n",
       "    </tr>\n",
       "    <tr>\n",
       "      <th>3</th>\n",
       "      <td>AUS</td>\n",
       "      <td>2016</td>\n",
       "      <td>11.352150</td>\n",
       "      <td>0.86</td>\n",
       "      <td>15.168</td>\n",
       "      <td>23915.419580</td>\n",
       "    </tr>\n",
       "    <tr>\n",
       "      <th>4</th>\n",
       "      <td>AUS</td>\n",
       "      <td>2017</td>\n",
       "      <td>10.946128</td>\n",
       "      <td>0.85</td>\n",
       "      <td>15.124</td>\n",
       "      <td>24128.731046</td>\n",
       "    </tr>\n",
       "    <tr>\n",
       "      <th>...</th>\n",
       "      <td>...</td>\n",
       "      <td>...</td>\n",
       "      <td>...</td>\n",
       "      <td>...</td>\n",
       "      <td>...</td>\n",
       "      <td>...</td>\n",
       "    </tr>\n",
       "    <tr>\n",
       "      <th>123</th>\n",
       "      <td>USA</td>\n",
       "      <td>2014</td>\n",
       "      <td>15.047262</td>\n",
       "      <td>0.28</td>\n",
       "      <td>15.435</td>\n",
       "      <td>16285.276127</td>\n",
       "    </tr>\n",
       "    <tr>\n",
       "      <th>124</th>\n",
       "      <td>USA</td>\n",
       "      <td>2015</td>\n",
       "      <td>14.380193</td>\n",
       "      <td>0.28</td>\n",
       "      <td>15.354</td>\n",
       "      <td>16265.980260</td>\n",
       "    </tr>\n",
       "    <tr>\n",
       "      <th>125</th>\n",
       "      <td>USA</td>\n",
       "      <td>2016</td>\n",
       "      <td>14.118049</td>\n",
       "      <td>0.26</td>\n",
       "      <td>15.216</td>\n",
       "      <td>16063.328012</td>\n",
       "    </tr>\n",
       "    <tr>\n",
       "      <th>126</th>\n",
       "      <td>USA</td>\n",
       "      <td>2017</td>\n",
       "      <td>13.280724</td>\n",
       "      <td>0.24</td>\n",
       "      <td>15.182</td>\n",
       "      <td>15728.297963</td>\n",
       "    </tr>\n",
       "    <tr>\n",
       "      <th>127</th>\n",
       "      <td>USA</td>\n",
       "      <td>2018</td>\n",
       "      <td>12.685773</td>\n",
       "      <td>0.25</td>\n",
       "      <td>15.224</td>\n",
       "      <td>15353.281279</td>\n",
       "    </tr>\n",
       "  </tbody>\n",
       "</table>\n",
       "<p>128 rows × 6 columns</p>\n",
       "</div>"
      ],
      "text/plain": [
       "    Country  Time       NEET  Exp_LMP     STR      Min_Wage\n",
       "0       AUS  2013  13.015899     0.87  15.615  23283.766881\n",
       "1       AUS  2014  12.647472     0.93  15.612  23356.492667\n",
       "2       AUS  2015  11.831610     0.91  15.433  23641.395398\n",
       "3       AUS  2016  11.352150     0.86  15.168  23915.419580\n",
       "4       AUS  2017  10.946128     0.85  15.124  24128.731046\n",
       "..      ...   ...        ...      ...     ...           ...\n",
       "123     USA  2014  15.047262     0.28  15.435  16285.276127\n",
       "124     USA  2015  14.380193     0.28  15.354  16265.980260\n",
       "125     USA  2016  14.118049     0.26  15.216  16063.328012\n",
       "126     USA  2017  13.280724     0.24  15.182  15728.297963\n",
       "127     USA  2018  12.685773     0.25  15.224  15353.281279\n",
       "\n",
       "[128 rows x 6 columns]"
      ]
     },
     "execution_count": 70,
     "metadata": {},
     "output_type": "execute_result"
    }
   ],
   "source": [
    "full_df"
   ]
  },
  {
   "cell_type": "code",
   "execution_count": null,
   "metadata": {},
   "outputs": [],
   "source": []
  }
 ],
 "metadata": {
  "kernelspec": {
   "display_name": "Python 3.7.6 64-bit ('base': conda)",
   "language": "python",
   "name": "python37664bitbasecondae5433ad43d13444bb011d4b7eb072777"
  },
  "language_info": {
   "codemirror_mode": {
    "name": "ipython",
    "version": 3
   },
   "file_extension": ".py",
   "mimetype": "text/x-python",
   "name": "python",
   "nbconvert_exporter": "python",
   "pygments_lexer": "ipython3",
   "version": "3.7.6"
  },
  "toc": {
   "base_numbering": 1,
   "nav_menu": {},
   "number_sections": true,
   "sideBar": true,
   "skip_h1_title": false,
   "title_cell": "Table of Contents",
   "title_sidebar": "Contents",
   "toc_cell": false,
   "toc_position": {},
   "toc_section_display": true,
   "toc_window_display": false
  },
  "varInspector": {
   "cols": {
    "lenName": 16,
    "lenType": 16,
    "lenVar": 40
   },
   "kernels_config": {
    "python": {
     "delete_cmd_postfix": "",
     "delete_cmd_prefix": "del ",
     "library": "var_list.py",
     "varRefreshCmd": "print(var_dic_list())"
    },
    "r": {
     "delete_cmd_postfix": ") ",
     "delete_cmd_prefix": "rm(",
     "library": "var_list.r",
     "varRefreshCmd": "cat(var_dic_list()) "
    }
   },
   "types_to_exclude": [
    "module",
    "function",
    "builtin_function_or_method",
    "instance",
    "_Feature"
   ],
   "window_display": false
  }
 },
 "nbformat": 4,
 "nbformat_minor": 4
}

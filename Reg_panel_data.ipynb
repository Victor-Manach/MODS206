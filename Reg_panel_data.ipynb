{
 "cells": [
  {
   "cell_type": "code",
   "execution_count": 1,
   "metadata": {},
   "outputs": [],
   "source": [
    "import numpy as np\n",
    "import pandas as pd\n",
    "import statsmodels.api as sm\n",
    "from linearmodels import PanelOLS"
   ]
  },
  {
   "cell_type": "markdown",
   "metadata": {},
   "source": [
    "Les années communes à tous les datasets sont $2013-2018$."
   ]
  },
  {
   "cell_type": "markdown",
   "metadata": {},
   "source": [
    "Pour le neet rate, j'ai pris les $15-29$ ans. Pour le STR, j'ai pris le niveau $L1$."
   ]
  },
  {
   "cell_type": "markdown",
   "metadata": {},
   "source": [
    "# Import data and create panel data sets"
   ]
  },
  {
   "cell_type": "markdown",
   "metadata": {},
   "source": [
    "## Import data"
   ]
  },
  {
   "cell_type": "code",
   "execution_count": 2,
   "metadata": {},
   "outputs": [],
   "source": [
    "neet_rate = pd.read_csv('./neet_rate_1997_2018.csv')\n",
    "exp_lmp = pd.read_csv('./exp_LMP_2004_2018.csv')\n",
    "student_teacher_ratio = pd.read_csv('./str_2013_2018.csv')\n",
    "min_wage = pd.read_csv('./min_wage_2001_2019.csv')\n",
    "df_eco_features = pd.read_csv('./economic_features.csv')"
   ]
  },
  {
   "cell_type": "markdown",
   "metadata": {},
   "source": [
    "## Create panel data set for the NEET rate and the 3 explanatory variables"
   ]
  },
  {
   "cell_type": "code",
   "execution_count": 3,
   "metadata": {},
   "outputs": [],
   "source": [
    "neet_rate = neet_rate[neet_rate.Subject == '15_29'].drop(['Subject'], axis=1).reset_index(drop=True)\n",
    "student_teacher_ratio = student_teacher_ratio[student_teacher_ratio['ISC11_LEVEL_CAT']=='L1']"
   ]
  },
  {
   "cell_type": "code",
   "execution_count": 4,
   "metadata": {},
   "outputs": [],
   "source": [
    "oecd_countries = {'AUS': 'Australia', 'AUT': 'Austria', 'BEL': 'Belgium', 'CAN': 'Canada', 'CHL': 'Chile', 'COL': 'Colombia', 'CZE': 'Czech Republic', 'DNK': 'Denmark', 'EST': 'Estonia', 'FIN': 'Finland', 'FRA': 'France', 'DEU': 'Germany', 'GRC': 'Greece', 'HUN': 'Hungary', 'ISL': 'Iceland', 'IRL': 'Ireland', 'ISR': 'Israel', 'ITA': 'Italy', 'JPN': 'Japan', 'KOR': 'Korea', 'LVA': 'Latvia', 'LTU': 'Lithuania', 'LUX': 'Luxembourg', 'MEX': 'Mexico', 'NLD': 'Netherlands', 'NZL': 'New Zealand', 'NOR': 'Norway', 'POL': 'Poland', 'PRT': 'Portugal', 'SVK': 'Slovakia', 'SVN': 'Slovenia', 'ESP': 'Spain', 'SWE': 'Sweden', 'CHE': 'Switzerland', 'TUR': 'Turkey', 'GBR': 'United Kingdom', 'USA': 'United States'}\n",
    "code_countries = [code for code in oecd_countries.keys()]"
   ]
  },
  {
   "cell_type": "code",
   "execution_count": 5,
   "metadata": {},
   "outputs": [],
   "source": [
    "full_df = pd.DataFrame(columns=['Country', 'Time', 'NEET', 'Exp_LMP', 'STR', 'Min_Wage'])\n",
    "years = [year for year in range(2013,2019,1)]\n",
    "for country in oecd_countries.keys():\n",
    "    neet_rate_country = neet_rate[(neet_rate.Country==country)&(neet_rate.Time.isin(years))]\n",
    "    exp_lmp_country = exp_lmp[(exp_lmp.Country==country)&(exp_lmp.Time.isin(years))]\n",
    "    student_teacher_ratio_country = student_teacher_ratio[(student_teacher_ratio.Country==country)&(student_teacher_ratio.Time.isin(years))]\n",
    "    min_wage_country = min_wage[(min_wage.Country==country)&(min_wage.Time.isin(years))]\n",
    "    for year in years:\n",
    "        neet = neet_rate_country[neet_rate_country.Time==year]['NEET'].values\n",
    "        exp_lmp_value = exp_lmp_country[exp_lmp_country.Time==year]['Exp_LMP'].values\n",
    "        str_value = student_teacher_ratio_country[student_teacher_ratio_country.Time==year]['STR'].values\n",
    "        min_wage_value = min_wage_country[min_wage_country.Time==year]['Min_Wage'].values\n",
    "        if (neet.size>0) and (exp_lmp_value.size>0) and (str_value.size>0) and (min_wage_value.size>0):\n",
    "            if (neet==neet) and (exp_lmp_value==exp_lmp_value) and (str_value==str_value) and (min_wage_value==min_wage_value):\n",
    "                full_df = full_df.append({'Country': country, 'Time': year, 'NEET': neet[0], 'Exp_LMP': exp_lmp_value[0], 'STR': str_value[0], 'Min_Wage': min_wage_value[0]}, ignore_index=True)"
   ]
  },
  {
   "cell_type": "code",
   "execution_count": 6,
   "metadata": {},
   "outputs": [
    {
     "data": {
      "text/plain": [
       "array(['AUS', 'BEL', 'CAN', 'CHL', 'CZE', 'DEU', 'ESP', 'EST', 'FRA',\n",
       "       'HUN', 'IRL', 'ISR', 'JPN', 'LTU', 'LUX', 'LVA', 'MEX', 'NLD',\n",
       "       'NZL', 'POL', 'PRT', 'SVK', 'SVN', 'USA'], dtype=object)"
      ]
     },
     "execution_count": 6,
     "metadata": {},
     "output_type": "execute_result"
    }
   ],
   "source": [
    "np.unique(full_df.Country)"
   ]
  },
  {
   "cell_type": "code",
   "execution_count": 7,
   "metadata": {},
   "outputs": [],
   "source": [
    "# create binary variables for each oecd country\n",
    "for code in np.unique(full_df.Country):\n",
    "    bin_var = (full_df.Country == code).astype(int)\n",
    "    full_df['bin_'+code] = bin_var"
   ]
  },
  {
   "cell_type": "code",
   "execution_count": 8,
   "metadata": {},
   "outputs": [],
   "source": [
    "# create a group id for each different country for the clustered standard errors\n",
    "groupid = []\n",
    "previous_country,gid = 'AUS', 0\n",
    "for code in full_df.Country:\n",
    "    current_country = code\n",
    "    if current_country==previous_country:\n",
    "        groupid.append(gid)\n",
    "    else:\n",
    "        gid += 1\n",
    "        groupid.append(gid)\n",
    "    previous_country = current_country\n",
    "full_df['groupid'] = groupid"
   ]
  },
  {
   "cell_type": "code",
   "execution_count": 9,
   "metadata": {},
   "outputs": [
    {
     "data": {
      "text/html": [
       "<div>\n",
       "<style scoped>\n",
       "    .dataframe tbody tr th:only-of-type {\n",
       "        vertical-align: middle;\n",
       "    }\n",
       "\n",
       "    .dataframe tbody tr th {\n",
       "        vertical-align: top;\n",
       "    }\n",
       "\n",
       "    .dataframe thead th {\n",
       "        text-align: right;\n",
       "    }\n",
       "</style>\n",
       "<table border=\"1\" class=\"dataframe\">\n",
       "  <thead>\n",
       "    <tr style=\"text-align: right;\">\n",
       "      <th></th>\n",
       "      <th></th>\n",
       "      <th>NEET</th>\n",
       "      <th>Exp_LMP</th>\n",
       "      <th>STR</th>\n",
       "      <th>Min_Wage</th>\n",
       "      <th>bin_AUS</th>\n",
       "      <th>bin_BEL</th>\n",
       "      <th>bin_CAN</th>\n",
       "      <th>bin_CHL</th>\n",
       "      <th>bin_CZE</th>\n",
       "      <th>bin_DEU</th>\n",
       "      <th>...</th>\n",
       "      <th>bin_LVA</th>\n",
       "      <th>bin_MEX</th>\n",
       "      <th>bin_NLD</th>\n",
       "      <th>bin_NZL</th>\n",
       "      <th>bin_POL</th>\n",
       "      <th>bin_PRT</th>\n",
       "      <th>bin_SVK</th>\n",
       "      <th>bin_SVN</th>\n",
       "      <th>bin_USA</th>\n",
       "      <th>groupid</th>\n",
       "    </tr>\n",
       "    <tr>\n",
       "      <th>Country</th>\n",
       "      <th>Time</th>\n",
       "      <th></th>\n",
       "      <th></th>\n",
       "      <th></th>\n",
       "      <th></th>\n",
       "      <th></th>\n",
       "      <th></th>\n",
       "      <th></th>\n",
       "      <th></th>\n",
       "      <th></th>\n",
       "      <th></th>\n",
       "      <th></th>\n",
       "      <th></th>\n",
       "      <th></th>\n",
       "      <th></th>\n",
       "      <th></th>\n",
       "      <th></th>\n",
       "      <th></th>\n",
       "      <th></th>\n",
       "      <th></th>\n",
       "      <th></th>\n",
       "      <th></th>\n",
       "    </tr>\n",
       "  </thead>\n",
       "  <tbody>\n",
       "    <tr>\n",
       "      <th rowspan=\"5\" valign=\"top\">AUS</th>\n",
       "      <th>2013</th>\n",
       "      <td>13.015899</td>\n",
       "      <td>0.87</td>\n",
       "      <td>15.615</td>\n",
       "      <td>23283.766881</td>\n",
       "      <td>1</td>\n",
       "      <td>0</td>\n",
       "      <td>0</td>\n",
       "      <td>0</td>\n",
       "      <td>0</td>\n",
       "      <td>0</td>\n",
       "      <td>...</td>\n",
       "      <td>0</td>\n",
       "      <td>0</td>\n",
       "      <td>0</td>\n",
       "      <td>0</td>\n",
       "      <td>0</td>\n",
       "      <td>0</td>\n",
       "      <td>0</td>\n",
       "      <td>0</td>\n",
       "      <td>0</td>\n",
       "      <td>0</td>\n",
       "    </tr>\n",
       "    <tr>\n",
       "      <th>2014</th>\n",
       "      <td>12.647472</td>\n",
       "      <td>0.93</td>\n",
       "      <td>15.612</td>\n",
       "      <td>23356.492667</td>\n",
       "      <td>1</td>\n",
       "      <td>0</td>\n",
       "      <td>0</td>\n",
       "      <td>0</td>\n",
       "      <td>0</td>\n",
       "      <td>0</td>\n",
       "      <td>...</td>\n",
       "      <td>0</td>\n",
       "      <td>0</td>\n",
       "      <td>0</td>\n",
       "      <td>0</td>\n",
       "      <td>0</td>\n",
       "      <td>0</td>\n",
       "      <td>0</td>\n",
       "      <td>0</td>\n",
       "      <td>0</td>\n",
       "      <td>0</td>\n",
       "    </tr>\n",
       "    <tr>\n",
       "      <th>2015</th>\n",
       "      <td>11.831610</td>\n",
       "      <td>0.91</td>\n",
       "      <td>15.433</td>\n",
       "      <td>23641.395398</td>\n",
       "      <td>1</td>\n",
       "      <td>0</td>\n",
       "      <td>0</td>\n",
       "      <td>0</td>\n",
       "      <td>0</td>\n",
       "      <td>0</td>\n",
       "      <td>...</td>\n",
       "      <td>0</td>\n",
       "      <td>0</td>\n",
       "      <td>0</td>\n",
       "      <td>0</td>\n",
       "      <td>0</td>\n",
       "      <td>0</td>\n",
       "      <td>0</td>\n",
       "      <td>0</td>\n",
       "      <td>0</td>\n",
       "      <td>0</td>\n",
       "    </tr>\n",
       "    <tr>\n",
       "      <th>2016</th>\n",
       "      <td>11.352150</td>\n",
       "      <td>0.86</td>\n",
       "      <td>15.168</td>\n",
       "      <td>23915.419580</td>\n",
       "      <td>1</td>\n",
       "      <td>0</td>\n",
       "      <td>0</td>\n",
       "      <td>0</td>\n",
       "      <td>0</td>\n",
       "      <td>0</td>\n",
       "      <td>...</td>\n",
       "      <td>0</td>\n",
       "      <td>0</td>\n",
       "      <td>0</td>\n",
       "      <td>0</td>\n",
       "      <td>0</td>\n",
       "      <td>0</td>\n",
       "      <td>0</td>\n",
       "      <td>0</td>\n",
       "      <td>0</td>\n",
       "      <td>0</td>\n",
       "    </tr>\n",
       "    <tr>\n",
       "      <th>2017</th>\n",
       "      <td>10.946128</td>\n",
       "      <td>0.85</td>\n",
       "      <td>15.124</td>\n",
       "      <td>24128.731046</td>\n",
       "      <td>1</td>\n",
       "      <td>0</td>\n",
       "      <td>0</td>\n",
       "      <td>0</td>\n",
       "      <td>0</td>\n",
       "      <td>0</td>\n",
       "      <td>...</td>\n",
       "      <td>0</td>\n",
       "      <td>0</td>\n",
       "      <td>0</td>\n",
       "      <td>0</td>\n",
       "      <td>0</td>\n",
       "      <td>0</td>\n",
       "      <td>0</td>\n",
       "      <td>0</td>\n",
       "      <td>0</td>\n",
       "      <td>0</td>\n",
       "    </tr>\n",
       "    <tr>\n",
       "      <th>...</th>\n",
       "      <th>...</th>\n",
       "      <td>...</td>\n",
       "      <td>...</td>\n",
       "      <td>...</td>\n",
       "      <td>...</td>\n",
       "      <td>...</td>\n",
       "      <td>...</td>\n",
       "      <td>...</td>\n",
       "      <td>...</td>\n",
       "      <td>...</td>\n",
       "      <td>...</td>\n",
       "      <td>...</td>\n",
       "      <td>...</td>\n",
       "      <td>...</td>\n",
       "      <td>...</td>\n",
       "      <td>...</td>\n",
       "      <td>...</td>\n",
       "      <td>...</td>\n",
       "      <td>...</td>\n",
       "      <td>...</td>\n",
       "      <td>...</td>\n",
       "      <td>...</td>\n",
       "    </tr>\n",
       "    <tr>\n",
       "      <th rowspan=\"5\" valign=\"top\">USA</th>\n",
       "      <th>2014</th>\n",
       "      <td>15.047262</td>\n",
       "      <td>0.28</td>\n",
       "      <td>15.435</td>\n",
       "      <td>16285.276127</td>\n",
       "      <td>0</td>\n",
       "      <td>0</td>\n",
       "      <td>0</td>\n",
       "      <td>0</td>\n",
       "      <td>0</td>\n",
       "      <td>0</td>\n",
       "      <td>...</td>\n",
       "      <td>0</td>\n",
       "      <td>0</td>\n",
       "      <td>0</td>\n",
       "      <td>0</td>\n",
       "      <td>0</td>\n",
       "      <td>0</td>\n",
       "      <td>0</td>\n",
       "      <td>0</td>\n",
       "      <td>1</td>\n",
       "      <td>23</td>\n",
       "    </tr>\n",
       "    <tr>\n",
       "      <th>2015</th>\n",
       "      <td>14.380193</td>\n",
       "      <td>0.28</td>\n",
       "      <td>15.354</td>\n",
       "      <td>16265.980260</td>\n",
       "      <td>0</td>\n",
       "      <td>0</td>\n",
       "      <td>0</td>\n",
       "      <td>0</td>\n",
       "      <td>0</td>\n",
       "      <td>0</td>\n",
       "      <td>...</td>\n",
       "      <td>0</td>\n",
       "      <td>0</td>\n",
       "      <td>0</td>\n",
       "      <td>0</td>\n",
       "      <td>0</td>\n",
       "      <td>0</td>\n",
       "      <td>0</td>\n",
       "      <td>0</td>\n",
       "      <td>1</td>\n",
       "      <td>23</td>\n",
       "    </tr>\n",
       "    <tr>\n",
       "      <th>2016</th>\n",
       "      <td>14.118049</td>\n",
       "      <td>0.26</td>\n",
       "      <td>15.216</td>\n",
       "      <td>16063.328012</td>\n",
       "      <td>0</td>\n",
       "      <td>0</td>\n",
       "      <td>0</td>\n",
       "      <td>0</td>\n",
       "      <td>0</td>\n",
       "      <td>0</td>\n",
       "      <td>...</td>\n",
       "      <td>0</td>\n",
       "      <td>0</td>\n",
       "      <td>0</td>\n",
       "      <td>0</td>\n",
       "      <td>0</td>\n",
       "      <td>0</td>\n",
       "      <td>0</td>\n",
       "      <td>0</td>\n",
       "      <td>1</td>\n",
       "      <td>23</td>\n",
       "    </tr>\n",
       "    <tr>\n",
       "      <th>2017</th>\n",
       "      <td>13.280724</td>\n",
       "      <td>0.24</td>\n",
       "      <td>15.182</td>\n",
       "      <td>15728.297963</td>\n",
       "      <td>0</td>\n",
       "      <td>0</td>\n",
       "      <td>0</td>\n",
       "      <td>0</td>\n",
       "      <td>0</td>\n",
       "      <td>0</td>\n",
       "      <td>...</td>\n",
       "      <td>0</td>\n",
       "      <td>0</td>\n",
       "      <td>0</td>\n",
       "      <td>0</td>\n",
       "      <td>0</td>\n",
       "      <td>0</td>\n",
       "      <td>0</td>\n",
       "      <td>0</td>\n",
       "      <td>1</td>\n",
       "      <td>23</td>\n",
       "    </tr>\n",
       "    <tr>\n",
       "      <th>2018</th>\n",
       "      <td>12.685773</td>\n",
       "      <td>0.25</td>\n",
       "      <td>15.224</td>\n",
       "      <td>15353.281279</td>\n",
       "      <td>0</td>\n",
       "      <td>0</td>\n",
       "      <td>0</td>\n",
       "      <td>0</td>\n",
       "      <td>0</td>\n",
       "      <td>0</td>\n",
       "      <td>...</td>\n",
       "      <td>0</td>\n",
       "      <td>0</td>\n",
       "      <td>0</td>\n",
       "      <td>0</td>\n",
       "      <td>0</td>\n",
       "      <td>0</td>\n",
       "      <td>0</td>\n",
       "      <td>0</td>\n",
       "      <td>1</td>\n",
       "      <td>23</td>\n",
       "    </tr>\n",
       "  </tbody>\n",
       "</table>\n",
       "<p>128 rows × 29 columns</p>\n",
       "</div>"
      ],
      "text/plain": [
       "                   NEET  Exp_LMP     STR      Min_Wage  bin_AUS  bin_BEL  \\\n",
       "Country Time                                                               \n",
       "AUS     2013  13.015899     0.87  15.615  23283.766881        1        0   \n",
       "        2014  12.647472     0.93  15.612  23356.492667        1        0   \n",
       "        2015  11.831610     0.91  15.433  23641.395398        1        0   \n",
       "        2016  11.352150     0.86  15.168  23915.419580        1        0   \n",
       "        2017  10.946128     0.85  15.124  24128.731046        1        0   \n",
       "...                 ...      ...     ...           ...      ...      ...   \n",
       "USA     2014  15.047262     0.28  15.435  16285.276127        0        0   \n",
       "        2015  14.380193     0.28  15.354  16265.980260        0        0   \n",
       "        2016  14.118049     0.26  15.216  16063.328012        0        0   \n",
       "        2017  13.280724     0.24  15.182  15728.297963        0        0   \n",
       "        2018  12.685773     0.25  15.224  15353.281279        0        0   \n",
       "\n",
       "              bin_CAN  bin_CHL  bin_CZE  bin_DEU  ...  bin_LVA  bin_MEX  \\\n",
       "Country Time                                      ...                     \n",
       "AUS     2013        0        0        0        0  ...        0        0   \n",
       "        2014        0        0        0        0  ...        0        0   \n",
       "        2015        0        0        0        0  ...        0        0   \n",
       "        2016        0        0        0        0  ...        0        0   \n",
       "        2017        0        0        0        0  ...        0        0   \n",
       "...               ...      ...      ...      ...  ...      ...      ...   \n",
       "USA     2014        0        0        0        0  ...        0        0   \n",
       "        2015        0        0        0        0  ...        0        0   \n",
       "        2016        0        0        0        0  ...        0        0   \n",
       "        2017        0        0        0        0  ...        0        0   \n",
       "        2018        0        0        0        0  ...        0        0   \n",
       "\n",
       "              bin_NLD  bin_NZL  bin_POL  bin_PRT  bin_SVK  bin_SVN  bin_USA  \\\n",
       "Country Time                                                                  \n",
       "AUS     2013        0        0        0        0        0        0        0   \n",
       "        2014        0        0        0        0        0        0        0   \n",
       "        2015        0        0        0        0        0        0        0   \n",
       "        2016        0        0        0        0        0        0        0   \n",
       "        2017        0        0        0        0        0        0        0   \n",
       "...               ...      ...      ...      ...      ...      ...      ...   \n",
       "USA     2014        0        0        0        0        0        0        1   \n",
       "        2015        0        0        0        0        0        0        1   \n",
       "        2016        0        0        0        0        0        0        1   \n",
       "        2017        0        0        0        0        0        0        1   \n",
       "        2018        0        0        0        0        0        0        1   \n",
       "\n",
       "              groupid  \n",
       "Country Time           \n",
       "AUS     2013        0  \n",
       "        2014        0  \n",
       "        2015        0  \n",
       "        2016        0  \n",
       "        2017        0  \n",
       "...               ...  \n",
       "USA     2014       23  \n",
       "        2015       23  \n",
       "        2016       23  \n",
       "        2017       23  \n",
       "        2018       23  \n",
       "\n",
       "[128 rows x 29 columns]"
      ]
     },
     "execution_count": 9,
     "metadata": {},
     "output_type": "execute_result"
    }
   ],
   "source": [
    "full_df = full_df.set_index(['Country', 'Time'])\n",
    "full_df"
   ]
  },
  {
   "cell_type": "markdown",
   "metadata": {},
   "source": [
    "## Create panel data set for the economic features"
   ]
  },
  {
   "cell_type": "code",
   "execution_count": 20,
   "metadata": {},
   "outputs": [],
   "source": [
    "df_eco_features = df_eco_features.set_index(['Country', 'Time'])"
   ]
  },
  {
   "cell_type": "markdown",
   "metadata": {},
   "source": [
    "## Create panel data set for the education indicators"
   ]
  },
  {
   "cell_type": "markdown",
   "metadata": {},
   "source": [
    "## Create panel data set for the labour market indicators"
   ]
  },
  {
   "cell_type": "markdown",
   "metadata": {},
   "source": [
    "# OLS on panel data"
   ]
  },
  {
   "cell_type": "code",
   "execution_count": 10,
   "metadata": {},
   "outputs": [],
   "source": [
    "X_bols, Y_bols = full_df[['Exp_LMP', 'STR', 'Min_Wage']], full_df['NEET']\n",
    "X_bols = sm.add_constant(X_bols)"
   ]
  },
  {
   "cell_type": "code",
   "execution_count": 11,
   "metadata": {},
   "outputs": [
    {
     "data": {
      "text/html": [
       "<div>\n",
       "<style scoped>\n",
       "    .dataframe tbody tr th:only-of-type {\n",
       "        vertical-align: middle;\n",
       "    }\n",
       "\n",
       "    .dataframe tbody tr th {\n",
       "        vertical-align: top;\n",
       "    }\n",
       "\n",
       "    .dataframe thead th {\n",
       "        text-align: right;\n",
       "    }\n",
       "</style>\n",
       "<table border=\"1\" class=\"dataframe\">\n",
       "  <thead>\n",
       "    <tr style=\"text-align: right;\">\n",
       "      <th></th>\n",
       "      <th>variables</th>\n",
       "      <th>VIF</th>\n",
       "    </tr>\n",
       "  </thead>\n",
       "  <tbody>\n",
       "    <tr>\n",
       "      <th>0</th>\n",
       "      <td>const</td>\n",
       "      <td>26.576924</td>\n",
       "    </tr>\n",
       "    <tr>\n",
       "      <th>1</th>\n",
       "      <td>Exp_LMP</td>\n",
       "      <td>1.380412</td>\n",
       "    </tr>\n",
       "    <tr>\n",
       "      <th>2</th>\n",
       "      <td>STR</td>\n",
       "      <td>1.053941</td>\n",
       "    </tr>\n",
       "    <tr>\n",
       "      <th>3</th>\n",
       "      <td>Min_Wage</td>\n",
       "      <td>1.410139</td>\n",
       "    </tr>\n",
       "  </tbody>\n",
       "</table>\n",
       "</div>"
      ],
      "text/plain": [
       "  variables        VIF\n",
       "0     const  26.576924\n",
       "1   Exp_LMP   1.380412\n",
       "2       STR   1.053941\n",
       "3  Min_Wage   1.410139"
      ]
     },
     "execution_count": 11,
     "metadata": {},
     "output_type": "execute_result"
    }
   ],
   "source": [
    "from statsmodels.stats.outliers_influence import variance_inflation_factor\n",
    "\n",
    "def calc_vif(X):\n",
    "\n",
    "    # Calculating VIF\n",
    "    vif = pd.DataFrame()\n",
    "    vif[\"variables\"] = X.columns\n",
    "    vif[\"VIF\"] = [variance_inflation_factor(X.values, i) for i in range(X.shape[1])]\n",
    "\n",
    "    return(vif)\n",
    "calc_vif(X_bols)"
   ]
  },
  {
   "cell_type": "markdown",
   "metadata": {},
   "source": [
    "## Basic OLS without state or time fixed effects"
   ]
  },
  {
   "cell_type": "code",
   "execution_count": 12,
   "metadata": {},
   "outputs": [],
   "source": [
    "basic_ols = sm.OLS(Y_bols, X_bols).fit()"
   ]
  },
  {
   "cell_type": "code",
   "execution_count": 13,
   "metadata": {},
   "outputs": [
    {
     "name": "stdout",
     "output_type": "stream",
     "text": [
      "                            OLS Regression Results                            \n",
      "==============================================================================\n",
      "Dep. Variable:                   NEET   R-squared:                       0.609\n",
      "Model:                            OLS   Adj. R-squared:                  0.599\n",
      "Method:                 Least Squares   F-statistic:                     64.30\n",
      "Date:                Sun, 28 Mar 2021   Prob (F-statistic):           3.81e-25\n",
      "Time:                        09:33:29   Log-Likelihood:                -292.26\n",
      "No. Observations:                 128   AIC:                             592.5\n",
      "Df Residuals:                     124   BIC:                             603.9\n",
      "Df Model:                           3                                         \n",
      "Covariance Type:            nonrobust                                         \n",
      "==============================================================================\n",
      "                 coef    std err          t      P>|t|      [0.025      0.975]\n",
      "------------------------------------------------------------------------------\n",
      "const         13.8227      1.099     12.579      0.000      11.648      15.998\n",
      "Exp_LMP        2.5795      0.306      8.425      0.000       1.974       3.186\n",
      "STR            0.2770      0.056      4.920      0.000       0.166       0.388\n",
      "Min_Wage      -0.0005   3.83e-05    -11.948      0.000      -0.001      -0.000\n",
      "==============================================================================\n",
      "Omnibus:                        2.566   Durbin-Watson:                   0.584\n",
      "Prob(Omnibus):                  0.277   Jarque-Bera (JB):                2.151\n",
      "Skew:                          -0.309   Prob(JB):                        0.341\n",
      "Kurtosis:                       3.148   Cond. No.                     8.38e+04\n",
      "==============================================================================\n",
      "\n",
      "Warnings:\n",
      "[1] Standard Errors assume that the covariance matrix of the errors is correctly specified.\n",
      "[2] The condition number is large, 8.38e+04. This might indicate that there are\n",
      "strong multicollinearity or other numerical problems.\n"
     ]
    }
   ],
   "source": [
    "print(basic_ols.summary())"
   ]
  },
  {
   "cell_type": "markdown",
   "metadata": {},
   "source": [
    "## OLS with only state fixed effects"
   ]
  },
  {
   "cell_type": "markdown",
   "metadata": {},
   "source": [
    "### Use the n-1 binary variables for states, France is the reference"
   ]
  },
  {
   "cell_type": "code",
   "execution_count": 14,
   "metadata": {},
   "outputs": [],
   "source": [
    "X_sfe, Y_sfe = full_df.drop(['NEET', 'Min_Wage', 'STR', 'bin_FRA', 'groupid'], axis=1), full_df['NEET']\n",
    "X_sfe = sm.add_constant(X_sfe)"
   ]
  },
  {
   "cell_type": "code",
   "execution_count": 15,
   "metadata": {},
   "outputs": [
    {
     "name": "stdout",
     "output_type": "stream",
     "text": [
      "                            OLS Regression Results                            \n",
      "==============================================================================\n",
      "Dep. Variable:                   NEET   R-squared:                       0.925\n",
      "Model:                            OLS   Adj. R-squared:                  0.907\n",
      "Method:                 Least Squares   F-statistic:                     32.62\n",
      "Date:                Sun, 28 Mar 2021   Prob (F-statistic):           8.14e-06\n",
      "Time:                        09:33:29   Log-Likelihood:                -186.69\n",
      "No. Observations:                 128   AIC:                             423.4\n",
      "Df Residuals:                     103   BIC:                             494.7\n",
      "Df Model:                          24                                         \n",
      "Covariance Type:              cluster                                         \n",
      "==============================================================================\n",
      "                 coef    std err          z      P>|z|      [0.025      0.975]\n",
      "------------------------------------------------------------------------------\n",
      "const          2.1360      1.884      1.134      0.257      -1.556       5.828\n",
      "Exp_LMP        4.9803      0.648      7.681      0.000       3.710       6.251\n",
      "bin_AUS        5.3203      1.322      4.026      0.000       2.730       7.911\n",
      "bin_BEL       -0.3415      0.321     -1.064      0.287      -0.971       0.288\n",
      "bin_CAN        6.5887      1.363      4.835      0.000       3.918       9.260\n",
      "bin_CHL       13.9338      1.583      8.801      0.000      10.831      17.037\n",
      "bin_CZE        6.9809      1.541      4.530      0.000       3.961      10.001\n",
      "bin_DEU       -0.1551      0.947     -0.164      0.870      -2.011       1.700\n",
      "bin_ESP        7.1562      0.166     43.001      0.000       6.830       7.482\n",
      "bin_EST        7.8523      1.423      5.517      0.000       5.063      10.642\n",
      "bin_HUN        8.5093      1.175      7.244      0.000       6.207      10.812\n",
      "bin_IRL        4.5810      1.141      4.014      0.000       2.344       6.818\n",
      "bin_ISR        8.5032      1.456      5.842      0.000       5.650      11.356\n",
      "bin_JPN        6.3755      1.647      3.871      0.000       3.148       9.603\n",
      "bin_LTU        7.4142      1.537      4.823      0.000       4.401      10.427\n",
      "bin_LUX       -1.1736      0.998     -1.176      0.240      -3.129       0.782\n",
      "bin_LVA        8.7890      1.511      5.818      0.000       5.828      11.750\n",
      "bin_MEX       19.5739      1.879     10.416      0.000      15.891      23.257\n",
      "bin_NLD       -5.8836      0.359    -16.409      0.000      -6.586      -5.181\n",
      "bin_NZL        6.9449      1.482      4.687      0.000       4.041       9.849\n",
      "bin_POL        9.3008      1.432      6.496      0.000       6.494      12.107\n",
      "bin_PRT        4.0039      0.731      5.481      0.000       2.572       5.436\n",
      "bin_SVK       12.0823      1.515      7.975      0.000       9.113      15.052\n",
      "bin_SVN        6.0120      1.348      4.461      0.000       3.371       8.653\n",
      "bin_USA       10.7389      1.704      6.301      0.000       7.399      14.079\n",
      "==============================================================================\n",
      "Omnibus:                        6.102   Durbin-Watson:                   1.532\n",
      "Prob(Omnibus):                  0.047   Jarque-Bera (JB):                6.883\n",
      "Skew:                           0.309   Prob(JB):                       0.0320\n",
      "Kurtosis:                       3.954   Cond. No.                         103.\n",
      "==============================================================================\n",
      "\n",
      "Warnings:\n",
      "[1] Standard Errors are robust to cluster correlation (cluster)\n"
     ]
    },
    {
     "name": "stderr",
     "output_type": "stream",
     "text": [
      "/Users/Victor/anaconda3/lib/python3.7/site-packages/statsmodels/base/model.py:1832: ValueWarning: covariance of constraints does not have full rank. The number of constraints is 24, but rank is 1\n",
      "  'rank is %d' % (J, J_), ValueWarning)\n"
     ]
    }
   ],
   "source": [
    "sfe_ols = sm.OLS(Y_sfe, X_sfe).fit(cov_type='cluster', cov_kwds = {'groups': full_df['groupid']})\n",
    "print(sfe_ols.summary())"
   ]
  },
  {
   "cell_type": "code",
   "execution_count": 16,
   "metadata": {},
   "outputs": [],
   "source": [
    "test_df = full_df[['NEET', 'Exp_LMP', 'STR', 'Min_Wage']]\n",
    "test_df = sm.add_constant(test_df)"
   ]
  },
  {
   "cell_type": "code",
   "execution_count": 17,
   "metadata": {},
   "outputs": [],
   "source": [
    "panel_ols = PanelOLS(test_df.NEET, test_df[['const', 'Exp_LMP', 'STR', 'Min_Wage']]).fit(cov_type='unadjusted')"
   ]
  },
  {
   "cell_type": "code",
   "execution_count": 18,
   "metadata": {},
   "outputs": [
    {
     "name": "stdout",
     "output_type": "stream",
     "text": [
      "                          PanelOLS Estimation Summary                           \n",
      "================================================================================\n",
      "Dep. Variable:                   NEET   R-squared:                        0.6087\n",
      "Estimator:                   PanelOLS   R-squared (Between):              0.6326\n",
      "No. Observations:                 128   R-squared (Within):               0.5537\n",
      "Date:                Sun, Mar 28 2021   R-squared (Overall):              0.6087\n",
      "Time:                        09:33:29   Log-likelihood                   -292.26\n",
      "Cov. Estimator:            Unadjusted                                           \n",
      "                                        F-statistic:                      64.297\n",
      "Entities:                          24   P-value                           0.0000\n",
      "Avg Obs:                       5.3333   Distribution:                   F(3,124)\n",
      "Min Obs:                       2.0000                                           \n",
      "Max Obs:                       6.0000   F-statistic (robust):             64.297\n",
      "                                        P-value                           0.0000\n",
      "Time periods:                       6   Distribution:                   F(3,124)\n",
      "Avg Obs:                       21.333                                           \n",
      "Min Obs:                       20.000                                           \n",
      "Max Obs:                       23.000                                           \n",
      "                                                                                \n",
      "                             Parameter Estimates                              \n",
      "==============================================================================\n",
      "            Parameter  Std. Err.     T-stat    P-value    Lower CI    Upper CI\n",
      "------------------------------------------------------------------------------\n",
      "const          13.823     1.0988     12.579     0.0000      11.648      15.998\n",
      "Exp_LMP        2.5795     0.3062     8.4254     0.0000      1.9736      3.1855\n",
      "STR            0.2770     0.0563     4.9197     0.0000      0.1656      0.3885\n",
      "Min_Wage      -0.0005  3.826e-05    -11.948     0.0000     -0.0005     -0.0004\n",
      "==============================================================================\n",
      "\n",
      "\n"
     ]
    }
   ],
   "source": [
    "print(panel_ols)"
   ]
  }
 ],
 "metadata": {
  "kernelspec": {
   "display_name": "Python 3.7.6 64-bit ('base': conda)",
   "language": "python",
   "name": "python37664bitbasecondae5433ad43d13444bb011d4b7eb072777"
  },
  "language_info": {
   "codemirror_mode": {
    "name": "ipython",
    "version": 3
   },
   "file_extension": ".py",
   "mimetype": "text/x-python",
   "name": "python",
   "nbconvert_exporter": "python",
   "pygments_lexer": "ipython3",
   "version": "3.7.6"
  },
  "toc": {
   "base_numbering": 1,
   "nav_menu": {},
   "number_sections": true,
   "sideBar": true,
   "skip_h1_title": false,
   "title_cell": "Table of Contents",
   "title_sidebar": "Contents",
   "toc_cell": false,
   "toc_position": {},
   "toc_section_display": true,
   "toc_window_display": false
  },
  "varInspector": {
   "cols": {
    "lenName": 16,
    "lenType": 16,
    "lenVar": 40
   },
   "kernels_config": {
    "python": {
     "delete_cmd_postfix": "",
     "delete_cmd_prefix": "del ",
     "library": "var_list.py",
     "varRefreshCmd": "print(var_dic_list())"
    },
    "r": {
     "delete_cmd_postfix": ") ",
     "delete_cmd_prefix": "rm(",
     "library": "var_list.r",
     "varRefreshCmd": "cat(var_dic_list()) "
    }
   },
   "types_to_exclude": [
    "module",
    "function",
    "builtin_function_or_method",
    "instance",
    "_Feature"
   ],
   "window_display": false
  }
 },
 "nbformat": 4,
 "nbformat_minor": 4
}

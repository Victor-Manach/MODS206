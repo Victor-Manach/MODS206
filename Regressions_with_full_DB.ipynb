{
 "cells": [
  {
   "cell_type": "markdown",
   "metadata": {},
   "source": [
    "# Library importation"
   ]
  },
  {
   "cell_type": "code",
   "execution_count": 1,
   "metadata": {},
   "outputs": [],
   "source": [
    "import numpy as np\n",
    "import pandas as pd\n",
    "from linearmodels import PanelOLS\n",
    "from linearmodels.panel.results import PanelModelComparison\n",
    "import statsmodels.api as sm"
   ]
  },
  {
   "cell_type": "markdown",
   "metadata": {},
   "source": [
    "# Data importation"
   ]
  },
  {
   "cell_type": "code",
   "execution_count": 2,
   "metadata": {},
   "outputs": [],
   "source": [
    "df = pd.read_csv('./data/panel_data/Full_DB.csv')"
   ]
  },
  {
   "cell_type": "code",
   "execution_count": 3,
   "metadata": {},
   "outputs": [
    {
     "data": {
      "text/plain": [
       "Index(['const', 'Country', 'Time', 'NEET', 'Exp_LMP', 'Exp_LMP_2', 'Exp_LMP_3',\n",
       "       'STR', 'STR_2', 'STR_3', 'GDP', 'LogGDP', 'CPI', 'DEBT',\n",
       "       'Years_schooling', 'Avg_class_size', 'Exp_educ', 'LogExp_educ',\n",
       "       'Strictness_of_workers', 'PT_employ', 'Avg_dur_unemployment'],\n",
       "      dtype='object')"
      ]
     },
     "execution_count": 3,
     "metadata": {},
     "output_type": "execute_result"
    }
   ],
   "source": [
    "df.columns"
   ]
  },
  {
   "cell_type": "markdown",
   "metadata": {},
   "source": [
    "# Add interaction terms"
   ]
  },
  {
   "cell_type": "code",
   "execution_count": 4,
   "metadata": {},
   "outputs": [],
   "source": [
    "df['LogGDPxExp_LMP'] = df['LogGDP']*df['Exp_LMP']\n",
    "df['LogGDPxExp_LMP_2'] = df['LogGDP']*df['Exp_LMP_2']\n",
    "df['STRxLogExp_educ'] = df.STR * df.LogExp_educ\n",
    "df['STR_2xLogExp_educ'] = df.STR_2 * df.LogExp_educ\n",
    "df['STR_3xLogExp_educ'] = df.STR_3 * df.LogExp_educ"
   ]
  },
  {
   "cell_type": "markdown",
   "metadata": {},
   "source": [
    "# Regressions"
   ]
  },
  {
   "cell_type": "markdown",
   "metadata": {},
   "source": [
    "## With explanatory variables only"
   ]
  },
  {
   "cell_type": "markdown",
   "metadata": {},
   "source": [
    "### Without time and entity effects"
   ]
  },
  {
   "cell_type": "code",
   "execution_count": 5,
   "metadata": {},
   "outputs": [],
   "source": [
    "df_explanatory = df[['const','Country','Time','NEET','Exp_LMP','Exp_LMP_2','STR','STR_2','STR_3']]\n",
    "# df_explanatory = df_explanatory.dropna().reset_index(drop=True)\n",
    "df_explanatory = df_explanatory.set_index(['Country', 'Time'])"
   ]
  },
  {
   "cell_type": "code",
   "execution_count": 6,
   "metadata": {},
   "outputs": [
    {
     "data": {
      "text/html": [
       "<div>\n",
       "<style scoped>\n",
       "    .dataframe tbody tr th:only-of-type {\n",
       "        vertical-align: middle;\n",
       "    }\n",
       "\n",
       "    .dataframe tbody tr th {\n",
       "        vertical-align: top;\n",
       "    }\n",
       "\n",
       "    .dataframe thead th {\n",
       "        text-align: right;\n",
       "    }\n",
       "</style>\n",
       "<table border=\"1\" class=\"dataframe\">\n",
       "  <thead>\n",
       "    <tr style=\"text-align: right;\">\n",
       "      <th></th>\n",
       "      <th></th>\n",
       "      <th>const</th>\n",
       "      <th>NEET</th>\n",
       "      <th>Exp_LMP</th>\n",
       "      <th>Exp_LMP_2</th>\n",
       "      <th>STR</th>\n",
       "      <th>STR_2</th>\n",
       "      <th>STR_3</th>\n",
       "    </tr>\n",
       "    <tr>\n",
       "      <th>Country</th>\n",
       "      <th>Time</th>\n",
       "      <th></th>\n",
       "      <th></th>\n",
       "      <th></th>\n",
       "      <th></th>\n",
       "      <th></th>\n",
       "      <th></th>\n",
       "      <th></th>\n",
       "    </tr>\n",
       "  </thead>\n",
       "  <tbody>\n",
       "    <tr>\n",
       "      <th rowspan=\"5\" valign=\"top\">AUS</th>\n",
       "      <th>2013</th>\n",
       "      <td>1.0</td>\n",
       "      <td>13.015899</td>\n",
       "      <td>0.87</td>\n",
       "      <td>0.7569</td>\n",
       "      <td>15.615</td>\n",
       "      <td>243.828225</td>\n",
       "      <td>3807.377733</td>\n",
       "    </tr>\n",
       "    <tr>\n",
       "      <th>2014</th>\n",
       "      <td>1.0</td>\n",
       "      <td>12.647472</td>\n",
       "      <td>0.93</td>\n",
       "      <td>0.8649</td>\n",
       "      <td>15.612</td>\n",
       "      <td>243.734544</td>\n",
       "      <td>3805.183701</td>\n",
       "    </tr>\n",
       "    <tr>\n",
       "      <th>2015</th>\n",
       "      <td>1.0</td>\n",
       "      <td>11.831610</td>\n",
       "      <td>0.91</td>\n",
       "      <td>0.8281</td>\n",
       "      <td>15.433</td>\n",
       "      <td>238.177489</td>\n",
       "      <td>3675.793188</td>\n",
       "    </tr>\n",
       "    <tr>\n",
       "      <th>2016</th>\n",
       "      <td>1.0</td>\n",
       "      <td>11.352150</td>\n",
       "      <td>0.86</td>\n",
       "      <td>0.7396</td>\n",
       "      <td>15.168</td>\n",
       "      <td>230.068224</td>\n",
       "      <td>3489.674822</td>\n",
       "    </tr>\n",
       "    <tr>\n",
       "      <th>2017</th>\n",
       "      <td>1.0</td>\n",
       "      <td>10.946128</td>\n",
       "      <td>0.85</td>\n",
       "      <td>0.7225</td>\n",
       "      <td>15.124</td>\n",
       "      <td>228.735376</td>\n",
       "      <td>3459.393827</td>\n",
       "    </tr>\n",
       "    <tr>\n",
       "      <th>...</th>\n",
       "      <th>...</th>\n",
       "      <td>...</td>\n",
       "      <td>...</td>\n",
       "      <td>...</td>\n",
       "      <td>...</td>\n",
       "      <td>...</td>\n",
       "      <td>...</td>\n",
       "      <td>...</td>\n",
       "    </tr>\n",
       "    <tr>\n",
       "      <th rowspan=\"5\" valign=\"top\">LTU</th>\n",
       "      <th>2014</th>\n",
       "      <td>1.0</td>\n",
       "      <td>14.185811</td>\n",
       "      <td>0.43</td>\n",
       "      <td>0.1849</td>\n",
       "      <td>10.233</td>\n",
       "      <td>104.714289</td>\n",
       "      <td>1071.541319</td>\n",
       "    </tr>\n",
       "    <tr>\n",
       "      <th>2015</th>\n",
       "      <td>1.0</td>\n",
       "      <td>13.743647</td>\n",
       "      <td>0.53</td>\n",
       "      <td>0.2809</td>\n",
       "      <td>10.256</td>\n",
       "      <td>105.185536</td>\n",
       "      <td>1078.782857</td>\n",
       "    </tr>\n",
       "    <tr>\n",
       "      <th>2016</th>\n",
       "      <td>1.0</td>\n",
       "      <td>11.403278</td>\n",
       "      <td>0.51</td>\n",
       "      <td>0.2601</td>\n",
       "      <td>10.470</td>\n",
       "      <td>109.620900</td>\n",
       "      <td>1147.730823</td>\n",
       "    </tr>\n",
       "    <tr>\n",
       "      <th>2017</th>\n",
       "      <td>1.0</td>\n",
       "      <td>11.220660</td>\n",
       "      <td>0.54</td>\n",
       "      <td>0.2916</td>\n",
       "      <td>10.619</td>\n",
       "      <td>112.763161</td>\n",
       "      <td>1197.432007</td>\n",
       "    </tr>\n",
       "    <tr>\n",
       "      <th>2018</th>\n",
       "      <td>1.0</td>\n",
       "      <td>10.495108</td>\n",
       "      <td>0.66</td>\n",
       "      <td>0.4356</td>\n",
       "      <td>11.220</td>\n",
       "      <td>125.888400</td>\n",
       "      <td>1412.467848</td>\n",
       "    </tr>\n",
       "  </tbody>\n",
       "</table>\n",
       "<p>167 rows × 7 columns</p>\n",
       "</div>"
      ],
      "text/plain": [
       "              const       NEET  Exp_LMP  Exp_LMP_2     STR       STR_2  \\\n",
       "Country Time                                                             \n",
       "AUS     2013    1.0  13.015899     0.87     0.7569  15.615  243.828225   \n",
       "        2014    1.0  12.647472     0.93     0.8649  15.612  243.734544   \n",
       "        2015    1.0  11.831610     0.91     0.8281  15.433  238.177489   \n",
       "        2016    1.0  11.352150     0.86     0.7396  15.168  230.068224   \n",
       "        2017    1.0  10.946128     0.85     0.7225  15.124  228.735376   \n",
       "...             ...        ...      ...        ...     ...         ...   \n",
       "LTU     2014    1.0  14.185811     0.43     0.1849  10.233  104.714289   \n",
       "        2015    1.0  13.743647     0.53     0.2809  10.256  105.185536   \n",
       "        2016    1.0  11.403278     0.51     0.2601  10.470  109.620900   \n",
       "        2017    1.0  11.220660     0.54     0.2916  10.619  112.763161   \n",
       "        2018    1.0  10.495108     0.66     0.4356  11.220  125.888400   \n",
       "\n",
       "                    STR_3  \n",
       "Country Time               \n",
       "AUS     2013  3807.377733  \n",
       "        2014  3805.183701  \n",
       "        2015  3675.793188  \n",
       "        2016  3489.674822  \n",
       "        2017  3459.393827  \n",
       "...                   ...  \n",
       "LTU     2014  1071.541319  \n",
       "        2015  1078.782857  \n",
       "        2016  1147.730823  \n",
       "        2017  1197.432007  \n",
       "        2018  1412.467848  \n",
       "\n",
       "[167 rows x 7 columns]"
      ]
     },
     "execution_count": 6,
     "metadata": {},
     "output_type": "execute_result"
    }
   ],
   "source": [
    "df_explanatory"
   ]
  },
  {
   "cell_type": "code",
   "execution_count": 7,
   "metadata": {},
   "outputs": [],
   "source": [
    "panel_explanatory_OLS = PanelOLS(df_explanatory.NEET, df_explanatory.drop('NEET', axis=1)).fit(cov_type='clustered')"
   ]
  },
  {
   "cell_type": "code",
   "execution_count": 8,
   "metadata": {},
   "outputs": [
    {
     "name": "stdout",
     "output_type": "stream",
     "text": [
      "                          PanelOLS Estimation Summary                           \n",
      "================================================================================\n",
      "Dep. Variable:                   NEET   R-squared:                        0.2586\n",
      "Estimator:                   PanelOLS   R-squared (Between):              0.1785\n",
      "No. Observations:                 167   R-squared (Within):               0.1610\n",
      "Date:                Sat, Apr 03 2021   R-squared (Overall):              0.2586\n",
      "Time:                        10:37:36   Log-likelihood                   -451.96\n",
      "Cov. Estimator:             Clustered                                           \n",
      "                                        F-statistic:                      11.230\n",
      "Entities:                          31   P-value                           0.0000\n",
      "Avg Obs:                       5.3871   Distribution:                   F(5,161)\n",
      "Min Obs:                       2.0000                                           \n",
      "Max Obs:                       9.0000   F-statistic (robust):             70.129\n",
      "                                        P-value                           0.0000\n",
      "Time periods:                       9   Distribution:                   F(5,161)\n",
      "Avg Obs:                       18.556                                           \n",
      "Min Obs:                       1.0000                                           \n",
      "Max Obs:                       29.000                                           \n",
      "                                                                                \n",
      "                             Parameter Estimates                              \n",
      "==============================================================================\n",
      "            Parameter  Std. Err.     T-stat    P-value    Lower CI    Upper CI\n",
      "------------------------------------------------------------------------------\n",
      "const         -21.512     12.089    -1.7795     0.0770     -45.384      2.3608\n",
      "Exp_LMP       -4.9254     2.3134    -2.1291     0.0348     -9.4940     -0.3568\n",
      "Exp_LMP_2      1.7319     0.7234     2.3940     0.0178      0.3032      3.1605\n",
      "STR            7.1781     2.2607     3.1752     0.0018      2.7137      11.643\n",
      "STR_2         -0.4441     0.1349    -3.2935     0.0012     -0.7105     -0.1778\n",
      "STR_3          0.0088     0.0025     3.5151     0.0006      0.0039      0.0138\n",
      "==============================================================================\n",
      "\n",
      "\n"
     ]
    }
   ],
   "source": [
    "print(panel_explanatory_OLS)"
   ]
  },
  {
   "cell_type": "markdown",
   "metadata": {},
   "source": [
    "### With Time effect only"
   ]
  },
  {
   "cell_type": "code",
   "execution_count": 9,
   "metadata": {},
   "outputs": [],
   "source": [
    "panel_explanatory_OLS_tfe = PanelOLS(df_explanatory.NEET, df_explanatory.drop('NEET', axis=1),time_effects = True).fit(cov_type='clustered', cluster_time=True)"
   ]
  },
  {
   "cell_type": "code",
   "execution_count": 10,
   "metadata": {},
   "outputs": [
    {
     "name": "stdout",
     "output_type": "stream",
     "text": [
      "                          PanelOLS Estimation Summary                           \n",
      "================================================================================\n",
      "Dep. Variable:                   NEET   R-squared:                        0.2470\n",
      "Estimator:                   PanelOLS   R-squared (Between):              0.1845\n",
      "No. Observations:                 167   R-squared (Within):               0.1643\n",
      "Date:                Sat, Apr 03 2021   R-squared (Overall):              0.2573\n",
      "Time:                        10:37:39   Log-likelihood                   -447.32\n",
      "Cov. Estimator:             Clustered                                           \n",
      "                                        F-statistic:                      10.039\n",
      "Entities:                          31   P-value                           0.0000\n",
      "Avg Obs:                       5.3871   Distribution:                   F(5,153)\n",
      "Min Obs:                       2.0000                                           \n",
      "Max Obs:                       9.0000   F-statistic (robust):             3778.9\n",
      "                                        P-value                           0.0000\n",
      "Time periods:                       9   Distribution:                   F(5,153)\n",
      "Avg Obs:                       18.556                                           \n",
      "Min Obs:                       1.0000                                           \n",
      "Max Obs:                       29.000                                           \n",
      "                                                                                \n",
      "                             Parameter Estimates                              \n",
      "==============================================================================\n",
      "            Parameter  Std. Err.     T-stat    P-value    Lower CI    Upper CI\n",
      "------------------------------------------------------------------------------\n",
      "const         -21.830     6.4329    -3.3934     0.0009     -34.538     -9.1208\n",
      "Exp_LMP       -4.5169     1.6373    -2.7588     0.0065     -7.7516     -1.2823\n",
      "Exp_LMP_2      1.5706     0.5308     2.9589     0.0036      0.5219      2.6193\n",
      "STR            7.2359     1.1618     6.2279     0.0000      4.9405      9.5312\n",
      "STR_2         -0.4487     0.0687    -6.5315     0.0000     -0.5845     -0.3130\n",
      "STR_3          0.0089     0.0013     7.0359     0.0000      0.0064      0.0114\n",
      "==============================================================================\n",
      "\n",
      "F-test for Poolability: 1.0943\n",
      "P-value: 0.3702\n",
      "Distribution: F(8,153)\n",
      "\n",
      "Included effects: Time\n"
     ]
    }
   ],
   "source": [
    "print(panel_explanatory_OLS_tfe)"
   ]
  },
  {
   "cell_type": "markdown",
   "metadata": {},
   "source": [
    ">We see that the influence of the time fixed effect can be omitted as the p-value for the F-test for Poolability is null showing that the influence of the time effect is null."
   ]
  },
  {
   "cell_type": "markdown",
   "metadata": {},
   "source": [
    "### With entity effects only"
   ]
  },
  {
   "cell_type": "code",
   "execution_count": 11,
   "metadata": {},
   "outputs": [],
   "source": [
    "panel_explanatory_OLS_stfe = PanelOLS(df_explanatory.NEET, df_explanatory.drop('NEET', axis=1),entity_effects = True).fit(cov_type='clustered',cluster_effect=True)"
   ]
  },
  {
   "cell_type": "code",
   "execution_count": 12,
   "metadata": {},
   "outputs": [
    {
     "name": "stdout",
     "output_type": "stream",
     "text": [
      "                          PanelOLS Estimation Summary                           \n",
      "================================================================================\n",
      "Dep. Variable:                   NEET   R-squared:                        0.3977\n",
      "Estimator:                   PanelOLS   R-squared (Between):             -0.7485\n",
      "No. Observations:                 167   R-squared (Within):               0.3977\n",
      "Date:                Sat, Apr 03 2021   R-squared (Overall):             -0.6738\n",
      "Time:                        10:37:45   Log-likelihood                   -228.88\n",
      "Cov. Estimator:             Clustered                                           \n",
      "                                        F-statistic:                      17.302\n",
      "Entities:                          31   P-value                           0.0000\n",
      "Avg Obs:                       5.3871   Distribution:                   F(5,131)\n",
      "Min Obs:                       2.0000                                           \n",
      "Max Obs:                       9.0000   F-statistic (robust):             18.757\n",
      "                                        P-value                           0.0000\n",
      "Time periods:                       9   Distribution:                   F(5,131)\n",
      "Avg Obs:                       18.556                                           \n",
      "Min Obs:                       1.0000                                           \n",
      "Max Obs:                       29.000                                           \n",
      "                                                                                \n",
      "                             Parameter Estimates                              \n",
      "==============================================================================\n",
      "            Parameter  Std. Err.     T-stat    P-value    Lower CI    Upper CI\n",
      "------------------------------------------------------------------------------\n",
      "const         -9.3595     10.660    -0.8780     0.3816     -30.448      11.729\n",
      "Exp_LMP        5.8007     2.2002     2.6364     0.0094      1.4482      10.153\n",
      "Exp_LMP_2     -0.3354     0.4617    -0.7265     0.4688     -1.2488      0.5780\n",
      "STR            2.8734     1.9998     1.4369     0.1531     -1.0826      6.8295\n",
      "STR_2         -0.1670     0.1155    -1.4453     0.1507     -0.3955      0.0616\n",
      "STR_3          0.0033     0.0020     1.6025     0.1114     -0.0008      0.0073\n",
      "==============================================================================\n",
      "\n",
      "F-test for Poolability: 58.796\n",
      "P-value: 0.0000\n",
      "Distribution: F(30,131)\n",
      "\n",
      "Included effects: Entity\n"
     ]
    }
   ],
   "source": [
    "print(panel_explanatory_OLS_stfe)"
   ]
  },
  {
   "cell_type": "markdown",
   "metadata": {},
   "source": [
    ">We see here that the use of the entity fixed effect is significant:\n",
    "   * The p-value for the F-test for Poolability shows that the entity fixed effect is not null"
   ]
  },
  {
   "cell_type": "code",
   "execution_count": 13,
   "metadata": {
    "scrolled": false
   },
   "outputs": [
    {
     "name": "stdout",
     "output_type": "stream",
     "text": [
      "\\begin{center}\n",
      "\\begin{tabular}{lccc}\n",
      "\\toprule\n",
      "                                 & \\textbf{Model 0} & \\textbf{Model 1} & \\textbf{Model 2}  \\\\\n",
      "\\midrule\n",
      "\\textbf{Dep. Variable}           &       NEET       &       NEET       &       NEET        \\\\\n",
      "\\textbf{Estimator}               &     PanelOLS     &     PanelOLS     &     PanelOLS      \\\\\n",
      "\\textbf{No. Observations}        &       167        &       167        &       167         \\\\\n",
      "\\textbf{Cov. Est.}               &    Clustered     &    Clustered     &    Clustered      \\\\\n",
      "\\textbf{R-squared}               &      0.2586      &      0.2470      &      0.3977       \\\\\n",
      "\\textbf{R-Squared (Within)}      &      0.1610      &      0.1643      &      0.3977       \\\\\n",
      "\\textbf{R-Squared (Between)}     &      0.1785      &      0.1845      &     -0.7485       \\\\\n",
      "\\textbf{R-Squared (Overall)}     &      0.2586      &      0.2573      &     -0.6738       \\\\\n",
      "\\textbf{F-statistic}             &      11.230      &      10.039      &      17.302       \\\\\n",
      "\\textbf{P-value (F-stat)}        &      0.0000      &      0.0000      &      0.0000       \\\\\n",
      "\\textbf{=====================}   &   ============   &   ============   &   ===========     \\\\\n",
      "\\textbf{const}                   &     -21.512*     &    -21.830***    &     -9.3595       \\\\\n",
      "\\textbf{ }                       &     (12.089)     &     (6.4329)     &     (10.660)      \\\\\n",
      "\\textbf{Exp\\_LMP}                &    -4.9254**     &    -4.5169***    &    5.8007***      \\\\\n",
      "\\textbf{ }                       &     (2.3134)     &     (1.6373)     &     (2.2002)      \\\\\n",
      "\\textbf{Exp\\_LMP\\_2}             &     1.7319**     &    1.5706***     &     -0.3354       \\\\\n",
      "\\textbf{ }                       &     (0.7234)     &     (0.5308)     &     (0.4617)      \\\\\n",
      "\\textbf{STR}                     &    7.1781***     &    7.2359***     &      2.8734       \\\\\n",
      "\\textbf{ }                       &     (2.2607)     &     (1.1618)     &     (1.9998)      \\\\\n",
      "\\textbf{STR\\_2}                  &    -0.4441***    &    -0.4487***    &     -0.1670       \\\\\n",
      "\\textbf{ }                       &     (0.1349)     &     (0.0687)     &     (0.1155)      \\\\\n",
      "\\textbf{STR\\_3}                  &    0.0088***     &    0.0089***     &      0.0033       \\\\\n",
      "\\textbf{ }                       &     (0.0025)     &     (0.0013)     &     (0.0020)      \\\\\n",
      "\\textbf{=======================} &  ==============  &  ==============  &  =============    \\\\\n",
      "\\bottomrule\n",
      "\\end{tabular}\n",
      "%\\caption{Model Comparison}\n",
      "\\end{center}\n",
      "\n",
      "Std. Errors reported in parentheses\n"
     ]
    }
   ],
   "source": [
    "results = [panel_explanatory_OLS,panel_explanatory_OLS_tfe,panel_explanatory_OLS_stfe]\n",
    "print(PanelModelComparison(results,precision='std_errors',stars=True).summary.as_latex())"
   ]
  },
  {
   "cell_type": "markdown",
   "metadata": {},
   "source": [
    "## With economic features only"
   ]
  },
  {
   "cell_type": "code",
   "execution_count": 42,
   "metadata": {},
   "outputs": [
    {
     "name": "stdout",
     "output_type": "stream",
     "text": [
      "Year range = [2010 2011 2012 2013 2014 2015 2016 2017 2018]\n"
     ]
    }
   ],
   "source": [
    "df_eco = df[['const','Country','Time','NEET','Exp_LMP','Exp_LMP_2','STR','STR_2','STR_3','LogGDP','CPI','DEBT', 'LogGDPxExp_LMP', 'LogGDPxExp_LMP_2']]\n",
    "df_eco = df_eco.dropna().reset_index(drop=True)\n",
    "print('Year range = {}'.format((np.unique(df_eco.Time))))\n",
    "df_eco = df_eco.set_index(['Country', 'Time'])"
   ]
  },
  {
   "cell_type": "code",
   "execution_count": 43,
   "metadata": {},
   "outputs": [],
   "source": [
    "panel_eco_OLS = PanelOLS(df_eco.NEET,df_eco.drop(['NEET', 'LogGDPxExp_LMP', 'LogGDPxExp_LMP_2'],axis=1), entity_effects=True).fit(cov_type='clustered', cluster_entity=True)"
   ]
  },
  {
   "cell_type": "code",
   "execution_count": 44,
   "metadata": {},
   "outputs": [
    {
     "name": "stdout",
     "output_type": "stream",
     "text": [
      "                          PanelOLS Estimation Summary                           \n",
      "================================================================================\n",
      "Dep. Variable:                   NEET   R-squared:                        0.4711\n",
      "Estimator:                   PanelOLS   R-squared (Between):             -0.3683\n",
      "No. Observations:                 161   R-squared (Within):               0.4711\n",
      "Date:                Sat, Apr 03 2021   R-squared (Overall):             -0.3144\n",
      "Time:                        11:51:46   Log-likelihood                   -209.43\n",
      "Cov. Estimator:             Clustered                                           \n",
      "                                        F-statistic:                      13.693\n",
      "Entities:                          30   P-value                           0.0000\n",
      "Avg Obs:                       5.3667   Distribution:                   F(8,123)\n",
      "Min Obs:                       2.0000                                           \n",
      "Max Obs:                       9.0000   F-statistic (robust):             16.799\n",
      "                                        P-value                           0.0000\n",
      "Time periods:                       9   Distribution:                   F(8,123)\n",
      "Avg Obs:                       17.889                                           \n",
      "Min Obs:                       1.0000                                           \n",
      "Max Obs:                       28.000                                           \n",
      "                                                                                \n",
      "                             Parameter Estimates                              \n",
      "==============================================================================\n",
      "            Parameter  Std. Err.     T-stat    P-value    Lower CI    Upper CI\n",
      "------------------------------------------------------------------------------\n",
      "const          8.4057     17.613     0.4772     0.6340     -26.458      43.269\n",
      "Exp_LMP        4.8924     2.3535     2.0788     0.0397      0.2338      9.5511\n",
      "Exp_LMP_2     -0.2164     0.5289    -0.4091     0.6832     -1.2634      0.8306\n",
      "STR            1.7089     1.8997     0.8995     0.3701     -2.0515      5.4692\n",
      "STR_2         -0.0968     0.1137    -0.8512     0.3963     -0.3219      0.1283\n",
      "STR_3          0.0020     0.0021     0.9477     0.3451     -0.0021      0.0060\n",
      "LogGDP        -1.0188     1.3762    -0.7403     0.4605     -3.7429      1.7053\n",
      "CPI           -0.3058     0.1017    -3.0059     0.0032     -0.5072     -0.1044\n",
      "DEBT           0.0015     0.0239     0.0634     0.9495     -0.0458      0.0488\n",
      "==============================================================================\n",
      "\n",
      "F-test for Poolability: 42.249\n",
      "P-value: 0.0000\n",
      "Distribution: F(29,123)\n",
      "\n",
      "Included effects: Entity\n"
     ]
    }
   ],
   "source": [
    "print(panel_eco_OLS)"
   ]
  },
  {
   "cell_type": "markdown",
   "metadata": {},
   "source": [
    "### Add interaction term between GDP and Exp_LMP"
   ]
  },
  {
   "cell_type": "code",
   "execution_count": 45,
   "metadata": {},
   "outputs": [
    {
     "name": "stdout",
     "output_type": "stream",
     "text": [
      "                          PanelOLS Estimation Summary                           \n",
      "================================================================================\n",
      "Dep. Variable:                   NEET   R-squared:                        0.5202\n",
      "Estimator:                   PanelOLS   R-squared (Between):             -0.3590\n",
      "No. Observations:                 161   R-squared (Within):               0.5202\n",
      "Date:                Sat, Apr 03 2021   R-squared (Overall):             -0.3404\n",
      "Time:                        11:52:10   Log-likelihood                   -201.58\n",
      "Cov. Estimator:             Clustered                                           \n",
      "                                        F-statistic:                      13.120\n",
      "Entities:                          30   P-value                           0.0000\n",
      "Avg Obs:                       5.3667   Distribution:                  F(10,121)\n",
      "Min Obs:                       2.0000                                           \n",
      "Max Obs:                       9.0000   F-statistic (robust):             41.851\n",
      "                                        P-value                           0.0000\n",
      "Time periods:                       9   Distribution:                  F(10,121)\n",
      "Avg Obs:                       17.889                                           \n",
      "Min Obs:                       1.0000                                           \n",
      "Max Obs:                       28.000                                           \n",
      "                                                                                \n",
      "                                Parameter Estimates                                 \n",
      "====================================================================================\n",
      "                  Parameter  Std. Err.     T-stat    P-value    Lower CI    Upper CI\n",
      "------------------------------------------------------------------------------------\n",
      "const                16.338     26.638     0.6133     0.5408     -36.400      69.075\n",
      "Exp_LMP             -45.855     32.366    -1.4167     0.1591     -109.93      18.223\n",
      "Exp_LMP_2            21.287     7.1181     2.9905     0.0034      7.1946      35.379\n",
      "STR                  2.8868     1.9767     1.4604     0.1468     -1.0266      6.8001\n",
      "STR_2               -0.1715     0.1177    -1.4570     0.1477     -0.4046      0.0615\n",
      "STR_3                0.0034     0.0022     1.5779     0.1172     -0.0009      0.0077\n",
      "LogGDP              -2.4746     2.8150    -0.8791     0.3811     -8.0477      3.0985\n",
      "CPI                 -0.2887     0.1007    -2.8664     0.0049     -0.4881     -0.0893\n",
      "DEBT                 0.0170     0.0230     0.7368     0.4627     -0.0286      0.0626\n",
      "LogGDPxExp_LMP       4.8927     3.0532     1.6025     0.1117     -1.1520      10.937\n",
      "LogGDPxExp_LMP_2    -2.0622     0.6707    -3.0747     0.0026     -3.3901     -0.7344\n",
      "====================================================================================\n",
      "\n",
      "F-test for Poolability: 36.950\n",
      "P-value: 0.0000\n",
      "Distribution: F(29,121)\n",
      "\n",
      "Included effects: Entity\n"
     ]
    }
   ],
   "source": [
    "panel_eco_inter_OLS = PanelOLS(df_eco.NEET,df_eco.drop(['NEET'],axis=1), entity_effects=True).fit(cov_type='clustered', cluster_entity=True)\n",
    "print(panel_eco_inter_OLS)"
   ]
  },
  {
   "cell_type": "markdown",
   "metadata": {},
   "source": [
    "### Compute F-Statistic for joint hypotheses"
   ]
  },
  {
   "cell_type": "code",
   "execution_count": 51,
   "metadata": {},
   "outputs": [
    {
     "name": "stdout",
     "output_type": "stream",
     "text": [
      "Hyp 1: <F test: F=array([[16.95636465]]), p=2.2959383404606686e-07, df_denom=150, df_num=2>\n",
      "Hyp 2: <F test: F=array([[13.7865666]]), p=1.3415625515760759e-09, df_denom=150, df_num=4>\n"
     ]
    }
   ],
   "source": [
    "inter_eco_ols = sm.OLS(df_eco.NEET,df_eco.drop(['NEET'],axis=1)).fit()\n",
    "hyp_eco = '(LogGDPxExp_LMP=0), (LogGDPxExp_LMP_2=0)'\n",
    "print('Hyp 1:', inter_eco_ols.f_test(hyp_eco))\n",
    "hyp_eco_full = '(LogGDPxExp_LMP=0), (LogGDPxExp_LMP_2=0), (Exp_LMP=0), (Exp_LMP_2=0)'\n",
    "print('Hyp 2:', inter_eco_ols.f_test(hyp_eco_full))"
   ]
  },
  {
   "cell_type": "markdown",
   "metadata": {},
   "source": [
    "## With education features only"
   ]
  },
  {
   "cell_type": "code",
   "execution_count": 46,
   "metadata": {},
   "outputs": [
    {
     "name": "stdout",
     "output_type": "stream",
     "text": [
      "Year range = [2010 2011 2012 2013 2014 2015 2016 2017]\n"
     ]
    }
   ],
   "source": [
    "df_edu = df[['const','Country','Time','NEET','Exp_LMP','Exp_LMP_2','STR','STR_2','STR_3','Years_schooling','LogExp_educ', 'STRxLogExp_educ', 'STR_2xLogExp_educ', 'STR_3xLogExp_educ']]\n",
    "df_edu = df_edu.dropna().reset_index(drop=True)\n",
    "print('Year range = {}'.format((np.unique(df_edu.Time))))\n",
    "df_edu = df_edu.set_index(['Country', 'Time'])"
   ]
  },
  {
   "cell_type": "code",
   "execution_count": 47,
   "metadata": {},
   "outputs": [],
   "source": [
    "panel_edu_OLS = PanelOLS(df_edu.NEET,df_edu.drop(['NEET','STRxLogExp_educ', 'STR_2xLogExp_educ', 'STR_3xLogExp_educ'],axis=1), entity_effects=True).fit(cov_type='clustered', cluster_entity=True)"
   ]
  },
  {
   "cell_type": "code",
   "execution_count": 48,
   "metadata": {},
   "outputs": [
    {
     "name": "stdout",
     "output_type": "stream",
     "text": [
      "                          PanelOLS Estimation Summary                           \n",
      "================================================================================\n",
      "Dep. Variable:                   NEET   R-squared:                        0.4446\n",
      "Estimator:                   PanelOLS   R-squared (Between):              0.1357\n",
      "No. Observations:                 135   R-squared (Within):               0.4446\n",
      "Date:                Sat, Apr 03 2021   R-squared (Overall):              0.1741\n",
      "Time:                        11:53:48   Log-likelihood                   -161.36\n",
      "Cov. Estimator:             Clustered                                           \n",
      "                                        F-statistic:                      11.319\n",
      "Entities:                          29   P-value                           0.0000\n",
      "Avg Obs:                       4.6552   Distribution:                    F(7,99)\n",
      "Min Obs:                       1.0000                                           \n",
      "Max Obs:                       8.0000   F-statistic (robust):             34.643\n",
      "                                        P-value                           0.0000\n",
      "Time periods:                       8   Distribution:                    F(7,99)\n",
      "Avg Obs:                       16.875                                           \n",
      "Min Obs:                       1.0000                                           \n",
      "Max Obs:                       27.000                                           \n",
      "                                                                                \n",
      "                                Parameter Estimates                                \n",
      "===================================================================================\n",
      "                 Parameter  Std. Err.     T-stat    P-value    Lower CI    Upper CI\n",
      "-----------------------------------------------------------------------------------\n",
      "const               47.514     27.382     1.7352     0.0858     -6.8189      101.85\n",
      "Exp_LMP             2.6907     2.6305     1.0229     0.3089     -2.5288      7.9102\n",
      "Exp_LMP_2           0.1810     0.4576     0.3955     0.6933     -0.7270      1.0889\n",
      "STR                 1.6940     2.7447     0.6172     0.5385     -3.7520      7.1401\n",
      "STR_2              -0.0899     0.1473    -0.6101     0.5432     -0.3822      0.2024\n",
      "STR_3               0.0017     0.0025     0.6514     0.5163     -0.0034      0.0067\n",
      "Years_schooling    -0.8599     0.7307    -1.1768     0.2421     -2.3097      0.5899\n",
      "LogExp_educ        -4.1934     1.6653    -2.5181     0.0134     -7.4978     -0.8890\n",
      "===================================================================================\n",
      "\n",
      "F-test for Poolability: 30.206\n",
      "P-value: 0.0000\n",
      "Distribution: F(28,99)\n",
      "\n",
      "Included effects: Entity\n"
     ]
    }
   ],
   "source": [
    "print(panel_edu_OLS)"
   ]
  },
  {
   "cell_type": "markdown",
   "metadata": {},
   "source": [
    "### Add interaction term between STR and LogExp_educ"
   ]
  },
  {
   "cell_type": "code",
   "execution_count": 49,
   "metadata": {},
   "outputs": [
    {
     "name": "stdout",
     "output_type": "stream",
     "text": [
      "                          PanelOLS Estimation Summary                           \n",
      "================================================================================\n",
      "Dep. Variable:                   NEET   R-squared:                        0.4730\n",
      "Estimator:                   PanelOLS   R-squared (Between):              0.0936\n",
      "No. Observations:                 135   R-squared (Within):               0.4730\n",
      "Date:                Sat, Apr 03 2021   R-squared (Overall):              0.1188\n",
      "Time:                        11:55:16   Log-likelihood                   -157.81\n",
      "Cov. Estimator:             Clustered                                           \n",
      "                                        F-statistic:                      8.6160\n",
      "Entities:                          29   P-value                           0.0000\n",
      "Avg Obs:                       4.6552   Distribution:                   F(10,96)\n",
      "Min Obs:                       1.0000                                           \n",
      "Max Obs:                       8.0000   F-statistic (robust):             20.891\n",
      "                                        P-value                           0.0000\n",
      "Time periods:                       8   Distribution:                   F(10,96)\n",
      "Avg Obs:                       16.875                                           \n",
      "Min Obs:                       1.0000                                           \n",
      "Max Obs:                       27.000                                           \n",
      "                                                                                \n",
      "                                 Parameter Estimates                                 \n",
      "=====================================================================================\n",
      "                   Parameter  Std. Err.     T-stat    P-value    Lower CI    Upper CI\n",
      "-------------------------------------------------------------------------------------\n",
      "const                 365.07     352.90     1.0345     0.3035     -335.42      1065.6\n",
      "Exp_LMP               3.2866     3.1301     1.0500     0.2964     -2.9267      9.4998\n",
      "Exp_LMP_2             0.0604     0.5410     0.1116     0.9114     -1.0134      1.1342\n",
      "STR                  -41.111     54.945    -0.7482     0.4561     -150.18      67.953\n",
      "STR_2                 1.7518     2.6097     0.6713     0.5037     -3.4285      6.9320\n",
      "STR_3                -0.0268     0.0386    -0.6937     0.4895     -0.1035      0.0499\n",
      "Years_schooling      -0.9829     0.7078    -1.3886     0.1682     -2.3879      0.4221\n",
      "LogExp_educ          -37.418     35.865    -1.0433     0.2994     -108.61      33.774\n",
      "STRxLogExp_educ       4.4885     5.5026     0.8157     0.4167     -6.4340      15.411\n",
      "STR_2xLogExp_educ    -0.1941     0.2637    -0.7360     0.4635     -0.7176      0.3294\n",
      "STR_3xLogExp_educ     0.0031     0.0040     0.7604     0.4489     -0.0049      0.0111\n",
      "=====================================================================================\n",
      "\n",
      "F-test for Poolability: 29.533\n",
      "P-value: 0.0000\n",
      "Distribution: F(28,96)\n",
      "\n",
      "Included effects: Entity\n"
     ]
    }
   ],
   "source": [
    "panel_edu_inter_OLS = PanelOLS(df_edu.NEET,df_edu.drop(['NEET'],axis=1), entity_effects=True).fit(cov_type='clustered', cluster_entity=True)\n",
    "print(panel_edu_inter_OLS)"
   ]
  },
  {
   "cell_type": "markdown",
   "metadata": {},
   "source": [
    "### Compute F-Statistic for joint hypotheses"
   ]
  },
  {
   "cell_type": "code",
   "execution_count": 52,
   "metadata": {},
   "outputs": [
    {
     "name": "stdout",
     "output_type": "stream",
     "text": [
      "Hyp 1: <F test: F=array([[1.90957673]]), p=0.13147786816798324, df_denom=124, df_num=3>\n",
      "Hyp 2: <F test: F=array([[6.33917743]]), p=7.70669112668292e-06, df_denom=124, df_num=6>\n"
     ]
    }
   ],
   "source": [
    "inter_edu_ols = sm.OLS(df_edu.NEET,df_edu.drop(['NEET'],axis=1)).fit()\n",
    "hyp_edu = '(STRxLogExp_educ=0), (STR_2xLogExp_educ=0), (STR_3xLogExp_educ=0)'\n",
    "print('Hyp 1:', inter_edu_ols.f_test(hyp_edu))\n",
    "hyp_edu_full = '(STRxLogExp_educ=0), (STR_2xLogExp_educ=0), (STR_3xLogExp_educ=0), (STR=0), (STR_2=0), (STR_3=0)'\n",
    "print('Hyp 2:', inter_edu_ols.f_test(hyp_edu_full))"
   ]
  },
  {
   "cell_type": "markdown",
   "metadata": {},
   "source": [
    "## With labor features only"
   ]
  },
  {
   "cell_type": "code",
   "execution_count": 20,
   "metadata": {},
   "outputs": [
    {
     "name": "stdout",
     "output_type": "stream",
     "text": [
      "Year range = [2010 2011 2012 2013 2014 2015 2016 2017 2018]\n"
     ]
    }
   ],
   "source": [
    "df_labor = df[['const','Country','Time','NEET','Exp_LMP','Exp_LMP_2','STR','STR_2','STR_3','Strictness_of_workers','PT_employ']]\n",
    "df_labor = df_labor.dropna().reset_index(drop=True)\n",
    "print('Year range = {}'.format((np.unique(df_labor.Time))))\n",
    "df_labor = df_labor.set_index(['Country', 'Time'])"
   ]
  },
  {
   "cell_type": "code",
   "execution_count": 21,
   "metadata": {},
   "outputs": [],
   "source": [
    "panel_labor_OLS = PanelOLS(df_labor.NEET,df_labor.drop('NEET',axis=1), entity_effects=True).fit(cov_type='clustered', cluster_entity=True)"
   ]
  },
  {
   "cell_type": "code",
   "execution_count": 22,
   "metadata": {},
   "outputs": [
    {
     "name": "stdout",
     "output_type": "stream",
     "text": [
      "                          PanelOLS Estimation Summary                           \n",
      "================================================================================\n",
      "Dep. Variable:                   NEET   R-squared:                        0.4153\n",
      "Estimator:                   PanelOLS   R-squared (Between):             -0.6510\n",
      "No. Observations:                 161   R-squared (Within):               0.4153\n",
      "Date:                Sat, Apr 03 2021   R-squared (Overall):             -0.6202\n",
      "Time:                        10:37:58   Log-likelihood                   -218.90\n",
      "Cov. Estimator:             Clustered                                           \n",
      "                                        F-statistic:                      12.582\n",
      "Entities:                          30   P-value                           0.0000\n",
      "Avg Obs:                       5.3667   Distribution:                   F(7,124)\n",
      "Min Obs:                       2.0000                                           \n",
      "Max Obs:                       9.0000   F-statistic (robust):             16.996\n",
      "                                        P-value                           0.0000\n",
      "Time periods:                       9   Distribution:                   F(7,124)\n",
      "Avg Obs:                       17.889                                           \n",
      "Min Obs:                       1.0000                                           \n",
      "Max Obs:                       28.000                                           \n",
      "                                                                                \n",
      "                                   Parameter Estimates                                   \n",
      "=========================================================================================\n",
      "                       Parameter  Std. Err.     T-stat    P-value    Lower CI    Upper CI\n",
      "-----------------------------------------------------------------------------------------\n",
      "const                    -17.724     9.1143    -1.9446     0.0541     -35.764      0.3161\n",
      "Exp_LMP                   5.0255     2.7536     1.8251     0.0704     -0.4247      10.476\n",
      "Exp_LMP_2                -0.1647     0.5645    -0.2917     0.7710     -1.2820      0.9527\n",
      "STR                       3.4926     1.7187     2.0321     0.0443      0.0908      6.8944\n",
      "STR_2                    -0.2028     0.1035    -1.9587     0.0524     -0.4077      0.0021\n",
      "STR_3                     0.0039     0.0019     2.0820     0.0394      0.0002      0.0076\n",
      "Strictness_of_workers     2.5115     1.9281     1.3026     0.1951     -1.3048      6.3278\n",
      "PT_employ                -0.0216     0.0599    -0.3612     0.7185     -0.1401      0.0968\n",
      "=========================================================================================\n",
      "\n",
      "F-test for Poolability: 50.700\n",
      "P-value: 0.0000\n",
      "Distribution: F(29,124)\n",
      "\n",
      "Included effects: Entity\n"
     ]
    }
   ],
   "source": [
    "print(panel_labor_OLS)"
   ]
  },
  {
   "cell_type": "markdown",
   "metadata": {},
   "source": [
    "## With education and economic features"
   ]
  },
  {
   "cell_type": "code",
   "execution_count": 23,
   "metadata": {},
   "outputs": [
    {
     "name": "stdout",
     "output_type": "stream",
     "text": [
      "Year range = [2010 2011 2012 2013 2014 2015 2016 2017]\n"
     ]
    }
   ],
   "source": [
    "df_eco_edu = df[['const','Country','Time','NEET','Exp_LMP','Exp_LMP_2','STR','STR_2','STR_3','LogGDP','CPI','DEBT','Years_schooling','LogExp_educ']]\n",
    "df_eco_edu = df_eco_edu.dropna().reset_index(drop=True)\n",
    "print('Year range = {}'.format((np.unique(df_eco_edu.Time))))\n",
    "df_eco_edu = df_eco_edu.set_index(['Country', 'Time'])"
   ]
  },
  {
   "cell_type": "code",
   "execution_count": 24,
   "metadata": {},
   "outputs": [],
   "source": [
    "panel_eco_edu_OLS = PanelOLS(df_eco_edu.NEET,df_eco_edu.drop('NEET',axis=1), entity_effects=True).fit(cov_type='clustered', cluster_entity=True)"
   ]
  },
  {
   "cell_type": "code",
   "execution_count": 25,
   "metadata": {},
   "outputs": [
    {
     "name": "stdout",
     "output_type": "stream",
     "text": [
      "                          PanelOLS Estimation Summary                           \n",
      "================================================================================\n",
      "Dep. Variable:                   NEET   R-squared:                        0.4716\n",
      "Estimator:                   PanelOLS   R-squared (Between):              0.1193\n",
      "No. Observations:                 130   R-squared (Within):               0.4716\n",
      "Date:                Sat, Apr 03 2021   R-squared (Overall):              0.0723\n",
      "Time:                        10:38:02   Log-likelihood                   -151.80\n",
      "Cov. Estimator:             Clustered                                           \n",
      "                                        F-statistic:                      8.2097\n",
      "Entities:                          28   P-value                           0.0000\n",
      "Avg Obs:                       4.6429   Distribution:                   F(10,92)\n",
      "Min Obs:                       1.0000                                           \n",
      "Max Obs:                       8.0000   F-statistic (robust):             16.664\n",
      "                                        P-value                           0.0000\n",
      "Time periods:                       8   Distribution:                   F(10,92)\n",
      "Avg Obs:                       16.250                                           \n",
      "Min Obs:                       1.0000                                           \n",
      "Max Obs:                       26.000                                           \n",
      "                                                                                \n",
      "                                Parameter Estimates                                \n",
      "===================================================================================\n",
      "                 Parameter  Std. Err.     T-stat    P-value    Lower CI    Upper CI\n",
      "-----------------------------------------------------------------------------------\n",
      "const               41.105     29.883     1.3756     0.1723     -18.244      100.45\n",
      "Exp_LMP             1.9000     2.8710     0.6618     0.5098     -3.8020      7.6019\n",
      "Exp_LMP_2           0.3111     0.5239     0.5939     0.5540     -0.7293      1.3516\n",
      "STR                 1.2380     2.6193     0.4726     0.6376     -3.9642      6.4401\n",
      "STR_2              -0.0618     0.1395    -0.4432     0.6587     -0.3388      0.2152\n",
      "STR_3               0.0011     0.0024     0.4732     0.6372     -0.0036      0.0059\n",
      "LogGDP              0.3882     1.1678     0.3324     0.7404     -1.9312      2.7075\n",
      "CPI                -0.1185     0.0992    -1.1938     0.2356     -0.3156      0.0786\n",
      "DEBT                0.0375     0.0267     1.4012     0.1645     -0.0156      0.0906\n",
      "Years_schooling    -1.3672     1.0046    -1.3609     0.1769     -3.3625      0.6281\n",
      "LogExp_educ        -3.2426     1.4782    -2.1937     0.0308     -6.1783     -0.3068\n",
      "===================================================================================\n",
      "\n",
      "F-test for Poolability: 25.165\n",
      "P-value: 0.0000\n",
      "Distribution: F(27,92)\n",
      "\n",
      "Included effects: Entity\n"
     ]
    }
   ],
   "source": [
    "print(panel_eco_edu_OLS)"
   ]
  },
  {
   "cell_type": "markdown",
   "metadata": {},
   "source": [
    "## With labor, economic and education features"
   ]
  },
  {
   "cell_type": "code",
   "execution_count": 26,
   "metadata": {},
   "outputs": [
    {
     "name": "stdout",
     "output_type": "stream",
     "text": [
      "Year range = [2010 2011 2012 2013 2014 2015 2016 2017]\n"
     ]
    }
   ],
   "source": [
    "df_all = df[['const','Country','Time','NEET','Exp_LMP','Exp_LMP_2','STR','STR_2','STR_3','LogGDP','CPI','DEBT','Years_schooling','LogExp_educ','Strictness_of_workers','PT_employ']]\n",
    "df_all = df_all.dropna().reset_index(drop=True)\n",
    "print('Year range = {}'.format((np.unique(df_all.Time))))\n",
    "df_all = df_all.set_index(['Country', 'Time'])"
   ]
  },
  {
   "cell_type": "code",
   "execution_count": 27,
   "metadata": {},
   "outputs": [],
   "source": [
    "panel_all_OLS = PanelOLS(df_all.NEET,df_all.drop('NEET',axis=1), entity_effects=True).fit(cov_type='clustered', cluster_entity=True)"
   ]
  },
  {
   "cell_type": "code",
   "execution_count": 28,
   "metadata": {},
   "outputs": [
    {
     "name": "stdout",
     "output_type": "stream",
     "text": [
      "                          PanelOLS Estimation Summary                           \n",
      "================================================================================\n",
      "Dep. Variable:                   NEET   R-squared:                        0.4857\n",
      "Estimator:                   PanelOLS   R-squared (Between):             -0.1944\n",
      "No. Observations:                 125   R-squared (Within):               0.4857\n",
      "Date:                Sat, Apr 03 2021   R-squared (Overall):             -0.1501\n",
      "Time:                        10:38:07   Log-likelihood                   -144.94\n",
      "Cov. Estimator:             Clustered                                           \n",
      "                                        F-statistic:                      6.7669\n",
      "Entities:                          27   P-value                           0.0000\n",
      "Avg Obs:                       4.6296   Distribution:                   F(12,86)\n",
      "Min Obs:                       1.0000                                           \n",
      "Max Obs:                       8.0000   F-statistic (robust):             88.059\n",
      "                                        P-value                           0.0000\n",
      "Time periods:                       8   Distribution:                   F(12,86)\n",
      "Avg Obs:                       15.625                                           \n",
      "Min Obs:                       1.0000                                           \n",
      "Max Obs:                       25.000                                           \n",
      "                                                                                \n",
      "                                   Parameter Estimates                                   \n",
      "=========================================================================================\n",
      "                       Parameter  Std. Err.     T-stat    P-value    Lower CI    Upper CI\n",
      "-----------------------------------------------------------------------------------------\n",
      "const                     38.709     26.482     1.4617     0.1475     -13.935      91.354\n",
      "Exp_LMP                   0.2999     3.0842     0.0972     0.9228     -5.8313      6.4310\n",
      "Exp_LMP_2                 0.5836     0.5639     1.0348     0.3036     -0.5375      1.7046\n",
      "STR                       1.3297     2.9137     0.4563     0.6493     -4.4626      7.1219\n",
      "STR_2                    -0.0722     0.1537    -0.4694     0.6400     -0.3778      0.2335\n",
      "STR_3                     0.0013     0.0026     0.5178     0.6060     -0.0038      0.0065\n",
      "LogGDP                    0.8271     1.1304     0.7317     0.4664     -1.4201      3.0742\n",
      "CPI                      -0.1003     0.1203    -0.8339     0.4066     -0.3394      0.1388\n",
      "DEBT                      0.0414     0.0303     1.3666     0.1753     -0.0188      0.1016\n",
      "Years_schooling          -1.2947     1.0085    -1.2838     0.2027     -3.2995      0.7101\n",
      "LogExp_educ              -4.1123     1.3705    -3.0006     0.0035     -6.8367     -1.3879\n",
      "Strictness_of_workers     1.2096     1.4154     0.8546     0.3952     -1.6042      4.0233\n",
      "PT_employ                 0.1120     0.0502     2.2326     0.0282      0.0123      0.2118\n",
      "=========================================================================================\n",
      "\n",
      "F-test for Poolability: 24.169\n",
      "P-value: 0.0000\n",
      "Distribution: F(26,86)\n",
      "\n",
      "Included effects: Entity\n"
     ]
    }
   ],
   "source": [
    "print(panel_all_OLS)"
   ]
  },
  {
   "cell_type": "markdown",
   "metadata": {},
   "source": [
    "### Use the smallest number of observations and re run the first OLS to see the change and be able to compare the OLS"
   ]
  },
  {
   "cell_type": "code",
   "execution_count": 56,
   "metadata": {},
   "outputs": [],
   "source": [
    "panel_all_obs_OLS = PanelOLS(df_all.NEET,df_all.drop(['NEET', 'Years_schooling', 'LogExp_educ', 'Strictness_of_workers', 'PT_employ'],axis=1), entity_effects=True).fit(cov_type='clustered', cluster_entity=True)"
   ]
  },
  {
   "cell_type": "code",
   "execution_count": 57,
   "metadata": {},
   "outputs": [
    {
     "name": "stdout",
     "output_type": "stream",
     "text": [
      "                          PanelOLS Estimation Summary                           \n",
      "================================================================================\n",
      "Dep. Variable:                   NEET   R-squared:                        0.4111\n",
      "Estimator:                   PanelOLS   R-squared (Between):             -1.1074\n",
      "No. Observations:                 125   R-squared (Within):               0.4111\n",
      "Date:                Sun, Apr 04 2021   R-squared (Overall):             -1.0110\n",
      "Time:                        09:59:57   Log-likelihood                   -153.40\n",
      "Cov. Estimator:             Clustered                                           \n",
      "                                        F-statistic:                      7.8522\n",
      "Entities:                          27   P-value                           0.0000\n",
      "Avg Obs:                       4.6296   Distribution:                    F(8,90)\n",
      "Min Obs:                       1.0000                                           \n",
      "Max Obs:                       8.0000   F-statistic (robust):             12.692\n",
      "                                        P-value                           0.0000\n",
      "Time periods:                       8   Distribution:                    F(8,90)\n",
      "Avg Obs:                       15.625                                           \n",
      "Min Obs:                       1.0000                                           \n",
      "Max Obs:                       25.000                                           \n",
      "                                                                                \n",
      "                             Parameter Estimates                              \n",
      "==============================================================================\n",
      "            Parameter  Std. Err.     T-stat    P-value    Lower CI    Upper CI\n",
      "------------------------------------------------------------------------------\n",
      "const         -19.562     17.046    -1.1476     0.2542     -53.427      14.303\n",
      "Exp_LMP        3.8839     2.2516     1.7249     0.0880     -0.5893      8.3571\n",
      "Exp_LMP_2      0.0433     0.4497     0.0962     0.9235     -0.8500      0.9366\n",
      "STR            1.4801     2.2462     0.6589     0.5116     -2.9824      5.9425\n",
      "STR_2         -0.0802     0.1255    -0.6396     0.5240     -0.3295      0.1690\n",
      "STR_3          0.0016     0.0022     0.7118     0.4784     -0.0028      0.0060\n",
      "LogGDP         1.7045     1.1764     1.4489     0.1508     -0.6327      4.0417\n",
      "CPI           -0.1884     0.1066    -1.7677     0.0805     -0.4001      0.0233\n",
      "DEBT           0.0190     0.0234     0.8141     0.4177     -0.0274      0.0655\n",
      "==============================================================================\n",
      "\n",
      "F-test for Poolability: 37.180\n",
      "P-value: 0.0000\n",
      "Distribution: F(26,90)\n",
      "\n",
      "Included effects: Entity\n"
     ]
    }
   ],
   "source": [
    "print(panel_all_obs_OLS)"
   ]
  },
  {
   "cell_type": "markdown",
   "metadata": {},
   "source": [
    "## With interaction term on Exp_LMP"
   ]
  },
  {
   "cell_type": "code",
   "execution_count": 32,
   "metadata": {},
   "outputs": [],
   "source": [
    "df_inter = df.drop(['Avg_dur_unemployment', 'GDP', 'Exp_educ', 'Exp_LMP_3', 'Avg_class_size'], axis=1).dropna()\n",
    "df_inter = df_inter.set_index(['Country', 'Time'])"
   ]
  },
  {
   "cell_type": "code",
   "execution_count": 36,
   "metadata": {},
   "outputs": [
    {
     "name": "stdout",
     "output_type": "stream",
     "text": [
      "                          PanelOLS Estimation Summary                           \n",
      "================================================================================\n",
      "Dep. Variable:                   NEET   R-squared:                        0.5366\n",
      "Estimator:                   PanelOLS   R-squared (Between):              0.0232\n",
      "No. Observations:                 125   R-squared (Within):               0.5366\n",
      "Date:                Sat, Apr 03 2021   R-squared (Overall):             -0.0208\n",
      "Time:                        10:44:07   Log-likelihood                   -138.42\n",
      "Cov. Estimator:             Clustered                                           \n",
      "                                        F-statistic:                      6.9481\n",
      "Entities:                          27   P-value                           0.0000\n",
      "Avg Obs:                       4.6296   Distribution:                   F(14,84)\n",
      "Min Obs:                       1.0000                                           \n",
      "Max Obs:                       8.0000   F-statistic (robust):             50.223\n",
      "                                        P-value                           0.0000\n",
      "Time periods:                       8   Distribution:                   F(14,84)\n",
      "Avg Obs:                       15.625                                           \n",
      "Min Obs:                       1.0000                                           \n",
      "Max Obs:                       25.000                                           \n",
      "                                                                                \n",
      "                                   Parameter Estimates                                   \n",
      "=========================================================================================\n",
      "                       Parameter  Std. Err.     T-stat    P-value    Lower CI    Upper CI\n",
      "-----------------------------------------------------------------------------------------\n",
      "const                     21.339     31.474     0.6780     0.4997     -41.251      83.928\n",
      "Exp_LMP                   37.503     30.458     1.2313     0.2216     -23.066      98.072\n",
      "Exp_LMP_2                 1.0802     7.2557     0.1489     0.8820     -13.349      15.509\n",
      "STR                      -0.9783     3.8123    -0.2566     0.7981     -8.5593      6.6028\n",
      "STR_2                     0.0635     0.2025     0.3135     0.7547     -0.3392      0.4661\n",
      "STR_3                    -0.0012     0.0034    -0.3604     0.7194     -0.0081      0.0056\n",
      "LogGDP                    4.8828     2.1402     2.2814     0.0251      0.6267      9.1389\n",
      "CPI                      -0.1049     0.1146    -0.9158     0.3624     -0.3328      0.1229\n",
      "DEBT                      0.0349     0.0274     1.2745     0.2060     -0.0195      0.0893\n",
      "Years_schooling          -1.2829     1.0389    -1.2348     0.2203     -3.3488      0.7831\n",
      "LogExp_educ              -4.4431     1.5616    -2.8453     0.0056     -7.5484     -1.3377\n",
      "Strictness_of_workers    -1.5376     1.7439    -0.8817     0.3804     -5.0055      1.9302\n",
      "PT_employ                 0.0640     0.0518     1.2363     0.2198     -0.0390      0.1670\n",
      "LogGDPxExp_LMP           -3.5529     2.9201    -1.2167     0.2271     -9.3599      2.2541\n",
      "LogGDPxExp_LMP_2         -0.0501     0.7100    -0.0705     0.9439     -1.4619      1.3618\n",
      "=========================================================================================\n",
      "\n",
      "F-test for Poolability: 25.497\n",
      "P-value: 0.0000\n",
      "Distribution: F(26,84)\n",
      "\n",
      "Included effects: Entity\n"
     ]
    }
   ],
   "source": [
    "panel_interaction_exp_lmp = PanelOLS(df_inter.NEET,df_inter.drop(['NEET', 'STRxLogExp_educ', 'STR_2xLogExp_educ', 'STR_3xLogExp_educ'], axis=1), entity_effects=True).fit(cov_type='clustered',cluster_entity=True)\n",
    "print(panel_interaction_exp_lmp)"
   ]
  },
  {
   "cell_type": "markdown",
   "metadata": {},
   "source": [
    "### Compute F-Statistic for joint hypotheses"
   ]
  },
  {
   "cell_type": "code",
   "execution_count": 53,
   "metadata": {},
   "outputs": [
    {
     "name": "stdout",
     "output_type": "stream",
     "text": [
      "Hyp 1: <F test: F=array([[2.03178601]]), p=0.13599234140514763, df_denom=110, df_num=2>\n",
      "Hyp 2: <F test: F=array([[6.40121188]]), p=0.00011423437307763265, df_denom=110, df_num=4>\n"
     ]
    }
   ],
   "source": [
    "inter_full_exp_lmp_ols = sm.OLS(df_inter.NEET,df_inter.drop(['NEET', 'STRxLogExp_educ', 'STR_2xLogExp_educ', 'STR_3xLogExp_educ'], axis=1)).fit()\n",
    "hyp_1_exp_lmp = '(LogGDPxExp_LMP=0), (LogGDPxExp_LMP_2=0)'\n",
    "print('Hyp 1:', inter_full_exp_lmp_ols.f_test(hyp_1_exp_lmp))\n",
    "hyp_2_exp_lmp = '(LogGDPxExp_LMP=0), (LogGDPxExp_LMP_2=0), (Exp_LMP=0), (Exp_LMP_2=0)'\n",
    "print('Hyp 2:', inter_full_exp_lmp_ols.f_test(hyp_2_exp_lmp))"
   ]
  },
  {
   "cell_type": "markdown",
   "metadata": {},
   "source": [
    "## With interaction term on STR"
   ]
  },
  {
   "cell_type": "code",
   "execution_count": 37,
   "metadata": {},
   "outputs": [
    {
     "name": "stdout",
     "output_type": "stream",
     "text": [
      "                          PanelOLS Estimation Summary                           \n",
      "================================================================================\n",
      "Dep. Variable:                   NEET   R-squared:                        0.5240\n",
      "Estimator:                   PanelOLS   R-squared (Between):             -0.5174\n",
      "No. Observations:                 125   R-squared (Within):               0.5240\n",
      "Date:                Sat, Apr 03 2021   R-squared (Overall):             -0.3917\n",
      "Time:                        10:45:11   Log-likelihood                   -140.09\n",
      "Cov. Estimator:             Clustered                                           \n",
      "                                        F-statistic:                      6.0925\n",
      "Entities:                          27   P-value                           0.0000\n",
      "Avg Obs:                       4.6296   Distribution:                   F(15,83)\n",
      "Min Obs:                       1.0000                                           \n",
      "Max Obs:                       8.0000   F-statistic (robust):             96.425\n",
      "                                        P-value                           0.0000\n",
      "Time periods:                       8   Distribution:                   F(15,83)\n",
      "Avg Obs:                       15.625                                           \n",
      "Min Obs:                       1.0000                                           \n",
      "Max Obs:                       25.000                                           \n",
      "                                                                                \n",
      "                                   Parameter Estimates                                   \n",
      "=========================================================================================\n",
      "                       Parameter  Std. Err.     T-stat    P-value    Lower CI    Upper CI\n",
      "-----------------------------------------------------------------------------------------\n",
      "const                     567.23     353.65     1.6039     0.1125     -136.16      1270.6\n",
      "Exp_LMP                   1.1338     3.4652     0.3272     0.7443     -5.7583      8.0260\n",
      "Exp_LMP_2                 0.4158     0.6310     0.6589     0.5118     -0.8393      1.6709\n",
      "STR                      -76.195     56.936    -1.3383     0.1845     -189.44      37.048\n",
      "STR_2                     3.4700     2.8047     1.2372     0.2195     -2.1083      9.0484\n",
      "STR_3                    -0.0505     0.0434    -1.1645     0.2476     -0.1367      0.0358\n",
      "LogGDP                    1.0453     1.3584     0.7695     0.4438     -1.6565      3.7471\n",
      "CPI                      -0.0385     0.1177    -0.3274     0.7442     -0.2727      0.1956\n",
      "DEBT                      0.0415     0.0308     1.3447     0.1824     -0.0199      0.1028\n",
      "Years_schooling          -1.2214     1.1506    -1.0615     0.2915     -3.5099      1.0672\n",
      "LogExp_educ              -59.656     36.379    -1.6399     0.1048     -132.01      12.700\n",
      "Strictness_of_workers     0.5292     1.5254     0.3469     0.7296     -2.5048      3.5631\n",
      "PT_employ                 0.1653     0.0664     2.4880     0.0148      0.0332      0.2975\n",
      "STRxLogExp_educ           8.0443     5.7845     1.3907     0.1680     -3.4608      19.549\n",
      "STR_2xLogExp_educ        -0.3648     0.2882    -1.2659     0.2091     -0.9380      0.2084\n",
      "STR_3xLogExp_educ         0.0053     0.0046     1.1533     0.2521     -0.0038      0.0144\n",
      "=========================================================================================\n",
      "\n",
      "F-test for Poolability: 24.093\n",
      "P-value: 0.0000\n",
      "Distribution: F(26,83)\n",
      "\n",
      "Included effects: Entity\n"
     ]
    }
   ],
   "source": [
    "panel_interaction_str = PanelOLS(df_inter.NEET,df_inter.drop(['NEET', 'LogGDPxExp_LMP', 'LogGDPxExp_LMP_2'], axis=1), entity_effects=True).fit(cov_type='clustered',cluster_entity=True)\n",
    "print(panel_interaction_str)"
   ]
  },
  {
   "cell_type": "markdown",
   "metadata": {},
   "source": [
    "### Compute F-Statistic for joint hypotheses"
   ]
  },
  {
   "cell_type": "code",
   "execution_count": 54,
   "metadata": {},
   "outputs": [
    {
     "name": "stdout",
     "output_type": "stream",
     "text": [
      "Hyp 1: <F test: F=array([[1.90957673]]), p=0.13147786816798324, df_denom=124, df_num=3>\n",
      "Hyp 2: <F test: F=array([[6.33917743]]), p=7.70669112668292e-06, df_denom=124, df_num=6>\n"
     ]
    }
   ],
   "source": [
    "inter_full_str_ols = sm.OLS(df_inter.NEET,df_inter.drop(['NEET', 'LogGDPxExp_LMP', 'LogGDPxExp_LMP_2'], axis=1)).fit()\n",
    "hyp_1_str = '(STRxLogExp_educ=0), (STR_2xLogExp_educ=0), (STR_3xLogExp_educ=0)'\n",
    "print('Hyp 1:', inter_edu_ols.f_test(hyp_edu))\n",
    "hyp_2_str = '(STRxLogExp_educ=0), (STR_2xLogExp_educ=0), (STR_3xLogExp_educ=0), (STR=0), (STR_2=0), (STR_3=0)'\n",
    "print('Hyp 2:', inter_edu_ols.f_test(hyp_edu_full))"
   ]
  },
  {
   "cell_type": "markdown",
   "metadata": {
    "heading_collapsed": true
   },
   "source": [
    "## Recapitulative Table"
   ]
  },
  {
   "cell_type": "code",
   "execution_count": 40,
   "metadata": {
    "hidden": true,
    "scrolled": false
   },
   "outputs": [
    {
     "name": "stdout",
     "output_type": "stream",
     "text": [
      "\\begin{center}\n",
      "\\begin{tabular}{lccccc}\n",
      "\\toprule\n",
      "                                   & \\textbf{Model 0} & \\textbf{Model 1} & \\textbf{Model 2} & \\textbf{Model 3} & \\textbf{Model 4}  \\\\\n",
      "\\midrule\n",
      "\\textbf{Dep. Variable}             &       NEET       &       NEET       &       NEET       &       NEET       &       NEET        \\\\\n",
      "\\textbf{Estimator}                 &     PanelOLS     &     PanelOLS     &     PanelOLS     &     PanelOLS     &     PanelOLS      \\\\\n",
      "\\textbf{No. Observations}          &       161        &       135        &       130        &       161        &       125         \\\\\n",
      "\\textbf{Cov. Est.}                 &    Clustered     &    Clustered     &    Clustered     &    Clustered     &    Clustered      \\\\\n",
      "\\textbf{R-squared}                 &      0.4711      &      0.4446      &      0.4716      &      0.4153      &      0.4857       \\\\\n",
      "\\textbf{R-Squared (Within)}        &      0.4711      &      0.4446      &      0.4716      &      0.4153      &      0.4857       \\\\\n",
      "\\textbf{R-Squared (Between)}       &     -0.3683      &      0.1357      &      0.1193      &     -0.6510      &     -0.1944       \\\\\n",
      "\\textbf{R-Squared (Overall)}       &     -0.3144      &      0.1741      &      0.0723      &     -0.6202      &     -0.1501       \\\\\n",
      "\\textbf{F-statistic}               &      13.693      &      11.319      &      8.2097      &      12.582      &      6.7669       \\\\\n",
      "\\textbf{P-value (F-stat)}          &      0.0000      &      0.0000      &      0.0000      &      0.0000      &      0.0000       \\\\\n",
      "\\textbf{=======================}   &   ============   &   ===========    &   ===========    &   ===========    &   ============    \\\\\n",
      "\\textbf{const}                     &      8.4057      &     47.514*      &      41.105      &     -17.724*     &      38.709       \\\\\n",
      "\\textbf{ }                         &     (17.613)     &     (27.382)     &     (29.883)     &     (9.1143)     &     (26.482)      \\\\\n",
      "\\textbf{Exp\\_LMP}                  &     4.8924**     &      2.6907      &      1.9000      &     5.0255*      &      0.2999       \\\\\n",
      "\\textbf{ }                         &     (2.3535)     &     (2.6305)     &     (2.8710)     &     (2.7536)     &     (3.0842)      \\\\\n",
      "\\textbf{Exp\\_LMP\\_2}               &     -0.2164      &      0.1810      &      0.3111      &     -0.1647      &      0.5836       \\\\\n",
      "\\textbf{ }                         &     (0.5289)     &     (0.4576)     &     (0.5239)     &     (0.5645)     &     (0.5639)      \\\\\n",
      "\\textbf{STR}                       &      1.7089      &      1.6940      &      1.2380      &     3.4926**     &      1.3297       \\\\\n",
      "\\textbf{ }                         &     (1.8997)     &     (2.7447)     &     (2.6193)     &     (1.7187)     &     (2.9137)      \\\\\n",
      "\\textbf{STR\\_2}                    &     -0.0968      &     -0.0899      &     -0.0618      &     -0.2028*     &     -0.0722       \\\\\n",
      "\\textbf{ }                         &     (0.1137)     &     (0.1473)     &     (0.1395)     &     (0.1035)     &     (0.1537)      \\\\\n",
      "\\textbf{STR\\_3}                    &      0.0020      &      0.0017      &      0.0011      &     0.0039**     &      0.0013       \\\\\n",
      "\\textbf{ }                         &     (0.0021)     &     (0.0025)     &     (0.0024)     &     (0.0019)     &     (0.0026)      \\\\\n",
      "\\textbf{LogGDP}                    &     -1.0188      &                  &      0.3882      &                  &      0.8271       \\\\\n",
      "\\textbf{ }                         &     (1.3762)     &                  &     (1.1678)     &                  &     (1.1304)      \\\\\n",
      "\\textbf{CPI}                       &    -0.3058***    &                  &     -0.1185      &                  &     -0.1003       \\\\\n",
      "\\textbf{ }                         &     (0.1017)     &                  &     (0.0992)     &                  &     (0.1203)      \\\\\n",
      "\\textbf{DEBT}                      &      0.0015      &                  &      0.0375      &                  &      0.0414       \\\\\n",
      "\\textbf{ }                         &     (0.0239)     &                  &     (0.0267)     &                  &     (0.0303)      \\\\\n",
      "\\textbf{Years\\_schooling}          &                  &     -0.8599      &     -1.3672      &                  &     -1.2947       \\\\\n",
      "\\textbf{ }                         &                  &     (0.7307)     &     (1.0046)     &                  &     (1.0085)      \\\\\n",
      "\\textbf{LogExp\\_educ}              &                  &    -4.1934**     &    -3.2426**     &                  &    -4.1123***     \\\\\n",
      "\\textbf{ }                         &                  &     (1.6653)     &     (1.4782)     &                  &     (1.3705)      \\\\\n",
      "\\textbf{Strictness\\_of\\_workers}   &                  &                  &                  &      2.5115      &      1.2096       \\\\\n",
      "\\textbf{ }                         &                  &                  &                  &     (1.9281)     &     (1.4154)      \\\\\n",
      "\\textbf{PT\\_employ}                &                  &                  &                  &     -0.0216      &     0.1120**      \\\\\n",
      "\\textbf{ }                         &                  &                  &                  &     (0.0599)     &     (0.0502)      \\\\\n",
      "\\textbf{=========================} &  ==============  &  =============   &  =============   &  =============   &  ==============   \\\\\n",
      "\\bottomrule\n",
      "\\end{tabular}\n",
      "%\\caption{Model Comparison}\n",
      "\\end{center}\n",
      "\n",
      "Std. Errors reported in parentheses\n"
     ]
    }
   ],
   "source": [
    "full_res = [panel_eco_OLS,panel_edu_OLS,panel_eco_edu_OLS,panel_labor_OLS,panel_all_OLS]\n",
    "print(PanelModelComparison(full_res,precision='std_errors',stars=True).summary.as_latex())"
   ]
  },
  {
   "cell_type": "code",
   "execution_count": 50,
   "metadata": {
    "hidden": true,
    "scrolled": false
   },
   "outputs": [
    {
     "name": "stdout",
     "output_type": "stream",
     "text": [
      "\\begin{center}\n",
      "\\begin{tabular}{lcccc}\n",
      "\\toprule\n",
      "                                   & \\textbf{Model 0} & \\textbf{Model 1} & \\textbf{Model 2} & \\textbf{Model 3}  \\\\\n",
      "\\midrule\n",
      "\\textbf{Dep. Variable}             &       NEET       &       NEET       &       NEET       &       NEET        \\\\\n",
      "\\textbf{Estimator}                 &     PanelOLS     &     PanelOLS     &     PanelOLS     &     PanelOLS      \\\\\n",
      "\\textbf{No. Observations}          &       161        &       135        &       125        &       125         \\\\\n",
      "\\textbf{Cov. Est.}                 &    Clustered     &    Clustered     &    Clustered     &    Clustered      \\\\\n",
      "\\textbf{R-squared}                 &      0.5202      &      0.4730      &      0.5366      &      0.5240       \\\\\n",
      "\\textbf{R-Squared (Within)}        &      0.5202      &      0.4730      &      0.5366      &      0.5240       \\\\\n",
      "\\textbf{R-Squared (Between)}       &     -0.3590      &      0.0936      &      0.0232      &     -0.5174       \\\\\n",
      "\\textbf{R-Squared (Overall)}       &     -0.3404      &      0.1188      &     -0.0208      &     -0.3917       \\\\\n",
      "\\textbf{F-statistic}               &      13.120      &      8.6160      &      6.9481      &      6.0925       \\\\\n",
      "\\textbf{P-value (F-stat)}          &      0.0000      &      0.0000      &      0.0000      &      0.0000       \\\\\n",
      "\\textbf{=======================}   &   ============   &   ===========    &   ============   &   ===========     \\\\\n",
      "\\textbf{const}                     &      16.338      &      365.07      &      21.339      &      567.23       \\\\\n",
      "\\textbf{ }                         &     (26.638)     &     (352.90)     &     (31.474)     &     (353.65)      \\\\\n",
      "\\textbf{Exp\\_LMP}                  &     -45.855      &      3.2866      &      37.503      &      1.1338       \\\\\n",
      "\\textbf{ }                         &     (32.366)     &     (3.1301)     &     (30.458)     &     (3.4652)      \\\\\n",
      "\\textbf{Exp\\_LMP\\_2}               &    21.287***     &      0.0604      &      1.0802      &      0.4158       \\\\\n",
      "\\textbf{ }                         &     (7.1181)     &     (0.5410)     &     (7.2557)     &     (0.6310)      \\\\\n",
      "\\textbf{STR}                       &      2.8868      &     -41.111      &     -0.9783      &     -76.195       \\\\\n",
      "\\textbf{ }                         &     (1.9767)     &     (54.945)     &     (3.8123)     &     (56.936)      \\\\\n",
      "\\textbf{STR\\_2}                    &     -0.1715      &      1.7518      &      0.0635      &      3.4700       \\\\\n",
      "\\textbf{ }                         &     (0.1177)     &     (2.6097)     &     (0.2025)     &     (2.8047)      \\\\\n",
      "\\textbf{STR\\_3}                    &      0.0034      &     -0.0268      &     -0.0012      &     -0.0505       \\\\\n",
      "\\textbf{ }                         &     (0.0022)     &     (0.0386)     &     (0.0034)     &     (0.0434)      \\\\\n",
      "\\textbf{LogGDP}                    &     -2.4746      &                  &     4.8828**     &      1.0453       \\\\\n",
      "\\textbf{ }                         &     (2.8150)     &                  &     (2.1402)     &     (1.3584)      \\\\\n",
      "\\textbf{CPI}                       &    -0.2887***    &                  &     -0.1049      &     -0.0385       \\\\\n",
      "\\textbf{ }                         &     (0.1007)     &                  &     (0.1146)     &     (0.1177)      \\\\\n",
      "\\textbf{DEBT}                      &      0.0170      &                  &      0.0349      &      0.0415       \\\\\n",
      "\\textbf{ }                         &     (0.0230)     &                  &     (0.0274)     &     (0.0308)      \\\\\n",
      "\\textbf{LogGDPxExp\\_LMP}           &      4.8927      &                  &     -3.5529      &                   \\\\\n",
      "\\textbf{ }                         &     (3.0532)     &                  &     (2.9201)     &                   \\\\\n",
      "\\textbf{LogGDPxExp\\_LMP\\_2}        &    -2.0622***    &                  &     -0.0501      &                   \\\\\n",
      "\\textbf{ }                         &     (0.6707)     &                  &     (0.7100)     &                   \\\\\n",
      "\\textbf{Years\\_schooling}          &                  &     -0.9829      &     -1.2829      &     -1.2214       \\\\\n",
      "\\textbf{ }                         &                  &     (0.7078)     &     (1.0389)     &     (1.1506)      \\\\\n",
      "\\textbf{LogExp\\_educ}              &                  &     -37.418      &    -4.4431***    &     -59.656       \\\\\n",
      "\\textbf{ }                         &                  &     (35.865)     &     (1.5616)     &     (36.379)      \\\\\n",
      "\\textbf{STRxLogExp\\_educ}          &                  &      4.4885      &                  &      8.0443       \\\\\n",
      "\\textbf{ }                         &                  &     (5.5026)     &                  &     (5.7845)      \\\\\n",
      "\\textbf{STR\\_2xLogExp\\_educ}       &                  &     -0.1941      &                  &     -0.3648       \\\\\n",
      "\\textbf{ }                         &                  &     (0.2637)     &                  &     (0.2882)      \\\\\n",
      "\\textbf{STR\\_3xLogExp\\_educ}       &                  &      0.0031      &                  &      0.0053       \\\\\n",
      "\\textbf{ }                         &                  &     (0.0040)     &                  &     (0.0046)      \\\\\n",
      "\\textbf{Strictness\\_of\\_workers}   &                  &                  &     -1.5376      &      0.5292       \\\\\n",
      "\\textbf{ }                         &                  &                  &     (1.7439)     &     (1.5254)      \\\\\n",
      "\\textbf{PT\\_employ}                &                  &                  &      0.0640      &     0.1653**      \\\\\n",
      "\\textbf{ }                         &                  &                  &     (0.0518)     &     (0.0664)      \\\\\n",
      "\\textbf{=========================} &  ==============  &  =============   &  ==============  &  =============    \\\\\n",
      "\\bottomrule\n",
      "\\end{tabular}\n",
      "%\\caption{Model Comparison}\n",
      "\\end{center}\n",
      "\n",
      "Std. Errors reported in parentheses\n"
     ]
    }
   ],
   "source": [
    "inter_res = [panel_eco_inter_OLS, panel_edu_inter_OLS, panel_interaction_exp_lmp, panel_interaction_str]\n",
    "print(PanelModelComparison(inter_res,precision='std_errors',stars=True).summary.as_latex())"
   ]
  },
  {
   "cell_type": "code",
   "execution_count": null,
   "metadata": {
    "hidden": true
   },
   "outputs": [],
   "source": []
  }
 ],
 "metadata": {
  "kernelspec": {
   "display_name": "Python 3",
   "language": "python",
   "name": "python3"
  },
  "language_info": {
   "codemirror_mode": {
    "name": "ipython",
    "version": 3
   },
   "file_extension": ".py",
   "mimetype": "text/x-python",
   "name": "python",
   "nbconvert_exporter": "python",
   "pygments_lexer": "ipython3",
   "version": "3.7.6"
  },
  "toc": {
   "base_numbering": 1,
   "nav_menu": {},
   "number_sections": true,
   "sideBar": true,
   "skip_h1_title": false,
   "title_cell": "Table of Contents",
   "title_sidebar": "Contents",
   "toc_cell": false,
   "toc_position": {},
   "toc_section_display": true,
   "toc_window_display": false
  },
  "varInspector": {
   "cols": {
    "lenName": 16,
    "lenType": 16,
    "lenVar": 40
   },
   "kernels_config": {
    "python": {
     "delete_cmd_postfix": "",
     "delete_cmd_prefix": "del ",
     "library": "var_list.py",
     "varRefreshCmd": "print(var_dic_list())"
    },
    "r": {
     "delete_cmd_postfix": ") ",
     "delete_cmd_prefix": "rm(",
     "library": "var_list.r",
     "varRefreshCmd": "cat(var_dic_list()) "
    }
   },
   "types_to_exclude": [
    "module",
    "function",
    "builtin_function_or_method",
    "instance",
    "_Feature"
   ],
   "window_display": false
  }
 },
 "nbformat": 4,
 "nbformat_minor": 2
}

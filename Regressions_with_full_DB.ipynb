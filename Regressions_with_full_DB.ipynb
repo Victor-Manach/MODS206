{
 "cells": [
  {
   "cell_type": "markdown",
   "metadata": {},
   "source": [
    "# Library importation"
   ]
  },
  {
   "cell_type": "code",
   "execution_count": 1,
   "metadata": {},
   "outputs": [],
   "source": [
    "import numpy as np\n",
    "import pandas as pd\n",
    "from linearmodels import PanelOLS\n",
    "from linearmodels.panel.results import PanelModelComparison\n",
    "import statsmodels.api as sm"
   ]
  },
  {
   "cell_type": "markdown",
   "metadata": {},
   "source": [
    "# Data importation"
   ]
  },
  {
   "cell_type": "code",
   "execution_count": 2,
   "metadata": {},
   "outputs": [],
   "source": [
    "df = pd.read_csv('./data/panel_data/Full_DB.csv')"
   ]
  },
  {
   "cell_type": "code",
   "execution_count": 3,
   "metadata": {},
   "outputs": [
    {
     "data": {
      "text/plain": [
       "Index(['const', 'Country', 'Time', 'NEET', 'Exp_LMP', 'Exp_LMP_2', 'Exp_LMP_3',\n",
       "       'STR', 'STR_2', 'STR_3', 'GDP', 'LogGDP', 'CPI', 'DEBT',\n",
       "       'Years_schooling', 'Avg_class_size', 'Exp_educ', 'LogExp_educ',\n",
       "       'Strictness_of_workers', 'PT_employ', 'Avg_dur_unemployment'],\n",
       "      dtype='object')"
      ]
     },
     "execution_count": 3,
     "metadata": {},
     "output_type": "execute_result"
    }
   ],
   "source": [
    "df.columns"
   ]
  },
  {
   "cell_type": "markdown",
   "metadata": {},
   "source": [
    "# Regressions"
   ]
  },
  {
   "cell_type": "markdown",
   "metadata": {},
   "source": [
    "## With explanatory variables only"
   ]
  },
  {
   "cell_type": "markdown",
   "metadata": {},
   "source": [
    "### Without time and entity effects"
   ]
  },
  {
   "cell_type": "code",
   "execution_count": 4,
   "metadata": {},
   "outputs": [],
   "source": [
    "df_explanatory = df[['const','Country','Time','NEET','Exp_LMP','Exp_LMP_2','STR','STR_2','STR_3']]\n",
    "# df_explanatory = df_explanatory.dropna().reset_index(drop=True)\n",
    "df_explanatory = df_explanatory.set_index(['Country', 'Time'])"
   ]
  },
  {
   "cell_type": "code",
   "execution_count": 5,
   "metadata": {},
   "outputs": [
    {
     "data": {
      "text/html": [
       "<div>\n",
       "<style scoped>\n",
       "    .dataframe tbody tr th:only-of-type {\n",
       "        vertical-align: middle;\n",
       "    }\n",
       "\n",
       "    .dataframe tbody tr th {\n",
       "        vertical-align: top;\n",
       "    }\n",
       "\n",
       "    .dataframe thead th {\n",
       "        text-align: right;\n",
       "    }\n",
       "</style>\n",
       "<table border=\"1\" class=\"dataframe\">\n",
       "  <thead>\n",
       "    <tr style=\"text-align: right;\">\n",
       "      <th></th>\n",
       "      <th></th>\n",
       "      <th>const</th>\n",
       "      <th>NEET</th>\n",
       "      <th>Exp_LMP</th>\n",
       "      <th>Exp_LMP_2</th>\n",
       "      <th>STR</th>\n",
       "      <th>STR_2</th>\n",
       "      <th>STR_3</th>\n",
       "    </tr>\n",
       "    <tr>\n",
       "      <th>Country</th>\n",
       "      <th>Time</th>\n",
       "      <th></th>\n",
       "      <th></th>\n",
       "      <th></th>\n",
       "      <th></th>\n",
       "      <th></th>\n",
       "      <th></th>\n",
       "      <th></th>\n",
       "    </tr>\n",
       "  </thead>\n",
       "  <tbody>\n",
       "    <tr>\n",
       "      <td rowspan=\"5\" valign=\"top\">AUS</td>\n",
       "      <td>2013</td>\n",
       "      <td>1.0</td>\n",
       "      <td>13.015899</td>\n",
       "      <td>0.87</td>\n",
       "      <td>0.7569</td>\n",
       "      <td>15.615</td>\n",
       "      <td>243.828225</td>\n",
       "      <td>3807.377733</td>\n",
       "    </tr>\n",
       "    <tr>\n",
       "      <td>2014</td>\n",
       "      <td>1.0</td>\n",
       "      <td>12.647472</td>\n",
       "      <td>0.93</td>\n",
       "      <td>0.8649</td>\n",
       "      <td>15.612</td>\n",
       "      <td>243.734544</td>\n",
       "      <td>3805.183701</td>\n",
       "    </tr>\n",
       "    <tr>\n",
       "      <td>2015</td>\n",
       "      <td>1.0</td>\n",
       "      <td>11.831610</td>\n",
       "      <td>0.91</td>\n",
       "      <td>0.8281</td>\n",
       "      <td>15.433</td>\n",
       "      <td>238.177489</td>\n",
       "      <td>3675.793188</td>\n",
       "    </tr>\n",
       "    <tr>\n",
       "      <td>2016</td>\n",
       "      <td>1.0</td>\n",
       "      <td>11.352150</td>\n",
       "      <td>0.86</td>\n",
       "      <td>0.7396</td>\n",
       "      <td>15.168</td>\n",
       "      <td>230.068224</td>\n",
       "      <td>3489.674822</td>\n",
       "    </tr>\n",
       "    <tr>\n",
       "      <td>2017</td>\n",
       "      <td>1.0</td>\n",
       "      <td>10.946128</td>\n",
       "      <td>0.85</td>\n",
       "      <td>0.7225</td>\n",
       "      <td>15.124</td>\n",
       "      <td>228.735376</td>\n",
       "      <td>3459.393827</td>\n",
       "    </tr>\n",
       "    <tr>\n",
       "      <td>...</td>\n",
       "      <td>...</td>\n",
       "      <td>...</td>\n",
       "      <td>...</td>\n",
       "      <td>...</td>\n",
       "      <td>...</td>\n",
       "      <td>...</td>\n",
       "      <td>...</td>\n",
       "      <td>...</td>\n",
       "    </tr>\n",
       "    <tr>\n",
       "      <td rowspan=\"5\" valign=\"top\">LTU</td>\n",
       "      <td>2014</td>\n",
       "      <td>1.0</td>\n",
       "      <td>14.185811</td>\n",
       "      <td>0.43</td>\n",
       "      <td>0.1849</td>\n",
       "      <td>10.233</td>\n",
       "      <td>104.714289</td>\n",
       "      <td>1071.541319</td>\n",
       "    </tr>\n",
       "    <tr>\n",
       "      <td>2015</td>\n",
       "      <td>1.0</td>\n",
       "      <td>13.743647</td>\n",
       "      <td>0.53</td>\n",
       "      <td>0.2809</td>\n",
       "      <td>10.256</td>\n",
       "      <td>105.185536</td>\n",
       "      <td>1078.782857</td>\n",
       "    </tr>\n",
       "    <tr>\n",
       "      <td>2016</td>\n",
       "      <td>1.0</td>\n",
       "      <td>11.403278</td>\n",
       "      <td>0.51</td>\n",
       "      <td>0.2601</td>\n",
       "      <td>10.470</td>\n",
       "      <td>109.620900</td>\n",
       "      <td>1147.730823</td>\n",
       "    </tr>\n",
       "    <tr>\n",
       "      <td>2017</td>\n",
       "      <td>1.0</td>\n",
       "      <td>11.220660</td>\n",
       "      <td>0.54</td>\n",
       "      <td>0.2916</td>\n",
       "      <td>10.619</td>\n",
       "      <td>112.763161</td>\n",
       "      <td>1197.432007</td>\n",
       "    </tr>\n",
       "    <tr>\n",
       "      <td>2018</td>\n",
       "      <td>1.0</td>\n",
       "      <td>10.495108</td>\n",
       "      <td>0.66</td>\n",
       "      <td>0.4356</td>\n",
       "      <td>11.220</td>\n",
       "      <td>125.888400</td>\n",
       "      <td>1412.467848</td>\n",
       "    </tr>\n",
       "  </tbody>\n",
       "</table>\n",
       "<p>167 rows × 7 columns</p>\n",
       "</div>"
      ],
      "text/plain": [
       "              const       NEET  Exp_LMP  Exp_LMP_2     STR       STR_2  \\\n",
       "Country Time                                                             \n",
       "AUS     2013    1.0  13.015899     0.87     0.7569  15.615  243.828225   \n",
       "        2014    1.0  12.647472     0.93     0.8649  15.612  243.734544   \n",
       "        2015    1.0  11.831610     0.91     0.8281  15.433  238.177489   \n",
       "        2016    1.0  11.352150     0.86     0.7396  15.168  230.068224   \n",
       "        2017    1.0  10.946128     0.85     0.7225  15.124  228.735376   \n",
       "...             ...        ...      ...        ...     ...         ...   \n",
       "LTU     2014    1.0  14.185811     0.43     0.1849  10.233  104.714289   \n",
       "        2015    1.0  13.743647     0.53     0.2809  10.256  105.185536   \n",
       "        2016    1.0  11.403278     0.51     0.2601  10.470  109.620900   \n",
       "        2017    1.0  11.220660     0.54     0.2916  10.619  112.763161   \n",
       "        2018    1.0  10.495108     0.66     0.4356  11.220  125.888400   \n",
       "\n",
       "                    STR_3  \n",
       "Country Time               \n",
       "AUS     2013  3807.377733  \n",
       "        2014  3805.183701  \n",
       "        2015  3675.793188  \n",
       "        2016  3489.674822  \n",
       "        2017  3459.393827  \n",
       "...                   ...  \n",
       "LTU     2014  1071.541319  \n",
       "        2015  1078.782857  \n",
       "        2016  1147.730823  \n",
       "        2017  1197.432007  \n",
       "        2018  1412.467848  \n",
       "\n",
       "[167 rows x 7 columns]"
      ]
     },
     "execution_count": 5,
     "metadata": {},
     "output_type": "execute_result"
    }
   ],
   "source": [
    "df_explanatory"
   ]
  },
  {
   "cell_type": "code",
   "execution_count": 6,
   "metadata": {},
   "outputs": [],
   "source": [
    "panel_explanatory_OLS = PanelOLS(df_explanatory.NEET, df_explanatory.drop('NEET', axis=1)).fit(cov_type='clustered')"
   ]
  },
  {
   "cell_type": "code",
   "execution_count": 7,
   "metadata": {},
   "outputs": [
    {
     "name": "stdout",
     "output_type": "stream",
     "text": [
      "                          PanelOLS Estimation Summary                           \n",
      "================================================================================\n",
      "Dep. Variable:                   NEET   R-squared:                        0.2586\n",
      "Estimator:                   PanelOLS   R-squared (Between):              0.1785\n",
      "No. Observations:                 167   R-squared (Within):               0.1610\n",
      "Date:                Fri, Apr 02 2021   R-squared (Overall):              0.2586\n",
      "Time:                        13:02:03   Log-likelihood                   -451.96\n",
      "Cov. Estimator:             Clustered                                           \n",
      "                                        F-statistic:                      11.230\n",
      "Entities:                          31   P-value                           0.0000\n",
      "Avg Obs:                       5.3871   Distribution:                   F(5,161)\n",
      "Min Obs:                       2.0000                                           \n",
      "Max Obs:                       9.0000   F-statistic (robust):             70.129\n",
      "                                        P-value                           0.0000\n",
      "Time periods:                       9   Distribution:                   F(5,161)\n",
      "Avg Obs:                       18.556                                           \n",
      "Min Obs:                       1.0000                                           \n",
      "Max Obs:                       29.000                                           \n",
      "                                                                                \n",
      "                             Parameter Estimates                              \n",
      "==============================================================================\n",
      "            Parameter  Std. Err.     T-stat    P-value    Lower CI    Upper CI\n",
      "------------------------------------------------------------------------------\n",
      "const         -21.512     12.089    -1.7795     0.0770     -45.384      2.3608\n",
      "Exp_LMP       -4.9254     2.3134    -2.1291     0.0348     -9.4940     -0.3568\n",
      "Exp_LMP_2      1.7319     0.7234     2.3940     0.0178      0.3032      3.1605\n",
      "STR            7.1781     2.2607     3.1752     0.0018      2.7137      11.643\n",
      "STR_2         -0.4441     0.1349    -3.2935     0.0012     -0.7105     -0.1778\n",
      "STR_3          0.0088     0.0025     3.5151     0.0006      0.0039      0.0138\n",
      "==============================================================================\n",
      "\n",
      "\n"
     ]
    }
   ],
   "source": [
    "print(panel_explanatory_OLS)"
   ]
  },
  {
   "cell_type": "markdown",
   "metadata": {},
   "source": [
    "### With Time effect only"
   ]
  },
  {
   "cell_type": "code",
   "execution_count": 8,
   "metadata": {},
   "outputs": [],
   "source": [
    "panel_explanatory_OLS_tfe = PanelOLS(df_explanatory.NEET, df_explanatory.drop('NEET', axis=1),time_effects = True).fit(cov_type='clustered', cluster_time=True)"
   ]
  },
  {
   "cell_type": "code",
   "execution_count": 9,
   "metadata": {},
   "outputs": [
    {
     "name": "stdout",
     "output_type": "stream",
     "text": [
      "                          PanelOLS Estimation Summary                           \n",
      "================================================================================\n",
      "Dep. Variable:                   NEET   R-squared:                        0.2470\n",
      "Estimator:                   PanelOLS   R-squared (Between):              0.1845\n",
      "No. Observations:                 167   R-squared (Within):               0.1643\n",
      "Date:                Fri, Apr 02 2021   R-squared (Overall):              0.2573\n",
      "Time:                        13:02:03   Log-likelihood                   -447.32\n",
      "Cov. Estimator:             Clustered                                           \n",
      "                                        F-statistic:                      10.039\n",
      "Entities:                          31   P-value                           0.0000\n",
      "Avg Obs:                       5.3871   Distribution:                   F(5,153)\n",
      "Min Obs:                       2.0000                                           \n",
      "Max Obs:                       9.0000   F-statistic (robust):             3778.9\n",
      "                                        P-value                           0.0000\n",
      "Time periods:                       9   Distribution:                   F(5,153)\n",
      "Avg Obs:                       18.556                                           \n",
      "Min Obs:                       1.0000                                           \n",
      "Max Obs:                       29.000                                           \n",
      "                                                                                \n",
      "                             Parameter Estimates                              \n",
      "==============================================================================\n",
      "            Parameter  Std. Err.     T-stat    P-value    Lower CI    Upper CI\n",
      "------------------------------------------------------------------------------\n",
      "const         -21.830     6.4329    -3.3934     0.0009     -34.538     -9.1208\n",
      "Exp_LMP       -4.5169     1.6373    -2.7588     0.0065     -7.7516     -1.2823\n",
      "Exp_LMP_2      1.5706     0.5308     2.9589     0.0036      0.5219      2.6193\n",
      "STR            7.2359     1.1618     6.2279     0.0000      4.9405      9.5312\n",
      "STR_2         -0.4487     0.0687    -6.5315     0.0000     -0.5845     -0.3130\n",
      "STR_3          0.0089     0.0013     7.0359     0.0000      0.0064      0.0114\n",
      "==============================================================================\n",
      "\n",
      "F-test for Poolability: 1.0943\n",
      "P-value: 0.3702\n",
      "Distribution: F(8,153)\n",
      "\n",
      "Included effects: Time\n"
     ]
    }
   ],
   "source": [
    "print(panel_explanatory_OLS_tfe)"
   ]
  },
  {
   "cell_type": "markdown",
   "metadata": {},
   "source": [
    ">We see that the influence of the time fixed effect cannot be omitted as the p-value for the F-test for Poolability is null showing that the influence of the time effect is not null."
   ]
  },
  {
   "cell_type": "markdown",
   "metadata": {},
   "source": [
    "### With Time and entity effects"
   ]
  },
  {
   "cell_type": "code",
   "execution_count": 31,
   "metadata": {},
   "outputs": [],
   "source": [
    "panel_explanatory_OLS_stfe = PanelOLS(df_explanatory.NEET, df_explanatory.drop('NEET', axis=1),entity_effects = True).fit(cov_type='clustered',cluster_effect=True)"
   ]
  },
  {
   "cell_type": "code",
   "execution_count": 32,
   "metadata": {},
   "outputs": [
    {
     "name": "stdout",
     "output_type": "stream",
     "text": [
      "                          PanelOLS Estimation Summary                           \n",
      "================================================================================\n",
      "Dep. Variable:                   NEET   R-squared:                        0.3977\n",
      "Estimator:                   PanelOLS   R-squared (Between):             -0.7485\n",
      "No. Observations:                 167   R-squared (Within):               0.3977\n",
      "Date:                Fri, Apr 02 2021   R-squared (Overall):             -0.6738\n",
      "Time:                        13:07:04   Log-likelihood                   -228.88\n",
      "Cov. Estimator:             Clustered                                           \n",
      "                                        F-statistic:                      17.302\n",
      "Entities:                          31   P-value                           0.0000\n",
      "Avg Obs:                       5.3871   Distribution:                   F(5,131)\n",
      "Min Obs:                       2.0000                                           \n",
      "Max Obs:                       9.0000   F-statistic (robust):             18.757\n",
      "                                        P-value                           0.0000\n",
      "Time periods:                       9   Distribution:                   F(5,131)\n",
      "Avg Obs:                       18.556                                           \n",
      "Min Obs:                       1.0000                                           \n",
      "Max Obs:                       29.000                                           \n",
      "                                                                                \n",
      "                             Parameter Estimates                              \n",
      "==============================================================================\n",
      "            Parameter  Std. Err.     T-stat    P-value    Lower CI    Upper CI\n",
      "------------------------------------------------------------------------------\n",
      "const         -9.3595     10.660    -0.8780     0.3816     -30.448      11.729\n",
      "Exp_LMP        5.8007     2.2002     2.6364     0.0094      1.4482      10.153\n",
      "Exp_LMP_2     -0.3354     0.4617    -0.7265     0.4688     -1.2488      0.5780\n",
      "STR            2.8734     1.9998     1.4369     0.1531     -1.0826      6.8295\n",
      "STR_2         -0.1670     0.1155    -1.4453     0.1507     -0.3955      0.0616\n",
      "STR_3          0.0033     0.0020     1.6025     0.1114     -0.0008      0.0073\n",
      "==============================================================================\n",
      "\n",
      "F-test for Poolability: 58.796\n",
      "P-value: 0.0000\n",
      "Distribution: F(30,131)\n",
      "\n",
      "Included effects: Entity\n"
     ]
    }
   ],
   "source": [
    "print(panel_explanatory_OLS_stfe)"
   ]
  },
  {
   "cell_type": "markdown",
   "metadata": {},
   "source": [
    ">We see here that the use of the entity fixed effect is not statistically significant:\n",
    "   * First, for each coefficient the p-value is very high\n",
    "   * Second, the p-value for the F-test for Poolability shows that the entity fixed effect is null"
   ]
  },
  {
   "cell_type": "code",
   "execution_count": 12,
   "metadata": {
    "scrolled": false
   },
   "outputs": [
    {
     "name": "stdout",
     "output_type": "stream",
     "text": [
      "                          Model Comparison                         \n",
      "===================================================================\n",
      "                               Model 0        Model 1       Model 2\n",
      "-------------------------------------------------------------------\n",
      "Dep. Variable                     NEET           NEET          NEET\n",
      "Estimator                     PanelOLS       PanelOLS      PanelOLS\n",
      "No. Observations                   167            167           167\n",
      "Cov. Est.                    Clustered      Clustered     Clustered\n",
      "R-squared                       0.2586         0.2470        0.1745\n",
      "R-Squared (Within)              0.1610         0.1643        0.3029\n",
      "R-Squared (Between)             0.1785         0.1845       -0.2528\n",
      "R-Squared (Overall)             0.2586         0.2573       -0.2024\n",
      "F-statistic                     11.230         10.039        5.1991\n",
      "P-value (F-stat)                0.0000         0.0000        0.0002\n",
      "=====================     ============   ============   ===========\n",
      "const                         -21.512*     -21.830***        1.2941\n",
      "                              (12.089)       (6.4329)      (8.3841)\n",
      "Exp_LMP                      -4.9254**     -4.5169***       1.7254*\n",
      "                              (2.3134)       (1.6373)      (0.8857)\n",
      "Exp_LMP_2                     1.7319**      1.5706***        0.1220\n",
      "                              (0.7234)       (0.5308)      (0.2535)\n",
      "STR                          7.1781***      7.2359***        1.2897\n",
      "                              (2.2607)       (1.1618)      (1.7755)\n",
      "STR_2                       -0.4441***     -0.4487***       -0.0438\n",
      "                              (0.1349)       (0.0687)      (0.1117)\n",
      "STR_3                        0.0088***      0.0089***        0.0003\n",
      "                              (0.0025)       (0.0013)      (0.0021)\n",
      "======================= ============== ============== =============\n",
      "Effects                                          Time        Entity\n",
      "                                                               Time\n",
      "-------------------------------------------------------------------\n",
      "\n",
      "Std. Errors reported in parentheses\n"
     ]
    }
   ],
   "source": [
    "results = [panel_explanatory_OLS,panel_explanatory_OLS_tfe,panel_explanatory_OLS_stfe]\n",
    "print(PanelModelComparison(results,precision='std_errors',stars=True))"
   ]
  },
  {
   "cell_type": "markdown",
   "metadata": {},
   "source": [
    "## With economic features only"
   ]
  },
  {
   "cell_type": "code",
   "execution_count": 13,
   "metadata": {},
   "outputs": [],
   "source": [
    "df_eco = df[['const','Country','Time','NEET','Exp_LMP','Exp_LMP_2','STR','STR_2','STR_3','LogGDP','CPI','DEBT']]\n",
    "df_eco = df_eco.dropna().reset_index(drop=True)\n",
    "df_eco = df_eco.set_index(['Country', 'Time'])"
   ]
  },
  {
   "cell_type": "code",
   "execution_count": 14,
   "metadata": {},
   "outputs": [],
   "source": [
    "panel_eco_OLS = PanelOLS(df_eco.NEET,df_eco.drop('NEET',axis=1), time_effects=True).fit(cov_type='clustered', cluster_time=True)"
   ]
  },
  {
   "cell_type": "code",
   "execution_count": 15,
   "metadata": {},
   "outputs": [
    {
     "name": "stdout",
     "output_type": "stream",
     "text": [
      "                          PanelOLS Estimation Summary                           \n",
      "================================================================================\n",
      "Dep. Variable:                   NEET   R-squared:                        0.5226\n",
      "Estimator:                   PanelOLS   R-squared (Between):              0.4604\n",
      "No. Observations:                 161   R-squared (Within):               0.3105\n",
      "Date:                Fri, Apr 02 2021   R-squared (Overall):              0.5232\n",
      "Time:                        13:02:04   Log-likelihood                   -397.06\n",
      "Cov. Estimator:             Clustered                                           \n",
      "                                        F-statistic:                      19.701\n",
      "Entities:                          30   P-value                           0.0000\n",
      "Avg Obs:                       5.3667   Distribution:                   F(8,144)\n",
      "Min Obs:                       2.0000                                           \n",
      "Max Obs:                       9.0000   F-statistic (robust):          6.036e+11\n",
      "                                        P-value                           0.0000\n",
      "Time periods:                       9   Distribution:                   F(8,144)\n",
      "Avg Obs:                       17.889                                           \n",
      "Min Obs:                       1.0000                                           \n",
      "Max Obs:                       28.000                                           \n",
      "                                                                                \n",
      "                             Parameter Estimates                              \n",
      "==============================================================================\n",
      "            Parameter  Std. Err.     T-stat    P-value    Lower CI    Upper CI\n",
      "------------------------------------------------------------------------------\n",
      "const          32.561     4.6615     6.9852     0.0000      23.348      41.775\n",
      "Exp_LMP       -2.0482     1.1577    -1.7692     0.0790     -4.3364      0.2401\n",
      "Exp_LMP_2      0.9068     0.3986     2.2747     0.0244      0.1188      1.6948\n",
      "STR            3.0799     0.9996     3.0812     0.0025      1.1042      5.0557\n",
      "STR_2         -0.2066     0.0614    -3.3673     0.0010     -0.3279     -0.0853\n",
      "STR_3          0.0045     0.0012     3.7776     0.0002      0.0021      0.0068\n",
      "LogGDP        -3.4229     0.4132    -8.2832     0.0000     -4.2397     -2.6061\n",
      "CPI           -0.2832     0.3256    -0.8697     0.3859     -0.9269      0.3605\n",
      "DEBT           0.0324     0.0068     4.7983     0.0000      0.0191      0.0458\n",
      "==============================================================================\n",
      "\n",
      "F-test for Poolability: 1.1815\n",
      "P-value: 0.3142\n",
      "Distribution: F(8,144)\n",
      "\n",
      "Included effects: Time\n"
     ]
    }
   ],
   "source": [
    "print(panel_eco_OLS)"
   ]
  },
  {
   "cell_type": "markdown",
   "metadata": {},
   "source": [
    "## With education features only"
   ]
  },
  {
   "cell_type": "code",
   "execution_count": 16,
   "metadata": {},
   "outputs": [],
   "source": [
    "df_edu = df[['const','Country','Time','NEET','Exp_LMP','Exp_LMP_2','STR','STR_2','STR_3','Years_schooling','LogExp_educ']]\n",
    "df_edu = df_edu.dropna().reset_index(drop=True)\n",
    "df_edu = df_edu.set_index(['Country', 'Time'])"
   ]
  },
  {
   "cell_type": "code",
   "execution_count": 17,
   "metadata": {},
   "outputs": [],
   "source": [
    "panel_edu_OLS = PanelOLS(df_edu.NEET,df_edu.drop('NEET',axis=1), time_effects=True).fit(cov_type='clustered', cluster_time=True)"
   ]
  },
  {
   "cell_type": "code",
   "execution_count": 18,
   "metadata": {},
   "outputs": [
    {
     "name": "stdout",
     "output_type": "stream",
     "text": [
      "                          PanelOLS Estimation Summary                           \n",
      "================================================================================\n",
      "Dep. Variable:                   NEET   R-squared:                        0.6561\n",
      "Estimator:                   PanelOLS   R-squared (Between):              0.6457\n",
      "No. Observations:                 135   R-squared (Within):               0.2756\n",
      "Date:                Fri, Apr 02 2021   R-squared (Overall):              0.6593\n",
      "Time:                        13:02:04   Log-likelihood                   -310.72\n",
      "Cov. Estimator:             Clustered                                           \n",
      "                                        F-statistic:                      32.707\n",
      "Entities:                          29   P-value                           0.0000\n",
      "Avg Obs:                       4.6552   Distribution:                   F(7,120)\n",
      "Min Obs:                       1.0000                                           \n",
      "Max Obs:                       8.0000   F-statistic (robust):          6.185e+12\n",
      "                                        P-value                           0.0000\n",
      "Time periods:                       8   Distribution:                   F(7,120)\n",
      "Avg Obs:                       16.875                                           \n",
      "Min Obs:                       1.0000                                           \n",
      "Max Obs:                       27.000                                           \n",
      "                                                                                \n",
      "                                Parameter Estimates                                \n",
      "===================================================================================\n",
      "                 Parameter  Std. Err.     T-stat    P-value    Lower CI    Upper CI\n",
      "-----------------------------------------------------------------------------------\n",
      "const               54.769     4.2429     12.908     0.0000      46.369      63.170\n",
      "Exp_LMP            -6.6428     0.6070    -10.944     0.0000     -7.8445     -5.4410\n",
      "Exp_LMP_2           1.8633     0.2399     7.7686     0.0000      1.3884      2.3382\n",
      "STR                 4.7522     0.6859     6.9279     0.0000      3.3940      6.1103\n",
      "STR_2              -0.2435     0.0391    -6.2263     0.0000     -0.3209     -0.1661\n",
      "STR_3               0.0035     0.0006     5.4063     0.0000      0.0022      0.0047\n",
      "Years_schooling    -2.2405     0.2797    -8.0110     0.0000     -2.7943     -1.6868\n",
      "LogExp_educ        -4.1188     0.7103    -5.7986     0.0000     -5.5252     -2.7124\n",
      "===================================================================================\n",
      "\n",
      "F-test for Poolability: 0.7544\n",
      "P-value: 0.6265\n",
      "Distribution: F(7,120)\n",
      "\n",
      "Included effects: Time\n"
     ]
    }
   ],
   "source": [
    "print(panel_edu_OLS)"
   ]
  },
  {
   "cell_type": "markdown",
   "metadata": {},
   "source": [
    "## With labor features only"
   ]
  },
  {
   "cell_type": "code",
   "execution_count": 19,
   "metadata": {},
   "outputs": [],
   "source": [
    "df_labor = df[['const','Country','Time','NEET','Exp_LMP','Exp_LMP_2','STR','STR_2','STR_3','Strictness_of_workers','PT_employ']]\n",
    "df_labor = df_labor.dropna().reset_index(drop=True)\n",
    "df_labor = df_labor.set_index(['Country', 'Time'])"
   ]
  },
  {
   "cell_type": "code",
   "execution_count": 20,
   "metadata": {},
   "outputs": [],
   "source": [
    "panel_labor_OLS = PanelOLS(df_labor.NEET,df_labor.drop('NEET',axis=1), time_effects=True).fit(cov_type='clustered', cluster_time=True)"
   ]
  },
  {
   "cell_type": "code",
   "execution_count": 21,
   "metadata": {},
   "outputs": [
    {
     "name": "stdout",
     "output_type": "stream",
     "text": [
      "                          PanelOLS Estimation Summary                           \n",
      "================================================================================\n",
      "Dep. Variable:                   NEET   R-squared:                        0.3632\n",
      "Estimator:                   PanelOLS   R-squared (Between):              0.3119\n",
      "No. Observations:                 161   R-squared (Within):               0.1690\n",
      "Date:                Fri, Apr 02 2021   R-squared (Overall):              0.3757\n",
      "Time:                        13:02:04   Log-likelihood                   -420.64\n",
      "Cov. Estimator:             Clustered                                           \n",
      "                                        F-statistic:                      11.813\n",
      "Entities:                          30   P-value                           0.0000\n",
      "Avg Obs:                       5.3667   Distribution:                   F(7,145)\n",
      "Min Obs:                       2.0000                                           \n",
      "Max Obs:                       9.0000   F-statistic (robust):          2.214e+08\n",
      "                                        P-value                           0.0000\n",
      "Time periods:                       9   Distribution:                   F(7,145)\n",
      "Avg Obs:                       17.889                                           \n",
      "Min Obs:                       1.0000                                           \n",
      "Max Obs:                       28.000                                           \n",
      "                                                                                \n",
      "                                   Parameter Estimates                                   \n",
      "=========================================================================================\n",
      "                       Parameter  Std. Err.     T-stat    P-value    Lower CI    Upper CI\n",
      "-----------------------------------------------------------------------------------------\n",
      "const                    -29.081     7.7474    -3.7536     0.0003     -44.393     -13.768\n",
      "Exp_LMP                  -3.4517     1.6708    -2.0659     0.0406     -6.7541     -0.1494\n",
      "Exp_LMP_2                 1.4094     0.4952     2.8463     0.0051      0.4307      2.3881\n",
      "STR                       9.0720     1.3564     6.6883     0.0000      6.3911      11.753\n",
      "STR_2                    -0.5472     0.0776    -7.0474     0.0000     -0.7006     -0.3937\n",
      "STR_3                     0.0106     0.0014     7.7737     0.0000      0.0079      0.0133\n",
      "Strictness_of_workers    -0.7562     0.3479    -2.1733     0.0314     -1.4439     -0.0685\n",
      "PT_employ                -0.1033     0.0083    -12.388     0.0000     -0.1198     -0.0868\n",
      "=========================================================================================\n",
      "\n",
      "F-test for Poolability: 0.8884\n",
      "P-value: 0.5279\n",
      "Distribution: F(8,145)\n",
      "\n",
      "Included effects: Time\n"
     ]
    }
   ],
   "source": [
    "print(panel_labor_OLS)"
   ]
  },
  {
   "cell_type": "markdown",
   "metadata": {},
   "source": [
    "## With education and economic features"
   ]
  },
  {
   "cell_type": "code",
   "execution_count": 22,
   "metadata": {},
   "outputs": [],
   "source": [
    "df_eco_edu = df[['const','Country','Time','NEET','Exp_LMP','Exp_LMP_2','STR','STR_2','STR_3','LogGDP','CPI','DEBT','Years_schooling','LogExp_educ']]\n",
    "df_eco_edu = df_eco_edu.dropna().reset_index(drop=True)\n",
    "df_eco_edu = df_eco_edu.set_index(['Country', 'Time'])"
   ]
  },
  {
   "cell_type": "code",
   "execution_count": 23,
   "metadata": {},
   "outputs": [],
   "source": [
    "panel_eco_edu_OLS = PanelOLS(df_eco_edu.NEET,df_eco_edu.drop('NEET',axis=1), time_effects=True).fit(cov_type='clustered', cluster_time=True)"
   ]
  },
  {
   "cell_type": "code",
   "execution_count": 24,
   "metadata": {},
   "outputs": [
    {
     "name": "stdout",
     "output_type": "stream",
     "text": [
      "                          PanelOLS Estimation Summary                           \n",
      "================================================================================\n",
      "Dep. Variable:                   NEET   R-squared:                        0.7232\n",
      "Estimator:                   PanelOLS   R-squared (Between):              0.7352\n",
      "No. Observations:                 130   R-squared (Within):               0.2670\n",
      "Date:                Fri, Apr 02 2021   R-squared (Overall):              0.7240\n",
      "Time:                        13:02:04   Log-likelihood                   -287.21\n",
      "Cov. Estimator:             Clustered                                           \n",
      "                                        F-statistic:                      29.256\n",
      "Entities:                          28   P-value                           0.0000\n",
      "Avg Obs:                       4.6429   Distribution:                  F(10,112)\n",
      "Min Obs:                       1.0000                                           \n",
      "Max Obs:                       8.0000   F-statistic (robust):          -8.25e+13\n",
      "                                        P-value                           1.0000\n",
      "Time periods:                       8   Distribution:                  F(10,112)\n",
      "Avg Obs:                       16.250                                           \n",
      "Min Obs:                       1.0000                                           \n",
      "Max Obs:                       26.000                                           \n",
      "                                                                                \n",
      "                                Parameter Estimates                                \n",
      "===================================================================================\n",
      "                 Parameter  Std. Err.     T-stat    P-value    Lower CI    Upper CI\n",
      "-----------------------------------------------------------------------------------\n",
      "const               75.790     6.1512     12.321     0.0000      63.603      87.978\n",
      "Exp_LMP            -7.3673     0.3465    -21.263     0.0000     -8.0538     -6.6808\n",
      "Exp_LMP_2           1.9251     0.1208     15.933     0.0000      1.6857      2.1645\n",
      "STR                 1.6868     0.6428     2.6243     0.0099      0.4132      2.9603\n",
      "STR_2              -0.0862     0.0374    -2.3012     0.0232     -0.1604     -0.0120\n",
      "STR_3               0.0010     0.0007     1.4230     0.1575     -0.0004      0.0023\n",
      "LogGDP              1.0177     0.3984     2.5543     0.0120      0.2283      1.8071\n",
      "CPI                -0.1742     0.2346    -0.7425     0.4593     -0.6391      0.2907\n",
      "DEBT                0.0371     0.0067     5.5742     0.0000      0.0239      0.0502\n",
      "Years_schooling    -1.8867     0.2258    -8.3562     0.0000     -2.3341     -1.4393\n",
      "LogExp_educ        -6.2434     0.4438    -14.067     0.0000     -7.1228     -5.3640\n",
      "===================================================================================\n",
      "\n",
      "F-test for Poolability: 0.7063\n",
      "P-value: 0.6667\n",
      "Distribution: F(7,112)\n",
      "\n",
      "Included effects: Time\n"
     ]
    }
   ],
   "source": [
    "print(panel_eco_edu_OLS)"
   ]
  },
  {
   "cell_type": "markdown",
   "metadata": {},
   "source": [
    "## With labor, economic and education features"
   ]
  },
  {
   "cell_type": "code",
   "execution_count": 25,
   "metadata": {},
   "outputs": [],
   "source": [
    "df_all = df[['const','Country','Time','NEET','Exp_LMP','Exp_LMP_2','STR','STR_2','STR_3','LogGDP','CPI','DEBT','Years_schooling','LogExp_educ','Strictness_of_workers','PT_employ']]\n",
    "df_all = df_all.dropna().reset_index(drop=True)\n",
    "df_all = df_all.set_index(['Country', 'Time'])"
   ]
  },
  {
   "cell_type": "code",
   "execution_count": 26,
   "metadata": {},
   "outputs": [],
   "source": [
    "panel_all_OLS = PanelOLS(df_all.NEET,df_all.drop('NEET',axis=1), time_effects=True).fit(cov_type='clustered', cluster_time=True)"
   ]
  },
  {
   "cell_type": "code",
   "execution_count": 27,
   "metadata": {},
   "outputs": [
    {
     "name": "stdout",
     "output_type": "stream",
     "text": [
      "                          PanelOLS Estimation Summary                           \n",
      "================================================================================\n",
      "Dep. Variable:                   NEET   R-squared:                        0.7386\n",
      "Estimator:                   PanelOLS   R-squared (Between):              0.7547\n",
      "No. Observations:                 125   R-squared (Within):               0.1901\n",
      "Date:                Fri, Apr 02 2021   R-squared (Overall):              0.7412\n",
      "Time:                        13:02:05   Log-likelihood                   -274.99\n",
      "Cov. Estimator:             Clustered                                           \n",
      "                                        F-statistic:                      24.726\n",
      "Entities:                          27   P-value                           0.0000\n",
      "Avg Obs:                       4.6296   Distribution:                  F(12,105)\n",
      "Min Obs:                       1.0000                                           \n",
      "Max Obs:                       8.0000   F-statistic (robust):          8.146e+14\n",
      "                                        P-value                           0.0000\n",
      "Time periods:                       8   Distribution:                  F(12,105)\n",
      "Avg Obs:                       15.625                                           \n",
      "Min Obs:                       1.0000                                           \n",
      "Max Obs:                       25.000                                           \n",
      "                                                                                \n",
      "                                   Parameter Estimates                                   \n",
      "=========================================================================================\n",
      "                       Parameter  Std. Err.     T-stat    P-value    Lower CI    Upper CI\n",
      "-----------------------------------------------------------------------------------------\n",
      "const                     62.760     8.7378     7.1826     0.0000      45.435      80.085\n",
      "Exp_LMP                  -8.4578     1.6678    -5.0712     0.0000     -11.765     -5.1508\n",
      "Exp_LMP_2                 2.2097     0.3249     6.8006     0.0000      1.5654      2.8540\n",
      "STR                       2.9255     0.6946     4.2115     0.0001      1.5481      4.3028\n",
      "STR_2                    -0.1540     0.0389    -3.9623     0.0001     -0.2311     -0.0770\n",
      "STR_3                     0.0021     0.0007     3.2657     0.0015      0.0008      0.0034\n",
      "LogGDP                    1.7320     0.8905     1.9449     0.0545     -0.0337      3.4978\n",
      "CPI                      -0.1110     0.2112    -0.5254     0.6004     -0.5298      0.3079\n",
      "DEBT                      0.0394     0.0110     3.5829     0.0005      0.0176      0.0612\n",
      "Years_schooling          -1.9561     0.2693    -7.2635     0.0000     -2.4901     -1.4221\n",
      "LogExp_educ              -5.9340     0.3079    -19.270     0.0000     -6.5446     -5.3234\n",
      "Strictness_of_workers    -0.7418     0.4822    -1.5384     0.1270     -1.6978      0.2143\n",
      "PT_employ                -0.0399     0.0113    -3.5240     0.0006     -0.0623     -0.0174\n",
      "=========================================================================================\n",
      "\n",
      "F-test for Poolability: 0.5531\n",
      "P-value: 0.7922\n",
      "Distribution: F(7,105)\n",
      "\n",
      "Included effects: Time\n"
     ]
    }
   ],
   "source": [
    "print(panel_all_OLS)"
   ]
  },
  {
   "cell_type": "markdown",
   "metadata": {},
   "source": [
    "## Recapitulative Table"
   ]
  },
  {
   "cell_type": "code",
   "execution_count": 28,
   "metadata": {},
   "outputs": [
    {
     "name": "stdout",
     "output_type": "stream",
     "text": [
      "                                          Model Comparison                                          \n",
      "====================================================================================================\n",
      "                                 Model 0        Model 1        Model 2        Model 3        Model 4\n",
      "----------------------------------------------------------------------------------------------------\n",
      "Dep. Variable                       NEET           NEET           NEET           NEET           NEET\n",
      "Estimator                       PanelOLS       PanelOLS       PanelOLS       PanelOLS       PanelOLS\n",
      "No. Observations                     161            135            130            161            125\n",
      "Cov. Est.                      Clustered      Clustered      Clustered      Clustered      Clustered\n",
      "R-squared                         0.5226         0.6561         0.7232         0.3632         0.7386\n",
      "R-Squared (Within)                0.3105         0.2756         0.2670         0.1690         0.1901\n",
      "R-Squared (Between)               0.4604         0.6457         0.7352         0.3119         0.7547\n",
      "R-Squared (Overall)               0.5232         0.6593         0.7240         0.3757         0.7412\n",
      "F-statistic                       19.701         32.707         29.256         11.813         24.726\n",
      "P-value (F-stat)                  0.0000         0.0000         0.0000         0.0000         0.0000\n",
      "=======================     ============   ============   ============   ============   ============\n",
      "const                          32.561***      54.769***      75.790***     -29.081***      62.760***\n",
      "                                (4.6615)       (4.2429)       (6.1512)       (7.7474)       (8.7378)\n",
      "Exp_LMP                         -2.0482*     -6.6428***     -7.3673***      -3.4517**     -8.4578***\n",
      "                                (1.1577)       (0.6070)       (0.3465)       (1.6708)       (1.6678)\n",
      "Exp_LMP_2                       0.9068**      1.8633***      1.9251***      1.4094***      2.2097***\n",
      "                                (0.3986)       (0.2399)       (0.1208)       (0.4952)       (0.3249)\n",
      "STR                            3.0799***      4.7522***      1.6868***      9.0720***      2.9255***\n",
      "                                (0.9996)       (0.6859)       (0.6428)       (1.3564)       (0.6946)\n",
      "STR_2                         -0.2066***     -0.2435***      -0.0862**     -0.5472***     -0.1540***\n",
      "                                (0.0614)       (0.0391)       (0.0374)       (0.0776)       (0.0389)\n",
      "STR_3                          0.0045***      0.0035***         0.0010      0.0106***      0.0021***\n",
      "                                (0.0012)       (0.0006)       (0.0007)       (0.0014)       (0.0007)\n",
      "LogGDP                        -3.4229***                      1.0177**                       1.7320*\n",
      "                                (0.4132)                      (0.3984)                      (0.8905)\n",
      "CPI                              -0.2832                       -0.1742                       -0.1110\n",
      "                                (0.3256)                      (0.2346)                      (0.2112)\n",
      "DEBT                           0.0324***                     0.0371***                     0.0394***\n",
      "                                (0.0068)                      (0.0067)                      (0.0110)\n",
      "Years_schooling                              -2.2405***     -1.8867***                    -1.9561***\n",
      "                                               (0.2797)       (0.2258)                      (0.2693)\n",
      "LogExp_educ                                  -4.1188***     -6.2434***                    -5.9340***\n",
      "                                               (0.7103)       (0.4438)                      (0.3079)\n",
      "Strictness_of_workers                                                       -0.7562**        -0.7418\n",
      "                                                                             (0.3479)       (0.4822)\n",
      "PT_employ                                                                  -0.1033***     -0.0399***\n",
      "                                                                             (0.0083)       (0.0113)\n",
      "========================= ============== ============== ============== ============== ==============\n",
      "Effects                             Time           Time           Time           Time           Time\n",
      "----------------------------------------------------------------------------------------------------\n",
      "\n",
      "Std. Errors reported in parentheses\n"
     ]
    }
   ],
   "source": [
    "full_res = [panel_eco_OLS,panel_edu_OLS,panel_eco_edu_OLS,panel_labor_OLS,panel_all_OLS]\n",
    "print(PanelModelComparison(full_res,precision='std_errors',stars=True))"
   ]
  },
  {
   "cell_type": "code",
   "execution_count": null,
   "metadata": {},
   "outputs": [],
   "source": []
  }
 ],
 "metadata": {
  "kernelspec": {
   "display_name": "Python 3",
   "language": "python",
   "name": "python3"
  },
  "language_info": {
   "codemirror_mode": {
    "name": "ipython",
    "version": 3
   },
   "file_extension": ".py",
   "mimetype": "text/x-python",
   "name": "python",
   "nbconvert_exporter": "python",
   "pygments_lexer": "ipython3",
   "version": "3.7.4"
  },
  "toc": {
   "base_numbering": 1,
   "nav_menu": {},
   "number_sections": true,
   "sideBar": true,
   "skip_h1_title": false,
   "title_cell": "Table of Contents",
   "title_sidebar": "Contents",
   "toc_cell": false,
   "toc_position": {},
   "toc_section_display": true,
   "toc_window_display": false
  },
  "varInspector": {
   "cols": {
    "lenName": 16,
    "lenType": 16,
    "lenVar": 40
   },
   "kernels_config": {
    "python": {
     "delete_cmd_postfix": "",
     "delete_cmd_prefix": "del ",
     "library": "var_list.py",
     "varRefreshCmd": "print(var_dic_list())"
    },
    "r": {
     "delete_cmd_postfix": ") ",
     "delete_cmd_prefix": "rm(",
     "library": "var_list.r",
     "varRefreshCmd": "cat(var_dic_list()) "
    }
   },
   "types_to_exclude": [
    "module",
    "function",
    "builtin_function_or_method",
    "instance",
    "_Feature"
   ],
   "window_display": false
  }
 },
 "nbformat": 4,
 "nbformat_minor": 2
}

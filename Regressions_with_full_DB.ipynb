{
 "cells": [
  {
   "cell_type": "markdown",
   "metadata": {},
   "source": [
    "# Library importation"
   ]
  },
  {
   "cell_type": "code",
   "execution_count": 1,
   "metadata": {},
   "outputs": [],
   "source": [
    "import numpy as np\n",
    "import pandas as pd\n",
    "from linearmodels import PanelOLS\n",
    "from linearmodels.panel.results import PanelModelComparison\n",
    "import statsmodels.api as sm"
   ]
  },
  {
   "cell_type": "markdown",
   "metadata": {},
   "source": [
    "# Data importation"
   ]
  },
  {
   "cell_type": "code",
   "execution_count": 2,
   "metadata": {},
   "outputs": [],
   "source": [
    "df = pd.read_csv('./data/panel_data/Full_DB.csv')"
   ]
  },
  {
   "cell_type": "code",
   "execution_count": 3,
   "metadata": {},
   "outputs": [
    {
     "data": {
      "text/plain": [
       "Index(['const', 'Country', 'Time', 'NEET', 'Exp_LMP', 'Exp_LMP_2', 'Exp_LMP_3',\n",
       "       'STR', 'STR_2', 'STR_3', 'GDP', 'LogGDP', 'CPI', 'DEBT',\n",
       "       'Years_schooling', 'Avg_class_size', 'Exp_educ', 'LogExp_educ',\n",
       "       'Strictness_of_workers', 'PT_employ', 'Avg_dur_unemployment'],\n",
       "      dtype='object')"
      ]
     },
     "execution_count": 3,
     "metadata": {},
     "output_type": "execute_result"
    }
   ],
   "source": [
    "df.columns"
   ]
  },
  {
   "cell_type": "markdown",
   "metadata": {},
   "source": [
    "# Regressions"
   ]
  },
  {
   "cell_type": "markdown",
   "metadata": {},
   "source": [
    "## With explanatory variables only"
   ]
  },
  {
   "cell_type": "markdown",
   "metadata": {},
   "source": [
    "### Without time and entity effects"
   ]
  },
  {
   "cell_type": "code",
   "execution_count": 4,
   "metadata": {},
   "outputs": [],
   "source": [
    "df_explanatory = df[['const','Country','Time','NEET','Exp_LMP','Exp_LMP_2','STR','STR_2','STR_3']]\n",
    "# df_explanatory = df_explanatory.dropna().reset_index(drop=True)\n",
    "df_explanatory = df_explanatory.set_index(['Country', 'Time'])"
   ]
  },
  {
   "cell_type": "code",
   "execution_count": 5,
   "metadata": {},
   "outputs": [
    {
     "data": {
      "text/html": [
       "<div>\n",
       "<style scoped>\n",
       "    .dataframe tbody tr th:only-of-type {\n",
       "        vertical-align: middle;\n",
       "    }\n",
       "\n",
       "    .dataframe tbody tr th {\n",
       "        vertical-align: top;\n",
       "    }\n",
       "\n",
       "    .dataframe thead th {\n",
       "        text-align: right;\n",
       "    }\n",
       "</style>\n",
       "<table border=\"1\" class=\"dataframe\">\n",
       "  <thead>\n",
       "    <tr style=\"text-align: right;\">\n",
       "      <th></th>\n",
       "      <th></th>\n",
       "      <th>const</th>\n",
       "      <th>NEET</th>\n",
       "      <th>Exp_LMP</th>\n",
       "      <th>Exp_LMP_2</th>\n",
       "      <th>STR</th>\n",
       "      <th>STR_2</th>\n",
       "      <th>STR_3</th>\n",
       "    </tr>\n",
       "    <tr>\n",
       "      <th>Country</th>\n",
       "      <th>Time</th>\n",
       "      <th></th>\n",
       "      <th></th>\n",
       "      <th></th>\n",
       "      <th></th>\n",
       "      <th></th>\n",
       "      <th></th>\n",
       "      <th></th>\n",
       "    </tr>\n",
       "  </thead>\n",
       "  <tbody>\n",
       "    <tr>\n",
       "      <td rowspan=\"5\" valign=\"top\">AUS</td>\n",
       "      <td>2013</td>\n",
       "      <td>1.0</td>\n",
       "      <td>13.015899</td>\n",
       "      <td>0.87</td>\n",
       "      <td>0.7569</td>\n",
       "      <td>15.615</td>\n",
       "      <td>243.828225</td>\n",
       "      <td>3807.377733</td>\n",
       "    </tr>\n",
       "    <tr>\n",
       "      <td>2014</td>\n",
       "      <td>1.0</td>\n",
       "      <td>12.647472</td>\n",
       "      <td>0.93</td>\n",
       "      <td>0.8649</td>\n",
       "      <td>15.612</td>\n",
       "      <td>243.734544</td>\n",
       "      <td>3805.183701</td>\n",
       "    </tr>\n",
       "    <tr>\n",
       "      <td>2015</td>\n",
       "      <td>1.0</td>\n",
       "      <td>11.831610</td>\n",
       "      <td>0.91</td>\n",
       "      <td>0.8281</td>\n",
       "      <td>15.433</td>\n",
       "      <td>238.177489</td>\n",
       "      <td>3675.793188</td>\n",
       "    </tr>\n",
       "    <tr>\n",
       "      <td>2016</td>\n",
       "      <td>1.0</td>\n",
       "      <td>11.352150</td>\n",
       "      <td>0.86</td>\n",
       "      <td>0.7396</td>\n",
       "      <td>15.168</td>\n",
       "      <td>230.068224</td>\n",
       "      <td>3489.674822</td>\n",
       "    </tr>\n",
       "    <tr>\n",
       "      <td>2017</td>\n",
       "      <td>1.0</td>\n",
       "      <td>10.946128</td>\n",
       "      <td>0.85</td>\n",
       "      <td>0.7225</td>\n",
       "      <td>15.124</td>\n",
       "      <td>228.735376</td>\n",
       "      <td>3459.393827</td>\n",
       "    </tr>\n",
       "    <tr>\n",
       "      <td>...</td>\n",
       "      <td>...</td>\n",
       "      <td>...</td>\n",
       "      <td>...</td>\n",
       "      <td>...</td>\n",
       "      <td>...</td>\n",
       "      <td>...</td>\n",
       "      <td>...</td>\n",
       "      <td>...</td>\n",
       "    </tr>\n",
       "    <tr>\n",
       "      <td rowspan=\"5\" valign=\"top\">LTU</td>\n",
       "      <td>2014</td>\n",
       "      <td>1.0</td>\n",
       "      <td>14.185811</td>\n",
       "      <td>0.43</td>\n",
       "      <td>0.1849</td>\n",
       "      <td>10.233</td>\n",
       "      <td>104.714289</td>\n",
       "      <td>1071.541319</td>\n",
       "    </tr>\n",
       "    <tr>\n",
       "      <td>2015</td>\n",
       "      <td>1.0</td>\n",
       "      <td>13.743647</td>\n",
       "      <td>0.53</td>\n",
       "      <td>0.2809</td>\n",
       "      <td>10.256</td>\n",
       "      <td>105.185536</td>\n",
       "      <td>1078.782857</td>\n",
       "    </tr>\n",
       "    <tr>\n",
       "      <td>2016</td>\n",
       "      <td>1.0</td>\n",
       "      <td>11.403278</td>\n",
       "      <td>0.51</td>\n",
       "      <td>0.2601</td>\n",
       "      <td>10.470</td>\n",
       "      <td>109.620900</td>\n",
       "      <td>1147.730823</td>\n",
       "    </tr>\n",
       "    <tr>\n",
       "      <td>2017</td>\n",
       "      <td>1.0</td>\n",
       "      <td>11.220660</td>\n",
       "      <td>0.54</td>\n",
       "      <td>0.2916</td>\n",
       "      <td>10.619</td>\n",
       "      <td>112.763161</td>\n",
       "      <td>1197.432007</td>\n",
       "    </tr>\n",
       "    <tr>\n",
       "      <td>2018</td>\n",
       "      <td>1.0</td>\n",
       "      <td>10.495108</td>\n",
       "      <td>0.66</td>\n",
       "      <td>0.4356</td>\n",
       "      <td>11.220</td>\n",
       "      <td>125.888400</td>\n",
       "      <td>1412.467848</td>\n",
       "    </tr>\n",
       "  </tbody>\n",
       "</table>\n",
       "<p>167 rows × 7 columns</p>\n",
       "</div>"
      ],
      "text/plain": [
       "              const       NEET  Exp_LMP  Exp_LMP_2     STR       STR_2  \\\n",
       "Country Time                                                             \n",
       "AUS     2013    1.0  13.015899     0.87     0.7569  15.615  243.828225   \n",
       "        2014    1.0  12.647472     0.93     0.8649  15.612  243.734544   \n",
       "        2015    1.0  11.831610     0.91     0.8281  15.433  238.177489   \n",
       "        2016    1.0  11.352150     0.86     0.7396  15.168  230.068224   \n",
       "        2017    1.0  10.946128     0.85     0.7225  15.124  228.735376   \n",
       "...             ...        ...      ...        ...     ...         ...   \n",
       "LTU     2014    1.0  14.185811     0.43     0.1849  10.233  104.714289   \n",
       "        2015    1.0  13.743647     0.53     0.2809  10.256  105.185536   \n",
       "        2016    1.0  11.403278     0.51     0.2601  10.470  109.620900   \n",
       "        2017    1.0  11.220660     0.54     0.2916  10.619  112.763161   \n",
       "        2018    1.0  10.495108     0.66     0.4356  11.220  125.888400   \n",
       "\n",
       "                    STR_3  \n",
       "Country Time               \n",
       "AUS     2013  3807.377733  \n",
       "        2014  3805.183701  \n",
       "        2015  3675.793188  \n",
       "        2016  3489.674822  \n",
       "        2017  3459.393827  \n",
       "...                   ...  \n",
       "LTU     2014  1071.541319  \n",
       "        2015  1078.782857  \n",
       "        2016  1147.730823  \n",
       "        2017  1197.432007  \n",
       "        2018  1412.467848  \n",
       "\n",
       "[167 rows x 7 columns]"
      ]
     },
     "execution_count": 5,
     "metadata": {},
     "output_type": "execute_result"
    }
   ],
   "source": [
    "df_explanatory"
   ]
  },
  {
   "cell_type": "code",
   "execution_count": 6,
   "metadata": {},
   "outputs": [],
   "source": [
    "panel_explanatory_OLS = PanelOLS(df_explanatory.NEET, df_explanatory.drop('NEET', axis=1)).fit(cov_type='clustered')"
   ]
  },
  {
   "cell_type": "code",
   "execution_count": 7,
   "metadata": {},
   "outputs": [
    {
     "name": "stdout",
     "output_type": "stream",
     "text": [
      "                          PanelOLS Estimation Summary                           \n",
      "================================================================================\n",
      "Dep. Variable:                   NEET   R-squared:                        0.2586\n",
      "Estimator:                   PanelOLS   R-squared (Between):              0.1785\n",
      "No. Observations:                 167   R-squared (Within):               0.1610\n",
      "Date:                Fri, Apr 02 2021   R-squared (Overall):              0.2586\n",
      "Time:                        15:46:47   Log-likelihood                   -451.96\n",
      "Cov. Estimator:             Clustered                                           \n",
      "                                        F-statistic:                      11.230\n",
      "Entities:                          31   P-value                           0.0000\n",
      "Avg Obs:                       5.3871   Distribution:                   F(5,161)\n",
      "Min Obs:                       2.0000                                           \n",
      "Max Obs:                       9.0000   F-statistic (robust):             70.129\n",
      "                                        P-value                           0.0000\n",
      "Time periods:                       9   Distribution:                   F(5,161)\n",
      "Avg Obs:                       18.556                                           \n",
      "Min Obs:                       1.0000                                           \n",
      "Max Obs:                       29.000                                           \n",
      "                                                                                \n",
      "                             Parameter Estimates                              \n",
      "==============================================================================\n",
      "            Parameter  Std. Err.     T-stat    P-value    Lower CI    Upper CI\n",
      "------------------------------------------------------------------------------\n",
      "const         -21.512     12.089    -1.7795     0.0770     -45.384      2.3608\n",
      "Exp_LMP       -4.9254     2.3134    -2.1291     0.0348     -9.4940     -0.3568\n",
      "Exp_LMP_2      1.7319     0.7234     2.3940     0.0178      0.3032      3.1605\n",
      "STR            7.1781     2.2607     3.1752     0.0018      2.7137      11.643\n",
      "STR_2         -0.4441     0.1349    -3.2935     0.0012     -0.7105     -0.1778\n",
      "STR_3          0.0088     0.0025     3.5151     0.0006      0.0039      0.0138\n",
      "==============================================================================\n",
      "\n",
      "\n"
     ]
    }
   ],
   "source": [
    "print(panel_explanatory_OLS)"
   ]
  },
  {
   "cell_type": "markdown",
   "metadata": {},
   "source": [
    "### With Time effect only"
   ]
  },
  {
   "cell_type": "code",
   "execution_count": 8,
   "metadata": {},
   "outputs": [],
   "source": [
    "panel_explanatory_OLS_tfe = PanelOLS(df_explanatory.NEET, df_explanatory.drop('NEET', axis=1),time_effects = True).fit(cov_type='clustered', cluster_time=True)"
   ]
  },
  {
   "cell_type": "code",
   "execution_count": 9,
   "metadata": {},
   "outputs": [
    {
     "name": "stdout",
     "output_type": "stream",
     "text": [
      "                          PanelOLS Estimation Summary                           \n",
      "================================================================================\n",
      "Dep. Variable:                   NEET   R-squared:                        0.2470\n",
      "Estimator:                   PanelOLS   R-squared (Between):              0.1845\n",
      "No. Observations:                 167   R-squared (Within):               0.1643\n",
      "Date:                Fri, Apr 02 2021   R-squared (Overall):              0.2573\n",
      "Time:                        15:46:52   Log-likelihood                   -447.32\n",
      "Cov. Estimator:             Clustered                                           \n",
      "                                        F-statistic:                      10.039\n",
      "Entities:                          31   P-value                           0.0000\n",
      "Avg Obs:                       5.3871   Distribution:                   F(5,153)\n",
      "Min Obs:                       2.0000                                           \n",
      "Max Obs:                       9.0000   F-statistic (robust):             3778.9\n",
      "                                        P-value                           0.0000\n",
      "Time periods:                       9   Distribution:                   F(5,153)\n",
      "Avg Obs:                       18.556                                           \n",
      "Min Obs:                       1.0000                                           \n",
      "Max Obs:                       29.000                                           \n",
      "                                                                                \n",
      "                             Parameter Estimates                              \n",
      "==============================================================================\n",
      "            Parameter  Std. Err.     T-stat    P-value    Lower CI    Upper CI\n",
      "------------------------------------------------------------------------------\n",
      "const         -21.830     6.4329    -3.3934     0.0009     -34.538     -9.1208\n",
      "Exp_LMP       -4.5169     1.6373    -2.7588     0.0065     -7.7516     -1.2823\n",
      "Exp_LMP_2      1.5706     0.5308     2.9589     0.0036      0.5219      2.6193\n",
      "STR            7.2359     1.1618     6.2279     0.0000      4.9405      9.5312\n",
      "STR_2         -0.4487     0.0687    -6.5315     0.0000     -0.5845     -0.3130\n",
      "STR_3          0.0089     0.0013     7.0359     0.0000      0.0064      0.0114\n",
      "==============================================================================\n",
      "\n",
      "F-test for Poolability: 1.0943\n",
      "P-value: 0.3702\n",
      "Distribution: F(8,153)\n",
      "\n",
      "Included effects: Time\n"
     ]
    }
   ],
   "source": [
    "print(panel_explanatory_OLS_tfe)"
   ]
  },
  {
   "cell_type": "markdown",
   "metadata": {},
   "source": [
    ">We see that the influence of the time fixed effect can be omitted as the p-value for the F-test for Poolability is null showing that the influence of the time effect is null."
   ]
  },
  {
   "cell_type": "markdown",
   "metadata": {},
   "source": [
    "### With entity effects only"
   ]
  },
  {
   "cell_type": "code",
   "execution_count": 11,
   "metadata": {},
   "outputs": [],
   "source": [
    "panel_explanatory_OLS_stfe = PanelOLS(df_explanatory.NEET, df_explanatory.drop('NEET', axis=1),entity_effects = True).fit(cov_type='clustered',cluster_effect=True)"
   ]
  },
  {
   "cell_type": "code",
   "execution_count": 12,
   "metadata": {},
   "outputs": [
    {
     "name": "stdout",
     "output_type": "stream",
     "text": [
      "                          PanelOLS Estimation Summary                           \n",
      "================================================================================\n",
      "Dep. Variable:                   NEET   R-squared:                        0.3977\n",
      "Estimator:                   PanelOLS   R-squared (Between):             -0.7485\n",
      "No. Observations:                 167   R-squared (Within):               0.3977\n",
      "Date:                Fri, Apr 02 2021   R-squared (Overall):             -0.6738\n",
      "Time:                        15:47:21   Log-likelihood                   -228.88\n",
      "Cov. Estimator:             Clustered                                           \n",
      "                                        F-statistic:                      17.302\n",
      "Entities:                          31   P-value                           0.0000\n",
      "Avg Obs:                       5.3871   Distribution:                   F(5,131)\n",
      "Min Obs:                       2.0000                                           \n",
      "Max Obs:                       9.0000   F-statistic (robust):             18.757\n",
      "                                        P-value                           0.0000\n",
      "Time periods:                       9   Distribution:                   F(5,131)\n",
      "Avg Obs:                       18.556                                           \n",
      "Min Obs:                       1.0000                                           \n",
      "Max Obs:                       29.000                                           \n",
      "                                                                                \n",
      "                             Parameter Estimates                              \n",
      "==============================================================================\n",
      "            Parameter  Std. Err.     T-stat    P-value    Lower CI    Upper CI\n",
      "------------------------------------------------------------------------------\n",
      "const         -9.3595     10.660    -0.8780     0.3816     -30.448      11.729\n",
      "Exp_LMP        5.8007     2.2002     2.6364     0.0094      1.4482      10.153\n",
      "Exp_LMP_2     -0.3354     0.4617    -0.7265     0.4688     -1.2488      0.5780\n",
      "STR            2.8734     1.9998     1.4369     0.1531     -1.0826      6.8295\n",
      "STR_2         -0.1670     0.1155    -1.4453     0.1507     -0.3955      0.0616\n",
      "STR_3          0.0033     0.0020     1.6025     0.1114     -0.0008      0.0073\n",
      "==============================================================================\n",
      "\n",
      "F-test for Poolability: 58.796\n",
      "P-value: 0.0000\n",
      "Distribution: F(30,131)\n",
      "\n",
      "Included effects: Entity\n"
     ]
    }
   ],
   "source": [
    "print(panel_explanatory_OLS_stfe)"
   ]
  },
  {
   "cell_type": "markdown",
   "metadata": {},
   "source": [
    ">We see here that the use of the entity fixed effect is significant:\n",
    "   * The p-value for the F-test for Poolability shows that the entity fixed effect is not null"
   ]
  },
  {
   "cell_type": "code",
   "execution_count": 18,
   "metadata": {
    "scrolled": false
   },
   "outputs": [
    {
     "name": "stdout",
     "output_type": "stream",
     "text": [
      "\\begin{center}\n",
      "\\begin{tabular}{lccc}\n",
      "\\toprule\n",
      "                                 & \\textbf{Model 0} & \\textbf{Model 1} & \\textbf{Model 2}  \\\\\n",
      "\\midrule\n",
      "\\textbf{Dep. Variable}           &       NEET       &       NEET       &       NEET        \\\\\n",
      "\\textbf{Estimator}               &     PanelOLS     &     PanelOLS     &     PanelOLS      \\\\\n",
      "\\textbf{No. Observations}        &       167        &       167        &       167         \\\\\n",
      "\\textbf{Cov. Est.}               &    Clustered     &    Clustered     &    Clustered      \\\\\n",
      "\\textbf{R-squared}               &      0.2586      &      0.2470      &      0.3977       \\\\\n",
      "\\textbf{R-Squared (Within)}      &      0.1610      &      0.1643      &      0.3977       \\\\\n",
      "\\textbf{R-Squared (Between)}     &      0.1785      &      0.1845      &     -0.7485       \\\\\n",
      "\\textbf{R-Squared (Overall)}     &      0.2586      &      0.2573      &     -0.6738       \\\\\n",
      "\\textbf{F-statistic}             &      11.230      &      10.039      &      17.302       \\\\\n",
      "\\textbf{P-value (F-stat)}        &      0.0000      &      0.0000      &      0.0000       \\\\\n",
      "\\textbf{=====================}   &   ============   &   ============   &   ===========     \\\\\n",
      "\\textbf{const}                   &     -21.512*     &    -21.830***    &     -9.3595       \\\\\n",
      "\\textbf{ }                       &     (12.089)     &     (6.4329)     &     (10.660)      \\\\\n",
      "\\textbf{Exp\\_LMP}                &    -4.9254**     &    -4.5169***    &    5.8007***      \\\\\n",
      "\\textbf{ }                       &     (2.3134)     &     (1.6373)     &     (2.2002)      \\\\\n",
      "\\textbf{Exp\\_LMP\\_2}             &     1.7319**     &    1.5706***     &     -0.3354       \\\\\n",
      "\\textbf{ }                       &     (0.7234)     &     (0.5308)     &     (0.4617)      \\\\\n",
      "\\textbf{STR}                     &    7.1781***     &    7.2359***     &      2.8734       \\\\\n",
      "\\textbf{ }                       &     (2.2607)     &     (1.1618)     &     (1.9998)      \\\\\n",
      "\\textbf{STR\\_2}                  &    -0.4441***    &    -0.4487***    &     -0.1670       \\\\\n",
      "\\textbf{ }                       &     (0.1349)     &     (0.0687)     &     (0.1155)      \\\\\n",
      "\\textbf{STR\\_3}                  &    0.0088***     &    0.0089***     &      0.0033       \\\\\n",
      "\\textbf{ }                       &     (0.0025)     &     (0.0013)     &     (0.0020)      \\\\\n",
      "\\textbf{=======================} &  ==============  &  ==============  &  =============    \\\\\n",
      "\\bottomrule\n",
      "\\end{tabular}\n",
      "%\\caption{Model Comparison}\n",
      "\\end{center}\n",
      "\n",
      "Std. Errors reported in parentheses\n"
     ]
    }
   ],
   "source": [
    "results = [panel_explanatory_OLS,panel_explanatory_OLS_tfe,panel_explanatory_OLS_stfe]\n",
    "print(PanelModelComparison(results,precision='std_errors',stars=True).summary.as_latex())"
   ]
  },
  {
   "cell_type": "markdown",
   "metadata": {},
   "source": [
    "## With economic features only"
   ]
  },
  {
   "cell_type": "code",
   "execution_count": 53,
   "metadata": {},
   "outputs": [
    {
     "name": "stdout",
     "output_type": "stream",
     "text": [
      "Year range = [2010 2011 2012 2013 2014 2015 2016 2017 2018]\n"
     ]
    }
   ],
   "source": [
    "df_eco = df[['const','Country','Time','NEET','Exp_LMP','Exp_LMP_2','STR','STR_2','STR_3','LogGDP','CPI','DEBT']]\n",
    "df_eco = df_eco.dropna().reset_index(drop=True)\n",
    "print('Year range = {}'.format((np.unique(df_eco.Time))))\n",
    "df_eco = df_eco.set_index(['Country', 'Time'])"
   ]
  },
  {
   "cell_type": "code",
   "execution_count": 20,
   "metadata": {},
   "outputs": [],
   "source": [
    "panel_eco_OLS = PanelOLS(df_eco.NEET,df_eco.drop('NEET',axis=1), entity_effects=True).fit(cov_type='clustered', cluster_entity=True)"
   ]
  },
  {
   "cell_type": "code",
   "execution_count": 21,
   "metadata": {},
   "outputs": [
    {
     "name": "stdout",
     "output_type": "stream",
     "text": [
      "                          PanelOLS Estimation Summary                           \n",
      "================================================================================\n",
      "Dep. Variable:                   NEET   R-squared:                        0.4711\n",
      "Estimator:                   PanelOLS   R-squared (Between):             -0.3683\n",
      "No. Observations:                 161   R-squared (Within):               0.4711\n",
      "Date:                Fri, Apr 02 2021   R-squared (Overall):             -0.3144\n",
      "Time:                        16:03:43   Log-likelihood                   -209.43\n",
      "Cov. Estimator:             Clustered                                           \n",
      "                                        F-statistic:                      13.693\n",
      "Entities:                          30   P-value                           0.0000\n",
      "Avg Obs:                       5.3667   Distribution:                   F(8,123)\n",
      "Min Obs:                       2.0000                                           \n",
      "Max Obs:                       9.0000   F-statistic (robust):             16.799\n",
      "                                        P-value                           0.0000\n",
      "Time periods:                       9   Distribution:                   F(8,123)\n",
      "Avg Obs:                       17.889                                           \n",
      "Min Obs:                       1.0000                                           \n",
      "Max Obs:                       28.000                                           \n",
      "                                                                                \n",
      "                             Parameter Estimates                              \n",
      "==============================================================================\n",
      "            Parameter  Std. Err.     T-stat    P-value    Lower CI    Upper CI\n",
      "------------------------------------------------------------------------------\n",
      "const          8.4057     17.613     0.4772     0.6340     -26.458      43.269\n",
      "Exp_LMP        4.8924     2.3535     2.0788     0.0397      0.2338      9.5511\n",
      "Exp_LMP_2     -0.2164     0.5289    -0.4091     0.6832     -1.2634      0.8306\n",
      "STR            1.7089     1.8997     0.8995     0.3701     -2.0515      5.4692\n",
      "STR_2         -0.0968     0.1137    -0.8512     0.3963     -0.3219      0.1283\n",
      "STR_3          0.0020     0.0021     0.9477     0.3451     -0.0021      0.0060\n",
      "LogGDP        -1.0188     1.3762    -0.7403     0.4605     -3.7429      1.7053\n",
      "CPI           -0.3058     0.1017    -3.0059     0.0032     -0.5072     -0.1044\n",
      "DEBT           0.0015     0.0239     0.0634     0.9495     -0.0458      0.0488\n",
      "==============================================================================\n",
      "\n",
      "F-test for Poolability: 42.249\n",
      "P-value: 0.0000\n",
      "Distribution: F(29,123)\n",
      "\n",
      "Included effects: Entity\n"
     ]
    }
   ],
   "source": [
    "print(panel_eco_OLS)"
   ]
  },
  {
   "cell_type": "markdown",
   "metadata": {},
   "source": [
    "## With education features only"
   ]
  },
  {
   "cell_type": "code",
   "execution_count": 54,
   "metadata": {},
   "outputs": [
    {
     "name": "stdout",
     "output_type": "stream",
     "text": [
      "Year range = [2010 2011 2012 2013 2014 2015 2016 2017]\n"
     ]
    }
   ],
   "source": [
    "df_edu = df[['const','Country','Time','NEET','Exp_LMP','Exp_LMP_2','STR','STR_2','STR_3','Years_schooling','LogExp_educ']]\n",
    "df_edu = df_edu.dropna().reset_index(drop=True)\n",
    "print('Year range = {}'.format((np.unique(df_edu.Time))))\n",
    "df_edu = df_edu.set_index(['Country', 'Time'])"
   ]
  },
  {
   "cell_type": "code",
   "execution_count": 23,
   "metadata": {},
   "outputs": [],
   "source": [
    "panel_edu_OLS = PanelOLS(df_edu.NEET,df_edu.drop('NEET',axis=1), entity_effects=True).fit(cov_type='clustered', cluster_entity=True)"
   ]
  },
  {
   "cell_type": "code",
   "execution_count": 24,
   "metadata": {},
   "outputs": [
    {
     "name": "stdout",
     "output_type": "stream",
     "text": [
      "                          PanelOLS Estimation Summary                           \n",
      "================================================================================\n",
      "Dep. Variable:                   NEET   R-squared:                        0.4446\n",
      "Estimator:                   PanelOLS   R-squared (Between):              0.1357\n",
      "No. Observations:                 135   R-squared (Within):               0.4446\n",
      "Date:                Fri, Apr 02 2021   R-squared (Overall):              0.1741\n",
      "Time:                        16:03:59   Log-likelihood                   -161.36\n",
      "Cov. Estimator:             Clustered                                           \n",
      "                                        F-statistic:                      11.319\n",
      "Entities:                          29   P-value                           0.0000\n",
      "Avg Obs:                       4.6552   Distribution:                    F(7,99)\n",
      "Min Obs:                       1.0000                                           \n",
      "Max Obs:                       8.0000   F-statistic (robust):             34.643\n",
      "                                        P-value                           0.0000\n",
      "Time periods:                       8   Distribution:                    F(7,99)\n",
      "Avg Obs:                       16.875                                           \n",
      "Min Obs:                       1.0000                                           \n",
      "Max Obs:                       27.000                                           \n",
      "                                                                                \n",
      "                                Parameter Estimates                                \n",
      "===================================================================================\n",
      "                 Parameter  Std. Err.     T-stat    P-value    Lower CI    Upper CI\n",
      "-----------------------------------------------------------------------------------\n",
      "const               47.514     27.382     1.7352     0.0858     -6.8189      101.85\n",
      "Exp_LMP             2.6907     2.6305     1.0229     0.3089     -2.5288      7.9102\n",
      "Exp_LMP_2           0.1810     0.4576     0.3955     0.6933     -0.7270      1.0889\n",
      "STR                 1.6940     2.7447     0.6172     0.5385     -3.7520      7.1401\n",
      "STR_2              -0.0899     0.1473    -0.6101     0.5432     -0.3822      0.2024\n",
      "STR_3               0.0017     0.0025     0.6514     0.5163     -0.0034      0.0067\n",
      "Years_schooling    -0.8599     0.7307    -1.1768     0.2421     -2.3097      0.5899\n",
      "LogExp_educ        -4.1934     1.6653    -2.5181     0.0134     -7.4978     -0.8890\n",
      "===================================================================================\n",
      "\n",
      "F-test for Poolability: 30.206\n",
      "P-value: 0.0000\n",
      "Distribution: F(28,99)\n",
      "\n",
      "Included effects: Entity\n"
     ]
    }
   ],
   "source": [
    "print(panel_edu_OLS)"
   ]
  },
  {
   "cell_type": "markdown",
   "metadata": {},
   "source": [
    "## With labor features only"
   ]
  },
  {
   "cell_type": "code",
   "execution_count": 55,
   "metadata": {},
   "outputs": [
    {
     "name": "stdout",
     "output_type": "stream",
     "text": [
      "Year range = [2010 2011 2012 2013 2014 2015 2016 2017 2018]\n"
     ]
    }
   ],
   "source": [
    "df_labor = df[['const','Country','Time','NEET','Exp_LMP','Exp_LMP_2','STR','STR_2','STR_3','Strictness_of_workers','PT_employ']]\n",
    "df_labor = df_labor.dropna().reset_index(drop=True)\n",
    "print('Year range = {}'.format((np.unique(df_labor.Time))))\n",
    "df_labor = df_labor.set_index(['Country', 'Time'])"
   ]
  },
  {
   "cell_type": "code",
   "execution_count": 26,
   "metadata": {},
   "outputs": [],
   "source": [
    "panel_labor_OLS = PanelOLS(df_labor.NEET,df_labor.drop('NEET',axis=1), entity_effects=True).fit(cov_type='clustered', cluster_entity=True)"
   ]
  },
  {
   "cell_type": "code",
   "execution_count": 27,
   "metadata": {},
   "outputs": [
    {
     "name": "stdout",
     "output_type": "stream",
     "text": [
      "                          PanelOLS Estimation Summary                           \n",
      "================================================================================\n",
      "Dep. Variable:                   NEET   R-squared:                        0.4153\n",
      "Estimator:                   PanelOLS   R-squared (Between):             -0.6510\n",
      "No. Observations:                 161   R-squared (Within):               0.4153\n",
      "Date:                Fri, Apr 02 2021   R-squared (Overall):             -0.6202\n",
      "Time:                        16:04:15   Log-likelihood                   -218.90\n",
      "Cov. Estimator:             Clustered                                           \n",
      "                                        F-statistic:                      12.582\n",
      "Entities:                          30   P-value                           0.0000\n",
      "Avg Obs:                       5.3667   Distribution:                   F(7,124)\n",
      "Min Obs:                       2.0000                                           \n",
      "Max Obs:                       9.0000   F-statistic (robust):             16.996\n",
      "                                        P-value                           0.0000\n",
      "Time periods:                       9   Distribution:                   F(7,124)\n",
      "Avg Obs:                       17.889                                           \n",
      "Min Obs:                       1.0000                                           \n",
      "Max Obs:                       28.000                                           \n",
      "                                                                                \n",
      "                                   Parameter Estimates                                   \n",
      "=========================================================================================\n",
      "                       Parameter  Std. Err.     T-stat    P-value    Lower CI    Upper CI\n",
      "-----------------------------------------------------------------------------------------\n",
      "const                    -17.724     9.1143    -1.9446     0.0541     -35.764      0.3161\n",
      "Exp_LMP                   5.0255     2.7536     1.8251     0.0704     -0.4247      10.476\n",
      "Exp_LMP_2                -0.1647     0.5645    -0.2917     0.7710     -1.2820      0.9527\n",
      "STR                       3.4926     1.7187     2.0321     0.0443      0.0908      6.8944\n",
      "STR_2                    -0.2028     0.1035    -1.9587     0.0524     -0.4077      0.0021\n",
      "STR_3                     0.0039     0.0019     2.0820     0.0394      0.0002      0.0076\n",
      "Strictness_of_workers     2.5115     1.9281     1.3026     0.1951     -1.3048      6.3278\n",
      "PT_employ                -0.0216     0.0599    -0.3612     0.7185     -0.1401      0.0968\n",
      "=========================================================================================\n",
      "\n",
      "F-test for Poolability: 50.700\n",
      "P-value: 0.0000\n",
      "Distribution: F(29,124)\n",
      "\n",
      "Included effects: Entity\n"
     ]
    }
   ],
   "source": [
    "print(panel_labor_OLS)"
   ]
  },
  {
   "cell_type": "markdown",
   "metadata": {},
   "source": [
    "## With education and economic features"
   ]
  },
  {
   "cell_type": "code",
   "execution_count": 56,
   "metadata": {},
   "outputs": [
    {
     "name": "stdout",
     "output_type": "stream",
     "text": [
      "Year range = [2010 2011 2012 2013 2014 2015 2016 2017]\n"
     ]
    }
   ],
   "source": [
    "df_eco_edu = df[['const','Country','Time','NEET','Exp_LMP','Exp_LMP_2','STR','STR_2','STR_3','LogGDP','CPI','DEBT','Years_schooling','LogExp_educ']]\n",
    "df_eco_edu = df_eco_edu.dropna().reset_index(drop=True)\n",
    "print('Year range = {}'.format((np.unique(df_eco_edu.Time))))\n",
    "df_eco_edu = df_eco_edu.set_index(['Country', 'Time'])"
   ]
  },
  {
   "cell_type": "code",
   "execution_count": 29,
   "metadata": {},
   "outputs": [],
   "source": [
    "panel_eco_edu_OLS = PanelOLS(df_eco_edu.NEET,df_eco_edu.drop('NEET',axis=1), entity_effects=True).fit(cov_type='clustered', cluster_entity=True)"
   ]
  },
  {
   "cell_type": "code",
   "execution_count": 30,
   "metadata": {},
   "outputs": [
    {
     "name": "stdout",
     "output_type": "stream",
     "text": [
      "                          PanelOLS Estimation Summary                           \n",
      "================================================================================\n",
      "Dep. Variable:                   NEET   R-squared:                        0.4716\n",
      "Estimator:                   PanelOLS   R-squared (Between):              0.1193\n",
      "No. Observations:                 130   R-squared (Within):               0.4716\n",
      "Date:                Fri, Apr 02 2021   R-squared (Overall):              0.0723\n",
      "Time:                        16:04:37   Log-likelihood                   -151.80\n",
      "Cov. Estimator:             Clustered                                           \n",
      "                                        F-statistic:                      8.2097\n",
      "Entities:                          28   P-value                           0.0000\n",
      "Avg Obs:                       4.6429   Distribution:                   F(10,92)\n",
      "Min Obs:                       1.0000                                           \n",
      "Max Obs:                       8.0000   F-statistic (robust):             16.664\n",
      "                                        P-value                           0.0000\n",
      "Time periods:                       8   Distribution:                   F(10,92)\n",
      "Avg Obs:                       16.250                                           \n",
      "Min Obs:                       1.0000                                           \n",
      "Max Obs:                       26.000                                           \n",
      "                                                                                \n",
      "                                Parameter Estimates                                \n",
      "===================================================================================\n",
      "                 Parameter  Std. Err.     T-stat    P-value    Lower CI    Upper CI\n",
      "-----------------------------------------------------------------------------------\n",
      "const               41.105     29.883     1.3756     0.1723     -18.244      100.45\n",
      "Exp_LMP             1.9000     2.8710     0.6618     0.5098     -3.8020      7.6019\n",
      "Exp_LMP_2           0.3111     0.5239     0.5939     0.5540     -0.7293      1.3516\n",
      "STR                 1.2380     2.6193     0.4726     0.6376     -3.9642      6.4401\n",
      "STR_2              -0.0618     0.1395    -0.4432     0.6587     -0.3388      0.2152\n",
      "STR_3               0.0011     0.0024     0.4732     0.6372     -0.0036      0.0059\n",
      "LogGDP              0.3882     1.1678     0.3324     0.7404     -1.9312      2.7075\n",
      "CPI                -0.1185     0.0992    -1.1938     0.2356     -0.3156      0.0786\n",
      "DEBT                0.0375     0.0267     1.4012     0.1645     -0.0156      0.0906\n",
      "Years_schooling    -1.3672     1.0046    -1.3609     0.1769     -3.3625      0.6281\n",
      "LogExp_educ        -3.2426     1.4782    -2.1937     0.0308     -6.1783     -0.3068\n",
      "===================================================================================\n",
      "\n",
      "F-test for Poolability: 25.165\n",
      "P-value: 0.0000\n",
      "Distribution: F(27,92)\n",
      "\n",
      "Included effects: Entity\n"
     ]
    }
   ],
   "source": [
    "print(panel_eco_edu_OLS)"
   ]
  },
  {
   "cell_type": "markdown",
   "metadata": {},
   "source": [
    "## With labor, economic and education features"
   ]
  },
  {
   "cell_type": "code",
   "execution_count": 57,
   "metadata": {},
   "outputs": [
    {
     "name": "stdout",
     "output_type": "stream",
     "text": [
      "Year range = [2010 2011 2012 2013 2014 2015 2016 2017]\n"
     ]
    }
   ],
   "source": [
    "df_all = df[['const','Country','Time','NEET','Exp_LMP','Exp_LMP_2','STR','STR_2','STR_3','LogGDP','CPI','DEBT','Years_schooling','LogExp_educ','Strictness_of_workers','PT_employ']]\n",
    "df_all = df_all.dropna().reset_index(drop=True)\n",
    "print('Year range = {}'.format((np.unique(df_all.Time))))\n",
    "df_all = df_all.set_index(['Country', 'Time'])"
   ]
  },
  {
   "cell_type": "code",
   "execution_count": 32,
   "metadata": {},
   "outputs": [],
   "source": [
    "panel_all_OLS = PanelOLS(df_all.NEET,df_all.drop('NEET',axis=1), entity_effects=True).fit(cov_type='clustered', cluster_entity=True)"
   ]
  },
  {
   "cell_type": "code",
   "execution_count": 33,
   "metadata": {},
   "outputs": [
    {
     "name": "stdout",
     "output_type": "stream",
     "text": [
      "                          PanelOLS Estimation Summary                           \n",
      "================================================================================\n",
      "Dep. Variable:                   NEET   R-squared:                        0.4857\n",
      "Estimator:                   PanelOLS   R-squared (Between):             -0.1944\n",
      "No. Observations:                 125   R-squared (Within):               0.4857\n",
      "Date:                Fri, Apr 02 2021   R-squared (Overall):             -0.1501\n",
      "Time:                        16:04:51   Log-likelihood                   -144.94\n",
      "Cov. Estimator:             Clustered                                           \n",
      "                                        F-statistic:                      6.7669\n",
      "Entities:                          27   P-value                           0.0000\n",
      "Avg Obs:                       4.6296   Distribution:                   F(12,86)\n",
      "Min Obs:                       1.0000                                           \n",
      "Max Obs:                       8.0000   F-statistic (robust):             88.059\n",
      "                                        P-value                           0.0000\n",
      "Time periods:                       8   Distribution:                   F(12,86)\n",
      "Avg Obs:                       15.625                                           \n",
      "Min Obs:                       1.0000                                           \n",
      "Max Obs:                       25.000                                           \n",
      "                                                                                \n",
      "                                   Parameter Estimates                                   \n",
      "=========================================================================================\n",
      "                       Parameter  Std. Err.     T-stat    P-value    Lower CI    Upper CI\n",
      "-----------------------------------------------------------------------------------------\n",
      "const                     38.709     26.482     1.4617     0.1475     -13.935      91.354\n",
      "Exp_LMP                   0.2999     3.0842     0.0972     0.9228     -5.8313      6.4310\n",
      "Exp_LMP_2                 0.5836     0.5639     1.0348     0.3036     -0.5375      1.7046\n",
      "STR                       1.3297     2.9137     0.4563     0.6493     -4.4626      7.1219\n",
      "STR_2                    -0.0722     0.1537    -0.4694     0.6400     -0.3778      0.2335\n",
      "STR_3                     0.0013     0.0026     0.5178     0.6060     -0.0038      0.0065\n",
      "LogGDP                    0.8271     1.1304     0.7317     0.4664     -1.4201      3.0742\n",
      "CPI                      -0.1003     0.1203    -0.8339     0.4066     -0.3394      0.1388\n",
      "DEBT                      0.0414     0.0303     1.3666     0.1753     -0.0188      0.1016\n",
      "Years_schooling          -1.2947     1.0085    -1.2838     0.2027     -3.2995      0.7101\n",
      "LogExp_educ              -4.1123     1.3705    -3.0006     0.0035     -6.8367     -1.3879\n",
      "Strictness_of_workers     1.2096     1.4154     0.8546     0.3952     -1.6042      4.0233\n",
      "PT_employ                 0.1120     0.0502     2.2326     0.0282      0.0123      0.2118\n",
      "=========================================================================================\n",
      "\n",
      "F-test for Poolability: 24.169\n",
      "P-value: 0.0000\n",
      "Distribution: F(26,86)\n",
      "\n",
      "Included effects: Entity\n"
     ]
    }
   ],
   "source": [
    "print(panel_all_OLS)"
   ]
  },
  {
   "cell_type": "markdown",
   "metadata": {},
   "source": [
    "## Recapitulative Table"
   ]
  },
  {
   "cell_type": "code",
   "execution_count": 36,
   "metadata": {
    "scrolled": false
   },
   "outputs": [
    {
     "name": "stdout",
     "output_type": "stream",
     "text": [
      "                                         Model Comparison                                        \n",
      "=================================================================================================\n",
      "                                 Model 0       Model 1       Model 2       Model 3        Model 4\n",
      "-------------------------------------------------------------------------------------------------\n",
      "Dep. Variable                       NEET          NEET          NEET          NEET           NEET\n",
      "Estimator                       PanelOLS      PanelOLS      PanelOLS      PanelOLS       PanelOLS\n",
      "No. Observations                     161           135           130           161            125\n",
      "Cov. Est.                      Clustered     Clustered     Clustered     Clustered      Clustered\n",
      "R-squared                         0.4711        0.4446        0.4716        0.4153         0.4857\n",
      "R-Squared (Within)                0.4711        0.4446        0.4716        0.4153         0.4857\n",
      "R-Squared (Between)              -0.3683        0.1357        0.1193       -0.6510        -0.1944\n",
      "R-Squared (Overall)              -0.3144        0.1741        0.0723       -0.6202        -0.1501\n",
      "F-statistic                       13.693        11.319        8.2097        12.582         6.7669\n",
      "P-value (F-stat)                  0.0000        0.0000        0.0000        0.0000         0.0000\n",
      "=======================     ============   ===========   ===========   ===========   ============\n",
      "const                             8.4057       47.514*        41.105      -17.724*         38.709\n",
      "                                (17.613)      (27.382)      (29.883)      (9.1143)       (26.482)\n",
      "Exp_LMP                         4.8924**        2.6907        1.9000       5.0255*         0.2999\n",
      "                                (2.3535)      (2.6305)      (2.8710)      (2.7536)       (3.0842)\n",
      "Exp_LMP_2                        -0.2164        0.1810        0.3111       -0.1647         0.5836\n",
      "                                (0.5289)      (0.4576)      (0.5239)      (0.5645)       (0.5639)\n",
      "STR                               1.7089        1.6940        1.2380      3.4926**         1.3297\n",
      "                                (1.8997)      (2.7447)      (2.6193)      (1.7187)       (2.9137)\n",
      "STR_2                            -0.0968       -0.0899       -0.0618      -0.2028*        -0.0722\n",
      "                                (0.1137)      (0.1473)      (0.1395)      (0.1035)       (0.1537)\n",
      "STR_3                             0.0020        0.0017        0.0011      0.0039**         0.0013\n",
      "                                (0.0021)      (0.0025)      (0.0024)      (0.0019)       (0.0026)\n",
      "LogGDP                           -1.0188                      0.3882                       0.8271\n",
      "                                (1.3762)                    (1.1678)                     (1.1304)\n",
      "CPI                           -0.3058***                     -0.1185                      -0.1003\n",
      "                                (0.1017)                    (0.0992)                     (0.1203)\n",
      "DEBT                              0.0015                      0.0375                       0.0414\n",
      "                                (0.0239)                    (0.0267)                     (0.0303)\n",
      "Years_schooling                                -0.8599       -1.3672                      -1.2947\n",
      "                                              (0.7307)      (1.0046)                     (1.0085)\n",
      "LogExp_educ                                  -4.1934**     -3.2426**                   -4.1123***\n",
      "                                              (1.6653)      (1.4782)                     (1.3705)\n",
      "Strictness_of_workers                                                       2.5115         1.2096\n",
      "                                                                          (1.9281)       (1.4154)\n",
      "PT_employ                                                                  -0.0216       0.1120**\n",
      "                                                                          (0.0599)       (0.0502)\n",
      "========================= ============== ============= ============= ============= ==============\n",
      "Effects                           Entity        Entity        Entity        Entity         Entity\n",
      "-------------------------------------------------------------------------------------------------\n",
      "\n",
      "Std. Errors reported in parentheses\n"
     ]
    }
   ],
   "source": [
    "full_res = [panel_eco_OLS,panel_edu_OLS,panel_eco_edu_OLS,panel_labor_OLS,panel_all_OLS]\n",
    "print(PanelModelComparison(full_res,precision='std_errors',stars=True))"
   ]
  },
  {
   "cell_type": "code",
   "execution_count": null,
   "metadata": {},
   "outputs": [],
   "source": []
  }
 ],
 "metadata": {
  "kernelspec": {
   "display_name": "Python 3",
   "language": "python",
   "name": "python3"
  },
  "language_info": {
   "codemirror_mode": {
    "name": "ipython",
    "version": 3
   },
   "file_extension": ".py",
   "mimetype": "text/x-python",
   "name": "python",
   "nbconvert_exporter": "python",
   "pygments_lexer": "ipython3",
   "version": "3.7.4"
  },
  "toc": {
   "base_numbering": 1,
   "nav_menu": {},
   "number_sections": true,
   "sideBar": true,
   "skip_h1_title": false,
   "title_cell": "Table of Contents",
   "title_sidebar": "Contents",
   "toc_cell": false,
   "toc_position": {},
   "toc_section_display": true,
   "toc_window_display": false
  },
  "varInspector": {
   "cols": {
    "lenName": 16,
    "lenType": 16,
    "lenVar": 40
   },
   "kernels_config": {
    "python": {
     "delete_cmd_postfix": "",
     "delete_cmd_prefix": "del ",
     "library": "var_list.py",
     "varRefreshCmd": "print(var_dic_list())"
    },
    "r": {
     "delete_cmd_postfix": ") ",
     "delete_cmd_prefix": "rm(",
     "library": "var_list.r",
     "varRefreshCmd": "cat(var_dic_list()) "
    }
   },
   "types_to_exclude": [
    "module",
    "function",
    "builtin_function_or_method",
    "instance",
    "_Feature"
   ],
   "window_display": false
  }
 },
 "nbformat": 4,
 "nbformat_minor": 2
}

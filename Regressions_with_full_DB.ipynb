{
 "cells": [
  {
   "cell_type": "markdown",
   "metadata": {},
   "source": [
    "# Library importation"
   ]
  },
  {
   "cell_type": "code",
   "execution_count": 1,
   "metadata": {},
   "outputs": [],
   "source": [
    "import numpy as np\n",
    "import pandas as pd\n",
    "from linearmodels import PanelOLS\n",
    "import statsmodels.api as sm"
   ]
  },
  {
   "cell_type": "markdown",
   "metadata": {},
   "source": [
    "# Data importation"
   ]
  },
  {
   "cell_type": "code",
   "execution_count": 2,
   "metadata": {},
   "outputs": [],
   "source": [
    "df = pd.read_csv('./data/panel_data/Full_DB.csv')"
   ]
  },
  {
   "cell_type": "code",
   "execution_count": 16,
   "metadata": {},
   "outputs": [
    {
     "data": {
      "text/plain": [
       "Index(['const', 'Country', 'Time', 'NEET', 'Exp_LMP', 'Exp_LMP_2', 'Exp_LMP_3',\n",
       "       'STR', 'STR_2', 'STR_3', 'GDP', 'LogGDP', 'CPI', 'DEBT',\n",
       "       'Years_schooling', 'Avg_class_size', 'Exp_educ', 'LogExp_educ',\n",
       "       'Strictness_of_workers', 'PT_employ', 'Avg_dur_unemployment'],\n",
       "      dtype='object')"
      ]
     },
     "execution_count": 16,
     "metadata": {},
     "output_type": "execute_result"
    }
   ],
   "source": [
    "df.columns"
   ]
  },
  {
   "cell_type": "markdown",
   "metadata": {},
   "source": [
    "# Regressions"
   ]
  },
  {
   "cell_type": "markdown",
   "metadata": {},
   "source": [
    "## With explanatory variables only"
   ]
  },
  {
   "cell_type": "code",
   "execution_count": 25,
   "metadata": {},
   "outputs": [],
   "source": [
    "df_explanatory = df[['const','Country','Time','NEET','Exp_LMP','Exp_LMP_2','Exp_LMP_3','STR','STR_2','STR_3']]\n",
    "df_explanatory = df_explanatory.dropna().reset_index(drop=True)\n",
    "df_explanatory = df_explanatory.set_index(['Country', 'Time'])"
   ]
  },
  {
   "cell_type": "code",
   "execution_count": 27,
   "metadata": {},
   "outputs": [],
   "source": [
    "panel_explanatory_OLS = PanelOLS(df_explanatory.NEET, df_explanatory.drop('NEET', axis=1), time_effects=True).fit(cov_type='clustered', cluster_time=True)"
   ]
  },
  {
   "cell_type": "code",
   "execution_count": 28,
   "metadata": {},
   "outputs": [
    {
     "name": "stdout",
     "output_type": "stream",
     "text": [
      "                          PanelOLS Estimation Summary                           \n",
      "================================================================================\n",
      "Dep. Variable:                   NEET   R-squared:                        0.2477\n",
      "Estimator:                   PanelOLS   R-squared (Between):              0.1837\n",
      "No. Observations:                 167   R-squared (Within):               0.1560\n",
      "Date:                Thu, Apr 01 2021   R-squared (Overall):              0.2588\n",
      "Time:                        23:31:35   Log-likelihood                   -447.24\n",
      "Cov. Estimator:             Clustered                                           \n",
      "                                        F-statistic:                      8.3408\n",
      "Entities:                          31   P-value                           0.0000\n",
      "Avg Obs:                       5.3871   Distribution:                   F(6,152)\n",
      "Min Obs:                       2.0000                                           \n",
      "Max Obs:                       9.0000   F-statistic (robust):          7.492e+04\n",
      "                                        P-value                           0.0000\n",
      "Time periods:                       9   Distribution:                   F(6,152)\n",
      "Avg Obs:                       18.556                                           \n",
      "Min Obs:                       1.0000                                           \n",
      "Max Obs:                       29.000                                           \n",
      "                                                                                \n",
      "                             Parameter Estimates                              \n",
      "==============================================================================\n",
      "            Parameter  Std. Err.     T-stat    P-value    Lower CI    Upper CI\n",
      "------------------------------------------------------------------------------\n",
      "const         -23.635     7.9777    -2.9626     0.0035     -39.396     -7.8733\n",
      "Exp_LMP       -2.9458     3.0113    -0.9782     0.3295     -8.8952      3.0037\n",
      "Exp_LMP_2      0.5212     2.3926     0.2178     0.8278     -4.2058      5.2483\n",
      "Exp_LMP_3      0.1985     0.5305     0.3742     0.7088     -0.8496      1.2466\n",
      "STR            7.4735     1.3608     5.4920     0.0000      4.7850      10.162\n",
      "STR_2         -0.4644     0.0813    -5.7095     0.0000     -0.6251     -0.3037\n",
      "STR_3          0.0093     0.0015     6.0637     0.0000      0.0063      0.0123\n",
      "==============================================================================\n",
      "\n",
      "F-test for Poolability: 1.0581\n",
      "P-value: 0.3956\n",
      "Distribution: F(8,152)\n",
      "\n",
      "Included effects: Time\n"
     ]
    }
   ],
   "source": [
    "print(panel_explanatory_OLS)"
   ]
  },
  {
   "cell_type": "markdown",
   "metadata": {},
   "source": [
    "## With economic features only"
   ]
  },
  {
   "cell_type": "code",
   "execution_count": 89,
   "metadata": {},
   "outputs": [],
   "source": [
    "df_eco = df[['const','Country','Time','NEET','Exp_LMP','Exp_LMP_2','Exp_LMP_3','STR','STR_2','STR_3','LogGDP','CPI','DEBT']]\n",
    "df_eco = df_eco.dropna().reset_index(drop=True)\n",
    "df_eco = df_eco.set_index(['Country', 'Time'])"
   ]
  },
  {
   "cell_type": "code",
   "execution_count": 30,
   "metadata": {},
   "outputs": [],
   "source": [
    "panel_eco_OLS = PanelOLS(df_eco.NEET,df_eco.drop('NEET',axis=1), time_effects=True).fit(cov_type='clustered', cluster_time=True)"
   ]
  },
  {
   "cell_type": "code",
   "execution_count": 31,
   "metadata": {},
   "outputs": [
    {
     "name": "stdout",
     "output_type": "stream",
     "text": [
      "                          PanelOLS Estimation Summary                           \n",
      "================================================================================\n",
      "Dep. Variable:                   NEET   R-squared:                        0.5343\n",
      "Estimator:                   PanelOLS   R-squared (Between):              0.4755\n",
      "No. Observations:                 161   R-squared (Within):               0.2769\n",
      "Date:                Thu, Apr 01 2021   R-squared (Overall):              0.5377\n",
      "Time:                        23:31:44   Log-likelihood                   -395.05\n",
      "Cov. Estimator:             Clustered                                           \n",
      "                                        F-statistic:                      18.230\n",
      "Entities:                          30   P-value                           0.0000\n",
      "Avg Obs:                       5.3667   Distribution:                   F(9,143)\n",
      "Min Obs:                       2.0000                                           \n",
      "Max Obs:                       9.0000   F-statistic (robust):          8.859e+11\n",
      "                                        P-value                           0.0000\n",
      "Time periods:                       9   Distribution:                   F(9,143)\n",
      "Avg Obs:                       17.889                                           \n",
      "Min Obs:                       1.0000                                           \n",
      "Max Obs:                       28.000                                           \n",
      "                                                                                \n",
      "                             Parameter Estimates                              \n",
      "==============================================================================\n",
      "            Parameter  Std. Err.     T-stat    P-value    Lower CI    Upper CI\n",
      "------------------------------------------------------------------------------\n",
      "const          25.533     4.7282     5.4002     0.0000      16.187      34.879\n",
      "Exp_LMP        4.8983     2.8923     1.6935     0.0925     -0.8190      10.616\n",
      "Exp_LMP_2     -3.7744     1.8961    -1.9906     0.0484     -7.5225     -0.0264\n",
      "Exp_LMP_3      0.8851     0.3831     2.3102     0.0223      0.1278      1.6425\n",
      "STR            3.8420     1.0301     3.7298     0.0003      1.8059      5.8782\n",
      "STR_2         -0.2610     0.0639    -4.0868     0.0001     -0.3872     -0.1348\n",
      "STR_3          0.0058     0.0012     4.6710     0.0000      0.0033      0.0082\n",
      "LogGDP        -3.3777     0.3843    -8.7902     0.0000     -4.1372     -2.6181\n",
      "CPI           -0.2771     0.3047    -0.9094     0.3647     -0.8795      0.3252\n",
      "DEBT           0.0370     0.0063     5.8684     0.0000      0.0245      0.0495\n",
      "==============================================================================\n",
      "\n",
      "F-test for Poolability: 1.0533\n",
      "P-value: 0.3993\n",
      "Distribution: F(8,143)\n",
      "\n",
      "Included effects: Time\n"
     ]
    }
   ],
   "source": [
    "print(panel_eco_OLS)"
   ]
  },
  {
   "cell_type": "markdown",
   "metadata": {},
   "source": [
    "## With education features only"
   ]
  },
  {
   "cell_type": "code",
   "execution_count": 41,
   "metadata": {},
   "outputs": [],
   "source": [
    "df_edu = df[['const','Country','Time','NEET','Exp_LMP','Exp_LMP_2','Exp_LMP_3','STR','STR_2','STR_3','Years_schooling','Avg_class_size','LogExp_educ']]\n",
    "df_edu = df_edu.dropna().reset_index(drop=True)\n",
    "df_edu = df_edu.set_index(['Country', 'Time'])"
   ]
  },
  {
   "cell_type": "code",
   "execution_count": 43,
   "metadata": {},
   "outputs": [],
   "source": [
    "panel_edu_OLS = PanelOLS(df_edu.NEET,df_edu.drop('NEET',axis=1), time_effects=True).fit(cov_type='clustered', cluster_time=True)"
   ]
  },
  {
   "cell_type": "code",
   "execution_count": 44,
   "metadata": {},
   "outputs": [
    {
     "name": "stdout",
     "output_type": "stream",
     "text": [
      "                          PanelOLS Estimation Summary                           \n",
      "================================================================================\n",
      "Dep. Variable:                   NEET   R-squared:                        0.6932\n",
      "Estimator:                   PanelOLS   R-squared (Between):              0.6856\n",
      "No. Observations:                  98   R-squared (Within):               0.3271\n",
      "Date:                Thu, Apr 01 2021   R-squared (Overall):              0.6947\n",
      "Time:                        23:36:29   Log-likelihood                   -226.97\n",
      "Cov. Estimator:             Clustered                                           \n",
      "                                        F-statistic:                      21.089\n",
      "Entities:                          21   P-value                           0.0000\n",
      "Avg Obs:                       4.6667   Distribution:                    F(9,84)\n",
      "Min Obs:                       3.0000                                           \n",
      "Max Obs:                       5.0000   F-statistic (robust):          -1.53e+12\n",
      "                                        P-value                           1.0000\n",
      "Time periods:                       5   Distribution:                    F(9,84)\n",
      "Avg Obs:                       19.600                                           \n",
      "Min Obs:                       18.000                                           \n",
      "Max Obs:                       21.000                                           \n",
      "                                                                                \n",
      "                                Parameter Estimates                                \n",
      "===================================================================================\n",
      "                 Parameter  Std. Err.     T-stat    P-value    Lower CI    Upper CI\n",
      "-----------------------------------------------------------------------------------\n",
      "const               64.904     3.7854     17.146     0.0000      57.376      72.431\n",
      "Exp_LMP            -1.1993     4.9665    -0.2415     0.8098     -11.076      8.6772\n",
      "Exp_LMP_2          -0.6870     2.9092    -0.2361     0.8139     -6.4724      5.0984\n",
      "Exp_LMP_3           0.4002     0.4781     0.8370     0.4049     -0.5506      1.3511\n",
      "STR                 3.9173     1.1900     3.2918     0.0015      1.5508      6.2837\n",
      "STR_2              -0.2081     0.0750    -2.7743     0.0068     -0.3573     -0.0589\n",
      "STR_3               0.0031     0.0015     2.1034     0.0384      0.0002      0.0061\n",
      "Years_schooling    -2.0535     0.2899    -7.0825     0.0000     -2.6301     -1.4769\n",
      "Avg_class_size      0.0335     0.0521     0.6443     0.5211     -0.0700      0.1371\n",
      "LogExp_educ        -5.3044     1.0503    -5.0503     0.0000     -7.3930     -3.2157\n",
      "===================================================================================\n",
      "\n",
      "F-test for Poolability: 0.9754\n",
      "P-value: 0.4255\n",
      "Distribution: F(4,84)\n",
      "\n",
      "Included effects: Time\n"
     ]
    }
   ],
   "source": [
    "print(panel_edu_OLS)"
   ]
  },
  {
   "cell_type": "markdown",
   "metadata": {},
   "source": [
    "## With labor features only"
   ]
  },
  {
   "cell_type": "code",
   "execution_count": 103,
   "metadata": {},
   "outputs": [],
   "source": [
    "df_labor = df[['const','Country','Time','NEET','Exp_LMP','Exp_LMP_2','STR','STR_2','STR_3','Strictness_of_workers', 'PT_employ']]\n",
    "df_labor = df_labor.dropna().reset_index(drop=True)\n",
    "df_labor = df_labor.set_index(['Country', 'Time'])"
   ]
  },
  {
   "cell_type": "code",
   "execution_count": 105,
   "metadata": {},
   "outputs": [],
   "source": [
    "panel_labor_OLS = PanelOLS(df_labor.NEET,df_labor.drop('NEET',axis=1), time_effects=True).fit(cov_type='clustered', cluster_time=True)"
   ]
  },
  {
   "cell_type": "code",
   "execution_count": 106,
   "metadata": {},
   "outputs": [
    {
     "name": "stdout",
     "output_type": "stream",
     "text": [
      "                          PanelOLS Estimation Summary                           \n",
      "================================================================================\n",
      "Dep. Variable:                   NEET   R-squared:                        0.3632\n",
      "Estimator:                   PanelOLS   R-squared (Between):              0.3119\n",
      "No. Observations:                 161   R-squared (Within):               0.1690\n",
      "Date:                Thu, Apr 01 2021   R-squared (Overall):              0.3757\n",
      "Time:                        23:53:29   Log-likelihood                   -420.64\n",
      "Cov. Estimator:             Clustered                                           \n",
      "                                        F-statistic:                      11.813\n",
      "Entities:                          30   P-value                           0.0000\n",
      "Avg Obs:                       5.3667   Distribution:                   F(7,145)\n",
      "Min Obs:                       2.0000                                           \n",
      "Max Obs:                       9.0000   F-statistic (robust):          2.214e+08\n",
      "                                        P-value                           0.0000\n",
      "Time periods:                       9   Distribution:                   F(7,145)\n",
      "Avg Obs:                       17.889                                           \n",
      "Min Obs:                       1.0000                                           \n",
      "Max Obs:                       28.000                                           \n",
      "                                                                                \n",
      "                                   Parameter Estimates                                   \n",
      "=========================================================================================\n",
      "                       Parameter  Std. Err.     T-stat    P-value    Lower CI    Upper CI\n",
      "-----------------------------------------------------------------------------------------\n",
      "const                    -29.081     7.7474    -3.7536     0.0003     -44.393     -13.768\n",
      "Exp_LMP                  -3.4517     1.6708    -2.0659     0.0406     -6.7541     -0.1494\n",
      "Exp_LMP_2                 1.4094     0.4952     2.8463     0.0051      0.4307      2.3881\n",
      "STR                       9.0720     1.3564     6.6883     0.0000      6.3911      11.753\n",
      "STR_2                    -0.5472     0.0776    -7.0474     0.0000     -0.7006     -0.3937\n",
      "STR_3                     0.0106     0.0014     7.7737     0.0000      0.0079      0.0133\n",
      "Strictness_of_workers    -0.7562     0.3479    -2.1733     0.0314     -1.4439     -0.0685\n",
      "PT_employ                -0.1033     0.0083    -12.388     0.0000     -0.1198     -0.0868\n",
      "=========================================================================================\n",
      "\n",
      "F-test for Poolability: 0.8884\n",
      "P-value: 0.5279\n",
      "Distribution: F(8,145)\n",
      "\n",
      "Included effects: Time\n"
     ]
    }
   ],
   "source": [
    "print(panel_labor_OLS)"
   ]
  },
  {
   "cell_type": "markdown",
   "metadata": {},
   "source": [
    "## With education and economic features"
   ]
  },
  {
   "cell_type": "code",
   "execution_count": 86,
   "metadata": {},
   "outputs": [],
   "source": [
    "df_eco_edu = df[['const','Country','Time','NEET','Exp_LMP','Exp_LMP_2','STR','STR_2','STR_3','LogGDP','CPI','DEBT','Years_schooling','Avg_class_size','LogExp_educ']]\n",
    "df_eco_edu = df_eco_edu.dropna().reset_index(drop=True)\n",
    "df_eco_edu = df_eco_edu.set_index(['Country', 'Time'])"
   ]
  },
  {
   "cell_type": "code",
   "execution_count": 87,
   "metadata": {},
   "outputs": [],
   "source": [
    "panel_eco_edu_OLS = PanelOLS(df_eco_edu.NEET,df_eco_edu.drop('NEET',axis=1), time_effects=True).fit(cov_type='clustered', cluster_time=True)"
   ]
  },
  {
   "cell_type": "code",
   "execution_count": 88,
   "metadata": {},
   "outputs": [
    {
     "name": "stdout",
     "output_type": "stream",
     "text": [
      "                          PanelOLS Estimation Summary                           \n",
      "================================================================================\n",
      "Dep. Variable:                   NEET   R-squared:                        0.7282\n",
      "Estimator:                   PanelOLS   R-squared (Between):              0.7465\n",
      "No. Observations:                  98   R-squared (Within):               0.2582\n",
      "Date:                Thu, Apr 01 2021   R-squared (Overall):              0.7298\n",
      "Time:                        23:48:03   Log-likelihood                   -221.04\n",
      "Cov. Estimator:             Clustered                                           \n",
      "                                        F-statistic:                      19.971\n",
      "Entities:                          21   P-value                           0.0000\n",
      "Avg Obs:                       4.6667   Distribution:                   F(11,82)\n",
      "Min Obs:                       3.0000                                           \n",
      "Max Obs:                       5.0000   F-statistic (robust):          5.223e+14\n",
      "                                        P-value                           0.0000\n",
      "Time periods:                       5   Distribution:                   F(11,82)\n",
      "Avg Obs:                       19.600                                           \n",
      "Min Obs:                       18.000                                           \n",
      "Max Obs:                       21.000                                           \n",
      "                                                                                \n",
      "                                Parameter Estimates                                \n",
      "===================================================================================\n",
      "                 Parameter  Std. Err.     T-stat    P-value    Lower CI    Upper CI\n",
      "-----------------------------------------------------------------------------------\n",
      "const               69.667     5.2703     13.219     0.0000      59.183      80.151\n",
      "Exp_LMP            -8.3984     2.3265    -3.6098     0.0005     -13.027     -3.7702\n",
      "Exp_LMP_2           2.2715     0.4323     5.2548     0.0000      1.4116      3.1314\n",
      "STR                 2.2309     0.9965     2.2386     0.0279      0.2484      4.2133\n",
      "STR_2              -0.1162     0.0648    -1.7942     0.0765     -0.2451      0.0126\n",
      "STR_3               0.0015     0.0013     1.0965     0.2761     -0.0012      0.0042\n",
      "LogGDP              1.8404     1.3666     1.3467     0.1818     -0.8782      4.5590\n",
      "CPI                -0.2761     0.3326    -0.8303     0.4088     -0.9378      0.3855\n",
      "DEBT                0.0377     0.0199     1.8932     0.0619     -0.0019      0.0773\n",
      "Years_schooling    -1.8590     0.3198    -5.8121     0.0000     -2.4953     -1.2227\n",
      "Avg_class_size     -0.0109     0.0944    -0.1152     0.9086     -0.1987      0.1769\n",
      "LogExp_educ        -6.7684     0.9493    -7.1297     0.0000     -8.6569     -4.8799\n",
      "===================================================================================\n",
      "\n",
      "F-test for Poolability: 0.8663\n",
      "P-value: 0.4878\n",
      "Distribution: F(4,82)\n",
      "\n",
      "Included effects: Time\n"
     ]
    }
   ],
   "source": [
    "print(panel_eco_edu_OLS)"
   ]
  },
  {
   "cell_type": "markdown",
   "metadata": {},
   "source": [
    "## With labor, economic and education features"
   ]
  },
  {
   "cell_type": "code",
   "execution_count": 107,
   "metadata": {},
   "outputs": [],
   "source": [
    "df_all = df[['const','Country','Time','NEET','Exp_LMP','Exp_LMP_2','STR','STR_2','STR_3','LogGDP','CPI','DEBT','Years_schooling','Avg_class_size','LogExp_educ','Strictness_of_workers', 'PT_employ']]\n",
    "df_all = df_all.dropna().reset_index(drop=True)\n",
    "df_all = df_all.set_index(['Country', 'Time'])"
   ]
  },
  {
   "cell_type": "code",
   "execution_count": 109,
   "metadata": {},
   "outputs": [],
   "source": [
    "panel_all_OLS = PanelOLS(df_all.NEET,df_all.drop('NEET',axis=1), time_effects=True).fit(cov_type='clustered', cluster_time=True)"
   ]
  },
  {
   "cell_type": "code",
   "execution_count": 110,
   "metadata": {},
   "outputs": [
    {
     "name": "stdout",
     "output_type": "stream",
     "text": [
      "                          PanelOLS Estimation Summary                           \n",
      "================================================================================\n",
      "Dep. Variable:                   NEET   R-squared:                        0.7323\n",
      "Estimator:                   PanelOLS   R-squared (Between):              0.7495\n",
      "No. Observations:                  98   R-squared (Within):               0.2835\n",
      "Date:                Thu, Apr 01 2021   R-squared (Overall):              0.7321\n",
      "Time:                        23:56:36   Log-likelihood                   -220.30\n",
      "Cov. Estimator:             Clustered                                           \n",
      "                                        F-statistic:                      16.830\n",
      "Entities:                          21   P-value                           0.0000\n",
      "Avg Obs:                       4.6667   Distribution:                   F(13,80)\n",
      "Min Obs:                       3.0000                                           \n",
      "Max Obs:                       5.0000   F-statistic (robust):         -2.048e+15\n",
      "                                        P-value                           1.0000\n",
      "Time periods:                       5   Distribution:                   F(13,80)\n",
      "Avg Obs:                       19.600                                           \n",
      "Min Obs:                       18.000                                           \n",
      "Max Obs:                       21.000                                           \n",
      "                                                                                \n",
      "                                   Parameter Estimates                                   \n",
      "=========================================================================================\n",
      "                       Parameter  Std. Err.     T-stat    P-value    Lower CI    Upper CI\n",
      "-----------------------------------------------------------------------------------------\n",
      "const                     82.487     5.1525     16.009     0.0000      72.233      92.741\n",
      "Exp_LMP                  -7.8818     2.2804    -3.4563     0.0009     -12.420     -3.3436\n",
      "Exp_LMP_2                 2.1444     0.4222     5.0791     0.0000      1.3042      2.9846\n",
      "STR                       0.5933     1.0256     0.5785     0.5646     -1.4478      2.6344\n",
      "STR_2                    -0.0270     0.0622    -0.4334     0.6659     -0.1507      0.0968\n",
      "STR_3                 -5.869e-05     0.0013    -0.0469     0.9627     -0.0026      0.0024\n",
      "LogGDP                    1.2887     1.3003     0.9910     0.3247     -1.2991      3.8765\n",
      "CPI                      -0.3410     0.3431    -0.9939     0.3233     -1.0236      0.3417\n",
      "DEBT                      0.0378     0.0215     1.7557     0.0830     -0.0050      0.0807\n",
      "Years_schooling          -1.7299     0.3408    -5.0762     0.0000     -2.4080     -1.0517\n",
      "Avg_class_size            0.0053     0.0739     0.0723     0.9426     -0.1418      0.1525\n",
      "LogExp_educ              -6.9935     0.7856    -8.9021     0.0000     -8.5569     -5.4301\n",
      "Strictness_of_workers     0.4334     0.5725     0.7569     0.4513     -0.7060      1.5727\n",
      "PT_employ                 0.0452     0.0076     5.9464     0.0000      0.0301      0.0603\n",
      "=========================================================================================\n",
      "\n",
      "F-test for Poolability: 0.9316\n",
      "P-value: 0.4500\n",
      "Distribution: F(4,80)\n",
      "\n",
      "Included effects: Time\n"
     ]
    }
   ],
   "source": [
    "print(panel_all_OLS)"
   ]
  },
  {
   "cell_type": "code",
   "execution_count": null,
   "metadata": {},
   "outputs": [],
   "source": []
  }
 ],
 "metadata": {
  "kernelspec": {
   "display_name": "Python 3",
   "language": "python",
   "name": "python3"
  },
  "language_info": {
   "codemirror_mode": {
    "name": "ipython",
    "version": 3
   },
   "file_extension": ".py",
   "mimetype": "text/x-python",
   "name": "python",
   "nbconvert_exporter": "python",
   "pygments_lexer": "ipython3",
   "version": "3.7.4"
  },
  "toc": {
   "base_numbering": 1,
   "nav_menu": {},
   "number_sections": true,
   "sideBar": true,
   "skip_h1_title": false,
   "title_cell": "Table of Contents",
   "title_sidebar": "Contents",
   "toc_cell": false,
   "toc_position": {},
   "toc_section_display": true,
   "toc_window_display": false
  },
  "varInspector": {
   "cols": {
    "lenName": 16,
    "lenType": 16,
    "lenVar": 40
   },
   "kernels_config": {
    "python": {
     "delete_cmd_postfix": "",
     "delete_cmd_prefix": "del ",
     "library": "var_list.py",
     "varRefreshCmd": "print(var_dic_list())"
    },
    "r": {
     "delete_cmd_postfix": ") ",
     "delete_cmd_prefix": "rm(",
     "library": "var_list.r",
     "varRefreshCmd": "cat(var_dic_list()) "
    }
   },
   "types_to_exclude": [
    "module",
    "function",
    "builtin_function_or_method",
    "instance",
    "_Feature"
   ],
   "window_display": false
  }
 },
 "nbformat": 4,
 "nbformat_minor": 2
}

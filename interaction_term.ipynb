{
 "cells": [
  {
   "cell_type": "code",
   "execution_count": 1,
   "metadata": {},
   "outputs": [],
   "source": [
    "import pandas as pd\n",
    "import numpy as np\n",
    "import statsmodels.api as sm\n",
    "from linearmodels import PanelOLS"
   ]
  },
  {
   "cell_type": "code",
   "execution_count": 2,
   "metadata": {},
   "outputs": [],
   "source": [
    "df = pd.read_csv('./data/panel_data/Full_DB.csv')"
   ]
  },
  {
   "cell_type": "markdown",
   "metadata": {},
   "source": [
    "# Interaction term for LogGDP and Exp_LMP"
   ]
  },
  {
   "cell_type": "code",
   "execution_count": 3,
   "metadata": {},
   "outputs": [],
   "source": [
    "df['LogGDPxExp_LMP'] = df['LogGDP']*df['Exp_LMP']\n",
    "df['LogGDPxExp_LMP_2'] = df['LogGDP']*df['Exp_LMP_2']"
   ]
  },
  {
   "cell_type": "code",
   "execution_count": 4,
   "metadata": {},
   "outputs": [],
   "source": [
    "df = df.set_index(['Country', 'Time'])"
   ]
  },
  {
   "cell_type": "code",
   "execution_count": 5,
   "metadata": {},
   "outputs": [],
   "source": [
    "df = df.drop(['Avg_dur_unemployment', 'GDP', 'Exp_educ', 'Exp_LMP_3', 'Avg_class_size'], axis=1).dropna()"
   ]
  },
  {
   "cell_type": "code",
   "execution_count": 6,
   "metadata": {},
   "outputs": [
    {
     "name": "stdout",
     "output_type": "stream",
     "text": [
      "                          PanelOLS Estimation Summary                           \n",
      "================================================================================\n",
      "Dep. Variable:                   NEET   R-squared:                        0.5366\n",
      "Estimator:                   PanelOLS   R-squared (Between):              0.0232\n",
      "No. Observations:                 125   R-squared (Within):               0.5366\n",
      "Date:                Sat, Apr 03 2021   R-squared (Overall):             -0.0208\n",
      "Time:                        11:43:47   Log-likelihood                   -138.42\n",
      "Cov. Estimator:             Clustered                                           \n",
      "                                        F-statistic:                      6.9481\n",
      "Entities:                          30   P-value                           0.0000\n",
      "Avg Obs:                       4.1667   Distribution:                   F(14,84)\n",
      "Min Obs:                       0.0000                                           \n",
      "Max Obs:                       8.0000   F-statistic (robust):             50.223\n",
      "                                        P-value                           0.0000\n",
      "Time periods:                       8   Distribution:                   F(14,84)\n",
      "Avg Obs:                       15.625                                           \n",
      "Min Obs:                       1.0000                                           \n",
      "Max Obs:                       25.000                                           \n",
      "                                                                                \n",
      "                                   Parameter Estimates                                   \n",
      "=========================================================================================\n",
      "                       Parameter  Std. Err.     T-stat    P-value    Lower CI    Upper CI\n",
      "-----------------------------------------------------------------------------------------\n",
      "const                     21.339     31.474     0.6780     0.4997     -41.251      83.928\n",
      "Exp_LMP                   37.503     30.458     1.2313     0.2216     -23.066      98.072\n",
      "Exp_LMP_2                 1.0802     7.2557     0.1489     0.8820     -13.349      15.509\n",
      "STR                      -0.9783     3.8123    -0.2566     0.7981     -8.5593      6.6028\n",
      "STR_2                     0.0635     0.2025     0.3135     0.7547     -0.3392      0.4661\n",
      "STR_3                    -0.0012     0.0034    -0.3604     0.7194     -0.0081      0.0056\n",
      "LogGDP                    4.8828     2.1402     2.2814     0.0251      0.6267      9.1389\n",
      "CPI                      -0.1049     0.1146    -0.9158     0.3624     -0.3328      0.1229\n",
      "DEBT                      0.0349     0.0274     1.2745     0.2060     -0.0195      0.0893\n",
      "Years_schooling          -1.2829     1.0389    -1.2348     0.2203     -3.3488      0.7831\n",
      "LogExp_educ              -4.4431     1.5616    -2.8453     0.0056     -7.5484     -1.3377\n",
      "Strictness_of_workers    -1.5376     1.7439    -0.8817     0.3804     -5.0055      1.9302\n",
      "PT_employ                 0.0640     0.0518     1.2363     0.2198     -0.0390      0.1670\n",
      "LogGDPxExp_LMP           -3.5529     2.9201    -1.2167     0.2271     -9.3599      2.2541\n",
      "LogGDPxExp_LMP_2         -0.0501     0.7100    -0.0705     0.9439     -1.4619      1.3618\n",
      "=========================================================================================\n",
      "\n",
      "F-test for Poolability: 25.497\n",
      "P-value: 0.0000\n",
      "Distribution: F(26,84)\n",
      "\n",
      "Included effects: Entity\n"
     ]
    }
   ],
   "source": [
    "panel_interaction_exp_lmp = PanelOLS(df.NEET,df.drop('NEET', axis=1), entity_effects=True).fit(cov_type='clustered',cluster_entity=True)\n",
    "print(panel_interaction_exp_lmp)"
   ]
  },
  {
   "cell_type": "markdown",
   "metadata": {},
   "source": [
    "# Test of the null hypothesis with F-test"
   ]
  },
  {
   "cell_type": "code",
   "execution_count": 7,
   "metadata": {},
   "outputs": [
    {
     "name": "stdout",
     "output_type": "stream",
     "text": [
      "Hyp 1: <F test: F=array([[2.03178601]]), p=0.13599234140514763, df_denom=110, df_num=2>\n",
      "Hyp 2: <F test: F=array([[6.40121188]]), p=0.00011423437307763265, df_denom=110, df_num=4>\n"
     ]
    }
   ],
   "source": [
    "inter_ols = sm.OLS(df.NEET,df.drop('NEET', axis=1)).fit()\n",
    "hyp_inter = '(LogGDPxExp_LMP=0), (LogGDPxExp_LMP_2=0)'\n",
    "print('Hyp 1:', inter_ols.f_test(hyp_inter))\n",
    "hyp = '(LogGDPxExp_LMP=0), (LogGDPxExp_LMP_2=0), (Exp_LMP=0), (Exp_LMP_2=0)'\n",
    "print('Hyp 2:', inter_ols.f_test(hyp))"
   ]
  },
  {
   "cell_type": "markdown",
   "metadata": {},
   "source": [
    "# Interaction term for STR and LogExp_educ"
   ]
  },
  {
   "cell_type": "code",
   "execution_count": 8,
   "metadata": {},
   "outputs": [],
   "source": [
    "df['STRxLogExp_educ'] = df.STR * df.LogExp_educ\n",
    "df['STR_2xLogExp_educ'] = df.STR_2 * df.LogExp_educ\n",
    "df['STR_3xLogExp_educ'] = df.STR_3 * df.LogExp_educ"
   ]
  },
  {
   "cell_type": "code",
   "execution_count": 9,
   "metadata": {},
   "outputs": [
    {
     "name": "stdout",
     "output_type": "stream",
     "text": [
      "                          PanelOLS Estimation Summary                           \n",
      "================================================================================\n",
      "Dep. Variable:                   NEET   R-squared:                        0.5240\n",
      "Estimator:                   PanelOLS   R-squared (Between):             -0.5174\n",
      "No. Observations:                 125   R-squared (Within):               0.5240\n",
      "Date:                Sat, Apr 03 2021   R-squared (Overall):             -0.3917\n",
      "Time:                        11:43:48   Log-likelihood                   -140.09\n",
      "Cov. Estimator:             Clustered                                           \n",
      "                                        F-statistic:                      6.0925\n",
      "Entities:                          30   P-value                           0.0000\n",
      "Avg Obs:                       4.1667   Distribution:                   F(15,83)\n",
      "Min Obs:                       0.0000                                           \n",
      "Max Obs:                       8.0000   F-statistic (robust):             96.425\n",
      "                                        P-value                           0.0000\n",
      "Time periods:                       8   Distribution:                   F(15,83)\n",
      "Avg Obs:                       15.625                                           \n",
      "Min Obs:                       1.0000                                           \n",
      "Max Obs:                       25.000                                           \n",
      "                                                                                \n",
      "                                   Parameter Estimates                                   \n",
      "=========================================================================================\n",
      "                       Parameter  Std. Err.     T-stat    P-value    Lower CI    Upper CI\n",
      "-----------------------------------------------------------------------------------------\n",
      "const                     567.23     353.65     1.6039     0.1125     -136.16      1270.6\n",
      "Exp_LMP                   1.1338     3.4652     0.3272     0.7443     -5.7583      8.0260\n",
      "Exp_LMP_2                 0.4158     0.6310     0.6589     0.5118     -0.8393      1.6709\n",
      "STR                      -76.195     56.936    -1.3383     0.1845     -189.44      37.048\n",
      "STR_2                     3.4700     2.8047     1.2372     0.2195     -2.1083      9.0484\n",
      "STR_3                    -0.0505     0.0434    -1.1645     0.2476     -0.1367      0.0358\n",
      "LogGDP                    1.0453     1.3584     0.7695     0.4438     -1.6565      3.7471\n",
      "CPI                      -0.0385     0.1177    -0.3274     0.7442     -0.2727      0.1956\n",
      "DEBT                      0.0415     0.0308     1.3447     0.1824     -0.0199      0.1028\n",
      "Years_schooling          -1.2214     1.1506    -1.0615     0.2915     -3.5099      1.0672\n",
      "LogExp_educ              -59.656     36.379    -1.6399     0.1048     -132.01      12.700\n",
      "Strictness_of_workers     0.5292     1.5254     0.3469     0.7296     -2.5048      3.5631\n",
      "PT_employ                 0.1653     0.0664     2.4880     0.0148      0.0332      0.2975\n",
      "STRxLogExp_educ           8.0443     5.7845     1.3907     0.1680     -3.4608      19.549\n",
      "STR_2xLogExp_educ        -0.3648     0.2882    -1.2659     0.2091     -0.9380      0.2084\n",
      "STR_3xLogExp_educ         0.0053     0.0046     1.1533     0.2521     -0.0038      0.0144\n",
      "=========================================================================================\n",
      "\n",
      "F-test for Poolability: 24.093\n",
      "P-value: 0.0000\n",
      "Distribution: F(26,83)\n",
      "\n",
      "Included effects: Entity\n"
     ]
    }
   ],
   "source": [
    "panel_interaction_str = PanelOLS(df.NEET,df.drop(['NEET','LogGDPxExp_LMP', 'LogGDPxExp_LMP_2'], axis=1), entity_effects=True).fit(cov_type='clustered',cluster_entity=True)\n",
    "print(panel_interaction_str)"
   ]
  },
  {
   "cell_type": "markdown",
   "metadata": {},
   "source": [
    "# All interaction terms"
   ]
  },
  {
   "cell_type": "code",
   "execution_count": 10,
   "metadata": {},
   "outputs": [
    {
     "name": "stdout",
     "output_type": "stream",
     "text": [
      "                          PanelOLS Estimation Summary                           \n",
      "================================================================================\n",
      "Dep. Variable:                   NEET   R-squared:                        0.5817\n",
      "Estimator:                   PanelOLS   R-squared (Between):             -0.4017\n",
      "No. Observations:                 125   R-squared (Within):               0.5817\n",
      "Date:                Sat, Apr 03 2021   R-squared (Overall):             -0.4099\n",
      "Time:                        11:43:48   Log-likelihood                   -132.01\n",
      "Cov. Estimator:             Clustered                                           \n",
      "                                        F-statistic:                      6.6266\n",
      "Entities:                          30   P-value                           0.0000\n",
      "Avg Obs:                       4.1667   Distribution:                   F(17,81)\n",
      "Min Obs:                       0.0000                                           \n",
      "Max Obs:                       8.0000   F-statistic (robust):             145.68\n",
      "                                        P-value                           0.0000\n",
      "Time periods:                       8   Distribution:                   F(17,81)\n",
      "Avg Obs:                       15.625                                           \n",
      "Min Obs:                       1.0000                                           \n",
      "Max Obs:                       25.000                                           \n",
      "                                                                                \n",
      "                                   Parameter Estimates                                   \n",
      "=========================================================================================\n",
      "                       Parameter  Std. Err.     T-stat    P-value    Lower CI    Upper CI\n",
      "-----------------------------------------------------------------------------------------\n",
      "const                     615.75     325.45     1.8920     0.0621     -31.801      1263.3\n",
      "Exp_LMP                   55.251     32.653     1.6920     0.0945     -9.7192      120.22\n",
      "Exp_LMP_2                -3.4329     7.9808    -0.4302     0.6682     -19.312      12.446\n",
      "STR                      -93.544     56.204    -1.6644     0.0999     -205.37      18.283\n",
      "STR_2                     4.5776     2.8948     1.5813     0.1177     -1.1821      10.337\n",
      "STR_3                    -0.0735     0.0472    -1.5551     0.1238     -0.1675      0.0205\n",
      "LogGDP                    6.2327     2.4288     2.5661     0.0121      1.4001      11.065\n",
      "CPI                      -0.0329     0.1051    -0.3132     0.7549     -0.2421      0.1762\n",
      "DEBT                      0.0350     0.0280     1.2529     0.2139     -0.0206      0.0907\n",
      "Years_schooling          -1.1628     1.1908    -0.9765     0.3317     -3.5321      1.2066\n",
      "LogExp_educ              -68.638     34.378    -1.9966     0.0492     -137.04     -0.2376\n",
      "Strictness_of_workers    -2.1762     1.6915    -1.2866     0.2019     -5.5418      1.1893\n",
      "PT_employ                 0.1273     0.0695     1.8309     0.0708     -0.0110      0.2656\n",
      "LogGDPxExp_LMP           -5.1966     3.1361    -1.6570     0.1014     -11.436      1.0433\n",
      "LogGDPxExp_LMP_2          0.3714     0.7811     0.4755     0.6357     -1.1828      1.9255\n",
      "STRxLogExp_educ           9.7363     5.6964     1.7092     0.0912     -1.5977      21.070\n",
      "STR_2xLogExp_educ        -0.4761     0.2984    -1.5955     0.1145     -1.0698      0.1176\n",
      "STR_3xLogExp_educ         0.0077     0.0050     1.5251     0.1311     -0.0023      0.0177\n",
      "=========================================================================================\n",
      "\n",
      "F-test for Poolability: 25.799\n",
      "P-value: 0.0000\n",
      "Distribution: F(26,81)\n",
      "\n",
      "Included effects: Entity\n"
     ]
    }
   ],
   "source": [
    "panel_inter = PanelOLS(df.NEET,df.drop(['NEET'], axis=1), entity_effects=True).fit(cov_type='clustered',cluster_entity=True)\n",
    "print(panel_inter)"
   ]
  }
 ],
 "metadata": {
  "kernelspec": {
   "display_name": "Python 3.7.6 64-bit ('base': conda)",
   "language": "python",
   "name": "python37664bitbasecondae5433ad43d13444bb011d4b7eb072777"
  },
  "language_info": {
   "codemirror_mode": {
    "name": "ipython",
    "version": 3
   },
   "file_extension": ".py",
   "mimetype": "text/x-python",
   "name": "python",
   "nbconvert_exporter": "python",
   "pygments_lexer": "ipython3",
   "version": "3.7.6"
  },
  "toc": {
   "base_numbering": 1,
   "nav_menu": {},
   "number_sections": true,
   "sideBar": true,
   "skip_h1_title": false,
   "title_cell": "Table of Contents",
   "title_sidebar": "Contents",
   "toc_cell": false,
   "toc_position": {},
   "toc_section_display": true,
   "toc_window_display": false
  },
  "varInspector": {
   "cols": {
    "lenName": 16,
    "lenType": 16,
    "lenVar": 40
   },
   "kernels_config": {
    "python": {
     "delete_cmd_postfix": "",
     "delete_cmd_prefix": "del ",
     "library": "var_list.py",
     "varRefreshCmd": "print(var_dic_list())"
    },
    "r": {
     "delete_cmd_postfix": ") ",
     "delete_cmd_prefix": "rm(",
     "library": "var_list.r",
     "varRefreshCmd": "cat(var_dic_list()) "
    }
   },
   "types_to_exclude": [
    "module",
    "function",
    "builtin_function_or_method",
    "instance",
    "_Feature"
   ],
   "window_display": false
  }
 },
 "nbformat": 4,
 "nbformat_minor": 4
}
